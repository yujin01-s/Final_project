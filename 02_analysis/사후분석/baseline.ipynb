{
 "cells": [
  {
   "cell_type": "code",
   "execution_count": null,
   "id": "94eddf79",
   "metadata": {},
   "outputs": [],
   "source": [
    "# 📌 PC1~PC5에서 반복적으로 중요한 변수:\n",
    "pca_cols = [\n",
    "    'CA이자율_할인전', 'CL이자율_할인전', 'RV_평균잔액_R3M', 'RV일시불이자율_할인전', 'RV최소결제비율', 'RV현금서비스이자율_할인전', \n",
    "    '방문월수_앱_R6M', '방문일수_앱_B0M', '방문일수_앱_R6M', '방문횟수_앱_B0M', '방문후경과월_앱_R6M', \n",
    "    '이용금액_R3M_신용', '이용금액_R3M_신용체크', '이용금액_일시불_B0M', '이용금액대', \n",
    "    '일시불ONLY전환가능여부', \n",
    "    '잔액_리볼빙일시불이월_B0M', '잔액_일시불_B0M', '잔액_일시불_B1M', '잔액_일시불_B2M', '잔액_카드론_B0M', '잔액_카드론_B1M', '잔액_카드론_B2M', '잔액_카드론_B3M', '잔액_카드론_B4M', '잔액_카드론_B5M', \n",
    "    '정상청구원금_B0M', '정상청구원금_B2M', '정상청구원금_B5M', \n",
    "    '청구금액_B0', '청구금액_R3M', '청구금액_R6M', '최종카드론_대출금액', '카드론이용금액_누적', '평잔_RV일시불_3M', '평잔_RV일시불_6M', '평잔_일시불_3M', '평잔_일시불_6M', \n",
    "    '평잔_카드론_3M', '평잔_카드론_6M', '평잔_할부_3M', '홈페이지_금융건수_R3M', '홈페이지_금융건수_R6M', '홈페이지_선결제건수_R3M', '홈페이지_선결제건수_R6M'\n",
    "    ]"
   ]
  },
  {
   "cell_type": "code",
   "execution_count": 9,
   "id": "544e934e",
   "metadata": {},
   "outputs": [],
   "source": [
    "base_cols = [\"ID\",\"Segment\"]"
   ]
  },
  {
   "cell_type": "code",
   "execution_count": 10,
   "id": "78c8e5ad",
   "metadata": {},
   "outputs": [],
   "source": [
    "selected_cols = pca_cols + base_cols"
   ]
  },
  {
   "cell_type": "code",
   "execution_count": null,
   "id": "a9356e68",
   "metadata": {},
   "outputs": [],
   "source": [
    "import pandas as pd\n",
    "\n",
    "# 파일 경로\n",
    "file_path = \"../../data/통합_train_데이터.parquet\"\n",
    "df = pd.read_parquet(file_path)"
   ]
  },
  {
   "cell_type": "code",
   "execution_count": null,
   "id": "0b3904bf",
   "metadata": {},
   "outputs": [
    {
     "name": "stdout",
     "output_type": "stream",
     "text": [
      "78\n",
      "<class 'str'>\n"
     ]
    }
   ],
   "source": [
    "print(len(selected_cols))         \n",
    "print(type(selected_cols[0]))"
   ]
  },
  {
   "cell_type": "code",
   "execution_count": null,
   "id": "e9337062",
   "metadata": {},
   "outputs": [],
   "source": [
    "def map_categorical_columns(df, verbose=True):\n",
    "    \"\"\"\n",
    "    미리 정의된 매핑 기준에 따라 범주형 컬럼들을 수치형으로 변환합니다.\n",
    "    처리 컬럼: 거주시도명, 연회비발생카드수_B0M, 한도증액횟수_R12M, 이용금액대,\n",
    "              할인건수_R3M, 할인건수_B0M, 방문횟수_PC_R6M, 방문횟수_앱_R6M, 방문일수_PC_R6M\n",
    "    \"\"\"\n",
    "\n",
    "    # 1. 거주시도명 → 수도권 여부\n",
    "    capital_area = ['서울특별시', '경기도', '인천광역시']\n",
    "    if '거주시도명' in df.columns:\n",
    "        df['거주시도_수도권여부'] = df['거주시도명'].apply(lambda x: 1 if x in capital_area else 0)\n",
    "        df.drop(columns=['거주시도명'], inplace=True)\n",
    "        if verbose: print(\"[거주시도명] → 수도권 여부 인코딩 완료\")\n",
    "\n",
    "    # 2. 연회비발생카드수_B0M\n",
    "    mapping = {\"0개\": 0, \"1개이상\": 1}\n",
    "    if '연회비발생카드수_B0M' in df.columns:\n",
    "        df['연회비발생카드수_B0M'] = df['연회비발생카드수_B0M'].map(mapping).astype(int)\n",
    "        if verbose: print(\"[연회비발생카드수_B0M] 인코딩 완료\")\n",
    "\n",
    "    # 3. 한도증액횟수_R12M\n",
    "    mapping = {\"0회\": 0, \"1회이상\": 1}\n",
    "    if '한도증액횟수_R12M' in df.columns:\n",
    "        df['한도증액횟수_R12M'] = df['한도증액횟수_R12M'].map(mapping).astype(int)\n",
    "        if verbose: print(\"[한도증액횟수_R12M] 인코딩 완료\")\n",
    "\n",
    "    # 4. 이용금액대 (중간값 기준: 만원 단위)\n",
    "    mapping = {\n",
    "        \"09.미사용\": 0,\n",
    "        \"05.10만원-\": 5,\n",
    "        \"04.10만원+\": 20,\n",
    "        \"03.30만원+\": 40,\n",
    "        \"02.50만원+\": 75,\n",
    "        \"01.100만원+\": 150\n",
    "    }\n",
    "    if '이용금액대' in df.columns:\n",
    "        df['이용금액대'] = df['이용금액대'].map(mapping)\n",
    "        if verbose: print(\"[이용금액대] 중간값 인코딩 완료\")\n",
    "\n",
    "    # 5. 할인건수 인코딩\n",
    "    discount_map = {\n",
    "        \"1회 이상\": 1,\n",
    "        \"10회 이상\": 10,\n",
    "        \"20회 이상\": 20,\n",
    "        \"30회 이상\": 30,\n",
    "        \"40회 이상\": 40\n",
    "    }\n",
    "    for col in ['할인건수_R3M', '할인건수_B0M']:\n",
    "        if col in df.columns:\n",
    "            df[col] = df[col].map(discount_map).astype(int)\n",
    "            if verbose: print(f\"[{col}] 인코딩 완료\")\n",
    "\n",
    "    # 6. 방문횟수 및 방문일수 인코딩\n",
    "    visit_map = {\n",
    "        \"1회 이상\": 1,\n",
    "        \"10회 이상\": 10,\n",
    "        \"20회 이상\": 20,\n",
    "        \"30회 이상\": 30,\n",
    "        \"40회 이상\": 40,\n",
    "        \"50회 이상\": 50,\n",
    "        \"60회 이상\": 60,\n",
    "        \"70회 이상\": 70,\n",
    "        \"80회 이상\": 80\n",
    "    }\n",
    "\n",
    "    visit_cols = ['방문횟수_PC_R6M', '방문횟수_앱_R6M', '방문일수_PC_R6M']\n",
    "    for col in visit_cols:\n",
    "        if col in df.columns:\n",
    "            df[col] = df[col].map(visit_map).astype(int)\n",
    "            if verbose: print(f\"[{col}] 인코딩 완료\")\n",
    "\n",
    "    return df\n"
   ]
  },
  {
   "cell_type": "code",
   "execution_count": null,
   "id": "0c972e7b",
   "metadata": {},
   "outputs": [
    {
     "name": "stdout",
     "output_type": "stream",
     "text": [
      "[거주시도명] → 수도권 여부 인코딩 완료\n",
      "[연회비발생카드수_B0M] 인코딩 완료\n",
      "[한도증액횟수_R12M] 인코딩 완료\n",
      "[이용금액대] 중간값 인코딩 완료\n",
      "[할인건수_R3M] 인코딩 완료\n",
      "[할인건수_B0M] 인코딩 완료\n",
      "[방문횟수_PC_R6M] 인코딩 완료\n",
      "[방문횟수_앱_R6M] 인코딩 완료\n",
      "[방문일수_PC_R6M] 인코딩 완료\n"
     ]
    },
    {
     "name": "stderr",
     "output_type": "stream",
     "text": [
      "c:\\Users\\somee\\anaconda3\\Lib\\site-packages\\xgboost\\training.py:183: UserWarning: [14:13:16] WARNING: C:\\actions-runner\\_work\\xgboost\\xgboost\\src\\common\\error_msg.cc:27: The tree method `gpu_hist` is deprecated since 2.0.0. To use GPU training, set the `device` parameter to CUDA instead.\n",
      "\n",
      "    E.g. tree_method = \"hist\", device = \"cuda\"\n",
      "\n",
      "  bst.update(dtrain, iteration=i, fobj=obj)\n",
      "c:\\Users\\somee\\anaconda3\\Lib\\site-packages\\xgboost\\training.py:183: UserWarning: [14:13:16] WARNING: C:\\actions-runner\\_work\\xgboost\\xgboost\\src\\learner.cc:738: \n",
      "Parameters: { \"predictor\", \"use_label_encoder\" } are not used.\n",
      "\n",
      "  bst.update(dtrain, iteration=i, fobj=obj)\n",
      "c:\\Users\\somee\\anaconda3\\Lib\\site-packages\\xgboost\\core.py:2676: UserWarning: [14:14:22] WARNING: C:\\actions-runner\\_work\\xgboost\\xgboost\\src\\common\\error_msg.cc:27: The tree method `gpu_hist` is deprecated since 2.0.0. To use GPU training, set the `device` parameter to CUDA instead.\n",
      "\n",
      "    E.g. tree_method = \"hist\", device = \"cuda\"\n",
      "\n",
      "  if len(data.shape) != 1 and self.num_features() != data.shape[1]:\n",
      "c:\\Users\\somee\\anaconda3\\Lib\\site-packages\\xgboost\\core.py:729: UserWarning: [14:14:22] WARNING: C:\\actions-runner\\_work\\xgboost\\xgboost\\src\\common\\error_msg.cc:58: Falling back to prediction using DMatrix due to mismatched devices. This might lead to higher memory usage and slower performance. XGBoost is running on: cuda:0, while the input data is on: cpu.\n",
      "Potential solutions:\n",
      "- Use a data structure that matches the device ordinal in the booster.\n",
      "- Set the device for booster before call to inplace_predict.\n",
      "\n",
      "This warning will only be shown once.\n",
      "\n",
      "  return func(**kwargs)\n"
     ]
    },
    {
     "name": "stdout",
     "output_type": "stream",
     "text": [
      "              precision    recall  f1-score   support\n",
      "\n",
      "           0       0.84      0.24      0.37       194\n",
      "           1       1.00      0.28      0.43        29\n",
      "           2       0.71      0.55      0.62     25518\n",
      "           3       0.68      0.60      0.64     69848\n",
      "           4       0.93      0.97      0.95    384411\n",
      "\n",
      "    accuracy                           0.89    480000\n",
      "   macro avg       0.83      0.53      0.60    480000\n",
      "weighted avg       0.88      0.89      0.89    480000\n",
      "\n"
     ]
    }
   ],
   "source": [
    "import pandas as pd\n",
    "from sklearn.model_selection import train_test_split\n",
    "from sklearn.preprocessing import LabelEncoder, StandardScaler\n",
    "from sklearn.impute import SimpleImputer\n",
    "from sklearn.metrics import classification_report\n",
    "from xgboost import XGBClassifier\n",
    "\n",
    "# 1. 데이터 불러오기\n",
    "df = pd.read_parquet(\"../../data/통합_train_데이터.parquet\")\n",
    "\n",
    "# 2. 피처 및 타겟 분리\n",
    "X = df[selected_cols].copy()\n",
    "y = df[\"Segment\"]\n",
    "\n",
    "X = X.loc[:, ~X.columns.duplicated()] #중복제거\n",
    "\n",
    "# 3. 범주형 인코딩\n",
    "df = map_categorical_columns(df)\n",
    "cat_cols = X.select_dtypes(include='object').columns.tolist()\n",
    "for col in cat_cols:\n",
    "    le = LabelEncoder()\n",
    "    X[col] = le.fit_transform(X[col].astype(str))\n",
    "\n",
    "# 4. 결측치 처리\n",
    "X = pd.DataFrame(SimpleImputer(strategy='mean').fit_transform(X), columns=X.columns)\n",
    "\n",
    "# 스케일링 (DataFrame 형태 유지)\n",
    "scaler = StandardScaler()\n",
    "X_scaled = pd.DataFrame(scaler.fit_transform(X), columns=X.columns)\n",
    "\n",
    "# 라벨인코딩\n",
    "le_y = LabelEncoder()\n",
    "y_encoded = le_y.fit_transform(y)\n",
    "\n",
    "# 6. train-validation 분할\n",
    "X_train, X_val, y_train, y_val = train_test_split(X_scaled, y_encoded, test_size=0.2, stratify=y_encoded, random_state=42)\n",
    "\n",
    "# 7. XGBoost 모델 선언 (GPU 가속)\n",
    "xgb_model = XGBClassifier(\n",
    "    tree_method='gpu_hist',\n",
    "    predictor='gpu_predictor',\n",
    "    n_estimators=300,\n",
    "    learning_rate=0.05,\n",
    "    max_depth=6,\n",
    "    subsample=0.8,\n",
    "    colsample_bytree=0.8,\n",
    "    use_label_encoder=False,\n",
    "    eval_metric='mlogloss',\n",
    "    random_state=42\n",
    ")\n",
    "\n",
    "# 8. 학습\n",
    "xgb_model.fit(X_train, y_train)\n",
    "\n",
    "# 9. 예측 및 평가\n",
    "y_pred = xgb_model.predict(X_val)\n",
    "print(classification_report(y_val, y_pred))\n"
   ]
  },
  {
   "cell_type": "code",
   "execution_count": null,
   "id": "7d141fc2",
   "metadata": {},
   "outputs": [],
   "source": []
  }
 ],
 "metadata": {
  "kernelspec": {
   "display_name": "base",
   "language": "python",
   "name": "python3"
  },
  "language_info": {
   "codemirror_mode": {
    "name": "ipython",
    "version": 3
   },
   "file_extension": ".py",
   "mimetype": "text/x-python",
   "name": "python",
   "nbconvert_exporter": "python",
   "pygments_lexer": "ipython3",
   "version": "3.12.7"
  }
 },
 "nbformat": 4,
 "nbformat_minor": 5
}
