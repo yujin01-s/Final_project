{
 "cells": [
  {
   "cell_type": "code",
   "execution_count": 1,
   "id": "94eddf79",
   "metadata": {},
   "outputs": [],
   "source": [
    "# 📌 PC1~PC5에서 반복적으로 중요한 변수:\n",
    "pca_cols = [\n",
    "    'CA이자율_할인전', 'CL이자율_할인전', 'RV_평균잔액_R3M', 'RV일시불이자율_할인전', 'RV최소결제비율', 'RV현금서비스이자율_할인전', \n",
    "    '방문월수_앱_R6M', '방문일수_앱_B0M', '방문일수_앱_R6M', '방문횟수_앱_B0M', '방문후경과월_앱_R6M', \n",
    "    '이용금액_R3M_신용', '이용금액_R3M_신용체크', '이용금액_일시불_B0M', '이용금액대', \n",
    "    '일시불ONLY전환가능여부', \n",
    "    '잔액_리볼빙일시불이월_B0M', '잔액_일시불_B0M', '잔액_일시불_B1M', '잔액_일시불_B2M', '잔액_카드론_B0M', '잔액_카드론_B1M', '잔액_카드론_B2M', '잔액_카드론_B3M', '잔액_카드론_B4M', '잔액_카드론_B5M', \n",
    "    '정상청구원금_B0M', '정상청구원금_B2M', '정상청구원금_B5M', \n",
    "    '청구금액_B0', '청구금액_R3M', '청구금액_R6M', '최종카드론_대출금액', '카드론이용금액_누적', '평잔_RV일시불_3M', '평잔_RV일시불_6M', '평잔_일시불_3M', '평잔_일시불_6M', \n",
    "    '평잔_카드론_3M', '평잔_카드론_6M', '평잔_할부_3M', '홈페이지_금융건수_R3M', '홈페이지_금융건수_R6M', '홈페이지_선결제건수_R3M', '홈페이지_선결제건수_R6M'\n",
    "    ]"
   ]
  },
  {
   "cell_type": "code",
   "execution_count": 2,
   "id": "544e934e",
   "metadata": {},
   "outputs": [],
   "source": [
    "base_cols = [\"ID\",\"Segment\"]"
   ]
  },
  {
   "cell_type": "code",
   "execution_count": 3,
   "id": "78c8e5ad",
   "metadata": {},
   "outputs": [],
   "source": [
    "selected_cols = pca_cols + base_cols"
   ]
  },
  {
   "cell_type": "code",
   "execution_count": 4,
   "id": "a9356e68",
   "metadata": {},
   "outputs": [],
   "source": [
    "import pandas as pd\n",
    "\n",
    "# 파일 경로\n",
    "file_path = \"../../../data/통합_train_데이터.parquet\"\n",
    "df = pd.read_parquet(file_path)"
   ]
  },
  {
   "cell_type": "code",
   "execution_count": 5,
   "id": "0b3904bf",
   "metadata": {},
   "outputs": [
    {
     "name": "stdout",
     "output_type": "stream",
     "text": [
      "47\n",
      "<class 'str'>\n"
     ]
    }
   ],
   "source": [
    "print(len(selected_cols))         \n",
    "print(type(selected_cols[0]))"
   ]
  },
  {
   "cell_type": "code",
   "execution_count": 6,
   "id": "e9337062",
   "metadata": {},
   "outputs": [],
   "source": [
    "def map_categorical_columns(df, verbose=True):\n",
    "    \"\"\"\n",
    "    미리 정의된 매핑 기준에 따라 범주형 컬럼들을 수치형으로 변환합니다.\n",
    "    처리 컬럼: 거주시도명, 연회비발생카드수_B0M, 한도증액횟수_R12M, 이용금액대,\n",
    "              할인건수_R3M, 할인건수_B0M, 방문횟수_PC_R6M, 방문횟수_앱_R6M, 방문일수_PC_R6M\n",
    "    \"\"\"\n",
    "\n",
    "    # 1. 거주시도명 → 수도권 여부\n",
    "    capital_area = ['서울특별시', '경기도', '인천광역시']\n",
    "    if '거주시도명' in df.columns:\n",
    "        df['거주시도_수도권여부'] = df['거주시도명'].apply(lambda x: 1 if x in capital_area else 0)\n",
    "        df.drop(columns=['거주시도명'], inplace=True)\n",
    "        if verbose: print(\"[거주시도명] → 수도권 여부 인코딩 완료\")\n",
    "\n",
    "    # 2. 연회비발생카드수_B0M\n",
    "    mapping = {\"0개\": 0, \"1개이상\": 1}\n",
    "    if '연회비발생카드수_B0M' in df.columns:\n",
    "        df['연회비발생카드수_B0M'] = df['연회비발생카드수_B0M'].map(mapping).astype(int)\n",
    "        if verbose: print(\"[연회비발생카드수_B0M] 인코딩 완료\")\n",
    "\n",
    "    # 3. 한도증액횟수_R12M\n",
    "    mapping = {\"0회\": 0, \"1회이상\": 1}\n",
    "    if '한도증액횟수_R12M' in df.columns:\n",
    "        df['한도증액횟수_R12M'] = df['한도증액횟수_R12M'].map(mapping).astype(int)\n",
    "        if verbose: print(\"[한도증액횟수_R12M] 인코딩 완료\")\n",
    "\n",
    "    # 4. 이용금액대 (중간값 기준: 만원 단위)\n",
    "    mapping = {\n",
    "        \"09.미사용\": 0,\n",
    "        \"05.10만원-\": 5,\n",
    "        \"04.10만원+\": 20,\n",
    "        \"03.30만원+\": 40,\n",
    "        \"02.50만원+\": 75,\n",
    "        \"01.100만원+\": 150\n",
    "    }\n",
    "    if '이용금액대' in df.columns:\n",
    "        df['이용금액대'] = df['이용금액대'].map(mapping)\n",
    "        if verbose: print(\"[이용금액대] 중간값 인코딩 완료\")\n",
    "\n",
    "    # 5. 할인건수 인코딩\n",
    "    discount_map = {\n",
    "        \"1회 이상\": 1,\n",
    "        \"10회 이상\": 10,\n",
    "        \"20회 이상\": 20,\n",
    "        \"30회 이상\": 30,\n",
    "        \"40회 이상\": 40\n",
    "    }\n",
    "    for col in ['할인건수_R3M', '할인건수_B0M']:\n",
    "        if col in df.columns:\n",
    "            df[col] = df[col].map(discount_map).astype(int)\n",
    "            if verbose: print(f\"[{col}] 인코딩 완료\")\n",
    "\n",
    "    # 6. 방문횟수 및 방문일수 인코딩\n",
    "    visit_map = {\n",
    "        \"1회 이상\": 1,\n",
    "        \"10회 이상\": 10,\n",
    "        \"20회 이상\": 20,\n",
    "        \"30회 이상\": 30,\n",
    "        \"40회 이상\": 40,\n",
    "        \"50회 이상\": 50,\n",
    "        \"60회 이상\": 60,\n",
    "        \"70회 이상\": 70,\n",
    "        \"80회 이상\": 80\n",
    "    }\n",
    "\n",
    "    visit_cols = ['방문횟수_PC_R6M', '방문횟수_앱_R6M', '방문일수_PC_R6M']\n",
    "    for col in visit_cols:\n",
    "        if col in df.columns:\n",
    "            df[col] = df[col].map(visit_map).astype(int)\n",
    "            if verbose: print(f\"[{col}] 인코딩 완료\")\n",
    "\n",
    "    return df\n"
   ]
  },
  {
   "cell_type": "code",
   "execution_count": null,
   "id": "0c972e7b",
   "metadata": {},
   "outputs": [
    {
     "name": "stdout",
     "output_type": "stream",
     "text": [
      "[거주시도명] → 수도권 여부 인코딩 완료\n",
      "[연회비발생카드수_B0M] 인코딩 완료\n",
      "[한도증액횟수_R12M] 인코딩 완료\n",
      "[이용금액대] 중간값 인코딩 완료\n",
      "[할인건수_R3M] 인코딩 완료\n",
      "[할인건수_B0M] 인코딩 완료\n",
      "[방문횟수_PC_R6M] 인코딩 완료\n",
      "[방문횟수_앱_R6M] 인코딩 완료\n",
      "[방문일수_PC_R6M] 인코딩 완료\n"
     ]
    },
    {
     "name": "stderr",
     "output_type": "stream",
     "text": [
      "C:\\Users\\ska12\\anaconda3\\Lib\\site-packages\\xgboost\\training.py:183: UserWarning: [13:07:21] WARNING: C:\\actions-runner\\_work\\xgboost\\xgboost\\src\\learner.cc:738: \n",
      "Parameters: { \"predictor\", \"use_label_encoder\" } are not used.\n",
      "\n",
      "  bst.update(dtrain, iteration=i, fobj=obj)\n"
     ]
    }
   ],
   "source": [
    "import pandas as pd\n",
    "from sklearn.model_selection import train_test_split\n",
    "from sklearn.preprocessing import LabelEncoder, StandardScaler\n",
    "from sklearn.impute import SimpleImputer\n",
    "from sklearn.metrics import classification_report\n",
    "from xgboost import XGBClassifier\n",
    "\n",
    "# 1. 데이터 불러오기\n",
    "df = pd.read_parquet(\"../../../data/통합_train_데이터.parquet\")\n",
    "\n",
    "# 2. 피처 및 타겟 분리\n",
    "X = df[pca_cols].copy() \n",
    "y = df[\"Segment\"]\n",
    "\n",
    "X = X.loc[:, ~X.columns.duplicated()] #중복제거\n",
    "\n",
    "# 3. 범주형 인코딩\n",
    "df = map_categorical_columns(df)\n",
    "cat_cols = X.select_dtypes(include='object').columns.tolist()\n",
    "for col in cat_cols:\n",
    "    le = LabelEncoder()\n",
    "    X[col] = le.fit_transform(X[col].astype(str))\n",
    "\n",
    "# 4. 결측치 처리\n",
    "X = pd.DataFrame(SimpleImputer(strategy='mean').fit_transform(X), columns=X.columns)\n",
    "\n",
    "# 스케일링 (DataFrame 형태 유지)\n",
    "scaler = StandardScaler()\n",
    "X_scaled = pd.DataFrame(scaler.fit_transform(X), columns=X.columns)\n",
    "\n",
    "# 라벨인코딩\n",
    "le_y = LabelEncoder()\n",
    "y_encoded = le_y.fit_transform(y)\n",
    "\n",
    "# 6. train-validation 분할\n",
    "X_train, X_val, y_train, y_val = train_test_split(X_scaled, y_encoded, test_size=0.2, stratify=y_encoded, random_state=42)\n",
    "\n",
    "# CPU 모델 사용\n",
    "xgb_model = XGBClassifier(\n",
    "    tree_method='hist',         # GPU 대신 CPU 전용 히스토그램 기반\n",
    "    predictor='auto',           # 자동 설정 (CPU에 맞게)\n",
    "    n_estimators=300,\n",
    "    learning_rate=0.05,\n",
    "    max_depth=6,\n",
    "    subsample=0.8,\n",
    "    colsample_bytree=0.8,\n",
    "    use_label_encoder=False,\n",
    "    eval_metric='mlogloss',\n",
    "    random_state=42\n",
    ")\n",
    "\n",
    "\n",
    "# 8. 학습\n",
    "xgb_model.fit(X_train, y_train)\n",
    "\n",
    "# 9. 예측 및 평가\n",
    "y_pred = xgb_model.predict(X_val)\n",
    "print(classification_report(y_val, y_pred))\n"
   ]
  },
  {
   "cell_type": "markdown",
   "id": "788b20f2-6c05-4a34-b874-49ce16024364",
   "metadata": {},
   "source": [
    "### 전환 후보군 대상이 되는 피처 탐색\n",
    "- 예측 확률이 0.6 이상 되는 피처를 선택한다."
   ]
  },
  {
   "cell_type": "code",
   "execution_count": null,
   "id": "e6935afb-cb76-4eee-a396-15d09c3005a4",
   "metadata": {},
   "outputs": [],
   "source": [
    "import numpy as np\n",
    "import pandas as pd\n",
    "\n",
    "# 10. 예측 확률 계산\n",
    "y_proba = xgb_model.predict_proba(X_val)  # 클래스별 확률 반환\n",
    "\n",
    "# 11. 가장 높은 확률의 클래스 선택\n",
    "y_pred = np.argmax(y_proba, axis=1)\n",
    "\n",
    "# 12. 확률이 0.6 이상인 고객만 추출\n",
    "threshold = 0.6\n",
    "high_confidence_mask = np.max(y_proba, axis=1) >= threshold\n",
    "\n",
    "# 13. 결과 정리\n",
    "result_df = X_val.copy()\n",
    "result_df['real_segment'] = le_y.inverse_transform(y_val)\n",
    "result_df['predicted_segment'] = le_y.inverse_transform(y_pred)\n",
    "result_df['predicted_prob'] = np.max(y_proba, axis=1)\n",
    "\n",
    "# 14. 확률이 0.6 이상인 전환 후보군만 추출\n",
    "candidate_df = result_df[high_confidence_mask]\n",
    "\n",
    "# 15. 상위 10개 미리보기\n",
    "print(\"✅ 확률 0.6 이상인 전환 후보군:\")\n",
    "print(candidate_df[['real_segment', 'predicted_segment', 'predicted_prob']].head(10))"
   ]
  },
  {
   "cell_type": "markdown",
   "id": "e29ac489-d2b0-4df1-9d55-49cdd7e5dd3f",
   "metadata": {},
   "source": [
    "### 전환 경계선에 있는 고객\n",
    "- 0.5 ~ 0.74 사이에 있는 고객을 전환 후보군으로 지정한다."
   ]
  },
  {
   "cell_type": "code",
   "execution_count": null,
   "id": "b76ad851-59b9-44b6-9ff0-0c2c1f0e2a69",
   "metadata": {},
   "outputs": [],
   "source": [
    "# 예측 확률이 0.5 ~ 0.74 사이이면서, 실제와 예측이 다른 경우만!\n",
    "unstable_candidates = result_df[\n",
    "    (result_df['predicted_prob'] >= 0.5) &\n",
    "    (result_df['predicted_prob'] <= 0.74) &\n",
    "    (result_df['real_segment'] != result_df['predicted_segment'])\n",
    "]\n",
    "\n",
    "print(unstable_candidates[['real_segment', 'predicted_segment', 'predicted_prob']].head())"
   ]
  },
  {
   "cell_type": "markdown",
   "id": "a3d45538-a49d-4726-a2e6-a3ab47ffa17d",
   "metadata": {},
   "source": [
    "### 없다니??\n",
    "\n",
    "#### 현재 조건\n",
    "- 예측 확률이 0.5 이상 0.74 이하인 사람이면서\n",
    "- 실제 세그먼트랑 예측 세그먼트가 다른 사람\n",
    "\n",
    "즉!! 이 두 조건을 모두 만족하는 사람이 없다는 뜻\n",
    "\n",
    "## 원인은?\n",
    "### ✅ 왜 없을 수도 있냐?\n",
    "#### 모델이 너무 확신하고 있어서\n",
    "→ 대부분의 예측 확률이 0.9 이상이야 (실제로 출력된 거 보면 거의 다 0.999...)\n",
    "\n",
    "#### 데이터가 균형 잡혀 있어서 예측이 단단할 수 있음\n",
    "→ 그래서 전환 “경계선”에 애매하게 걸친 사람이 안 보이는 거야\n",
    "\n",
    "#### 데이터셋 사이즈가 작거나 test셋에 그런 케이스가 없는 것일 수도 있음"
   ]
  },
  {
   "cell_type": "code",
   "execution_count": null,
   "id": "e447a0b9-cdd9-4677-af46-260626e03fca",
   "metadata": {},
   "outputs": [],
   "source": [
    "# 확률을 더 넓게: 0.4 ~ 0.8 사이\n",
    "unstable_candidates = result_df[\n",
    "    (result_df['predicted_prob'] >= 0.4) &\n",
    "    (result_df['predicted_prob'] <= 0.8) &\n",
    "    (result_df['real_segment'] != result_df['predicted_segment'])\n",
    "]\n",
    "\n",
    "print(unstable_candidates[['real_segment', 'predicted_segment', 'predicted_prob']].head())\n"
   ]
  },
  {
   "cell_type": "markdown",
   "id": "90476cf5-4e11-4928-8af5-d9f0d1df8557",
   "metadata": {},
   "source": [
    "### 실제 학습된 모델의 예측 정확도"
   ]
  },
  {
   "cell_type": "code",
   "execution_count": null,
   "id": "9e151197-e7f3-49fd-9dc4-8e0ab5ae70ae",
   "metadata": {},
   "outputs": [],
   "source": [
    "# 기본\n",
    "import pandas as pd\n",
    "import numpy as np\n",
    "import matplotlib.pyplot as plt\n",
    "import seaborn as sns\n",
    "\n",
    "# 경고 뜨지 않게 설정\n",
    "import warnings\n",
    "warnings.filterwarnings('ignore')\n",
    "\n",
    "# 그래프 설정\n",
    "sns.set()\n",
    "\n",
    "# 그래프 기본 설정\n",
    "plt.rcParams['font.family'] = 'Malgun Gothic'\n",
    "# plt.rcParams['font.family'] = 'AppleGothic'\n",
    "plt.rcParams['figure.figsize'] = 12, 6\n",
    "plt.rcParams['font.size'] = 14\n",
    "plt.rcParams['axes.unicode_minus'] = False\n",
    "\n",
    "# 결측치 시각화를 위한 라이브러리\n",
    "import missingno"
   ]
  },
  {
   "cell_type": "code",
   "execution_count": null,
   "id": "d6bfc1ec-e601-4d43-968c-b08dfbf12108",
   "metadata": {},
   "outputs": [],
   "source": [
    "import matplotlib.pyplot as plt\n",
    "import seaborn as sns\n",
    "\n",
    "plt.figure(figsize=(10, 5))\n",
    "sns.histplot(result_df['predicted_prob'], bins=30, kde=True)\n",
    "plt.axvline(0.6, color='red', linestyle='--', label='0.6 threshold')\n",
    "plt.title(\"📊 전체 예측 확률 분포\")\n",
    "plt.xlabel(\"Predicted Probability\")\n",
    "plt.ylabel(\"Count\")\n",
    "plt.legend()\n",
    "plt.grid(True)\n",
    "plt.tight_layout()\n",
    "plt.show()\n"
   ]
  },
  {
   "cell_type": "code",
   "execution_count": null,
   "id": "9952fbfc-332b-4e77-a5b4-f801d2cedb2f",
   "metadata": {},
   "outputs": [],
   "source": [
    "print(y_proba[:5])"
   ]
  },
  {
   "cell_type": "markdown",
   "id": "e99b4b25-128d-4693-b72c-847c75e55bff",
   "metadata": {},
   "source": [
    "## 🔍 예측 확률 분석 결과 정리\n",
    "\n",
    "### ✅ 예측 확률 분포 해석\n",
    "- 대부분의 예측 확률이 `0.999 이상`에 몰려 있음\n",
    "- 모델이 예측한 세그먼트에 대해 **거의 100% 확신을 가지고 있음**\n",
    "- 따라서, 전환 가능성이 있는 **경계선 고객 (예: 0.5 ~ 0.74)** 은 거의 없음\n",
    "\n",
    "---\n",
    "\n",
    "### ⚠️ 문제점 요약\n",
    "\n",
    "| 항목 | 설명 |\n",
    "|------|------|\n",
    "| 과확신 (Overconfidence) | 모델이 모든 예측에 대해 너무 확신함 (확률 분포가 한쪽으로 치우침) |\n",
    "| 전환 후보 부족 | `real_segment ≠ predicted_segment` 이면서 `확률이 애매한 고객`이 거의 없음 |\n",
    "| 해석 어려움 | SHAP 없이 예측 결과만으로는 KPI 분석이나 전환 인사이트 도출이 어려움 |\n",
    "\n",
    "---\n",
    "\n",
    "### 📌 원인 추정\n",
    "\n",
    "1. **과적합**: validation data까지 외운 듯한 모델 동작\n",
    "2. **클래스 불균형**: 특정 세그먼트가 많아서 그쪽으로 쏠림\n",
    "3. **강한 피처**: 일부 피처가 세그먼트를 거의 결정할 정도로 강력\n",
    "\n",
    "---\n",
    "\n",
    "### 🎯 다음 단계 제안\n",
    "\n",
    "- SHAP 분석으로 모델이 **왜 확신하고 있는지** 피처 기반으로 해석\n",
    "- 다른 모델(Logistic, LightGBM 등)과 비교\n",
    "- 예측 데이터셋을 진짜 운영 고객 데이터로 교체해보기\n"
   ]
  },
  {
   "cell_type": "code",
   "execution_count": null,
   "id": "099fee94-b454-4b72-af53-7c5ad1a60805",
   "metadata": {},
   "outputs": [],
   "source": [
    "import shap\n",
    "\n",
    "# 1. TreeExplainer 정의\n",
    "explainer = shap.Explainer(xgb_model)\n",
    "\n",
    "# 2. validation 데이터에 대한 shap 값 계산\n",
    "shap_values = explainer(X_val)\n",
    "\n",
    "# 3. SHAP summary plot (feature 중요도 전체 시각화)\n",
    "shap.summary_plot(shap_values, X_val, plot_type=\"bar\")"
   ]
  },
  {
   "cell_type": "markdown",
   "id": "f34b9486-a6c3-4e31-be86-10ee5bd5bfc1",
   "metadata": {},
   "source": [
    "### 🎯 SHAP 분석 기반 KPI 후보 지표\n",
    "\n",
    "1. **정상청구원금_B5M**  \n",
    "   - 최근 5개월 동안 청구된 정상 원금 총액  \n",
    "   - 고객의 상환 규모 또는 부채 수준을 보여주는 주요 지표\n",
    "\n",
    "2. **이용금액_R3M_신용체크**  \n",
    "   - 최근 3개월간 신용 및 체크카드 이용액  \n",
    "   - 카드 사용 패턴과 소비 성향 반영\n",
    "\n",
    "3. **청구금액_R6M**  \n",
    "   - 최근 6개월 누적 청구 금액  \n",
    "   - 고액 청구 고객 → 상향 가능성 판단 가능\n",
    "\n",
    "4. **카드론이용금액_누적 / 평잔_할부_3M** 등도 뒤따라 등장  \n",
    "   - 리볼빙·할부 습관은 리스크 요인 or 등급 유지 요인으로 작용 가능\n"
   ]
  },
  {
   "cell_type": "code",
   "execution_count": null,
   "id": "87e02496-db1d-4587-bc64-2acf17ae47e5",
   "metadata": {},
   "outputs": [],
   "source": []
  }
 ],
 "metadata": {
  "kernelspec": {
   "display_name": "Python 3 (ipykernel)",
   "language": "python",
   "name": "python3"
  },
  "language_info": {
   "codemirror_mode": {
    "name": "ipython",
    "version": 3
   },
   "file_extension": ".py",
   "mimetype": "text/x-python",
   "name": "python",
   "nbconvert_exporter": "python",
   "pygments_lexer": "ipython3",
   "version": "3.12.7"
  }
 },
 "nbformat": 4,
 "nbformat_minor": 5
}
