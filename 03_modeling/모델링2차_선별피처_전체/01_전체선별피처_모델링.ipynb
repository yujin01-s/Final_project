{
 "cells": [
  {
   "cell_type": "code",
   "execution_count": 50,
   "id": "3aae45d7",
   "metadata": {},
   "outputs": [],
   "source": [
    "import matplotlib.pyplot as plt\n",
    "import matplotlib.font_manager as fm\n",
    "import platform\n",
    "\n",
    "# 시스템이 Windows일 경우\n",
    "if platform.system() == 'Windows':\n",
    "    plt.rc('font', family='Pretendard')\n",
    "# macOS일 경우 예시:\n",
    "elif platform.system() == 'Darwin':\n",
    "    plt.rc('font', family='AppleGothic')\n",
    "\n",
    "# 마이너스 부호 깨짐 방지\n",
    "plt.rcParams['axes.unicode_minus'] = False"
   ]
  },
  {
   "cell_type": "code",
   "execution_count": 25,
   "id": "3f8cdd3b",
   "metadata": {},
   "outputs": [],
   "source": [
    "# 1. 회원정보\n",
    "features_member = [\n",
    "    '남녀구분코드', '연령',\n",
    "    '회원여부_이용가능_카드론', '입회경과개월수_신용', '회원여부_연체',\n",
    "    '탈회횟수_누적', '탈회횟수_발급1년이내',\n",
    "    '거주시도명',\n",
    "    '유효카드수_신용체크', '유효카드수_신용',\n",
    "    '이용카드수_신용체크', '이용카드수_신용',\n",
    "    '이용금액_R3M_신용체크', '이용금액_R3M_체크',\n",
    "    '보유여부_해외겸용_본인', '이용여부_3M_해외겸용_본인',\n",
    "    '연회비발생카드수_B0M', '기본연회비_B0M', '제휴연회비_B0M'\n",
    "]"
   ]
  },
  {
   "cell_type": "code",
   "execution_count": 26,
   "id": "ac6ec7df",
   "metadata": {},
   "outputs": [],
   "source": [
    "# 2. 신용정보\n",
    "features_credit = [\n",
    "    '카드이용한도금액', 'CA한도금액',\n",
    "    '일시상환론한도금액', '월상환론한도금액',\n",
    "    'CA이자율_할인전', 'CL이자율_할인전',\n",
    "    'RV일시불이자율_할인전', 'RV현금서비스이자율_할인전',\n",
    "    'RV약정청구율', 'RV최소결제비율',\n",
    "    '한도증액금액_R12M', '상향가능CA한도금액', '월상환론상향가능한도금액',\n",
    "    '일시불ONLY전환가능여부', '특별한도보유여부_R3M', '연체감액여부_R3M',\n",
    "    'rv최초시작후경과일'\n",
    "]"
   ]
  },
  {
   "cell_type": "code",
   "execution_count": 27,
   "id": "e0511344",
   "metadata": {},
   "outputs": [],
   "source": [
    "# 3. 승인매출정보\n",
    "features_tx = [\n",
    "    '이용건수_신용_B0M', '이용건수_신판_B0M', '이용건수_일시불_B0M',\n",
    "    '이용금액_일시불_B0M', '이용후경과월_신용', '이용후경과월_일시불', '이용후경과월_체크',\n",
    "    '이용금액_해외', '쇼핑_도소매_이용금액', '쇼핑_마트_이용금액', '쇼핑_온라인_이용금액',\n",
    "    '교통_주유이용금액', '교통_정비이용금액', '여유_숙박이용금액',\n",
    "    '할부건수_3M_R12M', '할부금액_3M_R12M', '할부건수_무이자_3M_R12M',\n",
    "    'RP건수_B0M', 'RP건수_통신_B0M', 'RP건수_보험_B0M', 'RP건수_교통_B0M', 'RP후경과월',\n",
    "    '카드론이용건수_누적', '카드론이용금액_누적', '최종카드론_대출이율', '최종카드론_대출금액',\n",
    "    '이용건수_온라인_R6M', '이용건수_오프라인_R6M',\n",
    "    '이용건수_페이_온라인_R6M', '이용건수_페이_오프라인_R6M',\n",
    "    '이용건수_간편결제_R6M', '이용건수_A페이_R6M', '이용건수_C페이_R6M', '이용건수_D페이_R6M',\n",
    "    '이용금액_선결제_R6M', '이용건수_선결제_R6M',\n",
    "    '연체입금원금_B0M', '정상청구원금_B2M', '선입금원금_B2M',\n",
    "    '연속유실적개월수_기본_24M_카드',\n",
    "    '승인거절건수_R3M', '승인거절건수_한도초과_R3M',\n",
    "    '이용금액대'  # 범주형\n",
    "]"
   ]
  },
  {
   "cell_type": "code",
   "execution_count": 28,
   "id": "dca7f8e7",
   "metadata": {},
   "outputs": [],
   "source": [
    "# 4. 청구입금정보\n",
    "features_bill = [\n",
    "    '청구서발송여부_B0', '청구서발송여부_R3M', '청구서발송여부_R6M',\n",
    "    '청구금액_B0', '청구금액_R3M', '청구금액_R6M',\n",
    "    '마일_잔여포인트_B0M',\n",
    "    '할인건수_R3M', '할인금액_R3M',\n",
    "    '혜택수혜금액_R3M', '포인트_마일리지_환산_B0M'\n",
    "]"
   ]
  },
  {
   "cell_type": "code",
   "execution_count": 29,
   "id": "4dce8685",
   "metadata": {},
   "outputs": [],
   "source": [
    "# 5. 잔액정보\n",
    "features_balance = [\n",
    "    '잔액_일시불_B0M', '잔액_할부_B0M', '카드론잔액_최종경과월',\n",
    "    '연체잔액_B0M', '연체일수_B1M', '연체원금_B1M',\n",
    "    '연체일수_최근', '연체원금_최근', '최종연체회차', '매각잔액_B1M',\n",
    "    '최종연체개월수_R15M',\n",
    "    'RV_평균잔액_R12M', 'RV_최대잔액_R12M', 'RV잔액이월횟수_R6M',\n",
    "    '잔액_할부_무이자_B0M', '연체잔액_RV일시불_B0M', '연체잔액_CA_B0M',\n",
    "    '평잔_6M', '평잔_일시불_6M', '평잔_RV일시불_6M',\n",
    "    '평잔_할부_6M', '평잔_CA_6M', '평잔_카드론_6M'\n",
    "]"
   ]
  },
  {
   "cell_type": "code",
   "execution_count": 30,
   "id": "6371eac4",
   "metadata": {},
   "outputs": [],
   "source": [
    "#6. 채널정보\n",
    "features_channel = [\n",
    "    'IB문의건수_사용승인내역_R6M', 'IB문의건수_선결제_R6M',\n",
    "    '당사멤버쉽_방문월수_R6M', '당사멤버쉽_방문횟수_B0M', '당사멤버쉽_방문횟수_R6M',\n",
    "    '방문월수_PC_R6M', '방문월수_앱_R6M',\n",
    "    '방문일수_PC_B0M', '방문일수_PC_R6M', '방문일수_앱_B0M', '방문일수_앱_R6M',\n",
    "    '방문횟수_PC_B0M', '방문횟수_PC_R6M', '방문횟수_앱_B0M', '방문횟수_앱_R6M',\n",
    "    '방문후경과월_PC_R6M', '방문후경과월_앱_R6M',\n",
    "    '불만제기후경과월_R12M',\n",
    "    '상담건수_B0M', '상담건수_R6M',\n",
    "    '이용메뉴건수_ARS_B0M', '이용메뉴건수_IB_R6M',\n",
    "    '인입일수_ARS_B0M', '인입월수_ARS_R6M',\n",
    "    '인입일수_IB_B0M', '인입월수_IB_R6M', '인입횟수_IB_R6M',\n",
    "    '인입후경과월_ARS', '인입후경과월_IB_R6M',\n",
    "    '홈페이지_금융건수_R3M', '홈페이지_금융건수_R6M',\n",
    "    '홈페이지_선결제건수_R3M', '홈페이지_선결제건수_R6M'\n",
    "]"
   ]
  },
  {
   "cell_type": "code",
   "execution_count": 31,
   "id": "066f8db2",
   "metadata": {},
   "outputs": [],
   "source": [
    "# 7. 마케팅정보\n",
    "features_marketing = [\n",
    "    '캠페인접촉건수_R12M', '캠페인접촉일수_R12M',\n",
    "    '컨택건수_보험_TM_R6M', '컨택건수_부대서비스_TM_R6M', '컨택건수_신용발급_TM_R6M',\n",
    "    '컨택건수_이용유도_EM_B0M', '컨택건수_이용유도_EM_R6M', '컨택건수_이용유도_LMS_R6M',\n",
    "    '컨택건수_이용유도_TM_B0M', '컨택건수_이용유도_TM_R6M',\n",
    "    '컨택건수_이용유도_인터넷_B0M', '컨택건수_이용유도_인터넷_R6M',\n",
    "    '컨택건수_이용유도_청구서_B0M', '컨택건수_이용유도_청구서_R6M'\n",
    "]"
   ]
  },
  {
   "cell_type": "code",
   "execution_count": 32,
   "id": "4d85b3fd",
   "metadata": {},
   "outputs": [],
   "source": [
    "# 8. 성과정보\n",
    "features_perf = [\n",
    "    '증감율_이용건수_할부_전월', '증감율_이용금액_신판_전월', '증감율_이용금액_일시불_전월',\n",
    "    '잔액_신판평균한도소진율_r6m','잔액_신판최대한도소진율_r6m', '잔액_신판ca평균한도소진율_r6m', '잔액_신판ca최대한도소진율_r6m',\n",
    "    '변동률_RV일시불평잔', '변동률_할부평잔', '변동률_RVCA평잔', '변동률_카드론평잔'\n",
    "]"
   ]
  },
  {
   "cell_type": "code",
   "execution_count": 52,
   "id": "392a3b0f",
   "metadata": {},
   "outputs": [
    {
     "name": "stdout",
     "output_type": "stream",
     "text": [
      "19\n",
      "17\n",
      "43\n",
      "11\n",
      "23\n",
      "33\n",
      "14\n",
      "11\n"
     ]
    }
   ],
   "source": [
    "print(len(features_member))\n",
    "print(len(features_credit))\n",
    "print(len(features_tx))\n",
    "print(len(features_bill))\n",
    "print(len(features_balance))\n",
    "print(len(features_channel))\n",
    "print(len(features_marketing))\n",
    "print(len(features_perf))"
   ]
  },
  {
   "cell_type": "code",
   "execution_count": null,
   "id": "29eff38d",
   "metadata": {},
   "outputs": [
    {
     "name": "stdout",
     "output_type": "stream",
     "text": [
      "171\n",
      "<class 'str'>\n"
     ]
    }
   ],
   "source": [
    "print(len(selected_feature))         \n",
    "print(type(selected_feature[0]))     "
   ]
  },
  {
   "cell_type": "code",
   "execution_count": null,
   "id": "2bc0f319",
   "metadata": {},
   "outputs": [
    {
     "name": "stderr",
     "output_type": "stream",
     "text": [
      "c:\\Users\\somee\\anaconda3\\Lib\\site-packages\\xgboost\\training.py:183: UserWarning: [12:09:13] WARNING: C:\\actions-runner\\_work\\xgboost\\xgboost\\src\\common\\error_msg.cc:27: The tree method `gpu_hist` is deprecated since 2.0.0. To use GPU training, set the `device` parameter to CUDA instead.\n",
      "\n",
      "    E.g. tree_method = \"hist\", device = \"cuda\"\n",
      "\n",
      "  bst.update(dtrain, iteration=i, fobj=obj)\n",
      "c:\\Users\\somee\\anaconda3\\Lib\\site-packages\\xgboost\\training.py:183: UserWarning: [12:09:13] WARNING: C:\\actions-runner\\_work\\xgboost\\xgboost\\src\\learner.cc:738: \n",
      "Parameters: { \"predictor\", \"use_label_encoder\" } are not used.\n",
      "\n",
      "  bst.update(dtrain, iteration=i, fobj=obj)\n",
      "c:\\Users\\somee\\anaconda3\\Lib\\site-packages\\xgboost\\core.py:2676: UserWarning: [12:11:01] WARNING: C:\\actions-runner\\_work\\xgboost\\xgboost\\src\\common\\error_msg.cc:27: The tree method `gpu_hist` is deprecated since 2.0.0. To use GPU training, set the `device` parameter to CUDA instead.\n",
      "\n",
      "    E.g. tree_method = \"hist\", device = \"cuda\"\n",
      "\n",
      "  if len(data.shape) != 1 and self.num_features() != data.shape[1]:\n",
      "c:\\Users\\somee\\anaconda3\\Lib\\site-packages\\xgboost\\core.py:729: UserWarning: [12:11:01] WARNING: C:\\actions-runner\\_work\\xgboost\\xgboost\\src\\common\\error_msg.cc:58: Falling back to prediction using DMatrix due to mismatched devices. This might lead to higher memory usage and slower performance. XGBoost is running on: cuda:0, while the input data is on: cpu.\n",
      "Potential solutions:\n",
      "- Use a data structure that matches the device ordinal in the booster.\n",
      "- Set the device for booster before call to inplace_predict.\n",
      "\n",
      "This warning will only be shown once.\n",
      "\n",
      "  return func(**kwargs)\n"
     ]
    },
    {
     "name": "stdout",
     "output_type": "stream",
     "text": [
      "              precision    recall  f1-score   support\n",
      "\n",
      "           0       0.94      0.40      0.56       194\n",
      "           1       1.00      0.28      0.43        29\n",
      "           2       0.74      0.58      0.65     25518\n",
      "           3       0.69      0.59      0.64     69848\n",
      "           4       0.93      0.97      0.95    384411\n",
      "\n",
      "    accuracy                           0.89    480000\n",
      "   macro avg       0.86      0.56      0.65    480000\n",
      "weighted avg       0.89      0.89      0.89    480000\n",
      "\n"
     ]
    }
   ],
   "source": [
    "import pandas as pd\n",
    "from sklearn.model_selection import train_test_split\n",
    "from sklearn.preprocessing import LabelEncoder, StandardScaler\n",
    "from sklearn.impute import SimpleImputer\n",
    "from sklearn.metrics import classification_report\n",
    "from xgboost import XGBClassifier\n",
    "\n",
    "# 1. 데이터 불러오기\n",
    "df = pd.read_parquet(\"../../data/통합_train_데이터.parquet\")\n",
    "\n",
    "# 2. 피처 및 타겟 분리\n",
    "X = df[selected_feature].copy()\n",
    "y = df[\"Segment\"]\n",
    "\n",
    "# 3. 범주형 인코딩\n",
    "cat_cols = X.select_dtypes(include='object').columns.tolist()\n",
    "for col in cat_cols:\n",
    "    le = LabelEncoder()\n",
    "    X[col] = le.fit_transform(X[col].astype(str))\n",
    "\n",
    "# 4. 결측치 처리\n",
    "X = pd.DataFrame(SimpleImputer(strategy='mean').fit_transform(X), columns=X.columns)\n",
    "\n",
    "# 5. 스케일링\n",
    "scaler = StandardScaler()\n",
    "X_scaled = scaler.fit_transform(X)\n",
    "\n",
    "# 라벨인코딩\n",
    "le_y = LabelEncoder()\n",
    "y_encoded = le_y.fit_transform(y)\n",
    "\n",
    "# 6. train-validation 분할\n",
    "X_train, X_val, y_train, y_val = train_test_split(X_scaled, y_encoded, test_size=0.2, stratify=y_encoded, random_state=42)\n",
    "\n",
    "# 7. XGBoost 모델 선언 (GPU 가속)\n",
    "xgb_model = XGBClassifier(\n",
    "    tree_method='gpu_hist',\n",
    "    predictor='gpu_predictor',\n",
    "    n_estimators=300,\n",
    "    learning_rate=0.05,\n",
    "    max_depth=6,\n",
    "    subsample=0.8,\n",
    "    colsample_bytree=0.8,\n",
    "    use_label_encoder=False,\n",
    "    eval_metric='mlogloss',\n",
    "    random_state=42\n",
    ")\n",
    "\n",
    "# 8. 학습\n",
    "xgb_model.fit(X_train, y_train)\n",
    "\n",
    "# 9. 예측 및 평가\n",
    "y_pred = xgb_model.predict(X_val)\n",
    "print(classification_report(y_val, y_pred))\n"
   ]
  },
  {
   "cell_type": "code",
   "execution_count": 37,
   "id": "45e04286",
   "metadata": {},
   "outputs": [
    {
     "data": {
      "text/plain": [
       "['models/labelEncoder.pkl']"
      ]
     },
     "execution_count": 37,
     "metadata": {},
     "output_type": "execute_result"
    }
   ],
   "source": [
    "import joblib\n",
    "\n",
    "# 모델 저장\n",
    "joblib.dump(xgb_model, 'models/model.pkl')\n",
    "\n",
    "# LabelEncoder도 함께 저장 (Segment 변환용)\n",
    "joblib.dump(le, 'models/labelEncoder.pkl')"
   ]
  },
  {
   "cell_type": "code",
   "execution_count": 40,
   "id": "9daf2c67",
   "metadata": {},
   "outputs": [],
   "source": [
    "from sklearn.impute import SimpleImputer\n",
    "from sklearn.preprocessing import StandardScaler\n",
    "\n",
    "# 결측치 처리기\n",
    "imputer = SimpleImputer(strategy='mean')\n",
    "X_imputed = imputer.fit_transform(X)  # 학습 데이터로 fit 해야 함\n",
    "\n",
    "# 스케일러\n",
    "scaler = StandardScaler()\n",
    "X_scaled = scaler.fit_transform(X_imputed)"
   ]
  },
  {
   "cell_type": "code",
   "execution_count": null,
   "id": "89ade03e",
   "metadata": {},
   "outputs": [
    {
     "name": "stderr",
     "output_type": "stream",
     "text": [
      "c:\\Users\\somee\\anaconda3\\Lib\\site-packages\\sklearn\\base.py:486: UserWarning: X has feature names, but StandardScaler was fitted without feature names\n",
      "  warnings.warn(\n"
     ]
    },
    {
     "name": "stdout",
     "output_type": "stream",
     "text": [
      "✅ 중복 제거 후 저장 완료: submission_xgboost.csv\n"
     ]
    }
   ],
   "source": [
    "# 1. 데이터 불러오기\n",
    "test_df = pd.read_parquet(\"../../data/통합_test_데이터.parquet\")\n",
    "\n",
    "# 2. 피처 선택\n",
    "X_test = test_df[selected_feature].copy()\n",
    "\n",
    "# 3. 범주형 인코딩 (학습 때와 동일하게)\n",
    "for col in X_test.select_dtypes(include='object').columns:\n",
    "    X_test[col] = le.fit_transform(X_test[col].astype(str)) \n",
    "\n",
    "# 4. 결측치 처리\n",
    "X_test = pd.DataFrame(imputer.transform(X_test), columns=X_test.columns)\n",
    "\n",
    "# 5. 스케일링\n",
    "X_test_scaled = scaler.transform(X_test)\n",
    "\n",
    "# 6. 예측\n",
    "y_test_pred_encoded = xgb_model.predict(X_test_scaled)\n",
    "\n",
    "# 7. 예측 라벨 복원\n",
    "y_test_pred = le_y.inverse_transform(y_test_pred_encoded)\n",
    "\n",
    "submission = pd.DataFrame({\n",
    "    'ID': test_df['ID'],\n",
    "    'Segment': y_test_pred\n",
    "})\n",
    "\n",
    "# ID 기준으로 중복 제거 (가장 먼저 등장하는 예측값 유지)\n",
    "submission = submission.drop_duplicates(subset='ID', keep='first')\n",
    "\n",
    "# 저장\n",
    "submission.to_csv(\"submission_xgboost.csv\", index=False)\n",
    "print(\"✅ 중복 제거 후 저장 완료: submission_xgboost.csv\")\n"
   ]
  },
  {
   "cell_type": "code",
   "execution_count": 48,
   "id": "25f86664",
   "metadata": {},
   "outputs": [
    {
     "name": "stdout",
     "output_type": "stream",
     "text": [
      "📊 예측된 Segment 분포:\n",
      "Segment\n",
      "A        60\n",
      "B         1\n",
      "C     24735\n",
      "D     74925\n",
      "E    500279\n",
      "Name: count, dtype: int64\n",
      "\n",
      "📈 비율 (%):\n",
      "Segment\n",
      "A     0.01\n",
      "B     0.00\n",
      "C     4.12\n",
      "D    12.49\n",
      "E    83.38\n",
      "Name: proportion, dtype: float64\n"
     ]
    }
   ],
   "source": [
    "import pandas as pd\n",
    "\n",
    "# 예측 결과를 Series로 변환\n",
    "y_series = pd.Series(y_test_pred, name=\"Segment\")\n",
    "\n",
    "# 분포 확인 (클래스별 건수 + 비율)\n",
    "print(\"📊 예측된 Segment 분포:\")\n",
    "print(y_series.value_counts().sort_index())      # 클래스별 개수\n",
    "print(\"\\n📈 비율 (%):\")\n",
    "print((y_series.value_counts(normalize=True).sort_index() * 100).round(2))"
   ]
  },
  {
   "cell_type": "code",
   "execution_count": 51,
   "id": "1b0cfe5d",
   "metadata": {},
   "outputs": [
    {
     "data": {
      "image/png": "[encoded data removed]",
      "text/plain": [
       "<Figure size 640x480 with 2 Axes>"
      ]
     },
     "metadata": {},
     "output_type": "display_data"
    }
   ],
   "source": [
    "from sklearn.metrics import confusion_matrix, ConfusionMatrixDisplay\n",
    "import matplotlib.pyplot as plt\n",
    "\n",
    "# 예측값: y_pred, 실제값: y_val (숫자형), 또는 문자형이면 inverse_transform 먼저\n",
    "cm = confusion_matrix(y_val, y_pred, labels=[0,1,2,3,4])  # 또는 labels=le_y.transform(['A','B','C','D','E'])\n",
    "\n",
    "# 시각화\n",
    "disp = ConfusionMatrixDisplay(confusion_matrix=cm, display_labels=le_y.classes_)\n",
    "disp.plot(cmap='Blues', values_format='d')\n",
    "\n",
    "plt.title(\"혼동 행렬 (Confusion Matrix)\")\n",
    "plt.grid(False)\n",
    "plt.show()"
   ]
  },
  {
   "cell_type": "code",
   "execution_count": null,
   "id": "7427e124",
   "metadata": {},
   "outputs": [],
   "source": []
  }
 ],
 "metadata": {
  "kernelspec": {
   "display_name": "base",
   "language": "python",
   "name": "python3"
  },
  "language_info": {
   "codemirror_mode": {
    "name": "ipython",
    "version": 3
   },
   "file_extension": ".py",
   "mimetype": "text/x-python",
   "name": "python",
   "nbconvert_exporter": "python",
   "pygments_lexer": "ipython3",
   "version": "3.12.7"
  }
 },
 "nbformat": 4,
 "nbformat_minor": 5
}
