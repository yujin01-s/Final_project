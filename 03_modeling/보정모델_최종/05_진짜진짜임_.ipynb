{
 "cells": [
  {
   "cell_type": "markdown",
   "id": "b25132bb",
   "metadata": {},
   "source": [
    "# E 모델 먼저"
   ]
  },
  {
   "cell_type": "code",
   "execution_count": 2,
   "id": "70225c09",
   "metadata": {},
   "outputs": [],
   "source": [
    "import matplotlib.pyplot as plt\n",
    "import matplotlib.font_manager as fm\n",
    "import platform\n",
    "\n",
    "# 시스템이 Windows일 경우\n",
    "if platform.system() == 'Windows':\n",
    "    plt.rc('font', family='Pretendard')\n",
    "# macOS일 경우 예시:\n",
    "elif platform.system() == 'Darwin':\n",
    "    plt.rc('font', family='AppleGothic')\n",
    "\n",
    "# 마이너스 부호 깨짐 방지\n",
    "plt.rcParams['axes.unicode_minus'] = False"
   ]
  },
  {
   "cell_type": "code",
   "execution_count": 3,
   "id": "958d2e0a",
   "metadata": {},
   "outputs": [],
   "source": [
    "from modules.data_loader import load_and_process\n",
    "from modules.feature_selector import stage_feature_map\n",
    "\n",
    "file_path = \"../../data/통합_train_데이터.parquet\"\n",
    "test_path = \"../../data/통합_test_데이터.parquet\"\n",
    "\n",
    "stage_name = \"e\" # <- 변경해서 사용\n",
    "save_path = \"./models\""
   ]
  },
  {
   "cell_type": "code",
   "execution_count": 3,
   "id": "de649efa",
   "metadata": {},
   "outputs": [
    {
     "name": "stdout",
     "output_type": "stream",
     "text": [
      "📂 데이터 불러오기 완료\n",
      "[연회비발생카드수_B0M] 인코딩 완료\n",
      "[한도증액횟수_R12M] 인코딩 완료\n",
      "[이용금액대] 중간값 인코딩 완료\n",
      "[할인건수_R3M] 인코딩 완료\n",
      "[할인건수_B0M] 인코딩 완료\n",
      "[방문횟수_PC_R6M] 인코딩 완료\n",
      "[방문횟수_앱_R6M] 인코딩 완료\n",
      "[방문일수_PC_R6M] 인코딩 완료\n",
      "✅ 범주형 인코딩 완료\n",
      "📌 최종 피처 수: 298\n",
      "✅ X shape: (2400000, 298)\n",
      "✅ y 분포:\n",
      " target\n",
      "1    1922052\n",
      "0     477948\n",
      "Name: count, dtype: int64\n"
     ]
    }
   ],
   "source": [
    "from modules.feature_selector import generate_e_features\n",
    "from modules.feature_selector import generate_vif_derived_features\n",
    "\n",
    "if stage_name == \"e\":\n",
    "    # 1. 데이터 로드\n",
    "    e_train, _ = load_and_process(file_path=file_path, stage=stage_name)\n",
    "\n",
    "    # 2. 파생변수 생성\n",
    "    e_train = generate_e_features(e_train)\n",
    "    e_train = generate_vif_derived_features(e_train)\n",
    "\n",
    "    # 3. 타겟 생성\n",
    "    e_train[\"target\"] = (e_train[\"Segment\"] == 4).astype(int)\n",
    "\n",
    "    # 4. 파생변수 포함한 전체 컬럼 기준 X/y 분리\n",
    "    drop_cols = [\"ID\", \"Segment\", \"target\"]\n",
    "    X = e_train.drop(columns=drop_cols)\n",
    "    y = e_train[\"target\"]\n",
    "\n",
    "    # 5. used_cols 재정의\n",
    "    used_cols = X.columns.tolist()\n",
    "\n",
    "    print(\"📌 최종 피처 수:\", len(used_cols))\n",
    "    print(\"✅ X shape:\", X.shape)\n",
    "    print(\"✅ y 분포:\\n\", y.value_counts())"
   ]
  },
  {
   "cell_type": "code",
   "execution_count": 4,
   "id": "1b40799e",
   "metadata": {},
   "outputs": [
    {
     "name": "stdout",
     "output_type": "stream",
     "text": [
      "✅ 학습셋 크기: (1920000, 298) (1920000,)\n",
      "✅ 검증셋 크기: (480000, 298) (480000,)\n",
      "✅ 학습셋 클래스 분포:\n",
      " target\n",
      "1    0.800855\n",
      "0    0.199145\n",
      "Name: proportion, dtype: float64\n",
      "✅ 검증셋 클래스 분포:\n",
      " target\n",
      "1    0.800854\n",
      "0    0.199146\n",
      "Name: proportion, dtype: float64\n"
     ]
    }
   ],
   "source": [
    "from sklearn.model_selection import train_test_split\n",
    "\n",
    "# Stratify를 적용해 클래스 비율을 유지한 채 분리\n",
    "X_train, X_val, y_train, y_val = train_test_split(\n",
    "    X, y,\n",
    "    test_size=0.2,         # 검증셋 비율 (20%)\n",
    "    random_state=42,       # 재현성 고정\n",
    "    stratify=y             # 클래스 비율 유지 (불균형 대비)\n",
    ")\n",
    "\n",
    "# 확인\n",
    "print(\"✅ 학습셋 크기:\", X_train.shape, y_train.shape)\n",
    "print(\"✅ 검증셋 크기:\", X_val.shape, y_val.shape)\n",
    "print(\"✅ 학습셋 클래스 분포:\\n\", y_train.value_counts(normalize=True))\n",
    "print(\"✅ 검증셋 클래스 분포:\\n\", y_val.value_counts(normalize=True))"
   ]
  },
  {
   "cell_type": "code",
   "execution_count": 5,
   "id": "715cc0aa",
   "metadata": {},
   "outputs": [
    {
     "name": "stderr",
     "output_type": "stream",
     "text": [
      "c:\\Users\\somee\\anaconda3\\Lib\\site-packages\\xgboost\\sklearn.py:1395: UserWarning: `use_label_encoder` is deprecated in 1.7.0.\n",
      "  warnings.warn(\"`use_label_encoder` is deprecated in 1.7.0.\")\n"
     ]
    },
    {
     "data": {
      "text/html": [
       "<style>#sk-container-id-1 {color: black;}#sk-container-id-1 pre{padding: 0;}#sk-container-id-1 div.sk-toggleable {background-color: white;}#sk-container-id-1 label.sk-toggleable__label {cursor: pointer;display: block;width: 100%;margin-bottom: 0;padding: 0.3em;box-sizing: border-box;text-align: center;}#sk-container-id-1 label.sk-toggleable__label-arrow:before {content: \"▸\";float: left;margin-right: 0.25em;color: #696969;}#sk-container-id-1 label.sk-toggleable__label-arrow:hover:before {color: black;}#sk-container-id-1 div.sk-estimator:hover label.sk-toggleable__label-arrow:before {color: black;}#sk-container-id-1 div.sk-toggleable__content {max-height: 0;max-width: 0;overflow: hidden;text-align: left;background-color: #f0f8ff;}#sk-container-id-1 div.sk-toggleable__content pre {margin: 0.2em;color: black;border-radius: 0.25em;background-color: #f0f8ff;}#sk-container-id-1 input.sk-toggleable__control:checked~div.sk-toggleable__content {max-height: 200px;max-width: 100%;overflow: auto;}#sk-container-id-1 input.sk-toggleable__control:checked~label.sk-toggleable__label-arrow:before {content: \"▾\";}#sk-container-id-1 div.sk-estimator input.sk-toggleable__control:checked~label.sk-toggleable__label {background-color: #d4ebff;}#sk-container-id-1 div.sk-label input.sk-toggleable__control:checked~label.sk-toggleable__label {background-color: #d4ebff;}#sk-container-id-1 input.sk-hidden--visually {border: 0;clip: rect(1px 1px 1px 1px);clip: rect(1px, 1px, 1px, 1px);height: 1px;margin: -1px;overflow: hidden;padding: 0;position: absolute;width: 1px;}#sk-container-id-1 div.sk-estimator {font-family: monospace;background-color: #f0f8ff;border: 1px dotted black;border-radius: 0.25em;box-sizing: border-box;margin-bottom: 0.5em;}#sk-container-id-1 div.sk-estimator:hover {background-color: #d4ebff;}#sk-container-id-1 div.sk-parallel-item::after {content: \"\";width: 100%;border-bottom: 1px solid gray;flex-grow: 1;}#sk-container-id-1 div.sk-label:hover label.sk-toggleable__label {background-color: #d4ebff;}#sk-container-id-1 div.sk-serial::before {content: \"\";position: absolute;border-left: 1px solid gray;box-sizing: border-box;top: 0;bottom: 0;left: 50%;z-index: 0;}#sk-container-id-1 div.sk-serial {display: flex;flex-direction: column;align-items: center;background-color: white;padding-right: 0.2em;padding-left: 0.2em;position: relative;}#sk-container-id-1 div.sk-item {position: relative;z-index: 1;}#sk-container-id-1 div.sk-parallel {display: flex;align-items: stretch;justify-content: center;background-color: white;position: relative;}#sk-container-id-1 div.sk-item::before, #sk-container-id-1 div.sk-parallel-item::before {content: \"\";position: absolute;border-left: 1px solid gray;box-sizing: border-box;top: 0;bottom: 0;left: 50%;z-index: -1;}#sk-container-id-1 div.sk-parallel-item {display: flex;flex-direction: column;z-index: 1;position: relative;background-color: white;}#sk-container-id-1 div.sk-parallel-item:first-child::after {align-self: flex-end;width: 50%;}#sk-container-id-1 div.sk-parallel-item:last-child::after {align-self: flex-start;width: 50%;}#sk-container-id-1 div.sk-parallel-item:only-child::after {width: 0;}#sk-container-id-1 div.sk-dashed-wrapped {border: 1px dashed gray;margin: 0 0.4em 0.5em 0.4em;box-sizing: border-box;padding-bottom: 0.4em;background-color: white;}#sk-container-id-1 div.sk-label label {font-family: monospace;font-weight: bold;display: inline-block;line-height: 1.2em;}#sk-container-id-1 div.sk-label-container {text-align: center;}#sk-container-id-1 div.sk-container {/* jupyter's `normalize.less` sets `[hidden] { display: none; }` but bootstrap.min.css set `[hidden] { display: none !important; }` so we also need the `!important` here to be able to override the default hidden behavior on the sphinx rendered scikit-learn.org. See: https://github.com/scikit-learn/scikit-learn/issues/21755 */display: inline-block !important;position: relative;}#sk-container-id-1 div.sk-text-repr-fallback {display: none;}</style><div id=\"sk-container-id-1\" class=\"sk-top-container\"><div class=\"sk-text-repr-fallback\"><pre>XGBClassifier(base_score=None, booster=None, callbacks=None,\n",
       "              colsample_bylevel=None, colsample_bynode=None,\n",
       "              colsample_bytree=0.855, device=&#x27;cuda&#x27;, early_stopping_rounds=None,\n",
       "              enable_categorical=False, eval_metric=&#x27;logloss&#x27;,\n",
       "              feature_types=None, gamma=3.3658, gpu_id=None, grow_policy=None,\n",
       "              importance_type=None, interaction_constraints=None,\n",
       "              learning_rate=0.2435, max_bin=None, max_cat_threshold=None,\n",
       "              max_cat_to_onehot=None, max_delta_step=None, max_depth=8,\n",
       "              max_leaves=None, min_child_weight=9, missing=nan,\n",
       "              monotone_constraints=None, n_estimators=100, n_jobs=None,\n",
       "              num_parallel_tree=None, predictor=None, ...)</pre><b>In a Jupyter environment, please rerun this cell to show the HTML representation or trust the notebook. <br />On GitHub, the HTML representation is unable to render, please try loading this page with nbviewer.org.</b></div><div class=\"sk-container\" hidden><div class=\"sk-item\"><div class=\"sk-estimator sk-toggleable\"><input class=\"sk-toggleable__control sk-hidden--visually\" id=\"sk-estimator-id-1\" type=\"checkbox\" checked><label for=\"sk-estimator-id-1\" class=\"sk-toggleable__label sk-toggleable__label-arrow\">XGBClassifier</label><div class=\"sk-toggleable__content\"><pre>XGBClassifier(base_score=None, booster=None, callbacks=None,\n",
       "              colsample_bylevel=None, colsample_bynode=None,\n",
       "              colsample_bytree=0.855, device=&#x27;cuda&#x27;, early_stopping_rounds=None,\n",
       "              enable_categorical=False, eval_metric=&#x27;logloss&#x27;,\n",
       "              feature_types=None, gamma=3.3658, gpu_id=None, grow_policy=None,\n",
       "              importance_type=None, interaction_constraints=None,\n",
       "              learning_rate=0.2435, max_bin=None, max_cat_threshold=None,\n",
       "              max_cat_to_onehot=None, max_delta_step=None, max_depth=8,\n",
       "              max_leaves=None, min_child_weight=9, missing=nan,\n",
       "              monotone_constraints=None, n_estimators=100, n_jobs=None,\n",
       "              num_parallel_tree=None, predictor=None, ...)</pre></div></div></div></div></div>"
      ],
      "text/plain": [
       "XGBClassifier(base_score=None, booster=None, callbacks=None,\n",
       "              colsample_bylevel=None, colsample_bynode=None,\n",
       "              colsample_bytree=0.855, device='cuda', early_stopping_rounds=None,\n",
       "              enable_categorical=False, eval_metric='logloss',\n",
       "              feature_types=None, gamma=3.3658, gpu_id=None, grow_policy=None,\n",
       "              importance_type=None, interaction_constraints=None,\n",
       "              learning_rate=0.2435, max_bin=None, max_cat_threshold=None,\n",
       "              max_cat_to_onehot=None, max_delta_step=None, max_depth=8,\n",
       "              max_leaves=None, min_child_weight=9, missing=nan,\n",
       "              monotone_constraints=None, n_estimators=100, n_jobs=None,\n",
       "              num_parallel_tree=None, predictor=None, ...)"
      ]
     },
     "execution_count": 5,
     "metadata": {},
     "output_type": "execute_result"
    }
   ],
   "source": [
    "import xgboost as xgb\n",
    "from sklearn.metrics import classification_report, confusion_matrix\n",
    "from sklearn.model_selection import train_test_split\n",
    "from xgboost import XGBClassifier\n",
    "# XGBoost DMatrix 변환\n",
    "dtrain = xgb.DMatrix(X_train, label=y_train)\n",
    "dval = xgb.DMatrix(X_val, label=y_val)\n",
    "\n",
    "if stage_name == \"e\":\n",
    "    # GPU 기반 파라미터 설정\n",
    "    best_params = {\n",
    "        'max_depth': 8,\n",
    "        'learning_rate': 0.2435,\n",
    "        'min_child_weight': 9,\n",
    "        'subsample': 0.6043,\n",
    "        'colsample_bytree': 0.8550,\n",
    "        'gamma': 3.3658,\n",
    "        'objective': 'binary:logistic',\n",
    "        'eval_metric': 'logloss',\n",
    "        'tree_method': 'hist',   # 최신버전 기준\n",
    "        'device': 'cuda',        # GPU 사용\n",
    "        'use_label_encoder': False\n",
    "    }\n",
    "\n",
    "# 학습\n",
    "model = XGBClassifier(**best_params, verbosity=0)\n",
    "model.fit(X_train, y_train)"
   ]
  },
  {
   "cell_type": "code",
   "execution_count": 6,
   "id": "c8891bda",
   "metadata": {},
   "outputs": [
    {
     "name": "stdout",
     "output_type": "stream",
     "text": [
      "📋 Classification Report (Optuna Tuned):\n",
      "              precision    recall  f1-score   support\n",
      "\n",
      "           0       0.88      0.84      0.86     95590\n",
      "           1       0.96      0.97      0.97    384410\n",
      "\n",
      "    accuracy                           0.94    480000\n",
      "   macro avg       0.92      0.90      0.91    480000\n",
      "weighted avg       0.94      0.94      0.94    480000\n",
      "\n"
     ]
    },
    {
     "data": {
      "image/png": "[encoded data removed]",
      "text/plain": [
       "<Figure size 640x480 with 2 Axes>"
      ]
     },
     "metadata": {},
     "output_type": "display_data"
    }
   ],
   "source": [
    "from sklearn.metrics import classification_report, confusion_matrix, ConfusionMatrixDisplay\n",
    "import matplotlib.pyplot as plt\n",
    "\n",
    "# 예측\n",
    "y_pred = model.predict(X_val)\n",
    "\n",
    "# 📋 분류 리포트\n",
    "print(\"📋 Classification Report (Optuna Tuned):\")\n",
    "print(classification_report(y_val, y_pred))\n",
    "\n",
    "# 예측값과 실제값\n",
    "cm = confusion_matrix(y_val, y_pred)\n",
    "disp = ConfusionMatrixDisplay(confusion_matrix=cm)\n",
    "\n",
    "# 컬러맵 적용 (예: 연초록 계열)\n",
    "disp.plot(cmap='BuGn', values_format='d')  \n",
    "plt.title(\"Confusion Matrix (E Segment Classification)\", fontsize=14)\n",
    "plt.show()\n"
   ]
  },
  {
   "cell_type": "code",
   "execution_count": null,
   "id": "dd673271",
   "metadata": {},
   "outputs": [
    {
     "name": "stdout",
     "output_type": "stream",
     "text": [
      "✅ 모델 전체 저장 완료: ./models/model_e.pkl\n"
     ]
    }
   ],
   "source": [
    "from modules.model_utils import save_xgb_model\n",
    "\n",
    "if stage_name==\"e\":\n",
    "    path= \"./models/model_e.pkl\"\n",
    "save_xgb_model(model, path)"
   ]
  },
  {
   "cell_type": "code",
   "execution_count": 11,
   "id": "c9e95562",
   "metadata": {},
   "outputs": [
    {
     "name": "stdout",
     "output_type": "stream",
     "text": [
      "\n",
      "🌟 최적 Threshold: 0.508 (F1 Score: 0.9659)\n",
      "📋 Classification Report (Threshold 적용):\n",
      "              precision    recall  f1-score   support\n",
      "\n",
      "      Others       0.88      0.84      0.86     95590\n",
      "           E       0.96      0.97      0.97    384410\n",
      "\n",
      "    accuracy                           0.95    480000\n",
      "   macro avg       0.92      0.91      0.91    480000\n",
      "weighted avg       0.94      0.95      0.94    480000\n",
      "\n"
     ]
    },
    {
     "data": {
      "image/png": "[encoded data removed]",
      "text/plain": [
       "<Figure size 640x480 with 2 Axes>"
      ]
     },
     "metadata": {},
     "output_type": "display_data"
    }
   ],
   "source": [
    "from modules.model_utils import apply_best_threshold\n",
    "\n",
    "threshold, best_f1, y_pred_thresh = apply_best_threshold(model, X_val, y_val)\n",
    "\n",
    "print(\"📋 Classification Report (Threshold 적용):\")\n",
    "print(classification_report(y_val, y_pred_thresh, target_names=[\"Others\", \"E\"]))\n",
    "\n",
    "# 예측값과 실제값\n",
    "cm = confusion_matrix(y_val, y_pred_thresh)\n",
    "disp = ConfusionMatrixDisplay(confusion_matrix=cm)\n",
    "\n",
    "# 컬러맵 적용\n",
    "disp.plot(cmap='Purples', values_format='d')  \n",
    "plt.title(\"Confusion Matrix (E Segment Classification)\", fontsize=14)\n",
    "plt.show()"
   ]
  },
  {
   "cell_type": "code",
   "execution_count": 9,
   "id": "586c0567",
   "metadata": {},
   "outputs": [],
   "source": [
    "from modules.feature_selector import generate_e_features\n",
    "from modules.feature_selector import generate_vif_derived_features"
   ]
  },
  {
   "cell_type": "code",
   "execution_count": 10,
   "id": "e063de03",
   "metadata": {},
   "outputs": [],
   "source": [
    "stage_name =\"e\""
   ]
  },
  {
   "cell_type": "code",
   "execution_count": 11,
   "id": "7734b471",
   "metadata": {},
   "outputs": [
    {
     "name": "stdout",
     "output_type": "stream",
     "text": [
      "📂 데이터 불러오기 완료\n",
      "[연회비발생카드수_B0M] 인코딩 완료\n",
      "[한도증액횟수_R12M] 인코딩 완료\n",
      "[이용금액대] 중간값 인코딩 완료\n",
      "[할인건수_R3M] 인코딩 완료\n",
      "[할인건수_B0M] 인코딩 완료\n",
      "[방문횟수_PC_R6M] 인코딩 완료\n",
      "[방문횟수_앱_R6M] 인코딩 완료\n",
      "[방문일수_PC_R6M] 인코딩 완료\n",
      "✅ 범주형 인코딩 완료\n",
      "📌 테스트셋 shape: (600000, 299)\n"
     ]
    }
   ],
   "source": [
    "if stage_name == \"e\":\n",
    "    # 1. 테스트 데이터 불러오기 및 가공\n",
    "    e_test, _ = load_and_process(file_path=test_path, stage=\"e\")\n",
    "    e_test = generate_e_features(e_test)\n",
    "    e_test = generate_vif_derived_features(e_test)\n",
    "\n",
    "    # 3. 사용 컬럼 순서 맞추기\n",
    "    X_test = e_test\n",
    "    print(\"📌 테스트셋 shape:\", X_test.shape)"
   ]
  },
  {
   "cell_type": "code",
   "execution_count": 12,
   "id": "a115cb10",
   "metadata": {},
   "outputs": [
    {
     "name": "stdout",
     "output_type": "stream",
     "text": [
      "✅ 모델 로드 완료: ./models/model_e.pkl\n"
     ]
    }
   ],
   "source": [
    "from modules.model_utils import load_xgb_model\n",
    "\n",
    "if stage_name==\"e\":\n",
    "    path = \"./models/model_e.pkl\"\n",
    "    e_threshold = 0.508\n",
    "elif stage_name==\"abcd\":\n",
    "    path = \"./models/model_abcd.pkl\"\n",
    "elif stage_name == \"cd\":\n",
    "    path = \"./models/model_c_tuned.pkl\"\n",
    "\n",
    "\n",
    "model = load_xgb_model(path)\n",
    "try:\n",
    "    used_cols = model.feature_names_in_.tolist()\n",
    "except AttributeError:\n",
    "    used_cols = None  # 다음 단계로"
   ]
  },
  {
   "cell_type": "code",
   "execution_count": 13,
   "id": "f1bd4a0c",
   "metadata": {},
   "outputs": [],
   "source": [
    "# ID 컬럼 제거\n",
    "# 누락된 컬럼 추가 (0으로 채움)\n",
    "for col in used_cols:\n",
    "    if col not in X_test.columns:\n",
    "        X_test[col] = 0\n",
    "\n",
    "# 예측용 컬럼 순서 정렬\n",
    "X_test = X_test[used_cols]\n",
    "\n",
    "if \"ID\" in X_test.columns:\n",
    "    X_test = X_test.drop(columns=[\"ID\"])\n",
    "\n",
    "proba_e = model.predict_proba(X_test)[:, 1]\n",
    "y_pred_e = (proba_e > e_threshold).astype(int)\n",
    "\n",
    "# 1.2 Segment E로 예측된 고객 ID만 따로 저장\n",
    "e_pred_ids = e_test.loc[y_pred_e == 1, \"ID\"]\n",
    "\n",
    "# 1.3 Segment E 제외한 test 데이터 추출\n",
    "e_test_rest = e_test.loc[~e_test[\"ID\"].isin(e_pred_ids)].copy()\n"
   ]
  },
  {
   "cell_type": "code",
   "execution_count": 14,
   "id": "9bd5b3df",
   "metadata": {},
   "outputs": [
    {
     "data": {
      "text/html": [
       "<div>\n",
       "<style scoped>\n",
       "    .dataframe tbody tr th:only-of-type {\n",
       "        vertical-align: middle;\n",
       "    }\n",
       "\n",
       "    .dataframe tbody tr th {\n",
       "        vertical-align: top;\n",
       "    }\n",
       "\n",
       "    .dataframe thead th {\n",
       "        text-align: right;\n",
       "    }\n",
       "</style>\n",
       "<table border=\"1\" class=\"dataframe\">\n",
       "  <thead>\n",
       "    <tr style=\"text-align: right;\">\n",
       "      <th></th>\n",
       "      <th>RP건수_교통_B0M</th>\n",
       "      <th>이용후경과월_할부_유이자</th>\n",
       "      <th>평잔_RV일시불_3M</th>\n",
       "      <th>포인트_잔여포인트_B0M</th>\n",
       "      <th>이용금액_일시불_B0M</th>\n",
       "      <th>이용금액_할부_무이자_R3M</th>\n",
       "      <th>이용여부_3M_해외겸용_본인</th>\n",
       "      <th>방문일수_앱_R6M</th>\n",
       "      <th>잔액_할부_B2M</th>\n",
       "      <th>평잔_일시불_해외_6M</th>\n",
       "      <th>...</th>\n",
       "      <th>이용건수_신용_R6M_div_이용건수_신판_R12M</th>\n",
       "      <th>이용건수_신용_R6M_minus_이용건수_신용_R12M</th>\n",
       "      <th>이용건수_신용_R6M_div_이용건수_신용_R12M</th>\n",
       "      <th>잔액_신판최대한도소진율_r3m_minus_잔액_신판평균한도소진율_r6m</th>\n",
       "      <th>잔액_신판최대한도소진율_r3m_div_잔액_신판평균한도소진율_r6m</th>\n",
       "      <th>이용건수_신용_R6M_minus_이용건수_일시불_R12M</th>\n",
       "      <th>이용건수_신용_R6M_div_이용건수_일시불_R12M</th>\n",
       "      <th>잔액_카드론_B1M_minus_잔액_카드론_B2M</th>\n",
       "      <th>잔액_카드론_B1M_div_잔액_카드론_B2M</th>\n",
       "      <th>포인트건별_변화량</th>\n",
       "    </tr>\n",
       "  </thead>\n",
       "  <tbody>\n",
       "    <tr>\n",
       "      <th>10</th>\n",
       "      <td>0</td>\n",
       "      <td>12</td>\n",
       "      <td>1103</td>\n",
       "      <td>0</td>\n",
       "      <td>3862</td>\n",
       "      <td>0</td>\n",
       "      <td>1</td>\n",
       "      <td>7</td>\n",
       "      <td>0</td>\n",
       "      <td>0</td>\n",
       "      <td>...</td>\n",
       "      <td>0.283019</td>\n",
       "      <td>-38</td>\n",
       "      <td>0.283019</td>\n",
       "      <td>0.021650</td>\n",
       "      <td>1.673499</td>\n",
       "      <td>-38</td>\n",
       "      <td>0.283019</td>\n",
       "      <td>0</td>\n",
       "      <td>NaN</td>\n",
       "      <td>0</td>\n",
       "    </tr>\n",
       "    <tr>\n",
       "      <th>16</th>\n",
       "      <td>1</td>\n",
       "      <td>12</td>\n",
       "      <td>0</td>\n",
       "      <td>0</td>\n",
       "      <td>17139</td>\n",
       "      <td>0</td>\n",
       "      <td>1</td>\n",
       "      <td>0</td>\n",
       "      <td>0</td>\n",
       "      <td>545</td>\n",
       "      <td>...</td>\n",
       "      <td>0.507965</td>\n",
       "      <td>-278</td>\n",
       "      <td>0.507965</td>\n",
       "      <td>0.146934</td>\n",
       "      <td>1.613911</td>\n",
       "      <td>-275</td>\n",
       "      <td>0.510676</td>\n",
       "      <td>0</td>\n",
       "      <td>NaN</td>\n",
       "      <td>2316</td>\n",
       "    </tr>\n",
       "    <tr>\n",
       "      <th>29</th>\n",
       "      <td>0</td>\n",
       "      <td>4</td>\n",
       "      <td>2651</td>\n",
       "      <td>0</td>\n",
       "      <td>6514</td>\n",
       "      <td>0</td>\n",
       "      <td>1</td>\n",
       "      <td>0</td>\n",
       "      <td>3798</td>\n",
       "      <td>0</td>\n",
       "      <td>...</td>\n",
       "      <td>0.497717</td>\n",
       "      <td>-220</td>\n",
       "      <td>0.497717</td>\n",
       "      <td>0.060799</td>\n",
       "      <td>1.533603</td>\n",
       "      <td>-220</td>\n",
       "      <td>0.497717</td>\n",
       "      <td>0</td>\n",
       "      <td>NaN</td>\n",
       "      <td>0</td>\n",
       "    </tr>\n",
       "    <tr>\n",
       "      <th>32</th>\n",
       "      <td>0</td>\n",
       "      <td>12</td>\n",
       "      <td>2604</td>\n",
       "      <td>0</td>\n",
       "      <td>1172</td>\n",
       "      <td>0</td>\n",
       "      <td>1</td>\n",
       "      <td>1</td>\n",
       "      <td>0</td>\n",
       "      <td>0</td>\n",
       "      <td>...</td>\n",
       "      <td>0.344828</td>\n",
       "      <td>-76</td>\n",
       "      <td>0.344828</td>\n",
       "      <td>0.029920</td>\n",
       "      <td>1.160273</td>\n",
       "      <td>-76</td>\n",
       "      <td>0.344828</td>\n",
       "      <td>0</td>\n",
       "      <td>NaN</td>\n",
       "      <td>0</td>\n",
       "    </tr>\n",
       "    <tr>\n",
       "      <th>34</th>\n",
       "      <td>2</td>\n",
       "      <td>12</td>\n",
       "      <td>4056</td>\n",
       "      <td>0</td>\n",
       "      <td>9917</td>\n",
       "      <td>0</td>\n",
       "      <td>1</td>\n",
       "      <td>0</td>\n",
       "      <td>7414</td>\n",
       "      <td>0</td>\n",
       "      <td>...</td>\n",
       "      <td>0.511879</td>\n",
       "      <td>-226</td>\n",
       "      <td>0.511879</td>\n",
       "      <td>0.010134</td>\n",
       "      <td>1.096402</td>\n",
       "      <td>-226</td>\n",
       "      <td>0.511879</td>\n",
       "      <td>0</td>\n",
       "      <td>NaN</td>\n",
       "      <td>0</td>\n",
       "    </tr>\n",
       "    <tr>\n",
       "      <th>...</th>\n",
       "      <td>...</td>\n",
       "      <td>...</td>\n",
       "      <td>...</td>\n",
       "      <td>...</td>\n",
       "      <td>...</td>\n",
       "      <td>...</td>\n",
       "      <td>...</td>\n",
       "      <td>...</td>\n",
       "      <td>...</td>\n",
       "      <td>...</td>\n",
       "      <td>...</td>\n",
       "      <td>...</td>\n",
       "      <td>...</td>\n",
       "      <td>...</td>\n",
       "      <td>...</td>\n",
       "      <td>...</td>\n",
       "      <td>...</td>\n",
       "      <td>...</td>\n",
       "      <td>...</td>\n",
       "      <td>...</td>\n",
       "      <td>...</td>\n",
       "    </tr>\n",
       "    <tr>\n",
       "      <th>599947</th>\n",
       "      <td>0</td>\n",
       "      <td>12</td>\n",
       "      <td>0</td>\n",
       "      <td>0</td>\n",
       "      <td>17203</td>\n",
       "      <td>0</td>\n",
       "      <td>1</td>\n",
       "      <td>51</td>\n",
       "      <td>0</td>\n",
       "      <td>267</td>\n",
       "      <td>...</td>\n",
       "      <td>0.435484</td>\n",
       "      <td>-350</td>\n",
       "      <td>0.435484</td>\n",
       "      <td>-0.051109</td>\n",
       "      <td>0.712861</td>\n",
       "      <td>-346</td>\n",
       "      <td>0.438312</td>\n",
       "      <td>0</td>\n",
       "      <td>NaN</td>\n",
       "      <td>0</td>\n",
       "    </tr>\n",
       "    <tr>\n",
       "      <th>599957</th>\n",
       "      <td>0</td>\n",
       "      <td>5</td>\n",
       "      <td>5088</td>\n",
       "      <td>0</td>\n",
       "      <td>12865</td>\n",
       "      <td>0</td>\n",
       "      <td>1</td>\n",
       "      <td>34</td>\n",
       "      <td>1323</td>\n",
       "      <td>0</td>\n",
       "      <td>...</td>\n",
       "      <td>0.488806</td>\n",
       "      <td>-274</td>\n",
       "      <td>0.488806</td>\n",
       "      <td>0.023663</td>\n",
       "      <td>1.197672</td>\n",
       "      <td>-274</td>\n",
       "      <td>0.488806</td>\n",
       "      <td>0</td>\n",
       "      <td>NaN</td>\n",
       "      <td>0</td>\n",
       "    </tr>\n",
       "    <tr>\n",
       "      <th>599961</th>\n",
       "      <td>1</td>\n",
       "      <td>12</td>\n",
       "      <td>0</td>\n",
       "      <td>0</td>\n",
       "      <td>8266</td>\n",
       "      <td>0</td>\n",
       "      <td>0</td>\n",
       "      <td>0</td>\n",
       "      <td>0</td>\n",
       "      <td>0</td>\n",
       "      <td>...</td>\n",
       "      <td>0.582278</td>\n",
       "      <td>-132</td>\n",
       "      <td>0.582278</td>\n",
       "      <td>0.031422</td>\n",
       "      <td>1.147928</td>\n",
       "      <td>-132</td>\n",
       "      <td>0.582278</td>\n",
       "      <td>0</td>\n",
       "      <td>NaN</td>\n",
       "      <td>0</td>\n",
       "    </tr>\n",
       "    <tr>\n",
       "      <th>599982</th>\n",
       "      <td>0</td>\n",
       "      <td>12</td>\n",
       "      <td>0</td>\n",
       "      <td>0</td>\n",
       "      <td>21254</td>\n",
       "      <td>0</td>\n",
       "      <td>1</td>\n",
       "      <td>0</td>\n",
       "      <td>0</td>\n",
       "      <td>1497</td>\n",
       "      <td>...</td>\n",
       "      <td>0.565517</td>\n",
       "      <td>-189</td>\n",
       "      <td>0.565517</td>\n",
       "      <td>0.022862</td>\n",
       "      <td>1.250082</td>\n",
       "      <td>-189</td>\n",
       "      <td>0.565517</td>\n",
       "      <td>0</td>\n",
       "      <td>NaN</td>\n",
       "      <td>0</td>\n",
       "    </tr>\n",
       "    <tr>\n",
       "      <th>599998</th>\n",
       "      <td>0</td>\n",
       "      <td>12</td>\n",
       "      <td>0</td>\n",
       "      <td>0</td>\n",
       "      <td>22617</td>\n",
       "      <td>0</td>\n",
       "      <td>1</td>\n",
       "      <td>37</td>\n",
       "      <td>2942</td>\n",
       "      <td>240</td>\n",
       "      <td>...</td>\n",
       "      <td>0.498392</td>\n",
       "      <td>-468</td>\n",
       "      <td>0.498392</td>\n",
       "      <td>0.074576</td>\n",
       "      <td>1.249875</td>\n",
       "      <td>-464</td>\n",
       "      <td>0.500538</td>\n",
       "      <td>0</td>\n",
       "      <td>NaN</td>\n",
       "      <td>0</td>\n",
       "    </tr>\n",
       "  </tbody>\n",
       "</table>\n",
       "<p>80832 rows × 299 columns</p>\n",
       "</div>"
      ],
      "text/plain": [
       "        RP건수_교통_B0M  이용후경과월_할부_유이자  평잔_RV일시불_3M  포인트_잔여포인트_B0M  이용금액_일시불_B0M  \\\n",
       "10                0             12         1103              0          3862   \n",
       "16                1             12            0              0         17139   \n",
       "29                0              4         2651              0          6514   \n",
       "32                0             12         2604              0          1172   \n",
       "34                2             12         4056              0          9917   \n",
       "...             ...            ...          ...            ...           ...   \n",
       "599947            0             12            0              0         17203   \n",
       "599957            0              5         5088              0         12865   \n",
       "599961            1             12            0              0          8266   \n",
       "599982            0             12            0              0         21254   \n",
       "599998            0             12            0              0         22617   \n",
       "\n",
       "        이용금액_할부_무이자_R3M  이용여부_3M_해외겸용_본인  방문일수_앱_R6M  잔액_할부_B2M  평잔_일시불_해외_6M  \\\n",
       "10                    0                1           7          0             0   \n",
       "16                    0                1           0          0           545   \n",
       "29                    0                1           0       3798             0   \n",
       "32                    0                1           1          0             0   \n",
       "34                    0                1           0       7414             0   \n",
       "...                 ...              ...         ...        ...           ...   \n",
       "599947                0                1          51          0           267   \n",
       "599957                0                1          34       1323             0   \n",
       "599961                0                0           0          0             0   \n",
       "599982                0                1           0          0          1497   \n",
       "599998                0                1          37       2942           240   \n",
       "\n",
       "        ...  이용건수_신용_R6M_div_이용건수_신판_R12M  이용건수_신용_R6M_minus_이용건수_신용_R12M  \\\n",
       "10      ...                      0.283019                             -38   \n",
       "16      ...                      0.507965                            -278   \n",
       "29      ...                      0.497717                            -220   \n",
       "32      ...                      0.344828                             -76   \n",
       "34      ...                      0.511879                            -226   \n",
       "...     ...                           ...                             ...   \n",
       "599947  ...                      0.435484                            -350   \n",
       "599957  ...                      0.488806                            -274   \n",
       "599961  ...                      0.582278                            -132   \n",
       "599982  ...                      0.565517                            -189   \n",
       "599998  ...                      0.498392                            -468   \n",
       "\n",
       "        이용건수_신용_R6M_div_이용건수_신용_R12M  잔액_신판최대한도소진율_r3m_minus_잔액_신판평균한도소진율_r6m  \\\n",
       "10                          0.283019                                 0.021650   \n",
       "16                          0.507965                                 0.146934   \n",
       "29                          0.497717                                 0.060799   \n",
       "32                          0.344828                                 0.029920   \n",
       "34                          0.511879                                 0.010134   \n",
       "...                              ...                                      ...   \n",
       "599947                      0.435484                                -0.051109   \n",
       "599957                      0.488806                                 0.023663   \n",
       "599961                      0.582278                                 0.031422   \n",
       "599982                      0.565517                                 0.022862   \n",
       "599998                      0.498392                                 0.074576   \n",
       "\n",
       "        잔액_신판최대한도소진율_r3m_div_잔액_신판평균한도소진율_r6m  \\\n",
       "10                                   1.673499   \n",
       "16                                   1.613911   \n",
       "29                                   1.533603   \n",
       "32                                   1.160273   \n",
       "34                                   1.096402   \n",
       "...                                       ...   \n",
       "599947                               0.712861   \n",
       "599957                               1.197672   \n",
       "599961                               1.147928   \n",
       "599982                               1.250082   \n",
       "599998                               1.249875   \n",
       "\n",
       "        이용건수_신용_R6M_minus_이용건수_일시불_R12M  이용건수_신용_R6M_div_이용건수_일시불_R12M  \\\n",
       "10                                  -38                       0.283019   \n",
       "16                                 -275                       0.510676   \n",
       "29                                 -220                       0.497717   \n",
       "32                                  -76                       0.344828   \n",
       "34                                 -226                       0.511879   \n",
       "...                                 ...                            ...   \n",
       "599947                             -346                       0.438312   \n",
       "599957                             -274                       0.488806   \n",
       "599961                             -132                       0.582278   \n",
       "599982                             -189                       0.565517   \n",
       "599998                             -464                       0.500538   \n",
       "\n",
       "        잔액_카드론_B1M_minus_잔액_카드론_B2M  잔액_카드론_B1M_div_잔액_카드론_B2M  포인트건별_변화량  \n",
       "10                                0                        NaN          0  \n",
       "16                                0                        NaN       2316  \n",
       "29                                0                        NaN          0  \n",
       "32                                0                        NaN          0  \n",
       "34                                0                        NaN          0  \n",
       "...                             ...                        ...        ...  \n",
       "599947                            0                        NaN          0  \n",
       "599957                            0                        NaN          0  \n",
       "599961                            0                        NaN          0  \n",
       "599982                            0                        NaN          0  \n",
       "599998                            0                        NaN          0  \n",
       "\n",
       "[80832 rows x 299 columns]"
      ]
     },
     "execution_count": 14,
     "metadata": {},
     "output_type": "execute_result"
    }
   ],
   "source": [
    "e_test_rest"
   ]
  },
  {
   "cell_type": "code",
   "execution_count": 15,
   "id": "02597cf9",
   "metadata": {},
   "outputs": [
    {
     "name": "stdout",
     "output_type": "stream",
     "text": [
      "📌 모델에 저장된 feature 수: 79\n"
     ]
    }
   ],
   "source": [
    "from xgboost import XGBClassifier\n",
    "import joblib\n",
    "\n",
    "# 1. 모델 로드\n",
    "model_abcd = XGBClassifier()\n",
    "model_abcd.load_model(\"./models/model_abcd2.json\")\n",
    "\n",
    "# 2. 사용 컬럼 로드\n",
    "used_cols = joblib.load(open(\"./models/model_abcd_used_cols2.pkl\", \"rb\"))\n",
    "print(f\"📌 모델에 저장된 feature 수: {len(used_cols)}\")"
   ]
  },
  {
   "cell_type": "code",
   "execution_count": 38,
   "id": "2a85523e",
   "metadata": {},
   "outputs": [
    {
     "name": "stdout",
     "output_type": "stream",
     "text": [
      "📂 데이터 불러오기 완료\n",
      "[이용금액대] 중간값 인코딩 완료\n",
      "✅ 범주형 인코딩 완료\n"
     ]
    }
   ],
   "source": [
    "from modules.feature_selector import selected_cols\n",
    "from modules.feature_selector import stage_feature_map\n",
    "from modules.data_loader import load_and_process\n",
    "\n",
    "stage_name = \"abcd\"\n",
    "if stage_name == \"abcd\":\n",
    "    # 1. 테스트 데이터 불러오기 및 가공\n",
    "    stage_feature_map[\"abcd\"] = selected_cols\n",
    "    ad_test, _ = load_and_process(file_path=test_path, stage=\"abcd\")\n"
   ]
  },
  {
   "cell_type": "code",
   "execution_count": 39,
   "id": "30e73cf8",
   "metadata": {},
   "outputs": [],
   "source": [
    "# e_test_rest에서 ID 리스트 추출\n",
    "ad_ids = e_test_rest[\"ID\"].values  # 또는 .tolist()"
   ]
  },
  {
   "cell_type": "code",
   "execution_count": 40,
   "id": "53fe7842",
   "metadata": {},
   "outputs": [],
   "source": [
    "ad_test = ad_test[ad_test[\"ID\"].isin(ad_ids)].copy()"
   ]
  },
  {
   "cell_type": "code",
   "execution_count": 41,
   "id": "12cf34a7",
   "metadata": {},
   "outputs": [
    {
     "name": "stdout",
     "output_type": "stream",
     "text": [
      "📌 필터링 후 테스트셋 shape: (80832, 79)\n"
     ]
    }
   ],
   "source": [
    "X_ad_test = ad_test[used_cols]\n",
    "print(\"📌 필터링 후 테스트셋 shape:\", X_ad_test.shape)"
   ]
  },
  {
   "cell_type": "code",
   "execution_count": 42,
   "id": "57b2aa1e",
   "metadata": {},
   "outputs": [],
   "source": [
    "import xgboost as xgb\n",
    "\n",
    "booster = model_abcd.get_booster()  # 또는 booster = xgb.Booster(); booster.load_model(\"...\")\n",
    "\n",
    "dtest = xgb.DMatrix(X_ad_test)\n",
    "probs = booster.predict(dtest)\n",
    "preds = probs.argmax(axis=1)"
   ]
  },
  {
   "cell_type": "code",
   "execution_count": 43,
   "id": "c02c5b94",
   "metadata": {},
   "outputs": [],
   "source": [
    "import xgboost as xgb\n",
    "\n",
    "# 1. booster 객체로 변환\n",
    "booster = model_abcd.get_booster()  # model_abcd = XGBClassifier(); model_abcd.load_model(\"model_abcd.json\")\n",
    "\n",
    "# 2. DMatrix로 테스트셋 변환\n",
    "dtest = xgb.DMatrix(X_ad_test)\n",
    "\n",
    "# 3. 확률 예측 → argmax로 클래스 선택\n",
    "probs = booster.predict(dtest)\n",
    "preds = probs.argmax(axis=1)\n",
    "\n",
    "# 4. 클래스 복원 (예: A/B/C/D)\n",
    "from sklearn.preprocessing import LabelEncoder\n",
    "le = LabelEncoder()\n",
    "le.fit([\"A\", \"B\", \"C\", \"D\"])\n",
    "segment_preds = le.inverse_transform(preds)\n",
    "\n",
    "# 5. 결과 저장\n",
    "result_df = ad_test[[\"ID\"]].copy()\n",
    "result_df[\"Segment\"] = segment_preds"
   ]
  },
  {
   "cell_type": "code",
   "execution_count": 44,
   "id": "b8dde268",
   "metadata": {},
   "outputs": [
    {
     "data": {
      "text/html": [
       "<div>\n",
       "<style scoped>\n",
       "    .dataframe tbody tr th:only-of-type {\n",
       "        vertical-align: middle;\n",
       "    }\n",
       "\n",
       "    .dataframe tbody tr th {\n",
       "        vertical-align: top;\n",
       "    }\n",
       "\n",
       "    .dataframe thead th {\n",
       "        text-align: right;\n",
       "    }\n",
       "</style>\n",
       "<table border=\"1\" class=\"dataframe\">\n",
       "  <thead>\n",
       "    <tr style=\"text-align: right;\">\n",
       "      <th></th>\n",
       "      <th>ID</th>\n",
       "      <th>Segment</th>\n",
       "    </tr>\n",
       "  </thead>\n",
       "  <tbody>\n",
       "    <tr>\n",
       "      <th>10</th>\n",
       "      <td>10</td>\n",
       "      <td>C</td>\n",
       "    </tr>\n",
       "    <tr>\n",
       "      <th>16</th>\n",
       "      <td>16</td>\n",
       "      <td>C</td>\n",
       "    </tr>\n",
       "    <tr>\n",
       "      <th>29</th>\n",
       "      <td>29</td>\n",
       "      <td>C</td>\n",
       "    </tr>\n",
       "    <tr>\n",
       "      <th>32</th>\n",
       "      <td>32</td>\n",
       "      <td>C</td>\n",
       "    </tr>\n",
       "    <tr>\n",
       "      <th>34</th>\n",
       "      <td>34</td>\n",
       "      <td>C</td>\n",
       "    </tr>\n",
       "  </tbody>\n",
       "</table>\n",
       "</div>"
      ],
      "text/plain": [
       "    ID Segment\n",
       "10  10       C\n",
       "16  16       C\n",
       "29  29       C\n",
       "32  32       C\n",
       "34  34       C"
      ]
     },
     "execution_count": 44,
     "metadata": {},
     "output_type": "execute_result"
    }
   ],
   "source": [
    "result_df.head()"
   ]
  },
  {
   "cell_type": "code",
   "execution_count": 45,
   "id": "29a36d0f",
   "metadata": {},
   "outputs": [
    {
     "name": "stdout",
     "output_type": "stream",
     "text": [
      "📌 C/D로 예측된 고객 수: 80552\n",
      "    ID Segment\n",
      "10  10       C\n",
      "16  16       C\n",
      "29  29       C\n",
      "32  32       C\n",
      "34  34       C\n"
     ]
    }
   ],
   "source": [
    "# C/D 예측된 고객\n",
    "cd_result_df = result_df[result_df[\"Segment\"].isin([\"C\", \"D\"])].copy()\n",
    "cd_ids = cd_result_df[\"ID\"].tolist()\n",
    "\n",
    "print(\"📌 C/D로 예측된 고객 수:\", len(cd_result_df))\n",
    "print(cd_result_df.head())"
   ]
  },
  {
   "cell_type": "code",
   "execution_count": 46,
   "id": "63f9c2ed",
   "metadata": {},
   "outputs": [],
   "source": [
    "ab_result_df = result_df[result_df[\"Segment\"].isin([\"A\", \"B\"])].copy()"
   ]
  },
  {
   "cell_type": "code",
   "execution_count": 47,
   "id": "0f7f0127",
   "metadata": {},
   "outputs": [
    {
     "name": "stdout",
     "output_type": "stream",
     "text": [
      "📌 모델에 저장된 feature 수: 17\n"
     ]
    }
   ],
   "source": [
    "from xgboost import XGBClassifier\n",
    "import joblib\n",
    "\n",
    "# 1. 모델 로드\n",
    "model_cd = XGBClassifier()\n",
    "model_cd.load_model(\"./models/model_cd.json\")\n",
    "\n",
    "# 2. 사용 컬럼 로드\n",
    "used_cols = joblib.load(open(\"./models/model_cd_used_cols.pkl\", \"rb\"))\n",
    "print(f\"📌 모델에 저장된 feature 수: {len(used_cols)}\")"
   ]
  },
  {
   "cell_type": "code",
   "execution_count": 48,
   "id": "5a219d65",
   "metadata": {},
   "outputs": [],
   "source": [
    "# 전체 test 데이터에서 C/D 예측된 ID만 필터링\n",
    "cd_test = ad_test[ad_test[\"ID\"].isin(cd_ids)].copy()"
   ]
  },
  {
   "cell_type": "code",
   "execution_count": 49,
   "id": "bf5f414f",
   "metadata": {},
   "outputs": [
    {
     "data": {
      "text/plain": [
       "['정상청구원금_B5M',\n",
       " '이용금액_R3M_신용체크',\n",
       " '정상입금원금_B5M',\n",
       " '최대이용금액_일시불_R12M',\n",
       " '이용가맹점수',\n",
       " '이용금액_오프라인_R6M',\n",
       " '평잔_일시불_6M',\n",
       " '잔액_신판ca평균한도소진율_r6m',\n",
       " 'RV일시불이자율_할인전',\n",
       " '오프라인_소비급등비율',\n",
       " '일시불_최근성지표',\n",
       " '소비_평균대최대비율',\n",
       " '청구_최근성지표',\n",
       " '소진율_차이',\n",
       " '카드집중도',\n",
       " '입금청구비율',\n",
       " '일시불_금액비율']"
      ]
     },
     "execution_count": 49,
     "metadata": {},
     "output_type": "execute_result"
    }
   ],
   "source": [
    "used_cols"
   ]
  },
  {
   "cell_type": "code",
   "execution_count": 50,
   "id": "974f5b0a",
   "metadata": {},
   "outputs": [
    {
     "name": "stdout",
     "output_type": "stream",
     "text": [
      "📂 데이터 불러오기 완료\n",
      "[이용금액대] 중간값 인코딩 완료\n",
      "✅ 범주형 인코딩 완료\n",
      "📌 테스트셋 shape: (80832, 79)\n"
     ]
    }
   ],
   "source": [
    "from modules.feature_selector import selected_cols\n",
    "from modules.feature_selector import stage_feature_map\n",
    "from modules.data_loader import load_and_process\n",
    "from modules.feature_selector import generate_cd_derived_features\n",
    "\n",
    "stage_name = \"cd\"\n",
    "if stage_name == \"cd\":\n",
    "    # 1. 테스트 데이터 불러오기 및 가공\n",
    "    cd_test, _ = load_and_process(file_path=test_path, stage=\"cd\")\n",
    "    cd_test = generate_cd_derived_features(cd_test)\n",
    "    \n",
    "    # 3. 사용 컬럼 순서 맞추기\n",
    "    X_cd_test = cd_test[used_cols]\n",
    "    print(\"📌 테스트셋 shape:\", X_ad_test.shape)\n"
   ]
  },
  {
   "cell_type": "code",
   "execution_count": 51,
   "id": "97840d9c",
   "metadata": {},
   "outputs": [],
   "source": [
    "import xgboost as xgb\n",
    "\n",
    "booster = model_abcd.get_booster()  # 또는 booster = xgb.Booster(); booster.load_model(\"...\")\n",
    "\n",
    "dtest = xgb.DMatrix(X_ad_test)\n",
    "probs = booster.predict(dtest)\n",
    "preds = probs.argmax(axis=1)"
   ]
  },
  {
   "cell_type": "code",
   "execution_count": 52,
   "id": "dd6bcd8b",
   "metadata": {},
   "outputs": [],
   "source": [
    "import xgboost as xgb\n",
    "\n",
    "# 1. booster 객체로 변환\n",
    "booster = model_abcd.get_booster()  # model_abcd = XGBClassifier(); model_abcd.load_model(\"model_abcd.json\")\n",
    "\n",
    "# 2. DMatrix로 테스트셋 변환\n",
    "dtest = xgb.DMatrix(X_ad_test)\n",
    "\n",
    "# 3. 확률 예측 → argmax로 클래스 선택\n",
    "probs = booster.predict(dtest)\n",
    "preds = probs.argmax(axis=1)\n",
    "\n",
    "# 4. 클래스 복원 (예: A/B/C/D)\n",
    "from sklearn.preprocessing import LabelEncoder\n",
    "le = LabelEncoder()\n",
    "le.fit([\"A\", \"B\", \"C\", \"D\"])\n",
    "segment_preds = le.inverse_transform(preds)\n",
    "\n",
    "# 5. 결과 저장\n",
    "result_df = ad_test[[\"ID\"]].copy()\n",
    "result_df[\"Segment\"] = segment_preds"
   ]
  },
  {
   "cell_type": "code",
   "execution_count": null,
   "id": "05be59c2",
   "metadata": {},
   "outputs": [],
   "source": []
  }
 ],
 "metadata": {
  "kernelspec": {
   "display_name": "base",
   "language": "python",
   "name": "python3"
  },
  "language_info": {
   "codemirror_mode": {
    "name": "ipython",
    "version": 3
   },
   "file_extension": ".py",
   "mimetype": "text/x-python",
   "name": "python",
   "nbconvert_exporter": "python",
   "pygments_lexer": "ipython3",
   "version": "3.12.3"
  }
 },
 "nbformat": 4,
 "nbformat_minor": 5
}
