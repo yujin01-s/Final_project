{
 "cells": [
  {
   "cell_type": "code",
   "execution_count": 2,
   "id": "73f39518",
   "metadata": {},
   "outputs": [
    {
     "name": "stdout",
     "output_type": "stream",
     "text": [
      "병합된 승인매출정보_test shape: (600000, 406)\n",
      "     기준년월          ID  최종이용일자_기본  최종이용일자_신판  최종이용일자_CA  최종이용일자_카드론  최종이용일자_체크  \\\n",
      "0  201807  TEST_00000   20180731   20180731      10101       10101      10101   \n",
      "1  201807  TEST_00001   20180725   20180725   20170710    20171107   20180731   \n",
      "2  201807  TEST_00002   20180711   20180711      10101       10101      10101   \n",
      "3  201807  TEST_00003   20180731   20180731   20150822    20150801      10101   \n",
      "4  201807  TEST_00004   20180716   20180716   20130917       10101   20180707   \n",
      "\n",
      "   최종이용일자_일시불  최종이용일자_할부  이용건수_신용_B0M  ...  승인거절건수_한도초과_B0M  승인거절건수_BL_B0M  \\\n",
      "0    20180731   20160913           28  ...                0              0   \n",
      "1    20180725   20180722            8  ...                0              0   \n",
      "2    20180711   20160703           59  ...                0              0   \n",
      "3    20180731   20160701           37  ...                0              0   \n",
      "4    20180716   20180708           19  ...                0              0   \n",
      "\n",
      "   승인거절건수_입력오류_B0M  승인거절건수_기타_B0M  승인거절건수_R3M  승인거절건수_한도초과_R3M  승인거절건수_BL_R3M  \\\n",
      "0                0              0           0                0              0   \n",
      "1                0              0           0                0              0   \n",
      "2                0              0           3                3              0   \n",
      "3                0              0           0                0              0   \n",
      "4                0              0           0                0              0   \n",
      "\n",
      "   승인거절건수_입력오류_R3M  승인거절건수_기타_R3M      이용금액대  \n",
      "0                0              0   02.50만원+  \n",
      "1                0              0   02.50만원+  \n",
      "2                0              0  01.100만원+  \n",
      "3                0              0   04.10만원+  \n",
      "4                0              0   03.30만원+  \n",
      "\n",
      "[5 rows x 406 columns]\n"
     ]
    }
   ],
   "source": [
    "import os\n",
    "import pandas as pd\n",
    "\n",
    "# 1. 병합할 폴더 경로\n",
    "folder_path = \"../data/test/3.승인매출정보\"\n",
    "\n",
    "# 2. 파일 리스트 가져오기\n",
    "file_list = sorted([f for f in os.listdir(folder_path) if f.endswith(\".parquet\")])\n",
    "\n",
    "# 3. 병합할 리스트 만들기\n",
    "df_list = []\n",
    "for file in file_list:\n",
    "    file_path = os.path.join(folder_path, file)\n",
    "    df = pd.read_parquet(file_path)\n",
    "    df['기준년월'] = file[:6]  # 파일명 앞 6자리 → 기준년월 컬럼으로 추가\n",
    "    df_list.append(df)\n",
    "\n",
    "# 4. 하나의 DataFrame으로 병합\n",
    "승인매출정보_test = pd.concat(df_list, ignore_index=True)\n",
    "\n",
    "# 5. 확인\n",
    "print(\"병합된 승인매출정보_test shape:\", 승인매출정보_test.shape)\n",
    "print(승인매출정보_test.head())\n"
   ]
  },
  {
   "cell_type": "code",
   "execution_count": 3,
   "id": "c4518881",
   "metadata": {},
   "outputs": [],
   "source": [
    "# 병합한 결과 저장\n",
    "승인매출정보_test.to_parquet(\"merged_승인매출정보_test.parquet\", index=False)"
   ]
  },
  {
   "cell_type": "code",
   "execution_count": null,
   "id": "b5eee2cd",
   "metadata": {},
   "outputs": [],
   "source": []
  }
 ],
 "metadata": {
  "kernelspec": {
   "display_name": "base",
   "language": "python",
   "name": "python3"
  },
  "language_info": {
   "codemirror_mode": {
    "name": "ipython",
    "version": 3
   },
   "file_extension": ".py",
   "mimetype": "text/x-python",
   "name": "python",
   "nbconvert_exporter": "python",
   "pygments_lexer": "ipython3",
   "version": "3.12.3"
  }
 },
 "nbformat": 4,
 "nbformat_minor": 5
}
