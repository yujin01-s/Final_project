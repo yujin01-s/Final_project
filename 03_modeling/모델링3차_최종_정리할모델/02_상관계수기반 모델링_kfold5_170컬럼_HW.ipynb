{
 "cells": [
  {
   "cell_type": "code",
   "execution_count": 52,
   "metadata": {
    "executionInfo": {
     "elapsed": 23,
     "status": "ok",
     "timestamp": 1751953085179,
     "user": {
      "displayName": "7 TEAM",
      "userId": "08970391605587455613"
     },
     "user_tz": -540
    },
    "id": "yiE9XSRoHJyn"
   },
   "outputs": [],
   "source": [
    "# 1. 회원정보\n",
    "features_member = [\n",
    "    '남녀구분코드',\n",
    "    '회원여부_이용가능_카드론', '입회경과개월수_신용', '회원여부_연체', '동의여부_한도증액안내',\n",
    "    '탈회횟수_누적', '탈회횟수_발급1년이내',\n",
    "    '거주시도명',\n",
    "    '유효카드수_신용체크',\n",
    "    '이용카드수_신용체크',\n",
    "    '이용금액_R3M_신용체크',\n",
    "    '보유여부_해외겸용_본인', '이용여부_3M_해외겸용_본인',\n",
    "    '연회비발생카드수_B0M', '기본연회비_B0M', '제휴연회비_B0M'\n",
    "]"
   ]
  },
  {
   "cell_type": "code",
   "execution_count": 53,
   "metadata": {
    "executionInfo": {
     "elapsed": 3,
     "status": "ok",
     "timestamp": 1751953085181,
     "user": {
      "displayName": "7 TEAM",
      "userId": "08970391605587455613"
     },
     "user_tz": -540
    },
    "id": "b4U11u1PHLlt"
   },
   "outputs": [],
   "source": [
    "# 2. 신용정보\n",
    "features_credit = [\n",
    "    '최초한도금액',\n",
    "    '카드이용한도금액', 'CA한도금액',\n",
    "    '일시상환론한도금액', '월상환론한도금액',\n",
    "    'CA이자율_할인전',\n",
    "    'RV일시불이자율_할인전', 'RV현금서비스이자율_할인전',\n",
    "    'RV약정청구율', 'RV최소결제비율',\n",
    "    '한도증액횟수_R12M',\n",
    "    '한도증액금액_R12M', '상향가능CA한도금액', '월상환론상향가능한도금액',\n",
    "    '일시불ONLY전환가능여부', '특별한도보유여부_R3M', '연체감액여부_R3M'\n",
    "]"
   ]
  },
  {
   "cell_type": "code",
   "execution_count": 54,
   "metadata": {
    "executionInfo": {
     "elapsed": 13,
     "status": "ok",
     "timestamp": 1751953085196,
     "user": {
      "displayName": "7 TEAM",
      "userId": "08970391605587455613"
     },
     "user_tz": -540
    },
    "id": "AziXLIDmHMlH"
   },
   "outputs": [],
   "source": [
    "# 3. 승인매출정보\n",
    "features_tx = [\n",
    "    '이용건수_신용_B0M',\n",
    "    '이용금액_일시불_B0M', '이용후경과월_신용', '이용후경과월_일시불', '이용후경과월_체크',\n",
    "    '이용금액_해외', '쇼핑_도소매_이용금액', '쇼핑_마트_이용금액', '쇼핑_온라인_이용금액',\n",
    "    '교통_주유이용금액', '교통_정비이용금액', '여유_숙박이용금액',\n",
    "    '할부건수_3M_R12M', '할부금액_3M_R12M',\n",
    "    'RP건수_B0M', 'RP건수_통신_B0M', 'RP건수_보험_B0M', 'RP건수_교통_B0M', 'RP후경과월',\n",
    "    '카드론이용건수_누적', '카드론이용금액_누적', '최종카드론_대출이율', '최종카드론_대출금액',\n",
    "    '이용건수_온라인_R6M', '이용건수_페이_온라인_R6M',\n",
    "    '이용건수_A페이_R6M', '이용건수_C페이_R6M', '이용건수_D페이_R6M',\n",
    "    '이용금액_선결제_R6M', '이용건수_선결제_R6M',\n",
    "    '연체입금원금_B0M', '정상청구원금_B5M', '선입금원금_B2M',\n",
    "    '연속유실적개월수_기본_24M_카드',\n",
    "    '승인거절건수_R3M', '승인거절건수_한도초과_R3M',\n",
    "    '이용금액대'  # 범주형\n",
    "]"
   ]
  },
  {
   "cell_type": "code",
   "execution_count": 55,
   "metadata": {
    "executionInfo": {
     "elapsed": 2,
     "status": "ok",
     "timestamp": 1751953085213,
     "user": {
      "displayName": "7 TEAM",
      "userId": "08970391605587455613"
     },
     "user_tz": -540
    },
    "id": "zK9aCkEmHOxw"
   },
   "outputs": [],
   "source": [
    "# 4. 청구입금정보\n",
    "features_bill = [\n",
    "    '청구서발송여부_B0', '청구서발송여부_R3M', '청구서발송여부_R6M',\n",
    "    '청구금액_B0', '청구금액_R3M', '청구금액_R6M',\n",
    "    '포인트_마일리지_건별_B0M', '포인트_포인트_건별_B0M', '포인트_마일리지_월적립_B0M', '포인트_포인트_월적립_B0M',\n",
    "    '마일_적립포인트_R3M', '마일_잔여포인트_B0M', '포인트_이용포인트_R12M',\n",
    "    '할인건수_R3M', '할인금액_R3M', '할인건수_B0M',\n",
    "    '혜택수혜금액_R3M', '포인트_마일리지_환산_B0M'\n",
    "]"
   ]
  },
  {
   "cell_type": "code",
   "execution_count": 56,
   "metadata": {
    "executionInfo": {
     "elapsed": 2,
     "status": "ok",
     "timestamp": 1751953085218,
     "user": {
      "displayName": "7 TEAM",
      "userId": "08970391605587455613"
     },
     "user_tz": -540
    },
    "id": "aqMGB7NlHQ7o"
   },
   "outputs": [],
   "source": [
    "# 5. 잔액정보\n",
    "features_balance = [\n",
    "    '잔액_일시불_B0M', '잔액_할부_B0M',\n",
    "    '연체잔액_B0M',\n",
    "    '연체원금_최근', '매각잔액_B1M',\n",
    "    'RV_평균잔액_R3M',\n",
    "    '연체잔액_RV일시불_B0M', '연체잔액_CA_B0M',\n",
    "    '평잔_일시불_3M',\n",
    "    '평잔_6M', '평잔_카드론_3M', '평잔_CA_3M'\n",
    "]"
   ]
  },
  {
   "cell_type": "code",
   "execution_count": 57,
   "metadata": {
    "executionInfo": {
     "elapsed": 8,
     "status": "ok",
     "timestamp": 1751953085227,
     "user": {
      "displayName": "7 TEAM",
      "userId": "08970391605587455613"
     },
     "user_tz": -540
    },
    "id": "h8KTQPUfHWSk"
   },
   "outputs": [],
   "source": [
    "#6. 채널정보\n",
    "features_channel = [\n",
    "'불만제기후경과월_R12M', '방문일수_앱_R6M', '홈페이지_금융건수_R6M','상담건수_R6M','홈페이지_선결제건수_R6M',\n",
    "'인입월수_IB_R6M','방문일수_앱_B0M','방문횟수_앱_B0M', '인입횟수_IB_R6M', '방문월수_PC_R6M','인입일수_ARS_B0M','당사멤버쉽_방문횟수_R6M'\n",
    "]"
   ]
  },
  {
   "cell_type": "code",
   "execution_count": 58,
   "metadata": {
    "executionInfo": {
     "elapsed": 9,
     "status": "ok",
     "timestamp": 1751953085244,
     "user": {
      "displayName": "7 TEAM",
      "userId": "08970391605587455613"
     },
     "user_tz": -540
    },
    "id": "gYIEf1RAHX-3"
   },
   "outputs": [],
   "source": [
    "# 7. 마케팅정보\n",
    "features_marketing = [\n",
    "'컨택건수_이용유도_EM_B0M', '컨택건수_이용유도_EM_R6M','컨택건수_이용유도_청구서_B0M','컨택건수_이용유도_TM_R6M','컨택건수_신용발급_TM_R6M',\n",
    "    '컨택건수_이용유도_LMS_R6M','컨택건수_이용유도_인터넷_R6M', '컨택건수_이용유도_청구서_R6M'\n",
    "]"
   ]
  },
  {
   "cell_type": "code",
   "execution_count": 59,
   "metadata": {
    "executionInfo": {
     "elapsed": 17,
     "status": "ok",
     "timestamp": 1751953085263,
     "user": {
      "displayName": "7 TEAM",
      "userId": "08970391605587455613"
     },
     "user_tz": -540
    },
    "id": "5iYsGQ1SHbnm"
   },
   "outputs": [],
   "source": [
    "# 8. 성과정보\n",
    "features_perf = [\n",
    "    '증감율_이용건수_할부_전월', '증감율_이용건수_CA_전월', '증감율_이용건수_체크_전월',\n",
    "    '증감율_이용금액_신용_전월', '증감율_이용금액_할부_전월',\n",
    "    '증감율_이용금액_신판_전월', '증감율_이용금액_일시불_전월',\n",
    "    '증감율_이용건수_신판_분기', '증감율_이용건수_일시불_분기',\n",
    "    '증감율_이용금액_신용_분기', '증감율_이용금액_체크_분기',\n",
    "    '잔액_신판평균한도소진율_r6m','잔액_신판최대한도소진율_r6m', '잔액_신판ca평균한도소진율_r6m', '잔액_신판ca최대한도소진율_r6m',\n",
    "    '변동률_RV일시불평잔', '변동률_할부평잔', '변동률_RVCA평잔', '변동률_카드론평잔'\n",
    "]"
   ]
  },
  {
   "cell_type": "code",
   "execution_count": 60,
   "metadata": {
    "executionInfo": {
     "elapsed": 1,
     "status": "ok",
     "timestamp": 1751953085266,
     "user": {
      "displayName": "7 TEAM",
      "userId": "08970391605587455613"
     },
     "user_tz": -540
    },
    "id": "Pg1IG7lZHh2V"
   },
   "outputs": [],
   "source": [
    "selected_feature=(\n",
    "    features_member +\n",
    "    features_credit +\n",
    "    features_tx +\n",
    "    features_bill +\n",
    "    features_balance +\n",
    "    features_channel +\n",
    "    features_marketing +\n",
    "    features_perf\n",
    "    )"
   ]
  },
  {
   "cell_type": "code",
   "execution_count": 61,
   "metadata": {
    "executionInfo": {
     "elapsed": 8,
     "status": "ok",
     "timestamp": 1751953085276,
     "user": {
      "displayName": "7 TEAM",
      "userId": "08970391605587455613"
     },
     "user_tz": -540
    },
    "id": "N1xW6XV1FXk_"
   },
   "outputs": [],
   "source": [
    "# A,B 상관계수 높은 변수 & C, D, E 상관계수 높은 변수 기반 컬럼 선정\n",
    "related_cols = ['할부금액_3M_R12M', '이용금액_할부_무이자_R12M', '이용건수_할부_무이자_R12M', '정상입금원금_B0M', '이용금액_오프라인_R6M', '정상청구원금_B0M', '이용금액_오프라인_R3M', '_1순위카드이용금액', '평잔_일시불_해외_6M', '승인거절건수_입력오류_R3M', '청구금액_R3M', '이용금액_일시불_R12M', '이용금액_할부_무이자_R3M', '이용금액_할부_무이자_R6M', '정상입금원금_B5M', '이용금액_할부_R12M', '마일_적립포인트_R3M', '정상청구원금_B2M', '포인트_마일리지_환산_B0M', '청구금액_B0', '정상입금원금_B2M', '할부건수_무이자_3M_R12M', '정상청구원금_B5M', '청구금액_R6M', '여유_숙박이용금액', '최대이용금액_일시불_R12M', '_1순위업종_이용금액', '잔액_할부_B0M', '할부금액_무이자_3M_R12M', '잔액_할부_무이자_B0M', '이용금액_일시불_R3M', '이용금액_R3M_신용체크', '이용건수_신용_R6M', '이용건수_일시불_R12M', '이용금액_오프라인_B0M', '이용금액_R3M_신용', '이용건수_오프라인_B0M', '이용건수_신판_R12M', '이용금액_일시불_B0M', '이용가맹점수', '이용건수_신용_R12M', '이용금액_일시불_R6M']"
   ]
  },
  {
   "cell_type": "code",
   "execution_count": 62,
   "metadata": {
    "executionInfo": {
     "elapsed": 12,
     "status": "ok",
     "timestamp": 1751953085291,
     "user": {
      "displayName": "7 TEAM",
      "userId": "08970391605587455613"
     },
     "user_tz": -540
    },
    "id": "Ijp9qWFrHuj4"
   },
   "outputs": [],
   "source": [
    "all_features = list(set(selected_feature + related_cols))\n",
    "all_features = list(dict.fromkeys(all_features))"
   ]
  },
  {
   "cell_type": "code",
   "execution_count": 63,
   "metadata": {
    "colab": {
     "base_uri": "https://localhost:8080/"
    },
    "executionInfo": {
     "elapsed": 14,
     "status": "ok",
     "timestamp": 1751953085303,
     "user": {
      "displayName": "7 TEAM",
      "userId": "08970391605587455613"
     },
     "user_tz": -540
    },
    "id": "epo9d1vZHzf_",
    "outputId": "a4305f8e-7b98-4dfa-9427-a11f770faea7"
   },
   "outputs": [
    {
     "name": "stdout",
     "output_type": "stream",
     "text": [
      "139\n",
      "<class 'str'>\n"
     ]
    }
   ],
   "source": [
    "print(len(selected_feature))\n",
    "print(type(all_features[0]))"
   ]
  },
  {
   "cell_type": "code",
   "execution_count": 64,
   "metadata": {
    "executionInfo": {
     "elapsed": 13,
     "status": "ok",
     "timestamp": 1751953085317,
     "user": {
      "displayName": "7 TEAM",
      "userId": "08970391605587455613"
     },
     "user_tz": -540
    },
    "id": "gH7jp6PNH5LW"
   },
   "outputs": [],
   "source": [
    "# 기본적으로 필요한 컬럼\n",
    "base_cols = ['ID', 'Segment']\n",
    "all_selected_cols = list(set(base_cols + all_features))"
   ]
  },
  {
   "cell_type": "code",
   "execution_count": 64,
   "metadata": {
    "executionInfo": {
     "elapsed": 1,
     "status": "ok",
     "timestamp": 1751953085319,
     "user": {
      "displayName": "7 TEAM",
      "userId": "08970391605587455613"
     },
     "user_tz": -540
    },
    "id": "-3b0YYGjNF7e"
   },
   "outputs": [],
   "source": []
  },
  {
   "cell_type": "code",
   "execution_count": 65,
   "metadata": {
    "colab": {
     "base_uri": "https://localhost:8080/"
    },
    "executionInfo": {
     "elapsed": 2049,
     "status": "ok",
     "timestamp": 1751953087370,
     "user": {
      "displayName": "7 TEAM",
      "userId": "08970391605587455613"
     },
     "user_tz": -540
    },
    "id": "HSnE34xDNQ-Q",
    "outputId": "85e968d4-3716-4adf-e5f8-e2cdffc027ed"
   },
   "outputs": [
    {
     "name": "stdout",
     "output_type": "stream",
     "text": [
      "   이용건수_신용_R12M  이용금액_일시불_R3M  RV약정청구율  평잔_카드론_3M  불만제기후경과월_R12M  \\\n",
      "0           165          2877   0.0000          0             12   \n",
      "1           204         14316  99.9998          0             12   \n",
      "2           148         15694  99.9998          0             12   \n",
      "3           105         -2710   0.0000          0             12   \n",
      "4            -1         -3383   0.0000          0              0   \n",
      "\n",
      "   잔액_할부_무이자_B0M  회원여부_연체  제휴연회비_B0M  할부건수_3M_R12M  정상청구원금_B0M  ...  \\\n",
      "0            962        0          0             0       14440  ...   \n",
      "1              0        0          0             0        6024  ...   \n",
      "2           5113        0          0             0       21929  ...   \n",
      "3           2657        0          0            11       18563  ...   \n",
      "4              0        0          0             0           0  ...   \n",
      "\n",
      "   이용후경과월_체크  이용금액_일시불_R12M  변동률_카드론평잔  증감율_이용금액_신용_전월  마일_잔여포인트_B0M  \\\n",
      "0          5          20667   0.999998        0.409766             0   \n",
      "1         12          54341   0.999998       -1.010817             0   \n",
      "2         12          55656   0.999998       -0.902166             0   \n",
      "3         12          10753   0.999998       -0.866052             0   \n",
      "4          2          -2129   0.999998        0.000028             0   \n",
      "\n",
      "   변동률_RVCA평잔  이용건수_A페이_R6M  CA한도금액  _1순위카드이용금액  연회비발생카드수_B0M  \n",
      "0    0.999998             0    7270        3681            0개  \n",
      "1    0.999998             0    5718       13323            0개  \n",
      "2    0.999998             0   35207       24493            0개  \n",
      "3    0.999998             0    6531        5933            0개  \n",
      "4    0.999998             0   47149           0            0개  \n",
      "\n",
      "[5 rows x 172 columns]\n"
     ]
    }
   ],
   "source": [
    "# prompt: drive data 폴더의 통합_train_데이터.parquet 불러오기\n",
    "\n",
    "import pandas as pd\n",
    "\n",
    "# drive data 폴더의 통합_train_데이터.parquet 파일 불러오기\n",
    "file_path = '/content/drive/MyDrive/data/통합_train_데이터.parquet'\n",
    "train_df = pd.read_parquet(file_path, columns=all_selected_cols)\n",
    "# 불러온 데이터프레임의 첫 5행 출력하여 확인\n",
    "print(train_df.head())"
   ]
  },
  {
   "cell_type": "code",
   "execution_count": 66,
   "metadata": {
    "executionInfo": {
     "elapsed": 8,
     "status": "ok",
     "timestamp": 1751953087385,
     "user": {
      "displayName": "7 TEAM",
      "userId": "08970391605587455613"
     },
     "user_tz": -540
    },
    "id": "XCOZht15G64u"
   },
   "outputs": [],
   "source": [
    "def map_categorical_columns(df, verbose=True):\n",
    "    \"\"\"\n",
    "    미리 정의된 매핑 기준에 따라 범주형 컬럼들을 수치형으로 변환합니다.\n",
    "    처리 컬럼: 거주시도명, 연회비발생카드수_B0M, 한도증액횟수_R12M, 이용금액대,\n",
    "              할인건수_R3M, 할인건수_B0M, 방문횟수_PC_R6M, 방문횟수_앱_R6M, 방문일수_PC_R6M\n",
    "    \"\"\"\n",
    "\n",
    "    # 1. 거주시도명 → 수도권 여부\n",
    "    capital_area = ['서울특별시', '경기도', '인천광역시']\n",
    "    if '거주시도명' in df.columns:\n",
    "        df['거주시도명'] = df['거주시도명'].apply(lambda x: 1 if x in capital_area else 0)\n",
    "        if verbose: print(\"[거주시도명] → 수도권 여부 인코딩 완료\")\n",
    "\n",
    "    # 2. 연회비발생카드수_B0M\n",
    "    mapping = {\"0개\": 0, \"1개이상\": 1}\n",
    "    if '연회비발생카드수_B0M' in df.columns:\n",
    "        df['연회비발생카드수_B0M'] = df['연회비발생카드수_B0M'].map(mapping).astype(int)\n",
    "        if verbose: print(\"[연회비발생카드수_B0M] 인코딩 완료\")\n",
    "\n",
    "    # 3. 한도증액횟수_R12M\n",
    "    mapping = {\"0회\": 0, \"1회이상\": 1}\n",
    "    if '한도증액횟수_R12M' in df.columns:\n",
    "        df['한도증액횟수_R12M'] = df['한도증액횟수_R12M'].map(mapping).astype(int)\n",
    "        if verbose: print(\"[한도증액횟수_R12M] 인코딩 완료\")\n",
    "\n",
    "    # 4. 이용금액대 (중간값 기준: 만원 단위)\n",
    "    mapping = {\n",
    "        \"09.미사용\": 0,\n",
    "        \"05.10만원-\": 5,\n",
    "        \"04.10만원+\": 20,\n",
    "        \"03.30만원+\": 40,\n",
    "        \"02.50만원+\": 75,\n",
    "        \"01.100만원+\": 150\n",
    "    }\n",
    "    if '이용금액대' in df.columns:\n",
    "        df['이용금액대'] = df['이용금액대'].map(mapping)\n",
    "        if verbose: print(\"[이용금액대] 중간값 인코딩 완료\")\n",
    "\n",
    "    # 5. 할인건수 인코딩\n",
    "    discount_map = {\n",
    "        \"1회 이상\": 1,\n",
    "        \"10회 이상\": 10,\n",
    "        \"20회 이상\": 20,\n",
    "        \"30회 이상\": 30,\n",
    "        \"40회 이상\": 40\n",
    "    }\n",
    "    for col in ['할인건수_R3M', '할인건수_B0M']:\n",
    "        if col in df.columns:\n",
    "            df[col] = df[col].map(discount_map).astype(int)\n",
    "            if verbose: print(f\"[{col}] 인코딩 완료\")\n",
    "\n",
    "    # 6. 방문횟수 및 방문일수 인코딩\n",
    "    visit_map = {\n",
    "        \"1회 이상\": 1,\n",
    "        \"10회 이상\": 10,\n",
    "        \"20회 이상\": 20,\n",
    "        \"30회 이상\": 30,\n",
    "        \"40회 이상\": 40,\n",
    "        \"50회 이상\": 50,\n",
    "        \"60회 이상\": 60,\n",
    "        \"70회 이상\": 70,\n",
    "        \"80회 이상\": 80\n",
    "    }\n",
    "\n",
    "    visit_cols = ['방문횟수_PC_R6M', '방문횟수_앱_R6M', '방문일수_PC_R6M']\n",
    "    for col in visit_cols:\n",
    "        if col in df.columns:\n",
    "            df[col] = df[col].map(visit_map).astype(int)\n",
    "            if verbose: print(f\"[{col}] 인코딩 완료\")\n",
    "\n",
    "    return df"
   ]
  },
  {
   "cell_type": "code",
   "execution_count": 67,
   "metadata": {
    "colab": {
     "base_uri": "https://localhost:8080/"
    },
    "executionInfo": {
     "elapsed": 1616,
     "status": "ok",
     "timestamp": 1751953089009,
     "user": {
      "displayName": "7 TEAM",
      "userId": "08970391605587455613"
     },
     "user_tz": -540
    },
    "id": "PM-q9Y_MIAmv",
    "outputId": "5db9097c-56f8-47d1-c970-59f294e39cc3"
   },
   "outputs": [
    {
     "name": "stdout",
     "output_type": "stream",
     "text": [
      "[거주시도명] → 수도권 여부 인코딩 완료\n",
      "[연회비발생카드수_B0M] 인코딩 완료\n",
      "[한도증액횟수_R12M] 인코딩 완료\n",
      "[이용금액대] 중간값 인코딩 완료\n",
      "[할인건수_R3M] 인코딩 완료\n",
      "[할인건수_B0M] 인코딩 완료\n"
     ]
    }
   ],
   "source": [
    "train_df = map_categorical_columns(train_df)"
   ]
  },
  {
   "cell_type": "code",
   "execution_count": 68,
   "metadata": {
    "colab": {
     "base_uri": "https://localhost:8080/"
    },
    "executionInfo": {
     "elapsed": 184,
     "status": "ok",
     "timestamp": 1751953089195,
     "user": {
      "displayName": "7 TEAM",
      "userId": "08970391605587455613"
     },
     "user_tz": -540
    },
    "id": "7AzEyVFyJLMn",
    "outputId": "c54a1446-02ad-41f8-b039-3dd9dbe03d50"
   },
   "outputs": [
    {
     "name": "stdout",
     "output_type": "stream",
     "text": [
      "['Segment', 'ID']\n"
     ]
    }
   ],
   "source": [
    "categorical_cols = train_df.select_dtypes(include=['object', 'category']).columns.tolist()\n",
    "print(categorical_cols)"
   ]
  },
  {
   "cell_type": "code",
   "execution_count": 69,
   "metadata": {
    "colab": {
     "base_uri": "https://localhost:8080/"
    },
    "executionInfo": {
     "elapsed": 73,
     "status": "ok",
     "timestamp": 1751953089270,
     "user": {
      "displayName": "7 TEAM",
      "userId": "08970391605587455613"
     },
     "user_tz": -540
    },
    "id": "EXQDQOLeP89H",
    "outputId": "70fd03c1-0063-4eb0-f4b5-3b6c4de37bf8"
   },
   "outputs": [
    {
     "data": {
      "text/plain": [
       "['이용건수_신용_R12M',\n",
       " '이용금액_일시불_R3M',\n",
       " 'RV약정청구율',\n",
       " '평잔_카드론_3M',\n",
       " '불만제기후경과월_R12M',\n",
       " '잔액_할부_무이자_B0M',\n",
       " '회원여부_연체',\n",
       " '제휴연회비_B0M',\n",
       " '할부건수_3M_R12M',\n",
       " '정상청구원금_B0M',\n",
       " '할부금액_3M_R12M',\n",
       " '마일_적립포인트_R3M',\n",
       " '컨택건수_이용유도_EM_B0M',\n",
       " '잔액_일시불_B0M',\n",
       " '동의여부_한도증액안내',\n",
       " '할부건수_무이자_3M_R12M',\n",
       " '월상환론상향가능한도금액',\n",
       " '할부금액_무이자_3M_R12M',\n",
       " '포인트_포인트_건별_B0M',\n",
       " '이용건수_일시불_R12M',\n",
       " 'Segment',\n",
       " '이용카드수_신용체크',\n",
       " '포인트_이용포인트_R12M',\n",
       " '정상입금원금_B0M',\n",
       " '유효카드수_신용체크',\n",
       " '일시상환론한도금액',\n",
       " '평잔_일시불_3M',\n",
       " '한도증액금액_R12M',\n",
       " '잔액_할부_B0M',\n",
       " 'RV현금서비스이자율_할인전',\n",
       " '당사멤버쉽_방문횟수_R6M',\n",
       " '매각잔액_B1M',\n",
       " '정상입금원금_B2M',\n",
       " '잔액_신판ca평균한도소진율_r6m',\n",
       " '이용가맹점수',\n",
       " '이용후경과월_일시불',\n",
       " '할인건수_B0M',\n",
       " '이용건수_신용_B0M',\n",
       " '최종카드론_대출이율',\n",
       " '이용금액_오프라인_R3M',\n",
       " '쇼핑_마트_이용금액',\n",
       " '카드론이용금액_누적',\n",
       " '청구서발송여부_R6M',\n",
       " '잔액_신판평균한도소진율_r6m',\n",
       " '잔액_신판ca최대한도소진율_r6m',\n",
       " '교통_정비이용금액',\n",
       " '홈페이지_금융건수_R6M',\n",
       " '변동률_할부평잔',\n",
       " '연체잔액_RV일시불_B0M',\n",
       " '월상환론한도금액',\n",
       " '포인트_마일리지_월적립_B0M',\n",
       " '증감율_이용건수_신판_분기',\n",
       " '이용건수_온라인_R6M',\n",
       " '컨택건수_이용유도_인터넷_R6M',\n",
       " '이용건수_할부_무이자_R12M',\n",
       " '할인금액_R3M',\n",
       " '연체감액여부_R3M',\n",
       " '홈페이지_선결제건수_R6M',\n",
       " '이용건수_C페이_R6M',\n",
       " '승인거절건수_R3M',\n",
       " '이용건수_신용_R6M',\n",
       " '이용건수_페이_온라인_R6M',\n",
       " '이용건수_D페이_R6M',\n",
       " 'RV일시불이자율_할인전',\n",
       " '기본연회비_B0M',\n",
       " '증감율_이용금액_할부_전월',\n",
       " '탈회횟수_누적',\n",
       " '상담건수_R6M',\n",
       " '증감율_이용금액_일시불_전월',\n",
       " '잔액_신판최대한도소진율_r6m',\n",
       " '선입금원금_B2M',\n",
       " '컨택건수_신용발급_TM_R6M',\n",
       " '방문월수_PC_R6M',\n",
       " '인입일수_ARS_B0M',\n",
       " '컨택건수_이용유도_EM_R6M',\n",
       " '증감율_이용금액_신용_분기',\n",
       " '탈회횟수_발급1년이내',\n",
       " '교통_주유이용금액',\n",
       " '방문일수_앱_R6M',\n",
       " '특별한도보유여부_R3M',\n",
       " 'RP건수_교통_B0M',\n",
       " '이용금액_할부_무이자_R12M',\n",
       " '이용금액_할부_무이자_R6M',\n",
       " '남녀구분코드',\n",
       " '평잔_일시불_해외_6M',\n",
       " '여유_숙박이용금액',\n",
       " '거주시도명',\n",
       " 'RV최소결제비율',\n",
       " '포인트_마일리지_환산_B0M',\n",
       " '정상청구원금_B5M',\n",
       " 'ID',\n",
       " '보유여부_해외겸용_본인',\n",
       " '평잔_CA_3M',\n",
       " '연체잔액_B0M',\n",
       " '쇼핑_온라인_이용금액',\n",
       " '증감율_이용건수_일시불_분기',\n",
       " '최초한도금액',\n",
       " '이용건수_신판_R12M',\n",
       " '컨택건수_이용유도_청구서_R6M',\n",
       " '이용건수_오프라인_B0M',\n",
       " '카드론이용건수_누적',\n",
       " 'RP건수_보험_B0M',\n",
       " '방문횟수_앱_B0M',\n",
       " '_1순위업종_이용금액',\n",
       " 'RP건수_통신_B0M',\n",
       " '방문일수_앱_B0M',\n",
       " '입회경과개월수_신용',\n",
       " '이용후경과월_신용',\n",
       " '이용금액_R3M_신용',\n",
       " '정상입금원금_B5M',\n",
       " '쇼핑_도소매_이용금액',\n",
       " '청구금액_R3M',\n",
       " '이용금액_할부_무이자_R3M',\n",
       " '청구서발송여부_R3M',\n",
       " '혜택수혜금액_R3M',\n",
       " '평잔_6M',\n",
       " '이용금액_할부_R12M',\n",
       " '한도증액횟수_R12M',\n",
       " '최종카드론_대출금액',\n",
       " '연체입금원금_B0M',\n",
       " '컨택건수_이용유도_LMS_R6M',\n",
       " '이용금액_R3M_신용체크',\n",
       " 'RP후경과월',\n",
       " '증감율_이용금액_신판_전월',\n",
       " '인입횟수_IB_R6M',\n",
       " '이용금액_선결제_R6M',\n",
       " '청구금액_R6M',\n",
       " 'RV_평균잔액_R3M',\n",
       " '컨택건수_이용유도_청구서_B0M',\n",
       " '증감율_이용건수_할부_전월',\n",
       " '상향가능CA한도금액',\n",
       " '회원여부_이용가능_카드론',\n",
       " '변동률_RV일시불평잔',\n",
       " 'CA이자율_할인전',\n",
       " '승인거절건수_입력오류_R3M',\n",
       " '청구서발송여부_B0',\n",
       " '최대이용금액_일시불_R12M',\n",
       " '포인트_포인트_월적립_B0M',\n",
       " '포인트_마일리지_건별_B0M',\n",
       " 'RP건수_B0M',\n",
       " '이용여부_3M_해외겸용_본인',\n",
       " '증감율_이용건수_체크_전월',\n",
       " '이용금액_해외',\n",
       " '연체원금_최근',\n",
       " '이용금액_오프라인_B0M',\n",
       " '연속유실적개월수_기본_24M_카드',\n",
       " '이용금액_일시불_R6M',\n",
       " '할인건수_R3M',\n",
       " '이용금액_일시불_B0M',\n",
       " '컨택건수_이용유도_TM_R6M',\n",
       " '증감율_이용건수_CA_전월',\n",
       " '정상청구원금_B2M',\n",
       " '승인거절건수_한도초과_R3M',\n",
       " '이용건수_선결제_R6M',\n",
       " '카드이용한도금액',\n",
       " '일시불ONLY전환가능여부',\n",
       " '증감율_이용금액_체크_분기',\n",
       " '이용금액대',\n",
       " '인입월수_IB_R6M',\n",
       " '이용금액_오프라인_R6M',\n",
       " '청구금액_B0',\n",
       " '연체잔액_CA_B0M',\n",
       " '이용후경과월_체크',\n",
       " '이용금액_일시불_R12M',\n",
       " '변동률_카드론평잔',\n",
       " '증감율_이용금액_신용_전월',\n",
       " '마일_잔여포인트_B0M',\n",
       " '변동률_RVCA평잔',\n",
       " '이용건수_A페이_R6M',\n",
       " 'CA한도금액',\n",
       " '_1순위카드이용금액',\n",
       " '연회비발생카드수_B0M']"
      ]
     },
     "execution_count": 69,
     "metadata": {},
     "output_type": "execute_result"
    }
   ],
   "source": [
    "all_selected_cols"
   ]
  },
  {
   "cell_type": "code",
   "execution_count": 70,
   "metadata": {
    "colab": {
     "base_uri": "https://localhost:8080/"
    },
    "executionInfo": {
     "elapsed": 570231,
     "status": "ok",
     "timestamp": 1751953659502,
     "user": {
      "displayName": "7 TEAM",
      "userId": "08970391605587455613"
     },
     "user_tz": -540
    },
    "id": "COYh-iinJRPQ",
    "outputId": "3f04f7d5-6745-431c-d474-c18d29381a8f"
   },
   "outputs": [
    {
     "name": "stderr",
     "output_type": "stream",
     "text": [
      "/usr/local/lib/python3.11/dist-packages/xgboost/core.py:158: UserWarning: [05:38:36] WARNING: /workspace/src/common/error_msg.cc:27: The tree method `gpu_hist` is deprecated since 2.0.0. To use GPU training, set the `device` parameter to CUDA instead.\n",
      "\n",
      "    E.g. tree_method = \"hist\", device = \"cuda\"\n",
      "\n",
      "  warnings.warn(smsg, UserWarning)\n",
      "/usr/local/lib/python3.11/dist-packages/xgboost/core.py:158: UserWarning: [05:38:36] WARNING: /workspace/src/learner.cc:740: \n",
      "Parameters: { \"predictor\", \"use_label_encoder\" } are not used.\n",
      "\n",
      "  warnings.warn(smsg, UserWarning)\n",
      "/usr/local/lib/python3.11/dist-packages/xgboost/core.py:158: UserWarning: [05:40:12] WARNING: /workspace/src/common/error_msg.cc:27: The tree method `gpu_hist` is deprecated since 2.0.0. To use GPU training, set the `device` parameter to CUDA instead.\n",
      "\n",
      "    E.g. tree_method = \"hist\", device = \"cuda\"\n",
      "\n",
      "  warnings.warn(smsg, UserWarning)\n"
     ]
    },
    {
     "name": "stdout",
     "output_type": "stream",
     "text": [
      "\n",
      "📘 Fold 1 결과\n",
      "              precision    recall  f1-score   support\n",
      "\n",
      "           0       0.91      0.41      0.56       195\n",
      "           1       1.00      0.29      0.44        28\n",
      "           2       0.75      0.61      0.67     25518\n",
      "           3       0.72      0.66      0.69     69849\n",
      "           4       0.94      0.97      0.96    384410\n",
      "\n",
      "    accuracy                           0.91    480000\n",
      "   macro avg       0.87      0.59      0.66    480000\n",
      "weighted avg       0.90      0.91      0.90    480000\n",
      "\n"
     ]
    },
    {
     "name": "stderr",
     "output_type": "stream",
     "text": [
      "/usr/local/lib/python3.11/dist-packages/xgboost/core.py:158: UserWarning: [05:40:25] WARNING: /workspace/src/common/error_msg.cc:27: The tree method `gpu_hist` is deprecated since 2.0.0. To use GPU training, set the `device` parameter to CUDA instead.\n",
      "\n",
      "    E.g. tree_method = \"hist\", device = \"cuda\"\n",
      "\n",
      "  warnings.warn(smsg, UserWarning)\n",
      "/usr/local/lib/python3.11/dist-packages/xgboost/core.py:158: UserWarning: [05:40:25] WARNING: /workspace/src/learner.cc:740: \n",
      "Parameters: { \"predictor\", \"use_label_encoder\" } are not used.\n",
      "\n",
      "  warnings.warn(smsg, UserWarning)\n",
      "/usr/local/lib/python3.11/dist-packages/xgboost/core.py:158: UserWarning: [05:42:03] WARNING: /workspace/src/common/error_msg.cc:27: The tree method `gpu_hist` is deprecated since 2.0.0. To use GPU training, set the `device` parameter to CUDA instead.\n",
      "\n",
      "    E.g. tree_method = \"hist\", device = \"cuda\"\n",
      "\n",
      "  warnings.warn(smsg, UserWarning)\n"
     ]
    },
    {
     "name": "stdout",
     "output_type": "stream",
     "text": [
      "\n",
      "📘 Fold 2 결과\n",
      "              precision    recall  f1-score   support\n",
      "\n",
      "           0       0.91      0.44      0.59       194\n",
      "           1       1.00      0.31      0.47        29\n",
      "           2       0.75      0.61      0.67     25518\n",
      "           3       0.72      0.66      0.69     69849\n",
      "           4       0.94      0.97      0.96    384410\n",
      "\n",
      "    accuracy                           0.91    480000\n",
      "   macro avg       0.87      0.60      0.68    480000\n",
      "weighted avg       0.90      0.91      0.90    480000\n",
      "\n"
     ]
    },
    {
     "name": "stderr",
     "output_type": "stream",
     "text": [
      "/usr/local/lib/python3.11/dist-packages/xgboost/core.py:158: UserWarning: [05:42:16] WARNING: /workspace/src/common/error_msg.cc:27: The tree method `gpu_hist` is deprecated since 2.0.0. To use GPU training, set the `device` parameter to CUDA instead.\n",
      "\n",
      "    E.g. tree_method = \"hist\", device = \"cuda\"\n",
      "\n",
      "  warnings.warn(smsg, UserWarning)\n",
      "/usr/local/lib/python3.11/dist-packages/xgboost/core.py:158: UserWarning: [05:42:16] WARNING: /workspace/src/learner.cc:740: \n",
      "Parameters: { \"predictor\", \"use_label_encoder\" } are not used.\n",
      "\n",
      "  warnings.warn(smsg, UserWarning)\n",
      "/usr/local/lib/python3.11/dist-packages/xgboost/core.py:158: UserWarning: [05:43:53] WARNING: /workspace/src/common/error_msg.cc:27: The tree method `gpu_hist` is deprecated since 2.0.0. To use GPU training, set the `device` parameter to CUDA instead.\n",
      "\n",
      "    E.g. tree_method = \"hist\", device = \"cuda\"\n",
      "\n",
      "  warnings.warn(smsg, UserWarning)\n"
     ]
    },
    {
     "name": "stdout",
     "output_type": "stream",
     "text": [
      "\n",
      "📘 Fold 3 결과\n",
      "              precision    recall  f1-score   support\n",
      "\n",
      "           0       0.96      0.46      0.62       194\n",
      "           1       1.00      0.28      0.43        29\n",
      "           2       0.76      0.61      0.68     25518\n",
      "           3       0.73      0.66      0.69     69848\n",
      "           4       0.94      0.97      0.96    384411\n",
      "\n",
      "    accuracy                           0.91    480000\n",
      "   macro avg       0.88      0.60      0.68    480000\n",
      "weighted avg       0.90      0.91      0.90    480000\n",
      "\n"
     ]
    },
    {
     "name": "stderr",
     "output_type": "stream",
     "text": [
      "/usr/local/lib/python3.11/dist-packages/xgboost/core.py:158: UserWarning: [05:44:07] WARNING: /workspace/src/common/error_msg.cc:27: The tree method `gpu_hist` is deprecated since 2.0.0. To use GPU training, set the `device` parameter to CUDA instead.\n",
      "\n",
      "    E.g. tree_method = \"hist\", device = \"cuda\"\n",
      "\n",
      "  warnings.warn(smsg, UserWarning)\n",
      "/usr/local/lib/python3.11/dist-packages/xgboost/core.py:158: UserWarning: [05:44:07] WARNING: /workspace/src/learner.cc:740: \n",
      "Parameters: { \"predictor\", \"use_label_encoder\" } are not used.\n",
      "\n",
      "  warnings.warn(smsg, UserWarning)\n",
      "/usr/local/lib/python3.11/dist-packages/xgboost/core.py:158: UserWarning: [05:45:45] WARNING: /workspace/src/common/error_msg.cc:27: The tree method `gpu_hist` is deprecated since 2.0.0. To use GPU training, set the `device` parameter to CUDA instead.\n",
      "\n",
      "    E.g. tree_method = \"hist\", device = \"cuda\"\n",
      "\n",
      "  warnings.warn(smsg, UserWarning)\n"
     ]
    },
    {
     "name": "stdout",
     "output_type": "stream",
     "text": [
      "\n",
      "📘 Fold 4 결과\n",
      "              precision    recall  f1-score   support\n",
      "\n",
      "           0       0.92      0.46      0.61       194\n",
      "           1       1.00      0.31      0.47        29\n",
      "           2       0.75      0.61      0.67     25518\n",
      "           3       0.72      0.66      0.69     69848\n",
      "           4       0.94      0.97      0.96    384411\n",
      "\n",
      "    accuracy                           0.91    480000\n",
      "   macro avg       0.87      0.60      0.68    480000\n",
      "weighted avg       0.90      0.91      0.90    480000\n",
      "\n"
     ]
    },
    {
     "name": "stderr",
     "output_type": "stream",
     "text": [
      "/usr/local/lib/python3.11/dist-packages/xgboost/core.py:158: UserWarning: [05:45:59] WARNING: /workspace/src/common/error_msg.cc:27: The tree method `gpu_hist` is deprecated since 2.0.0. To use GPU training, set the `device` parameter to CUDA instead.\n",
      "\n",
      "    E.g. tree_method = \"hist\", device = \"cuda\"\n",
      "\n",
      "  warnings.warn(smsg, UserWarning)\n",
      "/usr/local/lib/python3.11/dist-packages/xgboost/core.py:158: UserWarning: [05:45:59] WARNING: /workspace/src/learner.cc:740: \n",
      "Parameters: { \"predictor\", \"use_label_encoder\" } are not used.\n",
      "\n",
      "  warnings.warn(smsg, UserWarning)\n",
      "/usr/local/lib/python3.11/dist-packages/xgboost/core.py:158: UserWarning: [05:47:36] WARNING: /workspace/src/common/error_msg.cc:27: The tree method `gpu_hist` is deprecated since 2.0.0. To use GPU training, set the `device` parameter to CUDA instead.\n",
      "\n",
      "    E.g. tree_method = \"hist\", device = \"cuda\"\n",
      "\n",
      "  warnings.warn(smsg, UserWarning)\n"
     ]
    },
    {
     "name": "stdout",
     "output_type": "stream",
     "text": [
      "\n",
      "📘 Fold 5 결과\n",
      "              precision    recall  f1-score   support\n",
      "\n",
      "           0       0.85      0.31      0.46       195\n",
      "           1       0.92      0.38      0.54        29\n",
      "           2       0.75      0.61      0.67     25518\n",
      "           3       0.72      0.66      0.69     69848\n",
      "           4       0.94      0.97      0.96    384410\n",
      "\n",
      "    accuracy                           0.91    480000\n",
      "   macro avg       0.84      0.59      0.66    480000\n",
      "weighted avg       0.90      0.91      0.90    480000\n",
      "\n"
     ]
    }
   ],
   "source": [
    "import pandas as pd\n",
    "from sklearn.model_selection import train_test_split\n",
    "from sklearn.preprocessing import LabelEncoder, StandardScaler\n",
    "from sklearn.impute import SimpleImputer\n",
    "from sklearn.metrics import classification_report\n",
    "from xgboost import XGBClassifier\n",
    "from sklearn.model_selection import StratifiedKFold\n",
    "\n",
    "\n",
    "# 2. 피처 및 타겟 분리\n",
    "X = train_df[all_features].copy()\n",
    "y = train_df[\"Segment\"]\n",
    "\n",
    "# 3. 범주형 인코딩\n",
    "cat_cols = X.select_dtypes(include='object').columns.tolist()\n",
    "for col in cat_cols:\n",
    "    le = LabelEncoder()\n",
    "    X[col] = le.fit_transform(X[col].astype(str))\n",
    "\n",
    "# 4. 결측치 처리\n",
    "X = pd.DataFrame(SimpleImputer(strategy='mean').fit_transform(X), columns=X.columns)\n",
    "\n",
    "# 5. 스케일링\n",
    "scaler = StandardScaler()\n",
    "X_scaled = pd.DataFrame(scaler.fit_transform(X), columns=X.columns)\n",
    "\n",
    "# 6. 라벨 인코딩 (타겟)\n",
    "le_y = LabelEncoder()\n",
    "y_encoded = le_y.fit_transform(y)\n",
    "\n",
    "# 7. Stratified K-Fold 설정\n",
    "skf = StratifiedKFold(n_splits=5, shuffle=True, random_state=42)\n",
    "\n",
    "# 8. Cross Validation 루프\n",
    "fold = 1\n",
    "all_reports = []\n",
    "\n",
    "for train_idx, val_idx in skf.split(X_scaled, y_encoded):\n",
    "    X_train, X_val = X_scaled.iloc[train_idx], X_scaled.iloc[val_idx]\n",
    "    y_train, y_val = y_encoded[train_idx], y_encoded[val_idx]\n",
    "\n",
    "    # 모델 정의\n",
    "    xgb_model = XGBClassifier(\n",
    "        tree_method='gpu_hist',\n",
    "        predictor='gpu_predictor',\n",
    "        n_estimators=300,\n",
    "        learning_rate=0.05,\n",
    "        max_depth=6,\n",
    "        subsample=0.8,\n",
    "        colsample_bytree=0.8,\n",
    "        use_label_encoder=False,\n",
    "        eval_metric='mlogloss',\n",
    "        random_state=42\n",
    "    )\n",
    "\n",
    "    # 학습\n",
    "    xgb_model.fit(X_train, y_train)\n",
    "\n",
    "    # 예측\n",
    "    y_pred = xgb_model.predict(X_val)\n",
    "\n",
    "    # 평가\n",
    "    print(f\"\\n📘 Fold {fold} 결과\")\n",
    "    print(classification_report(y_val, y_pred))\n",
    "\n",
    "    all_reports.append(classification_report(y_val, y_pred, output_dict=True))\n",
    "    fold += 1\n",
    "\n"
   ]
  },
  {
   "cell_type": "code",
   "execution_count": 71,
   "metadata": {
    "executionInfo": {
     "elapsed": 10504,
     "status": "ok",
     "timestamp": 1751953670008,
     "user": {
      "displayName": "7 TEAM",
      "userId": "08970391605587455613"
     },
     "user_tz": -540
    },
    "id": "la9I2QZLRe1R"
   },
   "outputs": [],
   "source": [
    "from sklearn.impute import SimpleImputer\n",
    "from sklearn.preprocessing import StandardScaler\n",
    "\n",
    "# 결측치 처리기\n",
    "imputer = SimpleImputer(strategy='mean')\n",
    "X_imputed = imputer.fit_transform(X)  # 학습 데이터로 fit 해야 함\n",
    "\n",
    "# 스케일러\n",
    "scaler = StandardScaler()\n",
    "X_scaled = scaler.fit_transform(X_imputed)"
   ]
  },
  {
   "cell_type": "code",
   "execution_count": 72,
   "metadata": {
    "colab": {
     "base_uri": "https://localhost:8080/"
    },
    "executionInfo": {
     "elapsed": 15,
     "status": "ok",
     "timestamp": 1751953670025,
     "user": {
      "displayName": "7 TEAM",
      "userId": "08970391605587455613"
     },
     "user_tz": -540
    },
    "id": "iAZ_Fc9uik7T",
    "outputId": "c94903b2-109b-46af-a116-9814c4942126"
   },
   "outputs": [
    {
     "name": "stdout",
     "output_type": "stream",
     "text": [
      "✅ 모델이 학습되어 있습니다.\n"
     ]
    }
   ],
   "source": [
    "from sklearn.exceptions import NotFittedError\n",
    "\n",
    "try:\n",
    "    xgb_model.predict(X_scaled[:5])\n",
    "    print(\"✅ 모델이 학습되어 있습니다.\")\n",
    "except NotFittedError:\n",
    "    print(\"❌ 모델이 아직 학습되지 않았습니다.\")\n"
   ]
  },
  {
   "cell_type": "code",
   "execution_count": 73,
   "metadata": {
    "colab": {
     "base_uri": "https://localhost:8080/"
    },
    "executionInfo": {
     "elapsed": 11656,
     "status": "ok",
     "timestamp": 1751953681682,
     "user": {
      "displayName": "7 TEAM",
      "userId": "08970391605587455613"
     },
     "user_tz": -540
    },
    "id": "yJgC4tuwRsX_",
    "outputId": "25a90329-efa2-409a-9595-89b788d2abf0"
   },
   "outputs": [
    {
     "name": "stderr",
     "output_type": "stream",
     "text": [
      "/usr/local/lib/python3.11/dist-packages/sklearn/utils/validation.py:2732: UserWarning: X has feature names, but StandardScaler was fitted without feature names\n",
      "  warnings.warn(\n"
     ]
    },
    {
     "name": "stdout",
     "output_type": "stream",
     "text": [
      "✅ 최적 threshold 반영하여 저장 완료: submission_threshold_tuned.csv\n"
     ]
    }
   ],
   "source": [
    "import pandas as pd\n",
    "import numpy as np\n",
    "from sklearn.impute import SimpleImputer\n",
    "from sklearn.preprocessing import StandardScaler\n",
    "\n",
    "# 1. 데이터 불러오기\n",
    "file_path = '/content/drive/MyDrive/data/통합_test_데이터.parquet'\n",
    "test_df = pd.read_parquet(file_path)\n",
    "\n",
    "# 2. 피처 선택 (학습 데이터와 동일한 컬럼 사용)\n",
    "X_test = test_df[all_features].copy()\n",
    "\n",
    "# 3. 범주형 인코딩 (학습 때와 동일하게)\n",
    "# map_categorical_columns 함수가 정의되어 있다면 사용\n",
    "# map_categorical_columns 함수가 정의되어 있지 않다면 수동 인코딩 코드를 사용\n",
    "# 현재 노트북 상태에 map_categorical_columns 함수가 정의되어 있으므로 함수 사용\n",
    "X_test = map_categorical_columns(X_test, verbose=False) # 상세 출력 비활성화\n",
    "\n",
    "# 4. 결측치 처리 (학습 데이터로 fit된 imputer 사용)\n",
    "X_test = pd.DataFrame(imputer.transform(X_test), columns=X_test.columns)\n",
    "\n",
    "# 5. 스케일링 (학습 데이터로 fit된 scaler 사용)\n",
    "X_test_scaled = scaler.transform(X_test)\n",
    "\n",
    "# 6. 확률 예측\n",
    "y_test_proba = xgb_model.predict_proba(X_test_scaled)\n",
    "\n",
    "# 7. threshold 기반 예측 함수 정의\n",
    "def predict_with_thresholds(y_proba, thresholds):\n",
    "    preds = []\n",
    "    for row in y_proba:\n",
    "        candidates = [i for i, p in enumerate(row) if p >= thresholds[i]]\n",
    "        if candidates:\n",
    "            preds.append(candidates[np.argmax([row[i] for i in candidates])])\n",
    "        else:\n",
    "            preds.append(np.argmax(row))  # fallback\n",
    "    return np.array(preds)\n",
    "\n",
    "# 8. 이미 찾은 best_thresholds 적용 (이 값은 앞에서 구해둔 것!)\n",
    "best_thresholds = [0.22, 0.27, 0.50, 0.50, 0.55]\n",
    "y_test_pred_encoded = predict_with_thresholds(y_test_proba, best_thresholds)\n",
    "\n",
    "# 9. 숫자 라벨 → 문자 라벨로 복원\n",
    "y_test_pred = le_y.inverse_transform(y_test_pred_encoded)\n",
    "\n",
    "# 10. 제출 파일 구성\n",
    "submission = pd.DataFrame({\n",
    "    'ID': test_df['ID'],\n",
    "    'Segment': y_test_pred\n",
    "})\n",
    "\n",
    "# 11. 중복 ID 제거 (가장 먼저 예측된 값 유지)\n",
    "submission = submission.drop_duplicates(subset='ID', keep='first')\n",
    "\n",
    "# 12. 제출 파일 저장\n",
    "submission.to_csv(\"submission_threshold_tuned.csv\", index=False)\n",
    "print(\"✅ 최적 threshold 반영하여 저장 완료: submission_threshold_tuned.csv\")\n"
   ]
  },
  {
   "cell_type": "code",
   "execution_count": 74,
   "metadata": {
    "colab": {
     "base_uri": "https://localhost:8080/"
    },
    "executionInfo": {
     "elapsed": 38,
     "status": "ok",
     "timestamp": 1751953681748,
     "user": {
      "displayName": "7 TEAM",
      "userId": "08970391605587455613"
     },
     "user_tz": -540
    },
    "id": "1roZms8ASB_l",
    "outputId": "a7c0224e-2013-429e-fb04-6721d3f74bd8"
   },
   "outputs": [
    {
     "name": "stdout",
     "output_type": "stream",
     "text": [
      "📊 예측된 Segment 분포:\n",
      "Segment\n",
      "A        93\n",
      "B         4\n",
      "C     25585\n",
      "D     79421\n",
      "E    494897\n",
      "Name: count, dtype: int64\n",
      "\n",
      "📈 비율 (%):\n",
      "Segment\n",
      "A     0.02\n",
      "B     0.00\n",
      "C     4.26\n",
      "D    13.24\n",
      "E    82.48\n",
      "Name: proportion, dtype: float64\n"
     ]
    }
   ],
   "source": [
    "import pandas as pd\n",
    "\n",
    "# 예측 결과를 Series로 변환\n",
    "y_series = pd.Series(y_test_pred, name=\"Segment\")\n",
    "\n",
    "# 분포 확인 (클래스별 건수 + 비율)\n",
    "print(\"📊 예측된 Segment 분포:\")\n",
    "print(y_series.value_counts().sort_index())      # 클래스별 개수\n",
    "print(\"\\n📈 비율 (%):\")\n",
    "print((y_series.value_counts(normalize=True).sort_index() * 100).round(2))"
   ]
  },
  {
   "cell_type": "code",
   "execution_count": 75,
   "metadata": {
    "colab": {
     "base_uri": "https://localhost:8080/",
     "height": 619
    },
    "executionInfo": {
     "elapsed": 520,
     "status": "ok",
     "timestamp": 1751953682276,
     "user": {
      "displayName": "7 TEAM",
      "userId": "08970391605587455613"
     },
     "user_tz": -540
    },
    "id": "LExRZD5nSFGz",
    "outputId": "4788b830-daaa-4bfe-895c-8c4193ceff89"
   },
   "outputs": [
    {
     "name": "stderr",
     "output_type": "stream",
     "text": [
      "/usr/local/lib/python3.11/dist-packages/IPython/core/pylabtools.py:151: UserWarning: Glyph 54844 (\\N{HANGUL SYLLABLE HON}) missing from font(s) DejaVu Sans.\n",
      "  fig.canvas.print_figure(bytes_io, **kw)\n",
      "/usr/local/lib/python3.11/dist-packages/IPython/core/pylabtools.py:151: UserWarning: Glyph 46041 (\\N{HANGUL SYLLABLE DONG}) missing from font(s) DejaVu Sans.\n",
      "  fig.canvas.print_figure(bytes_io, **kw)\n",
      "/usr/local/lib/python3.11/dist-packages/IPython/core/pylabtools.py:151: UserWarning: Glyph 54665 (\\N{HANGUL SYLLABLE HAENG}) missing from font(s) DejaVu Sans.\n",
      "  fig.canvas.print_figure(bytes_io, **kw)\n",
      "/usr/local/lib/python3.11/dist-packages/IPython/core/pylabtools.py:151: UserWarning: Glyph 47148 (\\N{HANGUL SYLLABLE RYEOL}) missing from font(s) DejaVu Sans.\n",
      "  fig.canvas.print_figure(bytes_io, **kw)\n"
     ]
    },
    {
     "data": {
      "image/png": "[encoded data removed]",
      "text/plain": [
       "<Figure size 640x480 with 2 Axes>"
      ]
     },
     "metadata": {},
     "output_type": "display_data"
    }
   ],
   "source": [
    "from sklearn.metrics import confusion_matrix, ConfusionMatrixDisplay\n",
    "import matplotlib.pyplot as plt\n",
    "\n",
    "# 예측값: y_pred, 실제값: y_val (숫자형), 또는 문자형이면 inverse_transform 먼저\n",
    "cm = confusion_matrix(y_val, y_pred, labels=[0,1,2,3,4])  # 또는 labels=le_y.transform(['A','B','C','D','E'])\n",
    "\n",
    "# 시각화\n",
    "disp = ConfusionMatrixDisplay(confusion_matrix=cm, display_labels=le_y.classes_)\n",
    "disp.plot(cmap='Blues', values_format='d')\n",
    "\n",
    "plt.title(\"혼동 행렬 (Confusion Matrix)\")\n",
    "plt.grid(False)\n",
    "plt.show()"
   ]
  },
  {
   "cell_type": "markdown",
   "metadata": {
    "id": "YVX-BEdWXCLA"
   },
   "source": []
  }
 ],
 "metadata": {
  "accelerator": "GPU",
  "colab": {
   "authorship_tag": "ABX9TyMGVwwXcNsc9okO31cvRSq6",
   "gpuType": "T4",
   "machine_shape": "hm",
   "provenance": []
  },
  "kernelspec": {
   "display_name": "Python 3 (ipykernel)",
   "language": "python",
   "name": "python3"
  },
  "language_info": {
   "codemirror_mode": {
    "name": "ipython",
    "version": 3
   },
   "file_extension": ".py",
   "mimetype": "text/x-python",
   "name": "python",
   "nbconvert_exporter": "python",
   "pygments_lexer": "ipython3",
   "version": "3.10.16"
  }
 },
 "nbformat": 4,
 "nbformat_minor": 4
}
