{
 "cells": [
  {
   "cell_type": "code",
   "execution_count": 1,
   "metadata": {
    "id": "EVhlFceu2HKL"
   },
   "outputs": [],
   "source": [
    "# 기본\n",
    "import pandas as pd\n",
    "import numpy as np\n",
    "import matplotlib.pyplot as plt\n",
    "import seaborn as sns\n",
    "\n",
    "# 경고 뜨지 않게 설정\n",
    "import warnings\n",
    "warnings.filterwarnings('ignore')\n",
    "\n",
    "# 그래프 설정\n",
    "sns.set()\n",
    "\n",
    "# 그래프 기본 설정\n",
    "plt.rcParams['font.family'] = 'Malgun Gothic'\n",
    "# plt.rcParams['font.family'] = 'AppleGothic'\n",
    "plt.rcParams['figure.figsize'] = 12, 6\n",
    "plt.rcParams['font.size'] = 14\n",
    "plt.rcParams['axes.unicode_minus'] = False\n",
    "\n",
    "# 데이터 전처리 알고리즘\n",
    "from sklearn.preprocessing import LabelEncoder\n",
    "from sklearn.preprocessing import StandardScaler\n",
    "\n",
    "# 학습용과 검증용으로 나누는 함수\n",
    "from sklearn.model_selection import train_test_split\n",
    "\n",
    "# 교차 검증\n",
    "from sklearn.model_selection import cross_val_score\n",
    "from sklearn.model_selection import cross_validate\n",
    "from sklearn.model_selection import KFold\n",
    "from sklearn.model_selection import StratifiedKFold\n",
    "\n",
    "# 평가함수\n",
    "# 분류용\n",
    "from sklearn.metrics import accuracy_score\n",
    "from sklearn.metrics import precision_score\n",
    "from sklearn.metrics import recall_score\n",
    "from sklearn.metrics import f1_score\n",
    "from sklearn.metrics import roc_auc_score\n",
    "\n",
    "# 회귀용\n",
    "from sklearn.metrics import r2_score\n",
    "from sklearn.metrics import mean_squared_error\n",
    "\n",
    "# 모델의 최적의 하이퍼 파라미터를 찾기 위한 도구\n",
    "from sklearn.model_selection import GridSearchCV\n",
    "\n",
    "# 머신러닝 알고리즘 - 분류\n",
    "from sklearn.neighbors import KNeighborsClassifier\n",
    "from sklearn.linear_model import LogisticRegression\n",
    "from sklearn.svm import SVC\n",
    "from sklearn.tree import DecisionTreeClassifier\n",
    "from sklearn.ensemble import RandomForestClassifier\n",
    "from sklearn.ensemble import AdaBoostClassifier\n",
    "from sklearn.ensemble import GradientBoostingClassifier\n",
    "from lightgbm import LGBMClassifier\n",
    "from xgboost import XGBClassifier\n",
    "from sklearn.ensemble import VotingClassifier\n",
    "\n",
    "# 머신러닝 알고리즘 - 회귀\n",
    "from sklearn.neighbors import KNeighborsRegressor\n",
    "from sklearn.linear_model import LinearRegression\n",
    "from sklearn.linear_model import Ridge\n",
    "from sklearn.linear_model import Lasso\n",
    "from sklearn.linear_model import ElasticNet\n",
    "from sklearn.svm import SVR\n",
    "from sklearn.tree import DecisionTreeRegressor\n",
    "from sklearn.ensemble import RandomForestRegressor\n",
    "from sklearn.ensemble import AdaBoostRegressor\n",
    "from sklearn.ensemble import GradientBoostingRegressor\n",
    "from lightgbm import LGBMRegressor\n",
    "from xgboost import XGBRegressor\n",
    "from sklearn.ensemble import VotingRegressor\n",
    "\n",
    "# 학습 모델 저장을 위한 라이브러리\n",
    "import pickle\n",
    "\n",
    "# 시간 관련\n",
    "import time\n",
    "import shap"
   ]
  },
  {
   "cell_type": "code",
   "execution_count": 2,
   "metadata": {},
   "outputs": [],
   "source": [
    "import pandas as pd\n",
    "import numpy as np\n",
    "\n",
    "# ⬅️ 사용할 전체 컬럼 목록에 비율 계산용 컬럼도 포함시켜 먼저 불러와야 함\n",
    "file_path = 'data/통합_train_병합완료.parquet'\n",
    "\n",
    "# ✅ train 데이터 불러오기\n",
    "train_df = pd.read_parquet(file_path)"
   ]
  },
  {
   "cell_type": "code",
   "execution_count": 2,
   "metadata": {
    "id": "XCOZht15G64u"
   },
   "outputs": [],
   "source": [
    "def map_categorical_columns(df, verbose=True):\n",
    "    \"\"\"\n",
    "    미리 정의된 매핑 기준에 따라 범주형 컬럼들을 수치형으로 변환합니다.\n",
    "    처리 컬럼: 거주시도명, 연회비발생카드수_B0M, 한도증액횟수_R12M, 이용금액대,\n",
    "              할인건수_R3M, 할인건수_B0M, 방문횟수_PC_R6M, 방문횟수_앱_R6M, 방문일수_PC_R6M\n",
    "    \"\"\"\n",
    "\n",
    "    # 1. 거주시도명 → 수도권 여부\n",
    "    capital_area = ['서울특별시', '경기도', '인천광역시']\n",
    "    if '거주시도명' in df.columns:\n",
    "        df['거주시도명'] = df['거주시도명'].apply(lambda x: 1 if x in capital_area else 0)\n",
    "        if verbose: print(\"[거주시도명] → 수도권 여부 인코딩 완료\")\n",
    "\n",
    "    # 2. 연회비발생카드수_B0M\n",
    "    mapping = {\"0개\": 0, \"1개이상\": 1}\n",
    "    if '연회비발생카드수_B0M' in df.columns:\n",
    "        df['연회비발생카드수_B0M'] = df['연회비발생카드수_B0M'].map(mapping).astype(int)\n",
    "        if verbose: print(\"[연회비발생카드수_B0M] 인코딩 완료\")\n",
    "\n",
    "    # 3. 한도증액횟수_R12M\n",
    "    mapping = {\"0회\": 0, \"1회이상\": 1}\n",
    "    if '한도증액횟수_R12M' in df.columns:\n",
    "        df['한도증액횟수_R12M'] = df['한도증액횟수_R12M'].map(mapping).astype(int)\n",
    "        if verbose: print(\"[한도증액횟수_R12M] 인코딩 완료\")\n",
    "\n",
    "    # 4. 이용금액대 (중간값 기준: 만원 단위)\n",
    "    mapping = {\n",
    "        \"09.미사용\": 0,\n",
    "        \"05.10만원-\": 5,\n",
    "        \"04.10만원+\": 20,\n",
    "        \"03.30만원+\": 40,\n",
    "        \"02.50만원+\": 75,\n",
    "        \"01.100만원+\": 150\n",
    "    }\n",
    "    if '이용금액대' in df.columns:\n",
    "        df['이용금액대'] = df['이용금액대'].map(mapping)\n",
    "        if verbose: print(\"[이용금액대] 중간값 인코딩 완료\")\n",
    "\n",
    "    # 5. 할인건수 인코딩\n",
    "    discount_map = {\n",
    "        \"1회 이상\": 1,\n",
    "        \"10회 이상\": 10,\n",
    "        \"20회 이상\": 20,\n",
    "        \"30회 이상\": 30,\n",
    "        \"40회 이상\": 40\n",
    "    }\n",
    "    for col in ['할인건수_R3M', '할인건수_B0M']:\n",
    "        if col in df.columns:\n",
    "            df[col] = df[col].map(discount_map).astype(int)\n",
    "            if verbose: print(f\"[{col}] 인코딩 완료\")\n",
    "\n",
    "    # 6. 방문횟수 및 방문일수 인코딩\n",
    "    visit_map = {\n",
    "        \"1회 이상\": 1,\n",
    "        \"10회 이상\": 10,\n",
    "        \"20회 이상\": 20,\n",
    "        \"30회 이상\": 30,\n",
    "        \"40회 이상\": 40,\n",
    "        \"50회 이상\": 50,\n",
    "        \"60회 이상\": 60,\n",
    "        \"70회 이상\": 70,\n",
    "        \"80회 이상\": 80\n",
    "    }\n",
    "\n",
    "    visit_cols = ['방문횟수_PC_R6M', '방문횟수_앱_R6M', '방문일수_PC_R6M']\n",
    "    for col in visit_cols:\n",
    "        if col in df.columns:\n",
    "            df[col] = df[col].map(visit_map).astype(int)\n",
    "            if verbose: print(f\"[{col}] 인코딩 완료\")\n",
    "\n",
    "    return df"
   ]
  },
  {
   "cell_type": "code",
   "execution_count": 4,
   "metadata": {
    "colab": {
     "base_uri": "https://localhost:8080/"
    },
    "executionInfo": {
     "elapsed": 1431,
     "status": "ok",
     "timestamp": 1751958244926,
     "user": {
      "displayName": "7 TEAM",
      "userId": "08970391605587455613"
     },
     "user_tz": -540
    },
    "id": "PM-q9Y_MIAmv",
    "outputId": "62946692-55a2-4e0f-c5ae-abc48118d91e"
   },
   "outputs": [
    {
     "name": "stdout",
     "output_type": "stream",
     "text": [
      "[거주시도명] → 수도권 여부 인코딩 완료\n",
      "[연회비발생카드수_B0M] 인코딩 완료\n",
      "[한도증액횟수_R12M] 인코딩 완료\n",
      "[이용금액대] 중간값 인코딩 완료\n",
      "[할인건수_R3M] 인코딩 완료\n",
      "[할인건수_B0M] 인코딩 완료\n"
     ]
    }
   ],
   "source": [
    "train_df = map_categorical_columns(train_df)"
   ]
  },
  {
   "cell_type": "code",
   "execution_count": 3,
   "metadata": {
    "colab": {
     "base_uri": "https://localhost:8080/"
    },
    "executionInfo": {
     "elapsed": 158,
     "status": "ok",
     "timestamp": 1751958247443,
     "user": {
      "displayName": "7 TEAM",
      "userId": "08970391605587455613"
     },
     "user_tz": -540
    },
    "id": "7AzEyVFyJLMn",
    "outputId": "79eacb2b-db6b-4033-b387-20c87a524215"
   },
   "outputs": [
    {
     "ename": "NameError",
     "evalue": "name 'train_df' is not defined",
     "output_type": "error",
     "traceback": [
      "\u001b[1;31m---------------------------------------------------------------------------\u001b[0m",
      "\u001b[1;31mNameError\u001b[0m                                 Traceback (most recent call last)",
      "Cell \u001b[1;32mIn[3], line 1\u001b[0m\n\u001b[1;32m----> 1\u001b[0m categorical_cols \u001b[38;5;241m=\u001b[39m \u001b[43mtrain_df\u001b[49m\u001b[38;5;241m.\u001b[39mselect_dtypes(include\u001b[38;5;241m=\u001b[39m[\u001b[38;5;124m'\u001b[39m\u001b[38;5;124mobject\u001b[39m\u001b[38;5;124m'\u001b[39m, \u001b[38;5;124m'\u001b[39m\u001b[38;5;124mcategory\u001b[39m\u001b[38;5;124m'\u001b[39m])\u001b[38;5;241m.\u001b[39mcolumns\u001b[38;5;241m.\u001b[39mtolist()\n\u001b[0;32m      2\u001b[0m \u001b[38;5;28mprint\u001b[39m(categorical_cols)\n",
      "\u001b[1;31mNameError\u001b[0m: name 'train_df' is not defined"
     ]
    }
   ],
   "source": [
    "categorical_cols = train_df.select_dtypes(include=['object', 'category']).columns.tolist()\n",
    "print(categorical_cols)"
   ]
  },
  {
   "cell_type": "code",
   "execution_count": 6,
   "metadata": {
    "colab": {
     "base_uri": "https://localhost:8080/"
    },
    "executionInfo": {
     "elapsed": 67,
     "status": "ok",
     "timestamp": 1751958248729,
     "user": {
      "displayName": "7 TEAM",
      "userId": "08970391605587455613"
     },
     "user_tz": -540
    },
    "id": "EXQDQOLeP89H",
    "outputId": "b6348b40-df7d-4efa-da71-88de43889d37",
    "scrolled": true
   },
   "outputs": [
    {
     "name": "stdout",
     "output_type": "stream",
     "text": [
      "총 컬럼 수: 175개\n",
      "\n",
      "📌 전체 컬럼 목록:\n",
      "['정상입금원금_B2M', '증감율_이용금액_체크_분기', '할부금액_무이자_3M_R12M', '이용건수_할부_무이자_R12M', '증감율_이용건수_체크_전월', '청구금액_R6M', '홈페이지_금융건수_R6M', '이용건수_A페이_R6M', '포인트_포인트_월적립_B0M', '제휴연회비_B0M', '증감율_이용건수_할부_전월', 'RV현금서비스이자율_할인전', '상향가능CA한도금액', '컨택건수_신용발급_TM_R6M', '연속유실적개월수_기본_24M_카드', '컨택건수_이용유도_청구서_B0M', '이용금액_일시불_R6M', '방문일수_앱_B0M', '승인거절건수_입력오류_R3M', '교통_주유이용금액', 'RP건수_보험_B0M', '증감율_이용건수_신판_분기', '증감율_이용금액_일시불_전월', '잔액_할부_B0M', '컨택건수_이용유도_TM_R6M', '포인트_마일리지_환산_B0M', '이용여부_3M_해외겸용_본인', '기본연회비_B0M', 'CA한도금액', '청구서발송여부_R6M', 'RP후경과월', '연체잔액_RV일시불_B0M', '방문일수_앱_R6M', '탈회횟수_발급1년이내', '최대이용금액_일시불_R12M', '변동률_RVCA평잔', '쇼핑_마트_이용금액', '마일_적립포인트_R3M', '최초한도금액', '컨택건수_이용유도_EM_B0M', '이용건수_C페이_R6M', '인입일수_ARS_B0M', '컨택건수_이용유도_EM_R6M', 'RP건수_통신_B0M', '연체감액여부_R3M', '이용후경과월_체크', '유효카드수_신용체크', '정상청구원금_B5M', '증감율_이용금액_신용_전월', '이용가맹점수', '포인트_포인트_건별_B0M', '컨택건수_이용유도_인터넷_R6M', '평잔_6M', '잔액_신판ca최대한도소진율_r6m', '마일_잔여포인트_B0M', '승인거절건수_한도초과_R3M', '당사멤버쉽_방문횟수_R6M', '이용금액_할부_무이자_R6M', '이용금액_R3M_신용', '정상청구원금_B0M', '남녀구분코드', '이용건수_신용_B0M', '이용건수_일시불_R12M', '증감율_이용금액_신용_분기', '평잔_CA_3M', '할인건수_R3M', '선입금원금_B2M', 'RP건수_교통_B0M', '일시상환론한도금액', '이용금액_할부_R12M', '이용금액_할부_무이자_R12M', '회원여부_연체', 'CA이자율_할인전', '한도증액금액_R12M', 'RV일시불이자율_할인전', '컨택건수_이용유도_청구서_R6M', '변동률_RV일시불평잔', '잔액_신판평균한도소진율_r6m', '이용건수_온라인_R6M', '여유_숙박이용금액', '이용건수_신용_R6M', '이용후경과월_일시불', '연체입금원금_B0M', '청구서발송여부_R3M', '이용건수_D페이_R6M', '포인트_이용포인트_R12M', 'ID', '카드이용한도금액', '이용후경과월_신용', '연회비발생카드수_B0M', 'RV약정청구율', '할부건수_3M_R12M', '증감율_이용금액_신판_전월', '변동률_할부평잔', '포인트_마일리지_월적립_B0M', '특별한도보유여부_R3M', '잔액_신판최대한도소진율_r6m', '청구서발송여부_B0', '인입횟수_IB_R6M', '평잔_일시불_해외_6M', '쇼핑_도소매_이용금액', '이용건수_신용_R12M', '일시불ONLY전환가능여부', '이용금액_일시불_B0M', '할부금액_3M_R12M', '카드론이용금액_누적', 'RV_평균잔액_R3M', '이용금액_오프라인_B0M', '이용금액_해외', '방문횟수_앱_B0M', '쇼핑_온라인_이용금액', '정상입금원금_B0M', '이용건수_선결제_R6M', '_1순위카드이용금액', '잔액_일시불_B0M', '청구금액_R3M', '월상환론한도금액', '상담건수_R6M', '이용금액_선결제_R6M', '증감율_이용금액_할부_전월', '이용금액_일시불_R12M', '최종카드론_대출금액', '승인거절건수_R3M', '불만제기후경과월_R12M', 'RV최소결제비율', '증감율_이용건수_일시불_분기', '카드론이용건수_누적', '이용금액_일시불_R3M', '이용금액대', '연체잔액_CA_B0M', '평잔_카드론_3M', 'Segment', '이용건수_오프라인_B0M', '회원여부_이용가능_카드론', '이용금액_오프라인_R3M', '이용건수_신판_R12M', '잔액_할부_무이자_B0M', '이용금액_R3M_신용체크', '할인금액_R3M', '교통_정비이용금액', '_1순위업종_이용금액', '최종카드론_대출이율', '컨택건수_이용유도_LMS_R6M', '입회경과개월수_신용', '거주시도명', '연체원금_최근', '인입월수_IB_R6M', '연체잔액_B0M', '평잔_일시불_3M', '동의여부_한도증액안내', '홈페이지_선결제건수_R6M', '포인트_마일리지_건별_B0M', '혜택수혜금액_R3M', '증감율_이용건수_CA_전월', '변동률_카드론평잔', '방문월수_PC_R6M', '정상입금원금_B5M', '한도증액횟수_R12M', '할부건수_무이자_3M_R12M', '정상청구원금_B2M', '보유여부_해외겸용_본인', '매각잔액_B1M', '이용금액_오프라인_R6M', '할인건수_B0M', '잔액_신판ca평균한도소진율_r6m', '이용카드수_신용체크', '청구금액_B0', '월상환론상향가능한도금액', 'RP건수_B0M', '탈회횟수_누적', '이용건수_페이_온라인_R6M', '이용금액_할부_무이자_R3M', 'R_score', 'F_score', 'M_score']\n",
      "\n",
      "🔍 결측치 개수:\n",
      "정상입금원금_B2M        0\n",
      "이용금액_일시불_R12M     0\n",
      "이용건수_선결제_R6M      0\n",
      "_1순위카드이용금액        0\n",
      "잔액_일시불_B0M        0\n",
      "                 ..\n",
      "남녀구분코드            0\n",
      "이용건수_신용_B0M       0\n",
      "이용건수_일시불_R12M     0\n",
      "증감율_이용금액_신용_분기    0\n",
      "M_score           0\n",
      "Length: 175, dtype: int64\n",
      "\n",
      "📊 데이터 타입 요약:\n",
      "int64      144\n",
      "float64     25\n",
      "int32        4\n",
      "object       2\n",
      "Name: count, dtype: int64\n"
     ]
    }
   ],
   "source": [
    "# ✅ 전체 컬럼 수 및 미리보기\n",
    "print(f\"총 컬럼 수: {len(train_df.columns)}개\")\n",
    "print(\"\\n📌 전체 컬럼 목록:\")\n",
    "print(train_df.columns.tolist())\n",
    "\n",
    "# ✅ 결측치 요약\n",
    "print(\"\\n🔍 결측치 개수:\")\n",
    "print(train_df.isnull().sum().sort_values(ascending=False))\n",
    "\n",
    "# ✅ 데이터 타입 요약\n",
    "print(\"\\n📊 데이터 타입 요약:\")\n",
    "print(train_df.dtypes.value_counts())"
   ]
  },
  {
   "cell_type": "code",
   "execution_count": 7,
   "metadata": {
    "colab": {
     "base_uri": "https://localhost:8080/"
    },
    "executionInfo": {
     "elapsed": 135351,
     "status": "ok",
     "timestamp": 1751966003655,
     "user": {
      "displayName": "7 TEAM",
      "userId": "08970391605587455613"
     },
     "user_tz": -540
    },
    "id": "COYh-iinJRPQ",
    "outputId": "f416e867-eab7-4d05-a3df-346b0443be42",
    "scrolled": true
   },
   "outputs": [
    {
     "name": "stderr",
     "output_type": "stream",
     "text": [
      "[I 2025-07-11 23:46:27,003] A new study created in memory with name: no-name-c74db3dc-ac57-4e87-8e8e-a79e9c4af105\n",
      "[I 2025-07-11 23:53:13,759] Trial 0 finished with value: 0.9169614762612834 and parameters: {'n_estimators': 208, 'max_depth': 10, 'learning_rate': 0.07133176422516443, 'subsample': 0.9893441277486763, 'colsample_bytree': 0.7914356114949607}. Best is trial 0 with value: 0.9169614762612834.\n",
      "[I 2025-07-12 00:00:03,010] Trial 1 finished with value: 0.9124525152584857 and parameters: {'n_estimators': 247, 'max_depth': 9, 'learning_rate': 0.06288169465395418, 'subsample': 0.80840452493386, 'colsample_bytree': 0.6457576691833828}. Best is trial 0 with value: 0.9169614762612834.\n",
      "[I 2025-07-12 00:05:49,863] Trial 2 finished with value: 0.9098349565844481 and parameters: {'n_estimators': 224, 'max_depth': 8, 'learning_rate': 0.08746167411729476, 'subsample': 0.8561762000706681, 'colsample_bytree': 0.6008668321395524}. Best is trial 0 with value: 0.9169614762612834.\n",
      "[I 2025-07-12 00:15:03,408] Trial 3 finished with value: 0.9185201082838602 and parameters: {'n_estimators': 324, 'max_depth': 9, 'learning_rate': 0.07666026263016154, 'subsample': 0.9988285187766693, 'colsample_bytree': 0.8528801058036185}. Best is trial 3 with value: 0.9185201082838602.\n",
      "[I 2025-07-12 00:24:01,263] Trial 4 finished with value: 0.9126421308821815 and parameters: {'n_estimators': 306, 'max_depth': 9, 'learning_rate': 0.05251898758777174, 'subsample': 0.7817675105542682, 'colsample_bytree': 0.914118216699718}. Best is trial 3 with value: 0.9185201082838602.\n",
      "[I 2025-07-12 00:31:15,005] Trial 5 finished with value: 0.9066943361361023 and parameters: {'n_estimators': 293, 'max_depth': 7, 'learning_rate': 0.07872408961658606, 'subsample': 0.689312988298076, 'colsample_bytree': 0.8531722035194844}. Best is trial 3 with value: 0.9185201082838602.\n",
      "[I 2025-07-12 00:42:02,204] Trial 6 finished with value: 0.92746356512394 and parameters: {'n_estimators': 333, 'max_depth': 10, 'learning_rate': 0.09302344422050213, 'subsample': 0.9471779019901287, 'colsample_bytree': 0.7937523163031002}. Best is trial 6 with value: 0.92746356512394.\n",
      "[I 2025-07-12 00:47:33,172] Trial 7 finished with value: 0.9140097649915297 and parameters: {'n_estimators': 198, 'max_depth': 9, 'learning_rate': 0.09029722123452359, 'subsample': 0.6676377150870946, 'colsample_bytree': 0.637907441425709}. Best is trial 6 with value: 0.92746356512394.\n",
      "[I 2025-07-12 00:55:50,965] Trial 8 finished with value: 0.9190726823697205 and parameters: {'n_estimators': 304, 'max_depth': 9, 'learning_rate': 0.08434169404288426, 'subsample': 0.9197303811681461, 'colsample_bytree': 0.8330541160117056}. Best is trial 6 with value: 0.92746356512394.\n",
      "[I 2025-07-12 01:01:10,049] Trial 9 finished with value: 0.9031784010805186 and parameters: {'n_estimators': 210, 'max_depth': 8, 'learning_rate': 0.055006378666253505, 'subsample': 0.8522712579705776, 'colsample_bytree': 0.7713255849731215}. Best is trial 6 with value: 0.92746356512394.\n",
      "[I 2025-07-12 01:11:57,210] Trial 10 finished with value: 0.9287258348320518 and parameters: {'n_estimators': 342, 'max_depth': 10, 'learning_rate': 0.09987411484261871, 'subsample': 0.9239261571280342, 'colsample_bytree': 0.9948943044776264}. Best is trial 10 with value: 0.9287258348320518.\n",
      "[I 2025-07-12 01:22:53,871] Trial 11 finished with value: 0.9288220782433405 and parameters: {'n_estimators': 347, 'max_depth': 10, 'learning_rate': 0.09960008549192952, 'subsample': 0.9276183128695863, 'colsample_bytree': 0.996110633537669}. Best is trial 11 with value: 0.9288220782433405.\n",
      "[I 2025-07-12 01:33:42,570] Trial 12 finished with value: 0.9288713135129786 and parameters: {'n_estimators': 342, 'max_depth': 10, 'learning_rate': 0.09993725235542181, 'subsample': 0.8972950278756902, 'colsample_bytree': 0.9993759071265064}. Best is trial 12 with value: 0.9288713135129786.\n",
      "[I 2025-07-12 01:44:46,782] Trial 13 finished with value: 0.9287736102335327 and parameters: {'n_estimators': 350, 'max_depth': 10, 'learning_rate': 0.0953732186358922, 'subsample': 0.8735300664130443, 'colsample_bytree': 0.9980703959418422}. Best is trial 12 with value: 0.9288713135129786.\n",
      "[I 2025-07-12 01:53:36,176] Trial 14 finished with value: 0.925515306137194 and parameters: {'n_estimators': 279, 'max_depth': 10, 'learning_rate': 0.09938265340701441, 'subsample': 0.7342521092294928, 'colsample_bytree': 0.9376190678965726}. Best is trial 12 with value: 0.9288713135129786.\n",
      "[I 2025-07-12 01:59:20,554] Trial 15 finished with value: 0.9056522325545716 and parameters: {'n_estimators': 256, 'max_depth': 7, 'learning_rate': 0.08377038702859348, 'subsample': 0.8905613833306871, 'colsample_bytree': 0.9289840388820884}. Best is trial 12 with value: 0.9288713135129786.\n",
      "[I 2025-07-12 02:09:25,678] Trial 16 finished with value: 0.9229969223596445 and parameters: {'n_estimators': 318, 'max_depth': 10, 'learning_rate': 0.06958073814135025, 'subsample': 0.8197741656554587, 'colsample_bytree': 0.9607450998637006}. Best is trial 12 with value: 0.9288713135129786.\n",
      "[I 2025-07-12 02:16:15,223] Trial 17 finished with value: 0.9129198005869915 and parameters: {'n_estimators': 278, 'max_depth': 8, 'learning_rate': 0.09245370776122057, 'subsample': 0.9487669718809439, 'colsample_bytree': 0.8978381354239926}. Best is trial 12 with value: 0.9288713135129786.\n",
      "[I 2025-07-12 02:26:08,654] Trial 18 finished with value: 0.9275617449959267 and parameters: {'n_estimators': 321, 'max_depth': 10, 'learning_rate': 0.09629001528822168, 'subsample': 0.7547922792417225, 'colsample_bytree': 0.728567140339011}. Best is trial 12 with value: 0.9288713135129786.\n",
      "[I 2025-07-12 02:35:31,255] Trial 19 finished with value: 0.9202829511097576 and parameters: {'n_estimators': 345, 'max_depth': 9, 'learning_rate': 0.08087836901111155, 'subsample': 0.6090550571579708, 'colsample_bytree': 0.8854746177379451}. Best is trial 12 with value: 0.9288713135129786.\n",
      "[I 2025-07-12 02:43:08,943] Trial 20 finished with value: 0.9217439206102211 and parameters: {'n_estimators': 238, 'max_depth': 10, 'learning_rate': 0.08821582913147266, 'subsample': 0.8978314891969998, 'colsample_bytree': 0.9657582861433555}. Best is trial 12 with value: 0.9288713135129786.\n",
      "[I 2025-07-12 02:53:58,549] Trial 21 finished with value: 0.9286581554921565 and parameters: {'n_estimators': 345, 'max_depth': 10, 'learning_rate': 0.09594505840218856, 'subsample': 0.8624090536091907, 'colsample_bytree': 0.9862690153390596}. Best is trial 12 with value: 0.9288713135129786.\n",
      "[I 2025-07-12 03:04:55,097] Trial 22 finished with value: 0.9285382691919235 and parameters: {'n_estimators': 348, 'max_depth': 10, 'learning_rate': 0.09541303828512875, 'subsample': 0.9530756678004694, 'colsample_bytree': 0.9962768462613265}. Best is trial 12 with value: 0.9288713135129786.\n",
      "[I 2025-07-12 03:15:12,315] Trial 23 finished with value: 0.9283252102531883 and parameters: {'n_estimators': 328, 'max_depth': 10, 'learning_rate': 0.09964859090070749, 'subsample': 0.8793856978564158, 'colsample_bytree': 0.9596116814320825}. Best is trial 12 with value: 0.9288713135129786.\n",
      "[I 2025-07-12 03:23:37,256] Trial 24 finished with value: 0.9204553482018875 and parameters: {'n_estimators': 307, 'max_depth': 9, 'learning_rate': 0.09083097202176961, 'subsample': 0.9188931777642751, 'colsample_bytree': 0.9449442935277181}. Best is trial 12 with value: 0.9288713135129786.\n",
      "[I 2025-07-12 03:34:10,795] Trial 25 finished with value: 0.9282795124520842 and parameters: {'n_estimators': 335, 'max_depth': 10, 'learning_rate': 0.09544574348936484, 'subsample': 0.8344814822775017, 'colsample_bytree': 0.9997950251129089}. Best is trial 12 with value: 0.9288713135129786.\n",
      "[I 2025-07-12 03:42:05,828] Trial 26 finished with value: 0.9179861124595301 and parameters: {'n_estimators': 289, 'max_depth': 9, 'learning_rate': 0.08482795284832836, 'subsample': 0.9642655832039707, 'colsample_bytree': 0.8814490315683259}. Best is trial 12 with value: 0.9288713135129786.\n",
      "[I 2025-07-12 03:52:01,908] Trial 27 finished with value: 0.9208280045066294 and parameters: {'n_estimators': 311, 'max_depth': 10, 'learning_rate': 0.06233158774477128, 'subsample': 0.8913807354981486, 'colsample_bytree': 0.9692197223278018}. Best is trial 12 with value: 0.9288713135129786.\n",
      "[I 2025-07-12 04:00:13,720] Trial 28 finished with value: 0.9159674963288541 and parameters: {'n_estimators': 334, 'max_depth': 8, 'learning_rate': 0.0960124870263588, 'subsample': 0.7835471034053112, 'colsample_bytree': 0.7309635505321967}. Best is trial 12 with value: 0.9288713135129786.\n",
      "[I 2025-07-12 04:06:11,584] Trial 29 finished with value: 0.9148717767079958 and parameters: {'n_estimators': 180, 'max_depth': 10, 'learning_rate': 0.0721624731427366, 'subsample': 0.8377939108833012, 'colsample_bytree': 0.9147009879118093}. Best is trial 12 with value: 0.9288713135129786.\n",
      "[I 2025-07-12 04:17:09,576] Trial 30 finished with value: 0.9275305826308525 and parameters: {'n_estimators': 350, 'max_depth': 10, 'learning_rate': 0.08872433153420295, 'subsample': 0.9774426580772484, 'colsample_bytree': 0.9442161200821096}. Best is trial 12 with value: 0.9288713135129786.\n",
      "[I 2025-07-12 04:27:47,114] Trial 31 finished with value: 0.9284418869664252 and parameters: {'n_estimators': 338, 'max_depth': 10, 'learning_rate': 0.09938760183815738, 'subsample': 0.9206081251144032, 'colsample_bytree': 0.9801616082464345}. Best is trial 12 with value: 0.9288713135129786.\n",
      "[I 2025-07-12 04:38:29,341] Trial 32 finished with value: 0.9286865884201226 and parameters: {'n_estimators': 340, 'max_depth': 10, 'learning_rate': 0.09931523829287531, 'subsample': 0.9289396552960448, 'colsample_bytree': 0.9984171655538789}. Best is trial 12 with value: 0.9288713135129786.\n",
      "[I 2025-07-12 04:48:35,104] Trial 33 finished with value: 0.9273732882293068 and parameters: {'n_estimators': 320, 'max_depth': 10, 'learning_rate': 0.09377166050915393, 'subsample': 0.8749706254227582, 'colsample_bytree': 0.9722964831621872}. Best is trial 12 with value: 0.9288713135129786.\n",
      "[I 2025-07-12 04:57:35,842] Trial 34 finished with value: 0.9221965196600553 and parameters: {'n_estimators': 329, 'max_depth': 9, 'learning_rate': 0.09773418686512732, 'subsample': 0.9100434035255563, 'colsample_bytree': 0.923458044734296}. Best is trial 12 with value: 0.9288713135129786.\n",
      "[I 2025-07-12 05:06:57,825] Trial 35 finished with value: 0.9257435871018438 and parameters: {'n_estimators': 296, 'max_depth': 10, 'learning_rate': 0.09210427716809313, 'subsample': 0.935695331916001, 'colsample_bytree': 0.9480552750576023}. Best is trial 12 with value: 0.9288713135129786.\n",
      "[I 2025-07-12 05:16:30,919] Trial 36 finished with value: 0.9170067467229809 and parameters: {'n_estimators': 349, 'max_depth': 9, 'learning_rate': 0.06489801228804813, 'subsample': 0.974726366112698, 'colsample_bytree': 0.8983905620895403}. Best is trial 12 with value: 0.9288713135129786.\n",
      "[I 2025-07-12 05:26:19,792] Trial 37 finished with value: 0.9258578933704761 and parameters: {'n_estimators': 315, 'max_depth': 10, 'learning_rate': 0.08602854233136457, 'subsample': 0.8071767163724582, 'colsample_bytree': 0.8597398967168103}. Best is trial 12 with value: 0.9288713135129786.\n",
      "[I 2025-07-12 05:35:21,715] Trial 38 finished with value: 0.919738185016136 and parameters: {'n_estimators': 330, 'max_depth': 9, 'learning_rate': 0.08103481016494551, 'subsample': 0.862949325051945, 'colsample_bytree': 0.9755440156490981}. Best is trial 12 with value: 0.9288713135129786.\n",
      "[I 2025-07-12 05:45:52,117] Trial 39 finished with value: 0.9277278322140212 and parameters: {'n_estimators': 339, 'max_depth': 10, 'learning_rate': 0.0931379403918939, 'subsample': 0.9950879738925789, 'colsample_bytree': 0.8142388333027959}. Best is trial 12 with value: 0.9288713135129786.\n",
      "[I 2025-07-12 05:53:57,475] Trial 40 finished with value: 0.9209469101032535 and parameters: {'n_estimators': 299, 'max_depth': 9, 'learning_rate': 0.09740184208266447, 'subsample': 0.8989204750793791, 'colsample_bytree': 0.6648416157783075}. Best is trial 12 with value: 0.9288713135129786.\n",
      "[I 2025-07-12 06:04:40,138] Trial 41 finished with value: 0.9287254553294004 and parameters: {'n_estimators': 340, 'max_depth': 10, 'learning_rate': 0.0994028441266135, 'subsample': 0.9309884180799293, 'colsample_bytree': 0.9990123155860027}. Best is trial 12 with value: 0.9288713135129786.\n",
      "[I 2025-07-12 06:14:51,313] Trial 42 finished with value: 0.9279236015863536 and parameters: {'n_estimators': 323, 'max_depth': 10, 'learning_rate': 0.09991374450799709, 'subsample': 0.9391694050575283, 'colsample_bytree': 0.9993025672767614}. Best is trial 12 with value: 0.9288713135129786.\n",
      "[I 2025-07-12 06:22:26,313] Trial 43 finished with value: 0.9096492011186733 and parameters: {'n_estimators': 338, 'max_depth': 7, 'learning_rate': 0.09000050505662577, 'subsample': 0.9619325625310828, 'colsample_bytree': 0.9815429385561258}. Best is trial 12 with value: 0.9288713135129786.\n",
      "[I 2025-07-12 06:33:22,072] Trial 44 finished with value: 0.9289982273052068 and parameters: {'n_estimators': 350, 'max_depth': 10, 'learning_rate': 0.09734117678318878, 'subsample': 0.9096667798500799, 'colsample_bytree': 0.9375641079621172}. Best is trial 44 with value: 0.9289982273052068.\n",
      "[I 2025-07-12 06:44:19,892] Trial 45 finished with value: 0.9287478362291877 and parameters: {'n_estimators': 350, 'max_depth': 10, 'learning_rate': 0.09394761945415751, 'subsample': 0.8378288084092907, 'colsample_bytree': 0.9504294294537989}. Best is trial 44 with value: 0.9289982273052068.\n",
      "[I 2025-07-12 06:55:16,556] Trial 46 finished with value: 0.9288171740462188 and parameters: {'n_estimators': 350, 'max_depth': 10, 'learning_rate': 0.09523485780595263, 'subsample': 0.8463670641404715, 'colsample_bytree': 0.9302097613374681}. Best is trial 44 with value: 0.9289982273052068.\n",
      "[I 2025-07-12 07:05:30,552] Trial 47 finished with value: 0.9272097585292921 and parameters: {'n_estimators': 325, 'max_depth': 10, 'learning_rate': 0.09101523770031023, 'subsample': 0.8507616008702361, 'colsample_bytree': 0.9251542368348588}. Best is trial 44 with value: 0.9289982273052068.\n",
      "[I 2025-07-12 07:12:02,596] Trial 48 finished with value: 0.9139416964385675 and parameters: {'n_estimators': 233, 'max_depth': 9, 'learning_rate': 0.07600597317652387, 'subsample': 0.8803303268948809, 'colsample_bytree': 0.908224300285066}. Best is trial 44 with value: 0.9289982273052068.\n",
      "[I 2025-07-12 07:18:36,741] Trial 49 finished with value: 0.9118892422050257 and parameters: {'n_estimators': 267, 'max_depth': 8, 'learning_rate': 0.08702266277562629, 'subsample': 0.7850429157266773, 'colsample_bytree': 0.9342464823236168}. Best is trial 44 with value: 0.9289982273052068.\n"
     ]
    },
    {
     "name": "stdout",
     "output_type": "stream",
     "text": [
      "\n",
      "✅ 최적 하이퍼파라미터:\n",
      "n_estimators: 350\n",
      "max_depth: 10\n",
      "learning_rate: 0.09734117678318878\n",
      "subsample: 0.9096667798500799\n",
      "colsample_bytree: 0.9375641079621172\n"
     ]
    }
   ],
   "source": [
    "# 📌 필요한 라이브러리 불러오기\n",
    "import pandas as pd\n",
    "import numpy as np\n",
    "import optuna\n",
    "from sklearn.model_selection import StratifiedKFold, cross_val_score\n",
    "from sklearn.preprocessing import LabelEncoder, StandardScaler\n",
    "from sklearn.metrics import classification_report\n",
    "from xgboost import XGBClassifier\n",
    "from imblearn.over_sampling import RandomOverSampler\n",
    "\n",
    "# 📌 1. 데이터 전처리\n",
    "X = train_df.drop(columns=[\"ID\", \"Segment\"]).copy()\n",
    "y = train_df[\"Segment\"]\n",
    "\n",
    "# 범주형 인코딩\n",
    "cat_cols = X.select_dtypes(include='object').columns.tolist()\n",
    "for col in cat_cols:\n",
    "    le = LabelEncoder()\n",
    "    X[col] = le.fit_transform(X[col].astype(str))\n",
    "\n",
    "# 스케일링\n",
    "scaler = StandardScaler()\n",
    "X_scaled = pd.DataFrame(scaler.fit_transform(X), columns=X.columns)\n",
    "\n",
    "# 타겟 인코딩\n",
    "le_y = LabelEncoder()\n",
    "y_encoded = le_y.fit_transform(y)\n",
    "\n",
    "# 📌 2. Optuna로 하이퍼파라미터 튜닝 (3-Fold 교차검증 기준)\n",
    "def objective(trial):\n",
    "    params = {\n",
    "        'n_estimators': trial.suggest_int('n_estimators', 180, 350),\n",
    "        'max_depth': trial.suggest_int('max_depth', 7, 10),\n",
    "        'learning_rate': trial.suggest_float('learning_rate', 0.05, 0.1),\n",
    "        'subsample': trial.suggest_float('subsample', 0.6, 1.0),\n",
    "        'colsample_bytree': trial.suggest_float('colsample_bytree', 0.6, 1.0),\n",
    "        'tree_method': 'gpu_hist',\n",
    "        'predictor': 'gpu_predictor',\n",
    "        'use_label_encoder': False,\n",
    "        'eval_metric': 'mlogloss',\n",
    "        'random_state': 42\n",
    "    }\n",
    "\n",
    "    model = XGBClassifier(**params)\n",
    "\n",
    "    # 간단한 평가 (K-Fold 없이 전체에서 cross_val)\n",
    "    score = cross_val_score(model, X_scaled, y_encoded, cv=3, scoring='f1_weighted')\n",
    "    return score.mean()\n",
    "\n",
    "study = optuna.create_study(direction='maximize')\n",
    "study.optimize(objective, n_trials=50)  # ✅ 컴퓨터 리소스 고려해서 20회만\n",
    "\n",
    "# 최적 파라미터 확인\n",
    "best_params = study.best_params\n",
    "print(\"\\n✅ 최적 하이퍼파라미터:\")\n",
    "for k, v in best_params.items():\n",
    "    print(f\"{k}: {v}\")"
   ]
  },
  {
   "cell_type": "code",
   "execution_count": 8,
   "metadata": {},
   "outputs": [
    {
     "name": "stdout",
     "output_type": "stream",
     "text": [
      "\n",
      "🔁 Fold 1 오버샘플링 완료: {4: 1537642, 3: 279393, 2: 102072, 0: 2000, 1: 2000}\n",
      "\n",
      "📘 Fold 1 결과\n",
      "              precision    recall  f1-score   support\n",
      "\n",
      "           A       0.97      0.71      0.82       195\n",
      "           B       1.00      0.61      0.76        28\n",
      "           C       0.87      0.76      0.81     25518\n",
      "           D       0.83      0.79      0.81     69849\n",
      "           E       0.96      0.98      0.97    384410\n",
      "\n",
      "    accuracy                           0.94    480000\n",
      "   macro avg       0.93      0.77      0.83    480000\n",
      "weighted avg       0.94      0.94      0.94    480000\n",
      "\n",
      "\n",
      "🔁 Fold 2 오버샘플링 완료: {4: 1537642, 3: 279393, 2: 102072, 0: 2000, 1: 2000}\n",
      "\n",
      "📘 Fold 2 결과\n",
      "              precision    recall  f1-score   support\n",
      "\n",
      "           A       0.97      0.74      0.84       194\n",
      "           B       1.00      0.62      0.77        29\n",
      "           C       0.86      0.76      0.81     25518\n",
      "           D       0.83      0.79      0.81     69849\n",
      "           E       0.96      0.98      0.97    384410\n",
      "\n",
      "    accuracy                           0.94    480000\n",
      "   macro avg       0.93      0.78      0.84    480000\n",
      "weighted avg       0.94      0.94      0.94    480000\n",
      "\n",
      "\n",
      "🔁 Fold 3 오버샘플링 완료: {4: 1537641, 3: 279394, 2: 102072, 0: 2000, 1: 2000}\n",
      "\n",
      "📘 Fold 3 결과\n",
      "              precision    recall  f1-score   support\n",
      "\n",
      "           A       0.99      0.72      0.83       194\n",
      "           B       1.00      0.52      0.68        29\n",
      "           C       0.87      0.76      0.81     25518\n",
      "           D       0.84      0.79      0.81     69848\n",
      "           E       0.96      0.98      0.97    384411\n",
      "\n",
      "    accuracy                           0.94    480000\n",
      "   macro avg       0.93      0.75      0.82    480000\n",
      "weighted avg       0.94      0.94      0.94    480000\n",
      "\n",
      "\n",
      "🔁 Fold 4 오버샘플링 완료: {4: 1537641, 3: 279394, 2: 102072, 0: 2000, 1: 2000}\n",
      "\n",
      "📘 Fold 4 결과\n",
      "              precision    recall  f1-score   support\n",
      "\n",
      "           A       0.99      0.68      0.80       194\n",
      "           B       1.00      0.69      0.82        29\n",
      "           C       0.86      0.76      0.81     25518\n",
      "           D       0.83      0.79      0.81     69848\n",
      "           E       0.96      0.98      0.97    384411\n",
      "\n",
      "    accuracy                           0.94    480000\n",
      "   macro avg       0.93      0.78      0.84    480000\n",
      "weighted avg       0.94      0.94      0.94    480000\n",
      "\n",
      "\n",
      "🔁 Fold 5 오버샘플링 완료: {4: 1537642, 3: 279394, 2: 102072, 0: 2000, 1: 2000}\n",
      "\n",
      "📘 Fold 5 결과\n",
      "              precision    recall  f1-score   support\n",
      "\n",
      "           A       0.97      0.70      0.82       195\n",
      "           B       1.00      0.79      0.88        29\n",
      "           C       0.86      0.76      0.81     25518\n",
      "           D       0.83      0.79      0.81     69848\n",
      "           E       0.96      0.98      0.97    384410\n",
      "\n",
      "    accuracy                           0.94    480000\n",
      "   macro avg       0.93      0.81      0.86    480000\n",
      "weighted avg       0.94      0.94      0.94    480000\n",
      "\n"
     ]
    }
   ],
   "source": [
    "# 📌 3. K-Fold 학습 (튜닝된 파라미터로)\n",
    "skf = StratifiedKFold(n_splits=5, shuffle=True, random_state=42)\n",
    "ros = RandomOverSampler(sampling_strategy={0: 2000, 1: 2000}, random_state=42)\n",
    "\n",
    "fold = 1\n",
    "all_reports = []\n",
    "\n",
    "for train_idx, val_idx in skf.split(X_scaled, y_encoded):\n",
    "    X_train, X_val = X_scaled.iloc[train_idx], X_scaled.iloc[val_idx]\n",
    "    y_train, y_val = y_encoded[train_idx], y_encoded[val_idx]\n",
    "\n",
    "    X_train_os, y_train_os = ros.fit_resample(X_train, y_train)\n",
    "    print(f\"\\n🔁 Fold {fold} 오버샘플링 완료:\", pd.Series(y_train_os).value_counts().to_dict())\n",
    "\n",
    "    # 튜닝된 파라미터 + 고정 파라미터 구성\n",
    "    xgb_model = XGBClassifier(\n",
    "        **best_params,\n",
    "        tree_method='gpu_hist',\n",
    "        predictor='gpu_predictor',\n",
    "        use_label_encoder=False,\n",
    "        eval_metric='mlogloss',\n",
    "        random_state=42\n",
    "    )\n",
    "\n",
    "    xgb_model.fit(X_train_os, y_train_os)\n",
    "    y_pred = xgb_model.predict(X_val)\n",
    "\n",
    "    print(f\"\\n📘 Fold {fold} 결과\")\n",
    "    print(classification_report(y_val, y_pred, target_names=le_y.classes_))\n",
    "\n",
    "    all_reports.append(classification_report(y_val, y_pred, output_dict=True))\n",
    "    fold += 1"
   ]
  },
  {
   "cell_type": "code",
   "execution_count": 9,
   "metadata": {
    "id": "la9I2QZLRe1R"
   },
   "outputs": [],
   "source": [
    "from sklearn.impute import SimpleImputer\n",
    "from sklearn.preprocessing import StandardScaler\n",
    "\n",
    "# 결측치 처리기\n",
    "imputer = SimpleImputer(strategy='mean')\n",
    "X_imputed = imputer.fit_transform(X)  # 학습 데이터로 fit 해야 함\n",
    "\n",
    "# 스케일러\n",
    "scaler = StandardScaler()\n",
    "X_scaled = scaler.fit_transform(X_imputed)"
   ]
  },
  {
   "cell_type": "markdown",
   "metadata": {},
   "source": [
    "#### 최적의 쓰레스값 찾기"
   ]
  },
  {
   "cell_type": "markdown",
   "metadata": {},
   "source": [
    "### 옵튜나 사용"
   ]
  },
  {
   "cell_type": "code",
   "execution_count": 10,
   "metadata": {
    "scrolled": true
   },
   "outputs": [
    {
     "name": "stderr",
     "output_type": "stream",
     "text": [
      "[I 2025-07-12 07:40:03,770] A new study created in memory with name: no-name-18321808-c136-46f9-896c-3c4d118663b1\n"
     ]
    },
    {
     "name": "stdout",
     "output_type": "stream",
     "text": [
      "🔍 클래스 0 최적 threshold 탐색 중...\n"
     ]
    },
    {
     "name": "stderr",
     "output_type": "stream",
     "text": [
      "[I 2025-07-12 07:40:05,251] Trial 0 finished with value: 0.9402046073297274 and parameters: {'threshold': 0.39963209507789}. Best is trial 0 with value: 0.9402046073297274.\n",
      "[I 2025-07-12 07:40:06,684] Trial 1 finished with value: 0.9402045545701689 and parameters: {'threshold': 0.8605714451279329}. Best is trial 0 with value: 0.9402046073297274.\n",
      "[I 2025-07-12 07:40:08,122] Trial 2 finished with value: 0.9402045545701689 and parameters: {'threshold': 0.685595153449124}. Best is trial 0 with value: 0.9402046073297274.\n",
      "[I 2025-07-12 07:40:09,588] Trial 3 finished with value: 0.9402045545701689 and parameters: {'threshold': 0.5789267873576293}. Best is trial 0 with value: 0.9402046073297274.\n",
      "[I 2025-07-12 07:40:11,028] Trial 4 finished with value: 0.9402370983897056 and parameters: {'threshold': 0.22481491235394924}. Best is trial 4 with value: 0.9402370983897056.\n",
      "[I 2025-07-12 07:40:12,481] Trial 5 finished with value: 0.9402370983897056 and parameters: {'threshold': 0.22479561626896213}. Best is trial 4 with value: 0.9402370983897056.\n",
      "[I 2025-07-12 07:40:13,912] Trial 6 finished with value: 0.9402408772502661 and parameters: {'threshold': 0.14646688973455957}. Best is trial 6 with value: 0.9402408772502661.\n",
      "[I 2025-07-12 07:40:15,389] Trial 7 finished with value: 0.9402045545701689 and parameters: {'threshold': 0.7929409166199481}. Best is trial 6 with value: 0.9402408772502661.\n",
      "[I 2025-07-12 07:40:16,832] Trial 8 finished with value: 0.9402045545701689 and parameters: {'threshold': 0.5808920093945671}. Best is trial 6 with value: 0.9402408772502661.\n",
      "[I 2025-07-12 07:40:18,263] Trial 9 finished with value: 0.9402045545701689 and parameters: {'threshold': 0.6664580622368363}. Best is trial 6 with value: 0.9402408772502661.\n",
      "[I 2025-07-12 07:40:19,706] Trial 10 finished with value: 0.9402401853944811 and parameters: {'threshold': 0.11642416774962545}. Best is trial 6 with value: 0.9402408772502661.\n",
      "[I 2025-07-12 07:40:21,134] Trial 11 finished with value: 0.9402416702075735 and parameters: {'threshold': 0.1014792051942121}. Best is trial 11 with value: 0.9402416702075735.\n",
      "[I 2025-07-12 07:40:22,572] Trial 12 finished with value: 0.940237787887913 and parameters: {'threshold': 0.10603785545303457}. Best is trial 11 with value: 0.9402416702075735.\n",
      "[I 2025-07-12 07:40:24,008] Trial 13 finished with value: 0.9402114402498495 and parameters: {'threshold': 0.36724172737633026}. Best is trial 11 with value: 0.9402416702075735.\n",
      "[I 2025-07-12 07:40:25,443] Trial 14 finished with value: 0.9402246652076514 and parameters: {'threshold': 0.2874382520739719}. Best is trial 11 with value: 0.9402416702075735.\n",
      "[I 2025-07-12 07:40:26,887] Trial 15 finished with value: 0.9402091951626609 and parameters: {'threshold': 0.4389102002722264}. Best is trial 11 with value: 0.9402416702075735.\n",
      "[I 2025-07-12 07:40:28,313] Trial 16 finished with value: 0.940243500779654 and parameters: {'threshold': 0.19282911614005938}. Best is trial 16 with value: 0.940243500779654.\n",
      "[I 2025-07-12 07:40:29,762] Trial 17 finished with value: 0.9402246652076514 and parameters: {'threshold': 0.2834684218674127}. Best is trial 16 with value: 0.940243500779654.\n",
      "[I 2025-07-12 07:40:31,198] Trial 18 finished with value: 0.9402414088055798 and parameters: {'threshold': 0.19899977059569474}. Best is trial 16 with value: 0.940243500779654.\n",
      "[I 2025-07-12 07:40:32,645] Trial 19 finished with value: 0.9402136663727451 and parameters: {'threshold': 0.35332541722853306}. Best is trial 16 with value: 0.940243500779654.\n",
      "[I 2025-07-12 07:40:34,087] Trial 20 finished with value: 0.940219985753432 and parameters: {'threshold': 0.27379974853635974}. Best is trial 16 with value: 0.940243500779654.\n",
      "[I 2025-07-12 07:40:35,524] Trial 21 finished with value: 0.9402434595693839 and parameters: {'threshold': 0.18257995954968906}. Best is trial 16 with value: 0.940243500779654.\n",
      "[I 2025-07-12 07:40:36,982] Trial 22 finished with value: 0.9402434595693839 and parameters: {'threshold': 0.17761733836147894}. Best is trial 16 with value: 0.940243500779654.\n",
      "[I 2025-07-12 07:40:38,425] Trial 23 finished with value: 0.9402434595693839 and parameters: {'threshold': 0.18103701708913042}. Best is trial 16 with value: 0.940243500779654.\n",
      "[I 2025-07-12 07:40:39,883] Trial 24 finished with value: 0.9402045545701689 and parameters: {'threshold': 0.478171205326359}. Best is trial 16 with value: 0.940243500779654.\n",
      "[I 2025-07-12 07:40:41,333] Trial 25 finished with value: 0.9402136262313623 and parameters: {'threshold': 0.3299542160733603}. Best is trial 16 with value: 0.940243500779654.\n",
      "[I 2025-07-12 07:40:42,774] Trial 26 finished with value: 0.9402264825950255 and parameters: {'threshold': 0.24663354115035396}. Best is trial 16 with value: 0.940243500779654.\n",
      "[I 2025-07-12 07:40:44,233] Trial 27 finished with value: 0.9402432917731535 and parameters: {'threshold': 0.1606755566714906}. Best is trial 16 with value: 0.940243500779654.\n",
      "[I 2025-07-12 07:40:45,674] Trial 28 finished with value: 0.9402203132808664 and parameters: {'threshold': 0.3135928583562957}. Best is trial 16 with value: 0.940243500779654.\n",
      "[I 2025-07-12 07:40:47,129] Trial 29 finished with value: 0.9402046018387922 and parameters: {'threshold': 0.4100753632511687}. Best is trial 16 with value: 0.940243500779654.\n",
      "[I 2025-07-12 07:40:48,559] Trial 30 finished with value: 0.9402434595693839 and parameters: {'threshold': 0.177888125160716}. Best is trial 16 with value: 0.940243500779654.\n",
      "[I 2025-07-12 07:40:50,014] Trial 31 finished with value: 0.940243500779654 and parameters: {'threshold': 0.18854778381164933}. Best is trial 16 with value: 0.940243500779654.\n",
      "[I 2025-07-12 07:40:51,468] Trial 32 finished with value: 0.9402307461497297 and parameters: {'threshold': 0.23152079155405794}. Best is trial 16 with value: 0.940243500779654.\n",
      "[I 2025-07-12 07:40:52,915] Trial 33 finished with value: 0.9402414088055798 and parameters: {'threshold': 0.20448812195053304}. Best is trial 16 with value: 0.940243500779654.\n",
      "[I 2025-07-12 07:40:54,369] Trial 34 finished with value: 0.940241043637474 and parameters: {'threshold': 0.15760484005210668}. Best is trial 16 with value: 0.940243500779654.\n",
      "[I 2025-07-12 07:40:55,821] Trial 35 finished with value: 0.940219985753432 and parameters: {'threshold': 0.2672489180537059}. Best is trial 16 with value: 0.940243500779654.\n",
      "[I 2025-07-12 07:40:57,277] Trial 36 finished with value: 0.9402114402498495 and parameters: {'threshold': 0.37329067326037246}. Best is trial 16 with value: 0.940243500779654.\n",
      "[I 2025-07-12 07:40:58,710] Trial 37 finished with value: 0.9402045545701689 and parameters: {'threshold': 0.8968132253979484}. Best is trial 16 with value: 0.940243500779654.\n",
      "[I 2025-07-12 07:41:00,168] Trial 38 finished with value: 0.9402045545701689 and parameters: {'threshold': 0.5714700882704651}. Best is trial 16 with value: 0.940243500779654.\n",
      "[I 2025-07-12 07:41:01,605] Trial 39 finished with value: 0.9402407081923345 and parameters: {'threshold': 0.13836450190970148}. Best is trial 16 with value: 0.940243500779654.\n",
      "[I 2025-07-12 07:41:03,034] Trial 40 finished with value: 0.9402045545701689 and parameters: {'threshold': 0.7909851905172802}. Best is trial 16 with value: 0.940243500779654.\n",
      "[I 2025-07-12 07:41:04,488] Trial 41 finished with value: 0.940243500779654 and parameters: {'threshold': 0.18606431657125266}. Best is trial 16 with value: 0.940243500779654.\n",
      "[I 2025-07-12 07:41:05,921] Trial 42 finished with value: 0.9402328700198361 and parameters: {'threshold': 0.22760875524768787}. Best is trial 16 with value: 0.940243500779654.\n",
      "[I 2025-07-12 07:41:07,379] Trial 43 finished with value: 0.9402408772502661 and parameters: {'threshold': 0.14437604167087872}. Best is trial 16 with value: 0.940243500779654.\n",
      "[I 2025-07-12 07:41:08,811] Trial 44 finished with value: 0.9402414088055798 and parameters: {'threshold': 0.2048044154110466}. Best is trial 16 with value: 0.940243500779654.\n",
      "[I 2025-07-12 07:41:10,257] Trial 45 finished with value: 0.9402243241036369 and parameters: {'threshold': 0.25501173396311877}. Best is trial 16 with value: 0.940243500779654.\n",
      "[I 2025-07-12 07:41:11,698] Trial 46 finished with value: 0.9402203132808664 and parameters: {'threshold': 0.3173961373397586}. Best is trial 16 with value: 0.940243500779654.\n",
      "[I 2025-07-12 07:41:13,157] Trial 47 finished with value: 0.940237787887913 and parameters: {'threshold': 0.10619584207100062}. Best is trial 16 with value: 0.940243500779654.\n",
      "[I 2025-07-12 07:41:14,598] Trial 48 finished with value: 0.940238637910375 and parameters: {'threshold': 0.14386659919930786}. Best is trial 16 with value: 0.940243500779654.\n",
      "[I 2025-07-12 07:41:16,063] Trial 49 finished with value: 0.940243500779654 and parameters: {'threshold': 0.18910138330909548}. Best is trial 16 with value: 0.940243500779654.\n",
      "[I 2025-07-12 07:41:16,064] A new study created in memory with name: no-name-59da4df0-6677-483c-8750-621694227a4d\n"
     ]
    },
    {
     "name": "stdout",
     "output_type": "stream",
     "text": [
      "✅ Class 0: Threshold = 0.19, F1 = 0.9402\n",
      "🔍 클래스 1 최적 threshold 탐색 중...\n"
     ]
    },
    {
     "name": "stderr",
     "output_type": "stream",
     "text": [
      "[I 2025-07-12 07:41:17,510] Trial 0 finished with value: 0.9402045545701689 and parameters: {'threshold': 0.39963209507789}. Best is trial 0 with value: 0.9402045545701689.\n",
      "[I 2025-07-12 07:41:18,945] Trial 1 finished with value: 0.9402045545701689 and parameters: {'threshold': 0.8605714451279329}. Best is trial 0 with value: 0.9402045545701689.\n",
      "[I 2025-07-12 07:41:20,372] Trial 2 finished with value: 0.9402045545701689 and parameters: {'threshold': 0.685595153449124}. Best is trial 0 with value: 0.9402045545701689.\n",
      "[I 2025-07-12 07:41:21,823] Trial 3 finished with value: 0.9402045545701689 and parameters: {'threshold': 0.5789267873576293}. Best is trial 0 with value: 0.9402045545701689.\n",
      "[I 2025-07-12 07:41:23,254] Trial 4 finished with value: 0.9402021996634037 and parameters: {'threshold': 0.22481491235394924}. Best is trial 0 with value: 0.9402045545701689.\n",
      "[I 2025-07-12 07:41:24,767] Trial 5 finished with value: 0.9402021996634037 and parameters: {'threshold': 0.22479561626896213}. Best is trial 0 with value: 0.9402045545701689.\n",
      "[I 2025-07-12 07:41:26,214] Trial 6 finished with value: 0.9401999674822992 and parameters: {'threshold': 0.14646688973455957}. Best is trial 0 with value: 0.9402045545701689.\n",
      "[I 2025-07-12 07:41:27,652] Trial 7 finished with value: 0.9402045545701689 and parameters: {'threshold': 0.7929409166199481}. Best is trial 0 with value: 0.9402045545701689.\n",
      "[I 2025-07-12 07:41:29,087] Trial 8 finished with value: 0.9402045545701689 and parameters: {'threshold': 0.5808920093945671}. Best is trial 0 with value: 0.9402045545701689.\n",
      "[I 2025-07-12 07:41:30,509] Trial 9 finished with value: 0.9402045545701689 and parameters: {'threshold': 0.6664580622368363}. Best is trial 0 with value: 0.9402045545701689.\n",
      "[I 2025-07-12 07:41:31,960] Trial 10 finished with value: 0.9402045545701689 and parameters: {'threshold': 0.3995813040557826}. Best is trial 0 with value: 0.9402045545701689.\n",
      "[I 2025-07-12 07:41:33,400] Trial 11 finished with value: 0.9402045545701689 and parameters: {'threshold': 0.4120147469199092}. Best is trial 0 with value: 0.9402045545701689.\n",
      "[I 2025-07-12 07:41:34,864] Trial 12 finished with value: 0.9402045545701689 and parameters: {'threshold': 0.8756296886302929}. Best is trial 0 with value: 0.9402045545701689.\n",
      "[I 2025-07-12 07:41:36,301] Trial 13 finished with value: 0.9402045545701689 and parameters: {'threshold': 0.3774807131252975}. Best is trial 0 with value: 0.9402045545701689.\n",
      "[I 2025-07-12 07:41:37,747] Trial 14 finished with value: 0.9402045545701689 and parameters: {'threshold': 0.4974873681998599}. Best is trial 0 with value: 0.9402045545701689.\n",
      "[I 2025-07-12 07:41:39,190] Trial 15 finished with value: 0.9402045545701689 and parameters: {'threshold': 0.7879672778608293}. Best is trial 0 with value: 0.9402045545701689.\n",
      "[I 2025-07-12 07:41:40,616] Trial 16 finished with value: 0.9402024849045462 and parameters: {'threshold': 0.30435476701215913}. Best is trial 0 with value: 0.9402045545701689.\n",
      "[I 2025-07-12 07:41:42,077] Trial 17 finished with value: 0.9402045545701689 and parameters: {'threshold': 0.5104005662839222}. Best is trial 0 with value: 0.9402045545701689.\n",
      "[I 2025-07-12 07:41:43,508] Trial 18 finished with value: 0.9402045545701689 and parameters: {'threshold': 0.6957287195605885}. Best is trial 0 with value: 0.9402045545701689.\n",
      "[I 2025-07-12 07:41:44,976] Trial 19 finished with value: 0.9402045545701689 and parameters: {'threshold': 0.8966365000652976}. Best is trial 0 with value: 0.9402045545701689.\n",
      "[I 2025-07-12 07:41:46,405] Trial 20 finished with value: 0.9402024849045462 and parameters: {'threshold': 0.32460876339176337}. Best is trial 0 with value: 0.9402045545701689.\n",
      "[I 2025-07-12 07:41:47,838] Trial 21 finished with value: 0.9402045545701689 and parameters: {'threshold': 0.7165180585523927}. Best is trial 0 with value: 0.9402045545701689.\n",
      "[I 2025-07-12 07:41:49,279] Trial 22 finished with value: 0.9402045545701689 and parameters: {'threshold': 0.8345246295496713}. Best is trial 0 with value: 0.9402045545701689.\n",
      "[I 2025-07-12 07:41:50,714] Trial 23 finished with value: 0.9402045545701689 and parameters: {'threshold': 0.6260373299675259}. Best is trial 0 with value: 0.9402045545701689.\n",
      "[I 2025-07-12 07:41:52,163] Trial 24 finished with value: 0.9402045545701689 and parameters: {'threshold': 0.7523500749709753}. Best is trial 0 with value: 0.9402045545701689.\n",
      "[I 2025-07-12 07:41:53,614] Trial 25 finished with value: 0.9402045545701689 and parameters: {'threshold': 0.5003496737713187}. Best is trial 0 with value: 0.9402045545701689.\n",
      "[I 2025-07-12 07:41:55,061] Trial 26 finished with value: 0.9402045545701689 and parameters: {'threshold': 0.8324848285130587}. Best is trial 0 with value: 0.9402045545701689.\n",
      "[I 2025-07-12 07:41:56,514] Trial 27 finished with value: 0.9402045545701689 and parameters: {'threshold': 0.6320874652969967}. Best is trial 0 with value: 0.9402045545701689.\n",
      "[I 2025-07-12 07:41:57,944] Trial 28 finished with value: 0.9402045545701689 and parameters: {'threshold': 0.5474989192903346}. Best is trial 0 with value: 0.9402045545701689.\n",
      "[I 2025-07-12 07:41:59,400] Trial 29 finished with value: 0.9402045545701689 and parameters: {'threshold': 0.4517688196601034}. Best is trial 0 with value: 0.9402045545701689.\n",
      "[I 2025-07-12 07:42:00,849] Trial 30 finished with value: 0.9402045545701689 and parameters: {'threshold': 0.7459319461253674}. Best is trial 0 with value: 0.9402045545701689.\n",
      "[I 2025-07-12 07:42:02,334] Trial 31 finished with value: 0.9402045545701689 and parameters: {'threshold': 0.5999820720746952}. Best is trial 0 with value: 0.9402045545701689.\n",
      "[I 2025-07-12 07:42:03,773] Trial 32 finished with value: 0.9402045545701689 and parameters: {'threshold': 0.6682872529199708}. Best is trial 0 with value: 0.9402045545701689.\n",
      "[I 2025-07-12 07:42:05,204] Trial 33 finished with value: 0.9402024849045462 and parameters: {'threshold': 0.30101609624873865}. Best is trial 0 with value: 0.9402045545701689.\n",
      "[I 2025-07-12 07:42:06,655] Trial 34 finished with value: 0.9401999674822992 and parameters: {'threshold': 0.1869671850160201}. Best is trial 0 with value: 0.9402045545701689.\n",
      "[I 2025-07-12 07:42:08,095] Trial 35 finished with value: 0.9402045545701689 and parameters: {'threshold': 0.550797933872892}. Best is trial 0 with value: 0.9402045545701689.\n",
      "[I 2025-07-12 07:42:09,535] Trial 36 finished with value: 0.9402045545701689 and parameters: {'threshold': 0.454953907237075}. Best is trial 0 with value: 0.9402045545701689.\n",
      "[I 2025-07-12 07:42:10,975] Trial 37 finished with value: 0.9402045545701689 and parameters: {'threshold': 0.5652001332134649}. Best is trial 0 with value: 0.9402045545701689.\n",
      "[I 2025-07-12 07:42:12,416] Trial 38 finished with value: 0.9402021996634037 and parameters: {'threshold': 0.2369631187820868}. Best is trial 0 with value: 0.9402045545701689.\n",
      "[I 2025-07-12 07:42:13,846] Trial 39 finished with value: 0.9401977662206087 and parameters: {'threshold': 0.11755719858377789}. Best is trial 0 with value: 0.9402045545701689.\n",
      "[I 2025-07-12 07:42:15,282] Trial 40 finished with value: 0.9402045545701689 and parameters: {'threshold': 0.3670840089682314}. Best is trial 0 with value: 0.9402045545701689.\n",
      "[I 2025-07-12 07:42:16,724] Trial 41 finished with value: 0.9402045545701689 and parameters: {'threshold': 0.8348942434079751}. Best is trial 0 with value: 0.9402045545701689.\n",
      "[I 2025-07-12 07:42:18,169] Trial 42 finished with value: 0.9402045545701689 and parameters: {'threshold': 0.7884366840506423}. Best is trial 0 with value: 0.9402045545701689.\n",
      "[I 2025-07-12 07:42:19,621] Trial 43 finished with value: 0.9402045545701689 and parameters: {'threshold': 0.7816021551651773}. Best is trial 0 with value: 0.9402045545701689.\n",
      "[I 2025-07-12 07:42:21,054] Trial 44 finished with value: 0.9402045545701689 and parameters: {'threshold': 0.861195117607386}. Best is trial 0 with value: 0.9402045545701689.\n",
      "[I 2025-07-12 07:42:22,492] Trial 45 finished with value: 0.9402045545701689 and parameters: {'threshold': 0.6876082032743664}. Best is trial 0 with value: 0.9402045545701689.\n",
      "[I 2025-07-12 07:42:23,942] Trial 46 finished with value: 0.9402045545701689 and parameters: {'threshold': 0.7222263464584605}. Best is trial 0 with value: 0.9402045545701689.\n",
      "[I 2025-07-12 07:42:25,378] Trial 47 finished with value: 0.9402045545701689 and parameters: {'threshold': 0.6256505078172596}. Best is trial 0 with value: 0.9402045545701689.\n",
      "[I 2025-07-12 07:42:26,819] Trial 48 finished with value: 0.9402045545701689 and parameters: {'threshold': 0.815318588042218}. Best is trial 0 with value: 0.9402045545701689.\n",
      "[I 2025-07-12 07:42:28,252] Trial 49 finished with value: 0.9402045545701689 and parameters: {'threshold': 0.8986628966078023}. Best is trial 0 with value: 0.9402045545701689.\n",
      "[I 2025-07-12 07:42:28,253] A new study created in memory with name: no-name-57ff2fda-69d2-415d-bb6e-2930f903bc84\n"
     ]
    },
    {
     "name": "stdout",
     "output_type": "stream",
     "text": [
      "✅ Class 1: Threshold = 0.40, F1 = 0.9402\n",
      "🔍 클래스 2 최적 threshold 탐색 중...\n"
     ]
    },
    {
     "name": "stderr",
     "output_type": "stream",
     "text": [
      "[I 2025-07-12 07:42:29,670] Trial 0 finished with value: 0.9401801144574661 and parameters: {'threshold': 0.39963209507789}. Best is trial 0 with value: 0.9401801144574661.\n",
      "[I 2025-07-12 07:42:31,090] Trial 1 finished with value: 0.9402045545701689 and parameters: {'threshold': 0.8605714451279329}. Best is trial 1 with value: 0.9402045545701689.\n",
      "[I 2025-07-12 07:42:32,506] Trial 2 finished with value: 0.9402045545701689 and parameters: {'threshold': 0.685595153449124}. Best is trial 1 with value: 0.9402045545701689.\n",
      "[I 2025-07-12 07:42:33,935] Trial 3 finished with value: 0.9402045545701689 and parameters: {'threshold': 0.5789267873576293}. Best is trial 1 with value: 0.9402045545701689.\n",
      "[I 2025-07-12 07:42:35,326] Trial 4 finished with value: 0.9371288319287449 and parameters: {'threshold': 0.22481491235394924}. Best is trial 1 with value: 0.9402045545701689.\n",
      "[I 2025-07-12 07:42:36,730] Trial 5 finished with value: 0.9371288319287449 and parameters: {'threshold': 0.22479561626896213}. Best is trial 1 with value: 0.9402045545701689.\n",
      "[I 2025-07-12 07:42:38,117] Trial 6 finished with value: 0.9315606414802512 and parameters: {'threshold': 0.14646688973455957}. Best is trial 1 with value: 0.9402045545701689.\n",
      "[I 2025-07-12 07:42:39,536] Trial 7 finished with value: 0.9402045545701689 and parameters: {'threshold': 0.7929409166199481}. Best is trial 1 with value: 0.9402045545701689.\n",
      "[I 2025-07-12 07:42:40,950] Trial 8 finished with value: 0.9402045545701689 and parameters: {'threshold': 0.5808920093945671}. Best is trial 1 with value: 0.9402045545701689.\n",
      "[I 2025-07-12 07:42:42,357] Trial 9 finished with value: 0.9402045545701689 and parameters: {'threshold': 0.6664580622368363}. Best is trial 1 with value: 0.9402045545701689.\n",
      "[I 2025-07-12 07:42:43,788] Trial 10 finished with value: 0.9402045545701689 and parameters: {'threshold': 0.8835958756953938}. Best is trial 1 with value: 0.9402045545701689.\n",
      "[I 2025-07-12 07:42:45,211] Trial 11 finished with value: 0.9402045545701689 and parameters: {'threshold': 0.7472674761587765}. Best is trial 1 with value: 0.9402045545701689.\n",
      "[I 2025-07-12 07:42:46,642] Trial 12 finished with value: 0.9402045545701689 and parameters: {'threshold': 0.8832497265793668}. Best is trial 1 with value: 0.9402045545701689.\n",
      "[I 2025-07-12 07:42:48,055] Trial 13 finished with value: 0.9401901531264368 and parameters: {'threshold': 0.46382348815008834}. Best is trial 1 with value: 0.9402045545701689.\n",
      "[I 2025-07-12 07:42:49,470] Trial 14 finished with value: 0.9402045545701689 and parameters: {'threshold': 0.7468324065820414}. Best is trial 1 with value: 0.9402045545701689.\n",
      "[I 2025-07-12 07:42:50,901] Trial 15 finished with value: 0.9402045545701689 and parameters: {'threshold': 0.650943528802668}. Best is trial 1 with value: 0.9402045545701689.\n",
      "[I 2025-07-12 07:42:52,325] Trial 16 finished with value: 0.9402045545701689 and parameters: {'threshold': 0.8111402351234562}. Best is trial 1 with value: 0.9402045545701689.\n",
      "[I 2025-07-12 07:42:53,754] Trial 17 finished with value: 0.9400623336917323 and parameters: {'threshold': 0.3790547674484292}. Best is trial 1 with value: 0.9402045545701689.\n",
      "[I 2025-07-12 07:42:55,163] Trial 18 finished with value: 0.9402045545701689 and parameters: {'threshold': 0.6810198800597109}. Best is trial 1 with value: 0.9402045545701689.\n",
      "[I 2025-07-12 07:42:56,574] Trial 19 finished with value: 0.9402045545701689 and parameters: {'threshold': 0.5624159803358557}. Best is trial 1 with value: 0.9402045545701689.\n",
      "[I 2025-07-12 07:42:58,014] Trial 20 finished with value: 0.9402045545701689 and parameters: {'threshold': 0.841293183615389}. Best is trial 1 with value: 0.9402045545701689.\n",
      "[I 2025-07-12 07:42:59,414] Trial 21 finished with value: 0.9402045545701689 and parameters: {'threshold': 0.5500777261838011}. Best is trial 1 with value: 0.9402045545701689.\n",
      "[I 2025-07-12 07:43:00,861] Trial 22 finished with value: 0.9402045545701689 and parameters: {'threshold': 0.7244281646370184}. Best is trial 1 with value: 0.9402045545701689.\n",
      "[I 2025-07-12 07:43:02,269] Trial 23 finished with value: 0.9401791071524034 and parameters: {'threshold': 0.484915543739563}. Best is trial 1 with value: 0.9402045545701689.\n",
      "[I 2025-07-12 07:43:03,680] Trial 24 finished with value: 0.9402045545701689 and parameters: {'threshold': 0.6066587506515378}. Best is trial 1 with value: 0.9402045545701689.\n",
      "[I 2025-07-12 07:43:05,096] Trial 25 finished with value: 0.9402045545701689 and parameters: {'threshold': 0.6222488703245691}. Best is trial 1 with value: 0.9402045545701689.\n",
      "[I 2025-07-12 07:43:06,498] Trial 26 finished with value: 0.9401918937231571 and parameters: {'threshold': 0.4132984237853226}. Best is trial 1 with value: 0.9402045545701689.\n",
      "[I 2025-07-12 07:43:07,933] Trial 27 finished with value: 0.9402045545701689 and parameters: {'threshold': 0.7141007981606331}. Best is trial 1 with value: 0.9402045545701689.\n",
      "[I 2025-07-12 07:43:09,323] Trial 28 finished with value: 0.9402045545701689 and parameters: {'threshold': 0.5272300061600459}. Best is trial 1 with value: 0.9402045545701689.\n",
      "[I 2025-07-12 07:43:10,754] Trial 29 finished with value: 0.9402045545701689 and parameters: {'threshold': 0.7940761108215963}. Best is trial 1 with value: 0.9402045545701689.\n",
      "[I 2025-07-12 07:43:12,168] Trial 30 finished with value: 0.9401895518286564 and parameters: {'threshold': 0.43375158230630684}. Best is trial 1 with value: 0.9402045545701689.\n",
      "[I 2025-07-12 07:43:13,603] Trial 31 finished with value: 0.9402045545701689 and parameters: {'threshold': 0.7904482457053954}. Best is trial 1 with value: 0.9402045545701689.\n",
      "[I 2025-07-12 07:43:15,048] Trial 32 finished with value: 0.9402045545701689 and parameters: {'threshold': 0.8382786017177115}. Best is trial 1 with value: 0.9402045545701689.\n",
      "[I 2025-07-12 07:43:16,457] Trial 33 finished with value: 0.9395342540545076 and parameters: {'threshold': 0.31958797862598476}. Best is trial 1 with value: 0.9402045545701689.\n",
      "[I 2025-07-12 07:43:17,883] Trial 34 finished with value: 0.9402045545701689 and parameters: {'threshold': 0.768424779941592}. Best is trial 1 with value: 0.9402045545701689.\n",
      "[I 2025-07-12 07:43:19,299] Trial 35 finished with value: 0.9402045545701689 and parameters: {'threshold': 0.7025795152211778}. Best is trial 1 with value: 0.9402045545701689.\n",
      "[I 2025-07-12 07:43:20,720] Trial 36 finished with value: 0.9402045545701689 and parameters: {'threshold': 0.8971389937013551}. Best is trial 1 with value: 0.9402045545701689.\n",
      "[I 2025-07-12 07:43:22,154] Trial 37 finished with value: 0.9402045545701689 and parameters: {'threshold': 0.6390913191524017}. Best is trial 1 with value: 0.9402045545701689.\n",
      "[I 2025-07-12 07:43:23,568] Trial 38 finished with value: 0.9402045545701689 and parameters: {'threshold': 0.8302763803024921}. Best is trial 1 with value: 0.9402045545701689.\n",
      "[I 2025-07-12 07:43:25,018] Trial 39 finished with value: 0.9402045545701689 and parameters: {'threshold': 0.59750172817098}. Best is trial 1 with value: 0.9402045545701689.\n",
      "[I 2025-07-12 07:43:26,432] Trial 40 finished with value: 0.9402045545701689 and parameters: {'threshold': 0.8577883018896408}. Best is trial 1 with value: 0.9402045545701689.\n",
      "[I 2025-07-12 07:43:27,851] Trial 41 finished with value: 0.9402045545701689 and parameters: {'threshold': 0.5851972488735928}. Best is trial 1 with value: 0.9402045545701689.\n",
      "[I 2025-07-12 07:43:29,271] Trial 42 finished with value: 0.9402045545701689 and parameters: {'threshold': 0.6688092939321122}. Best is trial 1 with value: 0.9402045545701689.\n",
      "[I 2025-07-12 07:43:30,678] Trial 43 finished with value: 0.9402045545701689 and parameters: {'threshold': 0.5285546469583786}. Best is trial 1 with value: 0.9402045545701689.\n",
      "[I 2025-07-12 07:43:32,131] Trial 44 finished with value: 0.9402045545701689 and parameters: {'threshold': 0.7751840813689561}. Best is trial 1 with value: 0.9402045545701689.\n",
      "[I 2025-07-12 07:43:33,545] Trial 45 finished with value: 0.9402045545701689 and parameters: {'threshold': 0.7430338004880447}. Best is trial 1 with value: 0.9402045545701689.\n",
      "[I 2025-07-12 07:43:34,982] Trial 46 finished with value: 0.9402045545701689 and parameters: {'threshold': 0.6916344520096321}. Best is trial 1 with value: 0.9402045545701689.\n",
      "[I 2025-07-12 07:43:36,369] Trial 47 finished with value: 0.934768768767828 and parameters: {'threshold': 0.18355386487993247}. Best is trial 1 with value: 0.9402045545701689.\n",
      "[I 2025-07-12 07:43:37,791] Trial 48 finished with value: 0.9402045545701689 and parameters: {'threshold': 0.8660896180893302}. Best is trial 1 with value: 0.9402045545701689.\n",
      "[I 2025-07-12 07:43:39,219] Trial 49 finished with value: 0.9402045545701689 and parameters: {'threshold': 0.64563327811279}. Best is trial 1 with value: 0.9402045545701689.\n",
      "[I 2025-07-12 07:43:39,220] A new study created in memory with name: no-name-a4e8aba0-e72e-488f-ba42-607b5cdbf061\n"
     ]
    },
    {
     "name": "stdout",
     "output_type": "stream",
     "text": [
      "✅ Class 2: Threshold = 0.86, F1 = 0.9402\n",
      "🔍 클래스 3 최적 threshold 탐색 중...\n"
     ]
    },
    {
     "name": "stderr",
     "output_type": "stream",
     "text": [
      "[I 2025-07-12 07:43:40,592] Trial 0 finished with value: 0.9405997987105775 and parameters: {'threshold': 0.39963209507789}. Best is trial 0 with value: 0.9405997987105775.\n",
      "[I 2025-07-12 07:43:42,009] Trial 1 finished with value: 0.9402045545701689 and parameters: {'threshold': 0.8605714451279329}. Best is trial 0 with value: 0.9405997987105775.\n",
      "[I 2025-07-12 07:43:43,379] Trial 2 finished with value: 0.9402045545701689 and parameters: {'threshold': 0.685595153449124}. Best is trial 0 with value: 0.9405997987105775.\n",
      "[I 2025-07-12 07:43:44,742] Trial 3 finished with value: 0.9402045545701689 and parameters: {'threshold': 0.5789267873576293}. Best is trial 0 with value: 0.9405997987105775.\n",
      "[I 2025-07-12 07:43:46,092] Trial 4 finished with value: 0.9261227286857233 and parameters: {'threshold': 0.22481491235394924}. Best is trial 0 with value: 0.9405997987105775.\n",
      "[I 2025-07-12 07:43:47,425] Trial 5 finished with value: 0.9261176414579574 and parameters: {'threshold': 0.22479561626896213}. Best is trial 0 with value: 0.9405997987105775.\n",
      "[I 2025-07-12 07:43:48,746] Trial 6 finished with value: 0.9071408343814258 and parameters: {'threshold': 0.14646688973455957}. Best is trial 0 with value: 0.9405997987105775.\n",
      "[I 2025-07-12 07:43:50,137] Trial 7 finished with value: 0.9402045545701689 and parameters: {'threshold': 0.7929409166199481}. Best is trial 0 with value: 0.9405997987105775.\n",
      "[I 2025-07-12 07:43:51,503] Trial 8 finished with value: 0.9402045545701689 and parameters: {'threshold': 0.5808920093945671}. Best is trial 0 with value: 0.9405997987105775.\n",
      "[I 2025-07-12 07:43:52,908] Trial 9 finished with value: 0.9402045545701689 and parameters: {'threshold': 0.6664580622368363}. Best is trial 0 with value: 0.9405997987105775.\n",
      "[I 2025-07-12 07:43:54,260] Trial 10 finished with value: 0.9405921961281463 and parameters: {'threshold': 0.3995813040557826}. Best is trial 0 with value: 0.9405997987105775.\n",
      "[I 2025-07-12 07:43:55,626] Trial 11 finished with value: 0.9406262540716109 and parameters: {'threshold': 0.4019391356970298}. Best is trial 11 with value: 0.9406262540716109.\n",
      "[I 2025-07-12 07:43:56,973] Trial 12 finished with value: 0.9401759087589175 and parameters: {'threshold': 0.38283027293012994}. Best is trial 11 with value: 0.9406262540716109.\n",
      "[I 2025-07-12 07:43:58,319] Trial 13 finished with value: 0.9409700563655081 and parameters: {'threshold': 0.4205462049399089}. Best is trial 13 with value: 0.9409700563655081.\n",
      "[I 2025-07-12 07:43:59,702] Trial 14 finished with value: 0.9404631143808757 and parameters: {'threshold': 0.4797022177558181}. Best is trial 13 with value: 0.9409700563655081.\n",
      "[I 2025-07-12 07:44:01,068] Trial 15 finished with value: 0.9382643072587968 and parameters: {'threshold': 0.34045185843947684}. Best is trial 13 with value: 0.9409700563655081.\n",
      "[I 2025-07-12 07:44:02,440] Trial 16 finished with value: 0.9355488611214176 and parameters: {'threshold': 0.30435476701215913}. Best is trial 13 with value: 0.9409700563655081.\n",
      "[I 2025-07-12 07:44:03,814] Trial 17 finished with value: 0.9402045545701689 and parameters: {'threshold': 0.5223560152982821}. Best is trial 13 with value: 0.9409700563655081.\n",
      "[I 2025-07-12 07:44:05,190] Trial 18 finished with value: 0.9401977510352673 and parameters: {'threshold': 0.49571544113764343}. Best is trial 13 with value: 0.9409700563655081.\n",
      "[I 2025-07-12 07:44:06,509] Trial 19 finished with value: 0.8922796282436619 and parameters: {'threshold': 0.11054138597067237}. Best is trial 13 with value: 0.9409700563655081.\n",
      "[I 2025-07-12 07:44:07,834] Trial 20 finished with value: 0.9296638087207088 and parameters: {'threshold': 0.24896658426974375}. Best is trial 13 with value: 0.9409700563655081.\n",
      "[I 2025-07-12 07:44:09,188] Trial 21 finished with value: 0.94099917424407 and parameters: {'threshold': 0.4258627465671748}. Best is trial 21 with value: 0.94099917424407.\n",
      "[I 2025-07-12 07:44:10,555] Trial 22 finished with value: 0.9407829266365217 and parameters: {'threshold': 0.4585756970251515}. Best is trial 21 with value: 0.94099917424407.\n",
      "[I 2025-07-12 07:44:11,913] Trial 23 finished with value: 0.9407679422708755 and parameters: {'threshold': 0.45916446643669057}. Best is trial 21 with value: 0.94099917424407.\n",
      "[I 2025-07-12 07:44:13,294] Trial 24 finished with value: 0.9402045545701689 and parameters: {'threshold': 0.5721111703724729}. Best is trial 21 with value: 0.94099917424407.\n",
      "[I 2025-07-12 07:44:14,681] Trial 25 finished with value: 0.9402045545701689 and parameters: {'threshold': 0.6682811793811779}. Best is trial 21 with value: 0.94099917424407.\n",
      "[I 2025-07-12 07:44:16,030] Trial 26 finished with value: 0.9352642827761556 and parameters: {'threshold': 0.3012271593361271}. Best is trial 21 with value: 0.94099917424407.\n",
      "[I 2025-07-12 07:44:17,404] Trial 27 finished with value: 0.9408283594577096 and parameters: {'threshold': 0.45532658711683754}. Best is trial 21 with value: 0.94099917424407.\n",
      "[I 2025-07-12 07:44:18,744] Trial 28 finished with value: 0.9388101175403778 and parameters: {'threshold': 0.3486569335977008}. Best is trial 21 with value: 0.94099917424407.\n",
      "[I 2025-07-12 07:44:20,127] Trial 29 finished with value: 0.9402045545701689 and parameters: {'threshold': 0.5416209920604154}. Best is trial 21 with value: 0.94099917424407.\n",
      "[I 2025-07-12 07:44:21,481] Trial 30 finished with value: 0.9409834527937567 and parameters: {'threshold': 0.441258066058576}. Best is trial 21 with value: 0.94099917424407.\n",
      "[I 2025-07-12 07:44:22,846] Trial 31 finished with value: 0.9409584886874888 and parameters: {'threshold': 0.43499156718574183}. Best is trial 21 with value: 0.94099917424407.\n",
      "[I 2025-07-12 07:44:24,226] Trial 32 finished with value: 0.9408719032788626 and parameters: {'threshold': 0.41451378726121463}. Best is trial 21 with value: 0.94099917424407.\n",
      "[I 2025-07-12 07:44:25,605] Trial 33 finished with value: 0.9402045545701689 and parameters: {'threshold': 0.6221449601799849}. Best is trial 21 with value: 0.94099917424407.\n",
      "[I 2025-07-12 07:44:26,958] Trial 34 finished with value: 0.9390873386658105 and parameters: {'threshold': 0.35313771052493353}. Best is trial 21 with value: 0.94099917424407.\n",
      "[I 2025-07-12 07:44:28,304] Trial 35 finished with value: 0.9410045654598581 and parameters: {'threshold': 0.427050119620704}. Best is trial 35 with value: 0.9410045654598581.\n",
      "[I 2025-07-12 07:44:29,641] Trial 36 finished with value: 0.932988836346636 and parameters: {'threshold': 0.2774311353566561}. Best is trial 35 with value: 0.9410045654598581.\n",
      "[I 2025-07-12 07:44:31,066] Trial 37 finished with value: 0.9402045545701689 and parameters: {'threshold': 0.8968132253979484}. Best is trial 35 with value: 0.9410045654598581.\n",
      "[I 2025-07-12 07:44:32,475] Trial 38 finished with value: 0.9402045545701689 and parameters: {'threshold': 0.7775968987109325}. Best is trial 35 with value: 0.9410045654598581.\n",
      "[I 2025-07-12 07:44:33,808] Trial 39 finished with value: 0.9176657283489804 and parameters: {'threshold': 0.18369046235197664}. Best is trial 35 with value: 0.9410045654598581.\n",
      "[I 2025-07-12 07:44:35,180] Trial 40 finished with value: 0.9402045545701689 and parameters: {'threshold': 0.5253265443809704}. Best is trial 35 with value: 0.9410045654598581.\n",
      "[I 2025-07-12 07:44:36,536] Trial 41 finished with value: 0.941014318094746 and parameters: {'threshold': 0.43118890851770914}. Best is trial 41 with value: 0.941014318094746.\n",
      "[I 2025-07-12 07:44:37,901] Trial 42 finished with value: 0.9401837866615222 and parameters: {'threshold': 0.3833105998707506}. Best is trial 41 with value: 0.941014318094746.\n",
      "[I 2025-07-12 07:44:39,254] Trial 43 finished with value: 0.9409892457337762 and parameters: {'threshold': 0.43235912969968976}. Best is trial 41 with value: 0.941014318094746.\n",
      "[I 2025-07-12 07:44:40,629] Trial 44 finished with value: 0.9401956015437178 and parameters: {'threshold': 0.497668314888682}. Best is trial 41 with value: 0.941014318094746.\n",
      "[I 2025-07-12 07:44:42,017] Trial 45 finished with value: 0.9402045545701689 and parameters: {'threshold': 0.6157389482144684}. Best is trial 41 with value: 0.941014318094746.\n",
      "[I 2025-07-12 07:44:43,362] Trial 46 finished with value: 0.9389856192860919 and parameters: {'threshold': 0.3514296138284976}. Best is trial 41 with value: 0.941014318094746.\n",
      "[I 2025-07-12 07:44:44,714] Trial 47 finished with value: 0.940156905555949 and parameters: {'threshold': 0.3821693716246829}. Best is trial 41 with value: 0.941014318094746.\n",
      "[I 2025-07-12 07:44:46,077] Trial 48 finished with value: 0.9402045545701689 and parameters: {'threshold': 0.5566508120696188}. Best is trial 41 with value: 0.941014318094746.\n",
      "[I 2025-07-12 07:44:47,428] Trial 49 finished with value: 0.9359089899516944 and parameters: {'threshold': 0.30893276209985737}. Best is trial 41 with value: 0.941014318094746.\n",
      "[I 2025-07-12 07:44:47,429] A new study created in memory with name: no-name-bbeb1b9f-05bd-4d5d-8224-ce943320a377\n"
     ]
    },
    {
     "name": "stdout",
     "output_type": "stream",
     "text": [
      "✅ Class 3: Threshold = 0.43, F1 = 0.9410\n",
      "🔍 클래스 4 최적 threshold 탐색 중...\n"
     ]
    },
    {
     "name": "stderr",
     "output_type": "stream",
     "text": [
      "[I 2025-07-12 07:44:48,359] Trial 0 finished with value: 0.9364449145706779 and parameters: {'threshold': 0.39963209507789}. Best is trial 0 with value: 0.9364449145706779.\n",
      "[I 2025-07-12 07:44:49,330] Trial 1 finished with value: 0.9402045545701689 and parameters: {'threshold': 0.8605714451279329}. Best is trial 1 with value: 0.9402045545701689.\n",
      "[I 2025-07-12 07:44:50,288] Trial 2 finished with value: 0.9402045545701689 and parameters: {'threshold': 0.685595153449124}. Best is trial 1 with value: 0.9402045545701689.\n",
      "[I 2025-07-12 07:44:51,257] Trial 3 finished with value: 0.9402045545701689 and parameters: {'threshold': 0.5789267873576293}. Best is trial 1 with value: 0.9402045545701689.\n",
      "[I 2025-07-12 07:44:52,148] Trial 4 finished with value: 0.9189410728068801 and parameters: {'threshold': 0.22481491235394924}. Best is trial 1 with value: 0.9402045545701689.\n",
      "[I 2025-07-12 07:44:53,057] Trial 5 finished with value: 0.9189410728068801 and parameters: {'threshold': 0.22479561626896213}. Best is trial 1 with value: 0.9402045545701689.\n",
      "[I 2025-07-12 07:44:53,951] Trial 6 finished with value: 0.9014380893259484 and parameters: {'threshold': 0.14646688973455957}. Best is trial 1 with value: 0.9402045545701689.\n",
      "[I 2025-07-12 07:44:54,939] Trial 7 finished with value: 0.9402045545701689 and parameters: {'threshold': 0.7929409166199481}. Best is trial 1 with value: 0.9402045545701689.\n",
      "[I 2025-07-12 07:44:55,878] Trial 8 finished with value: 0.9402045545701689 and parameters: {'threshold': 0.5808920093945671}. Best is trial 1 with value: 0.9402045545701689.\n",
      "[I 2025-07-12 07:44:56,827] Trial 9 finished with value: 0.9402045545701689 and parameters: {'threshold': 0.6664580622368363}. Best is trial 1 with value: 0.9402045545701689.\n",
      "[I 2025-07-12 07:44:57,832] Trial 10 finished with value: 0.9402045545701689 and parameters: {'threshold': 0.8835958756953938}. Best is trial 1 with value: 0.9402045545701689.\n",
      "[I 2025-07-12 07:44:58,828] Trial 11 finished with value: 0.9402045545701689 and parameters: {'threshold': 0.7472674761587765}. Best is trial 1 with value: 0.9402045545701689.\n",
      "[I 2025-07-12 07:44:59,817] Trial 12 finished with value: 0.9402045545701689 and parameters: {'threshold': 0.8832497265793668}. Best is trial 1 with value: 0.9402045545701689.\n",
      "[I 2025-07-12 07:45:00,748] Trial 13 finished with value: 0.9392919705628582 and parameters: {'threshold': 0.46382348815008834}. Best is trial 1 with value: 0.9402045545701689.\n",
      "[I 2025-07-12 07:45:01,716] Trial 14 finished with value: 0.9402045545701689 and parameters: {'threshold': 0.7468324065820414}. Best is trial 1 with value: 0.9402045545701689.\n",
      "[I 2025-07-12 07:45:02,659] Trial 15 finished with value: 0.9402045545701689 and parameters: {'threshold': 0.650943528802668}. Best is trial 1 with value: 0.9402045545701689.\n",
      "[I 2025-07-12 07:45:03,632] Trial 16 finished with value: 0.9402045545701689 and parameters: {'threshold': 0.8111402351234562}. Best is trial 1 with value: 0.9402045545701689.\n",
      "[I 2025-07-12 07:45:04,579] Trial 17 finished with value: 0.9351982024918444 and parameters: {'threshold': 0.3790547674484292}. Best is trial 1 with value: 0.9402045545701689.\n",
      "[I 2025-07-12 07:45:05,523] Trial 18 finished with value: 0.9402045545701689 and parameters: {'threshold': 0.6810198800597109}. Best is trial 1 with value: 0.9402045545701689.\n",
      "[I 2025-07-12 07:45:06,459] Trial 19 finished with value: 0.9402045545701689 and parameters: {'threshold': 0.5624159803358557}. Best is trial 1 with value: 0.9402045545701689.\n",
      "[I 2025-07-12 07:45:07,445] Trial 20 finished with value: 0.9402045545701689 and parameters: {'threshold': 0.841293183615389}. Best is trial 1 with value: 0.9402045545701689.\n",
      "[I 2025-07-12 07:45:08,414] Trial 21 finished with value: 0.9402045545701689 and parameters: {'threshold': 0.5500777261838011}. Best is trial 1 with value: 0.9402045545701689.\n",
      "[I 2025-07-12 07:45:09,366] Trial 22 finished with value: 0.9402045545701689 and parameters: {'threshold': 0.7244281646370184}. Best is trial 1 with value: 0.9402045545701689.\n",
      "[I 2025-07-12 07:45:10,297] Trial 23 finished with value: 0.9399190420378681 and parameters: {'threshold': 0.484915543739563}. Best is trial 1 with value: 0.9402045545701689.\n",
      "[I 2025-07-12 07:45:11,277] Trial 24 finished with value: 0.9402045545701689 and parameters: {'threshold': 0.6066587506515378}. Best is trial 1 with value: 0.9402045545701689.\n",
      "[I 2025-07-12 07:45:12,222] Trial 25 finished with value: 0.9402045545701689 and parameters: {'threshold': 0.6222488703245691}. Best is trial 1 with value: 0.9402045545701689.\n",
      "[I 2025-07-12 07:45:13,138] Trial 26 finished with value: 0.9372735272601764 and parameters: {'threshold': 0.4132984237853226}. Best is trial 1 with value: 0.9402045545701689.\n",
      "[I 2025-07-12 07:45:14,089] Trial 27 finished with value: 0.9402045545701689 and parameters: {'threshold': 0.7141007981606331}. Best is trial 1 with value: 0.9402045545701689.\n",
      "[I 2025-07-12 07:45:15,040] Trial 28 finished with value: 0.9402045545701689 and parameters: {'threshold': 0.5272300061600459}. Best is trial 1 with value: 0.9402045545701689.\n",
      "[I 2025-07-12 07:45:16,030] Trial 29 finished with value: 0.9402045545701689 and parameters: {'threshold': 0.7940761108215963}. Best is trial 1 with value: 0.9402045545701689.\n",
      "[I 2025-07-12 07:45:16,949] Trial 30 finished with value: 0.9380686584066391 and parameters: {'threshold': 0.43375158230630684}. Best is trial 1 with value: 0.9402045545701689.\n",
      "[I 2025-07-12 07:45:17,920] Trial 31 finished with value: 0.9402045545701689 and parameters: {'threshold': 0.7904482457053954}. Best is trial 1 with value: 0.9402045545701689.\n",
      "[I 2025-07-12 07:45:18,931] Trial 32 finished with value: 0.9402045545701689 and parameters: {'threshold': 0.8382786017177115}. Best is trial 1 with value: 0.9402045545701689.\n",
      "[I 2025-07-12 07:45:19,842] Trial 33 finished with value: 0.930598244998986 and parameters: {'threshold': 0.31958797862598476}. Best is trial 1 with value: 0.9402045545701689.\n",
      "[I 2025-07-12 07:45:20,818] Trial 34 finished with value: 0.9402045545701689 and parameters: {'threshold': 0.768424779941592}. Best is trial 1 with value: 0.9402045545701689.\n",
      "[I 2025-07-12 07:45:21,818] Trial 35 finished with value: 0.9402045545701689 and parameters: {'threshold': 0.7025795152211778}. Best is trial 1 with value: 0.9402045545701689.\n",
      "[I 2025-07-12 07:45:22,816] Trial 36 finished with value: 0.9402045545701689 and parameters: {'threshold': 0.8971389937013551}. Best is trial 1 with value: 0.9402045545701689.\n",
      "[I 2025-07-12 07:45:23,759] Trial 37 finished with value: 0.9402045545701689 and parameters: {'threshold': 0.6390913191524017}. Best is trial 1 with value: 0.9402045545701689.\n",
      "[I 2025-07-12 07:45:24,742] Trial 38 finished with value: 0.9402045545701689 and parameters: {'threshold': 0.8302763803024921}. Best is trial 1 with value: 0.9402045545701689.\n",
      "[I 2025-07-12 07:45:25,701] Trial 39 finished with value: 0.9402045545701689 and parameters: {'threshold': 0.59750172817098}. Best is trial 1 with value: 0.9402045545701689.\n",
      "[I 2025-07-12 07:45:26,685] Trial 40 finished with value: 0.9402045545701689 and parameters: {'threshold': 0.8577883018896408}. Best is trial 1 with value: 0.9402045545701689.\n",
      "[I 2025-07-12 07:45:27,620] Trial 41 finished with value: 0.9402045545701689 and parameters: {'threshold': 0.5851972488735928}. Best is trial 1 with value: 0.9402045545701689.\n",
      "[I 2025-07-12 07:45:28,579] Trial 42 finished with value: 0.9402045545701689 and parameters: {'threshold': 0.6688092939321122}. Best is trial 1 with value: 0.9402045545701689.\n",
      "[I 2025-07-12 07:45:29,505] Trial 43 finished with value: 0.9402045545701689 and parameters: {'threshold': 0.5285546469583786}. Best is trial 1 with value: 0.9402045545701689.\n",
      "[I 2025-07-12 07:45:30,469] Trial 44 finished with value: 0.9402045545701689 and parameters: {'threshold': 0.7751840813689561}. Best is trial 1 with value: 0.9402045545701689.\n",
      "[I 2025-07-12 07:45:31,451] Trial 45 finished with value: 0.9402045545701689 and parameters: {'threshold': 0.7430338004880447}. Best is trial 1 with value: 0.9402045545701689.\n",
      "[I 2025-07-12 07:45:32,433] Trial 46 finished with value: 0.9402045545701689 and parameters: {'threshold': 0.6916344520096321}. Best is trial 1 with value: 0.9402045545701689.\n",
      "[I 2025-07-12 07:45:33,323] Trial 47 finished with value: 0.9109892081823189 and parameters: {'threshold': 0.18355386487993247}. Best is trial 1 with value: 0.9402045545701689.\n",
      "[I 2025-07-12 07:45:34,308] Trial 48 finished with value: 0.9402045545701689 and parameters: {'threshold': 0.8660896180893302}. Best is trial 1 with value: 0.9402045545701689.\n",
      "[I 2025-07-12 07:45:35,266] Trial 49 finished with value: 0.9402045545701689 and parameters: {'threshold': 0.64563327811279}. Best is trial 1 with value: 0.9402045545701689.\n"
     ]
    },
    {
     "name": "stdout",
     "output_type": "stream",
     "text": [
      "✅ Class 4: Threshold = 0.86, F1 = 0.9402\n",
      "\n",
      "🎯 클래스별 Best Threshold 리스트:\n",
      "  Class 0: 0.19\n",
      "  Class 1: 0.40\n",
      "  Class 2: 0.86\n",
      "  Class 3: 0.43\n",
      "  Class 4: 0.86\n"
     ]
    }
   ],
   "source": [
    "import optuna\n",
    "from sklearn.metrics import f1_score\n",
    "import pandas as pd\n",
    "import matplotlib.pyplot as plt\n",
    "import seaborn as sns\n",
    "\n",
    "# ✅ 확률 예측 (없을 경우 추가)\n",
    "# X_val과 xgb_model, y_val이 이미 있어야 함\n",
    "y_val_proba = xgb_model.predict_proba(X_val)\n",
    "\n",
    "# ✅ 결과 저장 리스트\n",
    "best_thresholds = []\n",
    "best_f1s = []\n",
    "\n",
    "# ✅ 클래스 수 자동 감지\n",
    "n_classes = y_val_proba.shape[1]\n",
    "\n",
    "# ✅ 클래스별로 반복 실행\n",
    "for class_idx in range(n_classes):\n",
    "    print(f\"🔍 클래스 {class_idx} 최적 threshold 탐색 중...\")\n",
    "\n",
    "    target_class = class_idx  # 외부에서 objective 함수가 참조함\n",
    "\n",
    "    def objective(trial):\n",
    "        threshold = trial.suggest_float(\"threshold\", 0.1, 0.9)\n",
    "        y_pred = []\n",
    "        for row in y_val_proba:\n",
    "            if row[target_class] >= threshold:\n",
    "                y_pred.append(target_class)\n",
    "            else:\n",
    "                y_pred.append(np.argmax(row))\n",
    "        return f1_score(y_val, y_pred, average='weighted')\n",
    "\n",
    "    study = optuna.create_study(direction=\"maximize\", sampler=optuna.samplers.TPESampler(seed=42))\n",
    "    study.optimize(objective, n_trials=50)\n",
    "\n",
    "    best_thresh = study.best_params[\"threshold\"]\n",
    "    best_f1 = study.best_value\n",
    "\n",
    "    best_thresholds.append(best_thresh)\n",
    "    best_f1s.append(best_f1)\n",
    "\n",
    "    print(f\"✅ Class {class_idx}: Threshold = {best_thresh:.2f}, F1 = {best_f1:.4f}\")\n",
    "\n",
    "# ✅ 최종 확인\n",
    "print(\"\\n🎯 클래스별 Best Threshold 리스트:\")\n",
    "for idx, t in enumerate(best_thresholds):\n",
    "    print(f\"  Class {idx}: {t:.2f}\")"
   ]
  },
  {
   "cell_type": "code",
   "execution_count": 11,
   "metadata": {},
   "outputs": [
    {
     "data": {
      "image/png": "[encoded data removed]",
      "text/plain": [
       "<Figure size 1000x600 with 2 Axes>"
      ]
     },
     "metadata": {},
     "output_type": "display_data"
    }
   ],
   "source": [
    "# ✅ 결과 시각화\n",
    "df_thresh = pd.DataFrame({\n",
    "    \"Segment\": le_y.inverse_transform(list(range(n_classes))),\n",
    "    \"Best_Threshold\": best_thresholds,\n",
    "    \"Best_F1\": best_f1s\n",
    "})\n",
    "\n",
    "fig, ax1 = plt.subplots(figsize=(10, 6))\n",
    "\n",
    "# Threshold 막대\n",
    "sns.barplot(data=df_thresh, x=\"Segment\", y=\"Best_Threshold\", color=\"skyblue\", ax=ax1)\n",
    "ax1.set_ylabel(\"Best Threshold\", color=\"skyblue\")\n",
    "ax1.tick_params(axis='y', labelcolor=\"skyblue\")\n",
    "\n",
    "# F1 선 그래프 추가\n",
    "ax2 = ax1.twinx()\n",
    "sns.lineplot(data=df_thresh, x=\"Segment\", y=\"Best_F1\", color=\"orange\", marker=\"o\", ax=ax2)\n",
    "ax2.set_ylabel(\"Best F1 Score\", color=\"orange\")\n",
    "ax2.tick_params(axis='y', labelcolor=\"orange\")\n",
    "\n",
    "plt.title(\"Segment별 Best Threshold + F1 Score (Optuna)\")\n",
    "plt.tight_layout()\n",
    "plt.show()"
   ]
  },
  {
   "cell_type": "code",
   "execution_count": 12,
   "metadata": {},
   "outputs": [
    {
     "name": "stdout",
     "output_type": "stream",
     "text": [
      "\n",
      "📊 Classification Report (Best Threshold 적용):\n",
      "              precision    recall  f1-score   support\n",
      "\n",
      "           A       0.90      0.86      0.88       195\n",
      "           B       1.00      0.79      0.88        29\n",
      "           C       0.88      0.74      0.80     25518\n",
      "           D       0.81      0.82      0.82     69848\n",
      "           E       0.97      0.98      0.97    384410\n",
      "\n",
      "    accuracy                           0.94    480000\n",
      "   macro avg       0.91      0.84      0.87    480000\n",
      "weighted avg       0.94      0.94      0.94    480000\n",
      "\n"
     ]
    }
   ],
   "source": [
    "from sklearn.metrics import classification_report\n",
    "\n",
    "# ✅ 먼저 threshold 기반 예측 함수 정의\n",
    "def predict_with_thresholds(y_proba, thresholds, exclude_from_fallback=None):\n",
    "    preds = []\n",
    "    for row in y_proba:\n",
    "        candidates = [i for i, p in enumerate(row) if p >= thresholds[i]]\n",
    "        if candidates:\n",
    "            preds.append(candidates[np.argmax([row[i] for i in candidates])])\n",
    "        else:\n",
    "            row_copy = row.copy()\n",
    "            if exclude_from_fallback is not None:\n",
    "                for idx in exclude_from_fallback:\n",
    "                    row_copy[idx] = -1\n",
    "            preds.append(np.argmax(row_copy))\n",
    "    return np.array(preds)\n",
    "\n",
    "# ✅ threshold 적용 예측\n",
    "y_val_pred_encoded = predict_with_thresholds(y_val_proba, best_thresholds)\n",
    "y_val_pred = le_y.inverse_transform(y_val_pred_encoded)\n",
    "y_val_true = le_y.inverse_transform(y_val)\n",
    "\n",
    "# ✅ classification report 출력\n",
    "print(\"\\n📊 Classification Report (Best Threshold 적용):\")\n",
    "print(classification_report(y_val_true, y_val_pred, target_names=le_y.classes_))"
   ]
  },
  {
   "cell_type": "code",
   "execution_count": 33,
   "metadata": {},
   "outputs": [
    {
     "data": {
      "image/png": "[encoded data removed]",
      "text/plain": [
       "<Figure size 600x500 with 2 Axes>"
      ]
     },
     "metadata": {},
     "output_type": "display_data"
    }
   ],
   "source": [
    "from sklearn.metrics import confusion_matrix\n",
    "import seaborn as sns\n",
    "import matplotlib.pyplot as plt\n",
    "\n",
    "# 혼동 행렬 생성\n",
    "cm = confusion_matrix(y_val_true, y_val_pred, labels=le_y.classes_)\n",
    "\n",
    "# 시각화\n",
    "plt.figure(figsize=(6, 5))\n",
    "sns.set(style=\"white\")\n",
    "\n",
    "# heatmap 그리기 (테두리는 없음)\n",
    "ax = sns.heatmap(\n",
    "    cm,\n",
    "    annot=True,\n",
    "    fmt='d',\n",
    "    cmap='Blues',\n",
    "    xticklabels=le_y.classes_,\n",
    "    yticklabels=le_y.classes_,\n",
    "    cbar=True,\n",
    "    linewidths=0,        # 셀 내부 테두리는 없음\n",
    "    linecolor='white'    # 셀 내부 테두리 색\n",
    ")\n",
    "\n",
    "# ✅ 바깥 테두리 추가\n",
    "# (0,0)을 기준으로 왼쪽 위 꼭짓점부터 시작해서 총 height, width를 덮는 테두리\n",
    "ax.add_patch(plt.Rectangle(\n",
    "    (0, 0),                # 왼쪽 아래 좌표\n",
    "    cm.shape[1],           # 너비 (열 개수)\n",
    "    cm.shape[0],           # 높이 (행 개수)\n",
    "    fill=False,\n",
    "    edgecolor='black',     # 검정 테두리\n",
    "    lw=1.5                 # 얇은 선 두께\n",
    "))\n",
    "\n",
    "plt.xlabel(\"Predicted label\")\n",
    "plt.ylabel(\"True label\")\n",
    "plt.title(\"Confusion Matrix (with Best Thresholds)\", pad=12)\n",
    "plt.tight_layout()\n",
    "plt.show()"
   ]
  },
  {
   "cell_type": "code",
   "execution_count": 4,
   "metadata": {
    "id": "iAZ_Fc9uik7T"
   },
   "outputs": [
    {
     "ename": "NameError",
     "evalue": "name 'xgb_model' is not defined",
     "output_type": "error",
     "traceback": [
      "\u001b[1;31m---------------------------------------------------------------------------\u001b[0m",
      "\u001b[1;31mNameError\u001b[0m                                 Traceback (most recent call last)",
      "Cell \u001b[1;32mIn[4], line 4\u001b[0m\n\u001b[0;32m      1\u001b[0m \u001b[38;5;28;01mfrom\u001b[39;00m\u001b[38;5;250m \u001b[39m\u001b[38;5;21;01msklearn\u001b[39;00m\u001b[38;5;21;01m.\u001b[39;00m\u001b[38;5;21;01mexceptions\u001b[39;00m\u001b[38;5;250m \u001b[39m\u001b[38;5;28;01mimport\u001b[39;00m NotFittedError\n\u001b[0;32m      3\u001b[0m \u001b[38;5;28;01mtry\u001b[39;00m:\n\u001b[1;32m----> 4\u001b[0m     \u001b[43mxgb_model\u001b[49m\u001b[38;5;241m.\u001b[39mpredict(X_scaled[:\u001b[38;5;241m5\u001b[39m])\n\u001b[0;32m      5\u001b[0m     \u001b[38;5;28mprint\u001b[39m(\u001b[38;5;124m\"\u001b[39m\u001b[38;5;124m✅ 모델이 학습되어 있습니다.\u001b[39m\u001b[38;5;124m\"\u001b[39m)\n\u001b[0;32m      6\u001b[0m \u001b[38;5;28;01mexcept\u001b[39;00m NotFittedError:\n",
      "\u001b[1;31mNameError\u001b[0m: name 'xgb_model' is not defined"
     ]
    }
   ],
   "source": [
    "from sklearn.exceptions import NotFittedError\n",
    "\n",
    "try:\n",
    "    xgb_model.predict(X_scaled[:5])\n",
    "    print(\"✅ 모델이 학습되어 있습니다.\")\n",
    "except NotFittedError:\n",
    "    print(\"❌ 모델이 아직 학습되지 않았습니다.\")\n"
   ]
  },
  {
   "cell_type": "code",
   "execution_count": 15,
   "metadata": {
    "colab": {
     "base_uri": "https://localhost:8080/"
    },
    "executionInfo": {
     "elapsed": 37,
     "status": "ok",
     "timestamp": 1751966014131,
     "user": {
      "displayName": "7 TEAM",
      "userId": "08970391605587455613"
     },
     "user_tz": -540
    },
    "id": "81EDK-0Lp0lb",
    "outputId": "b634c233-cdb8-4c97-8126-f4cbdce6144d"
   },
   "outputs": [
    {
     "name": "stdout",
     "output_type": "stream",
     "text": [
      "Counter({4: 1922052, 3: 349242, 2: 127590, 0: 972, 1: 144})\n"
     ]
    }
   ],
   "source": [
    "from collections import Counter\n",
    "print(Counter(y_encoded))"
   ]
  },
  {
   "cell_type": "code",
   "execution_count": 16,
   "metadata": {},
   "outputs": [
    {
     "name": "stdout",
     "output_type": "stream",
     "text": [
      "✅ 모델, 전처리기 및 최적 threshold 저장 완료 (models 폴더)\n"
     ]
    }
   ],
   "source": [
    "import joblib\n",
    "\n",
    "# ✅ 모델 및 전처리기 저장\n",
    "joblib.dump(xgb_model, \"models/xgb_model.pkl\")\n",
    "joblib.dump(scaler, \"models/scaler.pkl\")\n",
    "joblib.dump(imputer, \"models/imputer.pkl\")\n",
    "joblib.dump(le_y, \"models/le_y.pkl\")\n",
    "joblib.dump(best_thresholds, \"models/best_thresholds.pkl\")  # 👈 추가\n",
    "\n",
    "print(\"✅ 모델, 전처리기 및 최적 threshold 저장 완료 (models 폴더)\")"
   ]
  },
  {
   "cell_type": "code",
   "execution_count": 6,
   "metadata": {},
   "outputs": [],
   "source": [
    "import joblib\n",
    "# ✅ 1. 저장된 객체 로드\n",
    "xgb_model = joblib.load(\"models/xgb_model.pkl\")\n",
    "scaler    = joblib.load(\"models/scaler.pkl\")\n",
    "le_y      = joblib.load(\"models/le_y.pkl\")\n",
    "imputer      = joblib.load(\"models/imputer.pkl\")\n",
    "best_thresholds = joblib.load(\"models/best_thresholds.pkl\")"
   ]
  },
  {
   "cell_type": "code",
   "execution_count": 7,
   "metadata": {
    "scrolled": true
   },
   "outputs": [
    {
     "data": {
      "text/plain": [
       "array(['정상입금원금_B2M', '증감율_이용금액_체크_분기', '할부금액_무이자_3M_R12M',\n",
       "       '이용건수_할부_무이자_R12M', '증감율_이용건수_체크_전월', '청구금액_R6M', '홈페이지_금융건수_R6M',\n",
       "       '이용건수_A페이_R6M', '포인트_포인트_월적립_B0M', '제휴연회비_B0M', '증감율_이용건수_할부_전월',\n",
       "       'RV현금서비스이자율_할인전', '상향가능CA한도금액', '컨택건수_신용발급_TM_R6M',\n",
       "       '연속유실적개월수_기본_24M_카드', '컨택건수_이용유도_청구서_B0M', '이용금액_일시불_R6M',\n",
       "       '방문일수_앱_B0M', '승인거절건수_입력오류_R3M', '교통_주유이용금액', 'RP건수_보험_B0M',\n",
       "       '증감율_이용건수_신판_분기', '증감율_이용금액_일시불_전월', '잔액_할부_B0M',\n",
       "       '컨택건수_이용유도_TM_R6M', '포인트_마일리지_환산_B0M', '이용여부_3M_해외겸용_본인',\n",
       "       '기본연회비_B0M', 'CA한도금액', '청구서발송여부_R6M', 'RP후경과월', '연체잔액_RV일시불_B0M',\n",
       "       '방문일수_앱_R6M', '탈회횟수_발급1년이내', '최대이용금액_일시불_R12M', '변동률_RVCA평잔',\n",
       "       '쇼핑_마트_이용금액', '마일_적립포인트_R3M', '최초한도금액', '컨택건수_이용유도_EM_B0M',\n",
       "       '이용건수_C페이_R6M', '인입일수_ARS_B0M', '컨택건수_이용유도_EM_R6M', 'RP건수_통신_B0M',\n",
       "       '연체감액여부_R3M', '이용후경과월_체크', '유효카드수_신용체크', '정상청구원금_B5M',\n",
       "       '증감율_이용금액_신용_전월', '이용가맹점수', '포인트_포인트_건별_B0M', '컨택건수_이용유도_인터넷_R6M',\n",
       "       '평잔_6M', '잔액_신판ca최대한도소진율_r6m', '마일_잔여포인트_B0M', '승인거절건수_한도초과_R3M',\n",
       "       '당사멤버쉽_방문횟수_R6M', '이용금액_할부_무이자_R6M', '이용금액_R3M_신용', '정상청구원금_B0M',\n",
       "       '남녀구분코드', '이용건수_신용_B0M', '이용건수_일시불_R12M', '증감율_이용금액_신용_분기',\n",
       "       '평잔_CA_3M', '할인건수_R3M', '선입금원금_B2M', 'RP건수_교통_B0M', '일시상환론한도금액',\n",
       "       '이용금액_할부_R12M', '이용금액_할부_무이자_R12M', '회원여부_연체', 'CA이자율_할인전',\n",
       "       '한도증액금액_R12M', 'RV일시불이자율_할인전', '컨택건수_이용유도_청구서_R6M', '변동률_RV일시불평잔',\n",
       "       '잔액_신판평균한도소진율_r6m', '이용건수_온라인_R6M', '여유_숙박이용금액', '이용건수_신용_R6M',\n",
       "       '이용후경과월_일시불', '연체입금원금_B0M', '청구서발송여부_R3M', '이용건수_D페이_R6M',\n",
       "       '포인트_이용포인트_R12M', '카드이용한도금액', '이용후경과월_신용', '연회비발생카드수_B0M',\n",
       "       'RV약정청구율', '할부건수_3M_R12M', '증감율_이용금액_신판_전월', '변동률_할부평잔',\n",
       "       '포인트_마일리지_월적립_B0M', '특별한도보유여부_R3M', '잔액_신판최대한도소진율_r6m',\n",
       "       '청구서발송여부_B0', '인입횟수_IB_R6M', '평잔_일시불_해외_6M', '쇼핑_도소매_이용금액',\n",
       "       '이용건수_신용_R12M', '일시불ONLY전환가능여부', '이용금액_일시불_B0M', '할부금액_3M_R12M',\n",
       "       '카드론이용금액_누적', 'RV_평균잔액_R3M', '이용금액_오프라인_B0M', '이용금액_해외',\n",
       "       '방문횟수_앱_B0M', '쇼핑_온라인_이용금액', '정상입금원금_B0M', '이용건수_선결제_R6M',\n",
       "       '_1순위카드이용금액', '잔액_일시불_B0M', '청구금액_R3M', '월상환론한도금액', '상담건수_R6M',\n",
       "       '이용금액_선결제_R6M', '증감율_이용금액_할부_전월', '이용금액_일시불_R12M', '최종카드론_대출금액',\n",
       "       '승인거절건수_R3M', '불만제기후경과월_R12M', 'RV최소결제비율', '증감율_이용건수_일시불_분기',\n",
       "       '카드론이용건수_누적', '이용금액_일시불_R3M', '이용금액대', '연체잔액_CA_B0M', '평잔_카드론_3M',\n",
       "       '이용건수_오프라인_B0M', '회원여부_이용가능_카드론', '이용금액_오프라인_R3M', '이용건수_신판_R12M',\n",
       "       '잔액_할부_무이자_B0M', '이용금액_R3M_신용체크', '할인금액_R3M', '교통_정비이용금액',\n",
       "       '_1순위업종_이용금액', '최종카드론_대출이율', '컨택건수_이용유도_LMS_R6M', '입회경과개월수_신용',\n",
       "       '거주시도명', '연체원금_최근', '인입월수_IB_R6M', '연체잔액_B0M', '평잔_일시불_3M',\n",
       "       '동의여부_한도증액안내', '홈페이지_선결제건수_R6M', '포인트_마일리지_건별_B0M', '혜택수혜금액_R3M',\n",
       "       '증감율_이용건수_CA_전월', '변동률_카드론평잔', '방문월수_PC_R6M', '정상입금원금_B5M',\n",
       "       '한도증액횟수_R12M', '할부건수_무이자_3M_R12M', '정상청구원금_B2M', '보유여부_해외겸용_본인',\n",
       "       '매각잔액_B1M', '이용금액_오프라인_R6M', '할인건수_B0M', '잔액_신판ca평균한도소진율_r6m',\n",
       "       '이용카드수_신용체크', '청구금액_B0', '월상환론상향가능한도금액', 'RP건수_B0M', '탈회횟수_누적',\n",
       "       '이용건수_페이_온라인_R6M', '이용금액_할부_무이자_R3M', 'R_score', 'F_score',\n",
       "       'M_score'], dtype=object)"
      ]
     },
     "execution_count": 7,
     "metadata": {},
     "output_type": "execute_result"
    }
   ],
   "source": [
    "imputer.feature_names_in_"
   ]
  },
  {
   "cell_type": "code",
   "execution_count": 19,
   "metadata": {
    "scrolled": true
   },
   "outputs": [
    {
     "name": "stdout",
     "output_type": "stream",
     "text": [
      "📌 총 컬럼 수: 174개\n",
      "\n",
      "🧾 전체 컬럼 목록:\n",
      "['정상입금원금_B2M', '증감율_이용금액_체크_분기', '할부금액_무이자_3M_R12M', '이용건수_할부_무이자_R12M', '증감율_이용건수_체크_전월', '청구금액_R6M', '홈페이지_금융건수_R6M', '이용건수_A페이_R6M', '포인트_포인트_월적립_B0M', '제휴연회비_B0M', '증감율_이용건수_할부_전월', 'RV현금서비스이자율_할인전', '상향가능CA한도금액', '컨택건수_신용발급_TM_R6M', '연속유실적개월수_기본_24M_카드', '컨택건수_이용유도_청구서_B0M', '이용금액_일시불_R6M', '방문일수_앱_B0M', '승인거절건수_입력오류_R3M', '교통_주유이용금액', 'RP건수_보험_B0M', '증감율_이용건수_신판_분기', '증감율_이용금액_일시불_전월', '잔액_할부_B0M', '컨택건수_이용유도_TM_R6M', '포인트_마일리지_환산_B0M', '이용여부_3M_해외겸용_본인', '기본연회비_B0M', 'CA한도금액', '청구서발송여부_R6M', 'RP후경과월', '연체잔액_RV일시불_B0M', '방문일수_앱_R6M', '탈회횟수_발급1년이내', '최대이용금액_일시불_R12M', '변동률_RVCA평잔', '쇼핑_마트_이용금액', '마일_적립포인트_R3M', '최초한도금액', '컨택건수_이용유도_EM_B0M', '이용건수_C페이_R6M', '인입일수_ARS_B0M', '컨택건수_이용유도_EM_R6M', 'RP건수_통신_B0M', '연체감액여부_R3M', '이용후경과월_체크', '유효카드수_신용체크', '정상청구원금_B5M', '증감율_이용금액_신용_전월', '이용가맹점수', '포인트_포인트_건별_B0M', '컨택건수_이용유도_인터넷_R6M', '평잔_6M', '잔액_신판ca최대한도소진율_r6m', '마일_잔여포인트_B0M', '승인거절건수_한도초과_R3M', '당사멤버쉽_방문횟수_R6M', '이용금액_할부_무이자_R6M', '이용금액_R3M_신용', '정상청구원금_B0M', '남녀구분코드', '이용건수_신용_B0M', '이용건수_일시불_R12M', '증감율_이용금액_신용_분기', '평잔_CA_3M', '할인건수_R3M', '선입금원금_B2M', 'RP건수_교통_B0M', '일시상환론한도금액', '이용금액_할부_R12M', '이용금액_할부_무이자_R12M', '회원여부_연체', 'CA이자율_할인전', '한도증액금액_R12M', 'RV일시불이자율_할인전', '컨택건수_이용유도_청구서_R6M', '변동률_RV일시불평잔', '잔액_신판평균한도소진율_r6m', '이용건수_온라인_R6M', '여유_숙박이용금액', '이용건수_신용_R6M', '이용후경과월_일시불', '연체입금원금_B0M', '청구서발송여부_R3M', '이용건수_D페이_R6M', '포인트_이용포인트_R12M', 'ID', '카드이용한도금액', '이용후경과월_신용', '연회비발생카드수_B0M', 'RV약정청구율', '할부건수_3M_R12M', '증감율_이용금액_신판_전월', '변동률_할부평잔', '포인트_마일리지_월적립_B0M', '특별한도보유여부_R3M', '잔액_신판최대한도소진율_r6m', '청구서발송여부_B0', '인입횟수_IB_R6M', '평잔_일시불_해외_6M', '쇼핑_도소매_이용금액', '이용건수_신용_R12M', '일시불ONLY전환가능여부', '이용금액_일시불_B0M', '할부금액_3M_R12M', '카드론이용금액_누적', 'RV_평균잔액_R3M', '이용금액_오프라인_B0M', '이용금액_해외', '방문횟수_앱_B0M', '쇼핑_온라인_이용금액', '정상입금원금_B0M', '이용건수_선결제_R6M', '_1순위카드이용금액', '잔액_일시불_B0M', '청구금액_R3M', '월상환론한도금액', '상담건수_R6M', '이용금액_선결제_R6M', '증감율_이용금액_할부_전월', '이용금액_일시불_R12M', '최종카드론_대출금액', '승인거절건수_R3M', '불만제기후경과월_R12M', 'RV최소결제비율', '증감율_이용건수_일시불_분기', '카드론이용건수_누적', '이용금액_일시불_R3M', '이용금액대', '연체잔액_CA_B0M', '평잔_카드론_3M', '이용건수_오프라인_B0M', '회원여부_이용가능_카드론', '이용금액_오프라인_R3M', '이용건수_신판_R12M', '잔액_할부_무이자_B0M', '이용금액_R3M_신용체크', '할인금액_R3M', '교통_정비이용금액', '_1순위업종_이용금액', '최종카드론_대출이율', '컨택건수_이용유도_LMS_R6M', '입회경과개월수_신용', '거주시도명', '연체원금_최근', '인입월수_IB_R6M', '연체잔액_B0M', '평잔_일시불_3M', '동의여부_한도증액안내', '홈페이지_선결제건수_R6M', '포인트_마일리지_건별_B0M', '혜택수혜금액_R3M', '증감율_이용건수_CA_전월', '변동률_카드론평잔', '방문월수_PC_R6M', '정상입금원금_B5M', '한도증액횟수_R12M', '할부건수_무이자_3M_R12M', '정상청구원금_B2M', '보유여부_해외겸용_본인', '매각잔액_B1M', '이용금액_오프라인_R6M', '할인건수_B0M', '잔액_신판ca평균한도소진율_r6m', '이용카드수_신용체크', '청구금액_B0', '월상환론상향가능한도금액', 'RP건수_B0M', '탈회횟수_누적', '이용건수_페이_온라인_R6M', '이용금액_할부_무이자_R3M', 'R_score', 'F_score', 'M_score']\n",
      "\n",
      "🔍 결측치 개수:\n",
      "정상입금원금_B2M        0\n",
      "증감율_이용금액_할부_전월    0\n",
      "정상입금원금_B0M        0\n",
      "이용건수_선결제_R6M      0\n",
      "_1순위카드이용금액        0\n",
      "                 ..\n",
      "정상청구원금_B0M        0\n",
      "남녀구분코드            0\n",
      "이용건수_신용_B0M       0\n",
      "이용건수_일시불_R12M     0\n",
      "M_score           0\n",
      "Length: 174, dtype: int64\n",
      "\n",
      "📊 데이터 타입 요약:\n",
      "int64      142\n",
      "float64     25\n",
      "object       7\n",
      "Name: count, dtype: int64\n",
      "\n",
      "🧪 상위 5개 데이터 미리보기:\n",
      "   정상입금원금_B2M  증감율_이용금액_체크_분기  할부금액_무이자_3M_R12M  이용건수_할부_무이자_R12M  \\\n",
      "0        1172        0.000000                 0                 0   \n",
      "1        4509       -0.079054             10005                23   \n",
      "2       11366        0.000000             10239                 9   \n",
      "3         875        0.000000              2109                 0   \n",
      "4        1618        0.016203              9884                 8   \n",
      "\n",
      "   증감율_이용건수_체크_전월  청구금액_R6M  홈페이지_금융건수_R6M  이용건수_A페이_R6M  포인트_포인트_월적립_B0M  \\\n",
      "0        0.000000     22151              0             0                0   \n",
      "1        0.011254     32878              0             0                0   \n",
      "2        0.000000     71867              0             0                0   \n",
      "3        0.000000      4986              0             0                0   \n",
      "4       -0.379615     10758              0             0                0   \n",
      "\n",
      "   제휴연회비_B0M  ...  이용카드수_신용체크  청구금액_B0  월상환론상향가능한도금액  RP건수_B0M  탈회횟수_누적  \\\n",
      "0          0  ...           2     4931            18         2        1   \n",
      "1          0  ...           2    10152             0         0        2   \n",
      "2          0  ...           2    13223             0         2        2   \n",
      "3          0  ...           1     2112             0         3        0   \n",
      "4          0  ...           3     4406             0         2        0   \n",
      "\n",
      "   이용건수_페이_온라인_R6M  이용금액_할부_무이자_R3M  R_score  F_score  M_score  \n",
      "0                6                0        2        3        3  \n",
      "1               10             8927        2        3        4  \n",
      "2                1                0        1        4        4  \n",
      "3                0             2739        3        4        2  \n",
      "4                0             5846        4        3        2  \n",
      "\n",
      "[5 rows x 174 columns]\n"
     ]
    }
   ],
   "source": [
    "import pandas as pd\n",
    "\n",
    "# ✅ 병합 완료된 테스트 데이터 불러오기\n",
    "test_df = pd.read_parquet(\"data/통합_test_병합완료.parquet\")\n",
    "\n",
    "# ✅ 전체 컬럼 수 및 미리보기\n",
    "print(f\"📌 총 컬럼 수: {len(test_df.columns)}개\")\n",
    "print(\"\\n🧾 전체 컬럼 목록:\")\n",
    "print(test_df.columns.tolist())\n",
    "\n",
    "# ✅ 결측치 개수 확인\n",
    "print(\"\\n🔍 결측치 개수:\")\n",
    "print(test_df.isnull().sum().sort_values(ascending=False))\n",
    "\n",
    "# ✅ 데이터 타입 요약\n",
    "print(\"\\n📊 데이터 타입 요약:\")\n",
    "print(test_df.dtypes.value_counts())\n",
    "\n",
    "# ✅ 상위 5개 행 확인 (선택)\n",
    "print(\"\\n🧪 상위 5개 데이터 미리보기:\")\n",
    "print(test_df.head())"
   ]
  },
  {
   "cell_type": "code",
   "execution_count": 8,
   "metadata": {
    "id": "yJgC4tuwRsX_"
   },
   "outputs": [
    {
     "name": "stdout",
     "output_type": "stream",
     "text": [
      "✅ 예측 완료 및 저장: submission_20250712.csv\n"
     ]
    }
   ],
   "source": [
    "from datetime import datetime\n",
    "\n",
    "\n",
    "# ✅ 2. 테스트 데이터 불러오기 (병합 및 전처리된 상태라고 가정)\n",
    "test_df = pd.read_parquet(\"data/통합_test_병합완료.parquet\")\n",
    "\n",
    "# ✅ 3. 피처 선택\n",
    "all_features = list(imputer.feature_names_in_)  # 학습 시 사용한 피처 순서 그대로\n",
    "# 입력 데이터 구성\n",
    "X_test = test_df[all_features].copy()\n",
    "\n",
    "# ✅ 4. 범주형 인코딩 (1차: 사용자 정의 함수)\n",
    "X_test = map_categorical_columns(X_test, verbose=False)\n",
    "\n",
    "# ✅ 4-1. 남은 object 컬럼이 있다면 추가 인코딩\n",
    "remaining_obj_cols = X_test.select_dtypes(include='object').columns.tolist()\n",
    "if remaining_obj_cols:\n",
    "    print(f\"🚨 추가 인코딩 대상 컬럼: {remaining_obj_cols}\")\n",
    "    for col in remaining_obj_cols:\n",
    "        le = LabelEncoder()\n",
    "        X_test[col] = le.fit_transform(X_test[col].astype(str))\n",
    "\n",
    "\n",
    "# ✅ 5. 결측치 처리 및 스케일링\n",
    "X_test = pd.DataFrame(imputer.transform(X_test), columns=X_test.columns)\n",
    "X_test_scaled = scaler.transform(X_test)\n",
    "\n",
    "# ✅ 6. 예측 확률 계산\n",
    "y_test_proba = xgb_model.predict_proba(X_test_scaled)\n",
    "\n",
    "# ✅ 7. Threshold 기반 예측 함수\n",
    "def predict_with_thresholds(y_proba, thresholds, exclude_from_fallback=None):\n",
    "    preds = []\n",
    "    for row in y_proba:\n",
    "        candidates = [i for i, p in enumerate(row) if p >= thresholds[i]]\n",
    "        if candidates:\n",
    "            preds.append(candidates[np.argmax([row[i] for i in candidates])])\n",
    "        else:\n",
    "            row_copy = row.copy()\n",
    "            if exclude_from_fallback is not None:\n",
    "                for idx in exclude_from_fallback:\n",
    "                    row_copy[idx] = -1\n",
    "            preds.append(np.argmax(row_copy))\n",
    "    return np.array(preds)\n",
    "\n",
    "# ✅ 8. Threshold 적용 예측\n",
    "a_index = le_y.transform(['A'])[0]\n",
    "\n",
    "y_test_pred_encoded = predict_with_thresholds(\n",
    "    y_test_proba, best_thresholds, exclude_from_fallback=[a_index]\n",
    ")\n",
    "y_test_pred = le_y.inverse_transform(y_test_pred_encoded)\n",
    "\n",
    "# ✅ 9. 결과 저장\n",
    "submission = pd.DataFrame({\n",
    "    'ID': test_df['ID'],\n",
    "    'Segment': y_test_pred\n",
    "})\n",
    "submission = submission.drop_duplicates(subset='ID', keep='first')\n",
    "\n",
    "today = datetime.now().strftime('%Y%m%d')\n",
    "submission.to_csv(f\"submission_{today}.csv\", index=False)\n",
    "print(f\"✅ 예측 완료 및 저장: submission_{today}.csv\")"
   ]
  },
  {
   "cell_type": "code",
   "execution_count": 9,
   "metadata": {
    "id": "1roZms8ASB_l"
   },
   "outputs": [
    {
     "name": "stdout",
     "output_type": "stream",
     "text": [
      "📊 예측된 Segment 분포:\n",
      "Segment\n",
      "A       151\n",
      "B         5\n",
      "C     25496\n",
      "D     87604\n",
      "E    486744\n",
      "Name: count, dtype: int64\n",
      "\n",
      "📈 비율 (%):\n",
      "Segment\n",
      "A     0.03\n",
      "B     0.00\n",
      "C     4.25\n",
      "D    14.60\n",
      "E    81.12\n",
      "Name: proportion, dtype: float64\n"
     ]
    }
   ],
   "source": [
    "import pandas as pd\n",
    "\n",
    "# 예측 결과를 Series로 변환\n",
    "y_series = pd.Series(y_test_pred, name=\"Segment\")\n",
    "\n",
    "# 분포 확인 (클래스별 건수 + 비율)\n",
    "print(\"📊 예측된 Segment 분포:\")\n",
    "print(y_series.value_counts().sort_index())      # 클래스별 개수\n",
    "print(\"\\n📈 비율 (%):\")\n",
    "print((y_series.value_counts(normalize=True).sort_index() * 100).round(2))"
   ]
  },
  {
   "cell_type": "code",
   "execution_count": 18,
   "metadata": {},
   "outputs": [],
   "source": [
    "# ✅ 그래프 설정\n",
    "plt.rcParams['font.family'] = 'Malgun Gothic'  # Mac은 'AppleGothic'\n",
    "plt.rcParams['figure.figsize'] = (12, 6)\n",
    "plt.rcParams['font.size'] = 13\n",
    "plt.rcParams['axes.unicode_minus'] = False"
   ]
  },
  {
   "cell_type": "code",
   "execution_count": 31,
   "metadata": {},
   "outputs": [
    {
     "data": {
      "image/png": "[encoded data removed]",
      "text/plain": [
       "<Figure size 1000x600 with 1 Axes>"
      ]
     },
     "metadata": {},
     "output_type": "display_data"
    }
   ],
   "source": [
    "import matplotlib.pyplot as plt\n",
    "import seaborn as sns\n",
    "import pandas as pd\n",
    "\n",
    "# ✅ 기본 설정\n",
    "plt.rcParams.update({\n",
    "    'font.family': 'Malgun Gothic',  # 또는 'AppleGothic'\n",
    "    'font.size': 14,\n",
    "    'axes.unicode_minus': False\n",
    "})\n",
    "\n",
    "# ✅ 중요도 정리\n",
    "feature_names = imputer.feature_names_in_  # 또는 all_features\n",
    "importances = xgb_model.feature_importances_\n",
    "\n",
    "importance_df = (\n",
    "    pd.DataFrame({'Feature': feature_names, 'Importance': importances})\n",
    "    .sort_values(by=\"Importance\", ascending=False)\n",
    ")\n",
    "\n",
    "# ✅ 시각화\n",
    "plt.figure(figsize=(10, 6))  # 위 코드 스타일로 사이즈 맞춤\n",
    "sns.barplot(data=importance_df.head(15), x=\"Importance\", y=\"Feature\", palette=\"viridis\")\n",
    "plt.title(\"Top 15 Feature Importances\")\n",
    "plt.tight_layout()\n",
    "plt.show()"
   ]
  },
  {
   "cell_type": "markdown",
   "metadata": {},
   "source": [
    "| 기준         | 의미 설명                                     |\n",
    "| ---------- | ----------------------------------------- |\n",
    "| **weight** | 피처가 트리에서 split에 사용된 횟수 (기본값)              |\n",
    "| **gain**   | 해당 피처로 split했을 때의 평균 손실 감소량 → 가장 해석적으로 중요 |\n",
    "| **cover**  | 해당 피처로 split된 샘플들의 평균 커버리지 (샘플 수 기반)      |\n"
   ]
  },
  {
   "cell_type": "code",
   "execution_count": null,
   "metadata": {},
   "outputs": [],
   "source": []
  }
 ],
 "metadata": {
  "accelerator": "GPU",
  "colab": {
   "authorship_tag": "ABX9TyPzV2fP2PmqALTQ4RUHzlH9",
   "gpuType": "T4",
   "machine_shape": "hm",
   "provenance": [
    {
     "file_id": "1yWpr7Ysn7b8GVWzgnLf24odQWHDdWD2l",
     "timestamp": 1751966016908
    }
   ]
  },
  "kernelspec": {
   "display_name": "Python 3 (ipykernel)",
   "language": "python",
   "name": "python3"
  },
  "language_info": {
   "codemirror_mode": {
    "name": "ipython",
    "version": 3
   },
   "file_extension": ".py",
   "mimetype": "text/x-python",
   "name": "python",
   "nbconvert_exporter": "python",
   "pygments_lexer": "ipython3",
   "version": "3.10.16"
  }
 },
 "nbformat": 4,
 "nbformat_minor": 4
}
