{
 "cells": [
  {
   "cell_type": "code",
   "execution_count": 2,
   "metadata": {
    "executionInfo": {
     "elapsed": 40,
     "status": "ok",
     "timestamp": 1752199339010,
     "user": {
      "displayName": "7 TEAM",
      "userId": "08970391605587455613"
     },
     "user_tz": -540
    },
    "id": "vbhwzwQx8Qwl"
   },
   "outputs": [],
   "source": [
    "# 📌 PC1~PC5에서 반복적으로 중요한 변수:\n",
    "pca_cols = [\n",
    "    'CA이자율_할인전', 'CL이자율_할인전', 'RV_평균잔액_R3M', 'RV일시불이자율_할인전', 'RV최소결제비율', 'RV현금서비스이자율_할인전',\n",
    "    '방문월수_앱_R6M', '방문일수_앱_B0M', '방문일수_앱_R6M', '방문횟수_앱_B0M', '방문후경과월_앱_R6M',\n",
    "    '이용금액_R3M_신용', '이용금액_R3M_신용체크', '이용금액_일시불_B0M', '이용금액대',\n",
    "    '일시불ONLY전환가능여부',\n",
    "    '잔액_리볼빙일시불이월_B0M', '잔액_일시불_B0M', '잔액_일시불_B1M', '잔액_일시불_B2M', '잔액_카드론_B0M', '잔액_카드론_B1M', '잔액_카드론_B2M', '잔액_카드론_B3M', '잔액_카드론_B4M', '잔액_카드론_B5M',\n",
    "    '정상청구원금_B0M', '정상청구원금_B2M', '정상청구원금_B5M',\n",
    "    '청구금액_B0', '청구금액_R3M', '청구금액_R6M', '최종카드론_대출금액', '카드론이용금액_누적', '평잔_RV일시불_3M', '평잔_RV일시불_6M', '평잔_일시불_3M', '평잔_일시불_6M',\n",
    "    '평잔_카드론_3M', '평잔_카드론_6M', '평잔_할부_3M', '홈페이지_금융건수_R3M', '홈페이지_금융건수_R6M', '홈페이지_선결제건수_R3M', '홈페이지_선결제건수_R6M'\n",
    "    ]"
   ]
  },
  {
   "cell_type": "code",
   "execution_count": 3,
   "metadata": {},
   "outputs": [],
   "source": [
    "pca_cols = list(set(pca_cols))  # 또는 수동으로 중복 제거"
   ]
  },
  {
   "cell_type": "code",
   "execution_count": 4,
   "metadata": {
    "executionInfo": {
     "elapsed": 20,
     "status": "ok",
     "timestamp": 1752199339035,
     "user": {
      "displayName": "7 TEAM",
      "userId": "08970391605587455613"
     },
     "user_tz": -540
    },
    "id": "2SSntcy58VLQ"
   },
   "outputs": [],
   "source": [
    "# Recency\n",
    "recency_cols = [\n",
    "    '입회경과개월수_신용'\n",
    "]\n",
    "\n",
    "# Frequency (최근 6개월간 이용건수)\n",
    "frequency_cols = [\n",
    "    '이용건수_신용_R6M',\n",
    "    '이용건수_체크_R6M'\n",
    "]\n",
    "\n",
    "# Monetary (최근 6개월간 총 이용금액)\n",
    "monetary_cols = [\n",
    "    '이용금액_일시불_R6M',\n",
    "    '이용금액_할부_R6M',\n",
    "    '이용금액_CA_R6M',\n",
    "    '이용금액_체크_R6M',\n",
    "    '이용금액_카드론_R6M'\n",
    "]\n",
    "\n",
    "# 최종 컬럼 목록\n",
    "rfm_cols = recency_cols + frequency_cols + monetary_cols"
   ]
  },
  {
   "cell_type": "code",
   "execution_count": 5,
   "metadata": {
    "executionInfo": {
     "elapsed": 7,
     "status": "ok",
     "timestamp": 1752199354809,
     "user": {
      "displayName": "7 TEAM",
      "userId": "08970391605587455613"
     },
     "user_tz": -540
    },
    "id": "Rri3eTZK8aIL"
   },
   "outputs": [],
   "source": [
    "base_cols = [\"ID\",\"Segment\"]\n",
    "selected_cols = pca_cols + base_cols + rfm_cols"
   ]
  },
  {
   "cell_type": "code",
   "execution_count": 5,
   "metadata": {
    "executionInfo": {
     "elapsed": 33477,
     "status": "ok",
     "timestamp": 1752199388325,
     "user": {
      "displayName": "7 TEAM",
      "userId": "08970391605587455613"
     },
     "user_tz": -540
    },
    "id": "4ZNRGPjO8cQD"
   },
   "outputs": [],
   "source": [
    "import pandas as pd\n",
    "\n",
    "# parquet에서 필요한 컬럼만 불러오기\n",
    "file_path = \"data/통합_train_데이터.parquet\"\n",
    "df = pd.read_parquet(file_path, columns=selected_cols)"
   ]
  },
  {
   "cell_type": "code",
   "execution_count": 6,
   "metadata": {
    "executionInfo": {
     "elapsed": 186,
     "status": "ok",
     "timestamp": 1752199388669,
     "user": {
      "displayName": "7 TEAM",
      "userId": "08970391605587455613"
     },
     "user_tz": -540
    },
    "id": "IduiEz4C8eiw"
   },
   "outputs": [],
   "source": [
    "# Recency는 보통 단일 컬럼이라면 .squeeze() 또는 [0] 인덱스로 접근\n",
    "df['Recency'] = df[recency_cols[0]]\n",
    "\n",
    "# Frequency와 Monetary는 여러 컬럼을 합산하는 것이라 문제 없음\n",
    "df['Frequency'] = df[frequency_cols].sum(axis=1)\n",
    "df['Monetary'] = df[monetary_cols].sum(axis=1)"
   ]
  },
  {
   "cell_type": "code",
   "execution_count": 7,
   "metadata": {
    "id": "6p7w1RK_9Rx_"
   },
   "outputs": [],
   "source": [
    "df = df.drop(columns=rfm_cols)"
   ]
  },
  {
   "cell_type": "code",
   "execution_count": 8,
   "metadata": {
    "executionInfo": {
     "elapsed": 59640,
     "status": "aborted",
     "timestamp": 1752199398360,
     "user": {
      "displayName": "7 TEAM",
      "userId": "08970391605587455613"
     },
     "user_tz": -540
    },
    "id": "aONVHHuVJtyu"
   },
   "outputs": [],
   "source": [
    "# 1. Recency: 오래될수록 좋은 고객 -> 높을수록 점수 높게\n",
    "\n",
    "df['Recency'] = df['Recency'].apply(lambda x: max(x, 0))\n",
    "df['R_score'] = pd.qcut(df['Recency'], 4, labels=[1,2,3,4])\n",
    "\n",
    "\n",
    "# 2. Frequency: 높을수록 점수 높게\n",
    "\n",
    "df['Frequency'] = df['Frequency'].apply(lambda x: max(x, 0))\n",
    "df['F_score'] = pd.qcut(df['Frequency'], 4, labels=[1,2,3,4])\n",
    "\n",
    "# 3. Monetary: 높을수록 점수 높게\n",
    "\n",
    "df['Monetary'] = df['Monetary'].apply(lambda x: max(x, 0))\n",
    "df['M_score'] = pd.qcut(df['Monetary'], 4, labels=[1,2,3,4])"
   ]
  },
  {
   "cell_type": "markdown",
   "metadata": {},
   "source": [
    "### 트레인데이터"
   ]
  },
  {
   "cell_type": "code",
   "execution_count": 9,
   "metadata": {
    "executionInfo": {
     "elapsed": 60285,
     "status": "aborted",
     "timestamp": 1752199399008,
     "user": {
      "displayName": "7 TEAM",
      "userId": "08970391605587455613"
     },
     "user_tz": -540
    },
    "id": "kvcg1-hDKKe5"
   },
   "outputs": [
    {
     "name": "stdout",
     "output_type": "stream",
     "text": [
      "R_score\n",
      "1    617474\n",
      "2    588708\n",
      "3    599235\n",
      "4    594583\n",
      "Name: count, dtype: int64\n",
      "F_score\n",
      "1    607574\n",
      "2    593647\n",
      "3    599365\n",
      "4    599414\n",
      "Name: count, dtype: int64\n",
      "M_score\n",
      "1    600041\n",
      "2    599981\n",
      "3    599980\n",
      "4    599998\n",
      "Name: count, dtype: int64\n"
     ]
    }
   ],
   "source": [
    "print(df['R_score'].value_counts().sort_index())\n",
    "print(df['F_score'].value_counts().sort_index())\n",
    "print(df['M_score'].value_counts().sort_index())"
   ]
  },
  {
   "cell_type": "code",
   "execution_count": 10,
   "metadata": {
    "executionInfo": {
     "elapsed": 60293,
     "status": "aborted",
     "timestamp": 1752199399020,
     "user": {
      "displayName": "7 TEAM",
      "userId": "08970391605587455613"
     },
     "user_tz": -540
    },
    "id": "UZDkl2SFKLmI"
   },
   "outputs": [],
   "source": [
    "# pca + rfm\n",
    "baseline_with_rfm = df.drop(columns = ['Recency', 'Frequency', 'Monetary'])\n",
    "\n",
    "# rfm만\n",
    "rfm_only = df[['R_score', 'F_score', 'M_score', 'ID', 'Segment']]"
   ]
  },
  {
   "cell_type": "code",
   "execution_count": 11,
   "metadata": {
    "id": "juKZCVCAOW0Z"
   },
   "outputs": [],
   "source": [
    "# # Parquet 저장\n",
    "# rfm_only.to_parquet(\"data/rfm_only.parquet\", index=False, encoding='utf-8-sig')\n",
    "\n",
    "# 또는 CSV로 저장하고 싶다면\n",
    "rfm_only.to_csv(\"data/rfm_only.csv\", index=False, encoding='utf-8-sig')"
   ]
  },
  {
   "cell_type": "code",
   "execution_count": 12,
   "metadata": {},
   "outputs": [
    {
     "ename": "ZeroDivisionError",
     "evalue": "division by zero",
     "output_type": "error",
     "traceback": [
      "\u001b[1;31m---------------------------------------------------------------------------\u001b[0m",
      "\u001b[1;31mZeroDivisionError\u001b[0m                         Traceback (most recent call last)",
      "Cell \u001b[1;32mIn[12], line 1\u001b[0m\n\u001b[1;32m----> 1\u001b[0m \u001b[38;5;241;43m10\u001b[39;49m\u001b[38;5;241;43m/\u001b[39;49m\u001b[38;5;241;43m0\u001b[39;49m\n",
      "\u001b[1;31mZeroDivisionError\u001b[0m: division by zero"
     ]
    }
   ],
   "source": [
    "10/0"
   ]
  },
  {
   "cell_type": "markdown",
   "metadata": {},
   "source": [
    "### 테스트 데이터"
   ]
  },
  {
   "cell_type": "code",
   "execution_count": 6,
   "metadata": {
    "executionInfo": {
     "elapsed": 60427,
     "status": "aborted",
     "timestamp": 1752199399161,
     "user": {
      "displayName": "7 TEAM",
      "userId": "08970391605587455613"
     },
     "user_tz": -540
    },
    "id": "2opCw7l_N8SD"
   },
   "outputs": [],
   "source": [
    "base_cols = [\"ID\"]\n",
    "selected_cols = pca_cols + base_cols + rfm_cols"
   ]
  },
  {
   "cell_type": "code",
   "execution_count": 7,
   "metadata": {},
   "outputs": [],
   "source": [
    "import pandas as pd\n",
    "\n",
    "# parquet에서 필요한 컬럼만 불러오기\n",
    "file_path = \"data/통합_test_데이터.parquet\"\n",
    "df = pd.read_parquet(file_path, columns=selected_cols)"
   ]
  },
  {
   "cell_type": "code",
   "execution_count": 8,
   "metadata": {},
   "outputs": [],
   "source": [
    "# Recency는 보통 단일 컬럼이라면 .squeeze() 또는 [0] 인덱스로 접근\n",
    "df['Recency'] = df[recency_cols[0]]\n",
    "\n",
    "# Frequency와 Monetary는 여러 컬럼을 합산하는 것이라 문제 없음\n",
    "df['Frequency'] = df[frequency_cols].sum(axis=1)\n",
    "df['Monetary'] = df[monetary_cols].sum(axis=1)"
   ]
  },
  {
   "cell_type": "code",
   "execution_count": 9,
   "metadata": {},
   "outputs": [],
   "source": [
    "df = df.drop(columns=rfm_cols)"
   ]
  },
  {
   "cell_type": "code",
   "execution_count": 10,
   "metadata": {},
   "outputs": [],
   "source": [
    "# 1. Recency: 오래될수록 좋은 고객 -> 높을수록 점수 높게\n",
    "\n",
    "df['Recency'] = df['Recency'].apply(lambda x: max(x, 0))\n",
    "df['R_score'] = pd.qcut(df['Recency'], 4, labels=[1,2,3,4])\n",
    "\n",
    "\n",
    "# 2. Frequency: 높을수록 점수 높게\n",
    "\n",
    "df['Frequency'] = df['Frequency'].apply(lambda x: max(x, 0))\n",
    "df['F_score'] = pd.qcut(df['Frequency'], 4, labels=[1,2,3,4])\n",
    "\n",
    "# 3. Monetary: 높을수록 점수 높게\n",
    "\n",
    "df['Monetary'] = df['Monetary'].apply(lambda x: max(x, 0))\n",
    "df['M_score'] = pd.qcut(df['Monetary'], 4, labels=[1,2,3,4])"
   ]
  },
  {
   "cell_type": "code",
   "execution_count": 11,
   "metadata": {},
   "outputs": [
    {
     "name": "stdout",
     "output_type": "stream",
     "text": [
      "R_score\n",
      "1    154635\n",
      "2    147670\n",
      "3    148389\n",
      "4    149306\n",
      "Name: count, dtype: int64\n",
      "F_score\n",
      "1    153280\n",
      "2    148589\n",
      "3    148991\n",
      "4    149140\n",
      "Name: count, dtype: int64\n",
      "M_score\n",
      "1    150001\n",
      "2    149999\n",
      "3    150000\n",
      "4    150000\n",
      "Name: count, dtype: int64\n"
     ]
    }
   ],
   "source": [
    "print(df['R_score'].value_counts().sort_index())\n",
    "print(df['F_score'].value_counts().sort_index())\n",
    "print(df['M_score'].value_counts().sort_index())"
   ]
  },
  {
   "cell_type": "code",
   "execution_count": 12,
   "metadata": {},
   "outputs": [],
   "source": [
    "# pca + rfm\n",
    "baseline_with_rfm = df.drop(columns = ['Recency', 'Frequency', 'Monetary'])"
   ]
  },
  {
   "cell_type": "code",
   "execution_count": 15,
   "metadata": {},
   "outputs": [],
   "source": [
    "# RFM 점수만 추출\n",
    "rfm_test_only = df[['R_score', 'F_score', 'M_score', 'ID']]\n",
    "\n",
    "# # Parquet 저장\n",
    "# rfm_test_only.to_parquet(\"data/rfm_test_only.parquet\", index=False)\n",
    "\n",
    "# 또는 CSV 저장\n",
    "rfm_test_only.to_csv(\"data/rfm_test_only.csv\", index=False, encoding='utf-8-sig')"
   ]
  },
  {
   "cell_type": "code",
   "execution_count": null,
   "metadata": {},
   "outputs": [],
   "source": []
  }
 ],
 "metadata": {
  "colab": {
   "authorship_tag": "ABX9TyMJp5SC/FAzj0M29tOaEOXf",
   "machine_shape": "hm",
   "mount_file_id": "1Fu-25uMK0zbKPUtw5hffT6C_MZ_LXSGL",
   "provenance": []
  },
  "kernelspec": {
   "display_name": "Python 3 (ipykernel)",
   "language": "python",
   "name": "python3"
  },
  "language_info": {
   "codemirror_mode": {
    "name": "ipython",
    "version": 3
   },
   "file_extension": ".py",
   "mimetype": "text/x-python",
   "name": "python",
   "nbconvert_exporter": "python",
   "pygments_lexer": "ipython3",
   "version": "3.10.16"
  }
 },
 "nbformat": 4,
 "nbformat_minor": 4
}
