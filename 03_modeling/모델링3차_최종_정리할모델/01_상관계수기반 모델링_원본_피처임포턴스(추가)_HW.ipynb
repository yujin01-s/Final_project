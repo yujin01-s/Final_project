{
 "cells": [
  {
   "cell_type": "code",
   "execution_count": 42,
   "metadata": {},
   "outputs": [],
   "source": [
    "# 기본\n",
    "import pandas as pd\n",
    "import numpy as np\n",
    "import matplotlib.pyplot as plt\n",
    "import seaborn as sns\n",
    "\n",
    "# 경고 뜨지 않게 설정\n",
    "import warnings\n",
    "warnings.filterwarnings('ignore')\n",
    "\n",
    "# 그래프 설정\n",
    "sns.set()\n",
    "\n",
    "# 그래프 기본 설정\n",
    "plt.rcParams['font.family'] = 'Malgun Gothic'\n",
    "# plt.rcParams['font.family'] = 'AppleGothic'\n",
    "plt.rcParams['figure.figsize'] = 12, 6\n",
    "plt.rcParams['font.size'] = 14\n",
    "plt.rcParams['axes.unicode_minus'] = False\n",
    "\n",
    "# 데이터 전처리 알고리즘\n",
    "from sklearn.preprocessing import LabelEncoder\n",
    "from sklearn.preprocessing import StandardScaler\n",
    "\n",
    "# 학습용과 검증용으로 나누는 함수\n",
    "from sklearn.model_selection import train_test_split\n",
    "\n",
    "# 교차 검증\n",
    "from sklearn.model_selection import cross_val_score\n",
    "from sklearn.model_selection import cross_validate\n",
    "from sklearn.model_selection import KFold\n",
    "from sklearn.model_selection import StratifiedKFold\n",
    "\n",
    "# 평가함수\n",
    "# 분류용\n",
    "from sklearn.metrics import accuracy_score\n",
    "from sklearn.metrics import precision_score\n",
    "from sklearn.metrics import recall_score\n",
    "from sklearn.metrics import f1_score\n",
    "from sklearn.metrics import roc_auc_score\n",
    "\n",
    "# 회귀용\n",
    "from sklearn.metrics import r2_score\n",
    "from sklearn.metrics import mean_squared_error\n",
    "\n",
    "# 모델의 최적의 하이퍼 파라미터를 찾기 위한 도구\n",
    "from sklearn.model_selection import GridSearchCV\n",
    "\n",
    "# 머신러닝 알고리즘 - 분류\n",
    "from sklearn.neighbors import KNeighborsClassifier\n",
    "from sklearn.linear_model import LogisticRegression\n",
    "from sklearn.svm import SVC\n",
    "from sklearn.tree import DecisionTreeClassifier\n",
    "from sklearn.ensemble import RandomForestClassifier\n",
    "from sklearn.ensemble import AdaBoostClassifier\n",
    "from sklearn.ensemble import GradientBoostingClassifier\n",
    "from lightgbm import LGBMClassifier\n",
    "from xgboost import XGBClassifier\n",
    "from sklearn.ensemble import VotingClassifier\n",
    "\n",
    "# 머신러닝 알고리즘 - 회귀\n",
    "from sklearn.neighbors import KNeighborsRegressor\n",
    "from sklearn.linear_model import LinearRegression\n",
    "from sklearn.linear_model import Ridge\n",
    "from sklearn.linear_model import Lasso\n",
    "from sklearn.linear_model import ElasticNet\n",
    "from sklearn.svm import SVR\n",
    "from sklearn.tree import DecisionTreeRegressor\n",
    "from sklearn.ensemble import RandomForestRegressor\n",
    "from sklearn.ensemble import AdaBoostRegressor\n",
    "from sklearn.ensemble import GradientBoostingRegressor\n",
    "from lightgbm import LGBMRegressor\n",
    "from xgboost import XGBRegressor\n",
    "from sklearn.ensemble import VotingRegressor\n",
    "\n",
    "# 학습 모델 저장을 위한 라이브러리\n",
    "import pickle\n",
    "\n",
    "# 시간 관련\n",
    "import time\n",
    "import shap"
   ]
  },
  {
   "cell_type": "code",
   "execution_count": 1,
   "metadata": {
    "executionInfo": {
     "elapsed": 26,
     "status": "ok",
     "timestamp": 1751949839468,
     "user": {
      "displayName": "7 TEAM",
      "userId": "08970391605587455613"
     },
     "user_tz": -540
    },
    "id": "yiE9XSRoHJyn"
   },
   "outputs": [],
   "source": [
    "# 1. 회원정보\n",
    "features_member = [\n",
    "    '남녀구분코드',\n",
    "    '회원여부_이용가능_카드론', '입회경과개월수_신용', '회원여부_연체', '동의여부_한도증액안내',\n",
    "    '탈회횟수_누적', '탈회횟수_발급1년이내',\n",
    "    '거주시도명',\n",
    "    '유효카드수_신용체크',\n",
    "    '이용카드수_신용체크',\n",
    "    '이용금액_R3M_신용체크',\n",
    "    '보유여부_해외겸용_본인', '이용여부_3M_해외겸용_본인',\n",
    "    '연회비발생카드수_B0M', '기본연회비_B0M', '제휴연회비_B0M'\n",
    "]"
   ]
  },
  {
   "cell_type": "code",
   "execution_count": 2,
   "metadata": {
    "executionInfo": {
     "elapsed": 20,
     "status": "ok",
     "timestamp": 1751949839490,
     "user": {
      "displayName": "7 TEAM",
      "userId": "08970391605587455613"
     },
     "user_tz": -540
    },
    "id": "b4U11u1PHLlt"
   },
   "outputs": [],
   "source": [
    "# 2. 신용정보\n",
    "features_credit = [\n",
    "    '최초한도금액',\n",
    "    '카드이용한도금액', 'CA한도금액',\n",
    "    '일시상환론한도금액', '월상환론한도금액',\n",
    "    'CA이자율_할인전',\n",
    "    'RV일시불이자율_할인전', 'RV현금서비스이자율_할인전',\n",
    "    'RV약정청구율', 'RV최소결제비율',\n",
    "    '한도증액횟수_R12M',\n",
    "    '한도증액금액_R12M', '상향가능CA한도금액', '월상환론상향가능한도금액',\n",
    "    '일시불ONLY전환가능여부', '특별한도보유여부_R3M', '연체감액여부_R3M'\n",
    "]"
   ]
  },
  {
   "cell_type": "code",
   "execution_count": 3,
   "metadata": {
    "executionInfo": {
     "elapsed": 17,
     "status": "ok",
     "timestamp": 1751949839508,
     "user": {
      "displayName": "7 TEAM",
      "userId": "08970391605587455613"
     },
     "user_tz": -540
    },
    "id": "AziXLIDmHMlH"
   },
   "outputs": [],
   "source": [
    "# 3. 승인매출정보\n",
    "features_tx = [\n",
    "    '이용건수_신용_B0M',\n",
    "    '이용금액_일시불_B0M', '이용후경과월_신용', '이용후경과월_일시불', '이용후경과월_체크',\n",
    "    '이용금액_해외', '쇼핑_도소매_이용금액', '쇼핑_마트_이용금액', '쇼핑_온라인_이용금액',\n",
    "    '교통_주유이용금액', '교통_정비이용금액', '여유_숙박이용금액',\n",
    "    '할부건수_3M_R12M', '할부금액_3M_R12M',\n",
    "    'RP건수_B0M', 'RP건수_통신_B0M', 'RP건수_보험_B0M', 'RP건수_교통_B0M', 'RP후경과월',\n",
    "    '카드론이용건수_누적', '카드론이용금액_누적', '최종카드론_대출이율', '최종카드론_대출금액',\n",
    "    '이용건수_온라인_R6M', '이용건수_페이_온라인_R6M',\n",
    "    '이용건수_A페이_R6M', '이용건수_C페이_R6M', '이용건수_D페이_R6M',\n",
    "    '이용금액_선결제_R6M', '이용건수_선결제_R6M',\n",
    "    '연체입금원금_B0M', '정상청구원금_B5M', '선입금원금_B2M',\n",
    "    '연속유실적개월수_기본_24M_카드',\n",
    "    '승인거절건수_R3M', '승인거절건수_한도초과_R3M',\n",
    "    '이용금액대'  # 범주형\n",
    "]"
   ]
  },
  {
   "cell_type": "code",
   "execution_count": 4,
   "metadata": {
    "executionInfo": {
     "elapsed": 35,
     "status": "ok",
     "timestamp": 1751949839544,
     "user": {
      "displayName": "7 TEAM",
      "userId": "08970391605587455613"
     },
     "user_tz": -540
    },
    "id": "zK9aCkEmHOxw"
   },
   "outputs": [],
   "source": [
    "# 4. 청구입금정보\n",
    "features_bill = [\n",
    "    '청구서발송여부_B0', '청구서발송여부_R3M', '청구서발송여부_R6M',\n",
    "    '청구금액_B0', '청구금액_R3M', '청구금액_R6M',\n",
    "    '포인트_마일리지_건별_B0M', '포인트_포인트_건별_B0M', '포인트_마일리지_월적립_B0M', '포인트_포인트_월적립_B0M',\n",
    "    '마일_적립포인트_R3M', '마일_잔여포인트_B0M', '포인트_이용포인트_R12M',\n",
    "    '할인건수_R3M', '할인금액_R3M', '할인건수_B0M',\n",
    "    '혜택수혜금액_R3M', '포인트_마일리지_환산_B0M'\n",
    "]"
   ]
  },
  {
   "cell_type": "code",
   "execution_count": 5,
   "metadata": {
    "executionInfo": {
     "elapsed": 25,
     "status": "ok",
     "timestamp": 1751949839571,
     "user": {
      "displayName": "7 TEAM",
      "userId": "08970391605587455613"
     },
     "user_tz": -540
    },
    "id": "aqMGB7NlHQ7o"
   },
   "outputs": [],
   "source": [
    "# 5. 잔액정보\n",
    "features_balance = [\n",
    "    '잔액_일시불_B0M', '잔액_할부_B0M',\n",
    "    '연체잔액_B0M',\n",
    "    '연체원금_최근', '매각잔액_B1M',\n",
    "    'RV_평균잔액_R3M',\n",
    "    '연체잔액_RV일시불_B0M', '연체잔액_CA_B0M',\n",
    "    '평잔_일시불_3M',\n",
    "    '평잔_6M', '평잔_카드론_3M', '평잔_CA_3M'\n",
    "]"
   ]
  },
  {
   "cell_type": "code",
   "execution_count": 6,
   "metadata": {
    "executionInfo": {
     "elapsed": 119,
     "status": "ok",
     "timestamp": 1751949839692,
     "user": {
      "displayName": "7 TEAM",
      "userId": "08970391605587455613"
     },
     "user_tz": -540
    },
    "id": "h8KTQPUfHWSk"
   },
   "outputs": [],
   "source": [
    "#6. 채널정보\n",
    "features_channel = [\n",
    "'불만제기후경과월_R12M', '방문일수_앱_R6M', '홈페이지_금융건수_R6M','상담건수_R6M','홈페이지_선결제건수_R6M',\n",
    "'인입월수_IB_R6M','방문일수_앱_B0M','방문횟수_앱_B0M', '인입횟수_IB_R6M', '방문월수_PC_R6M','인입일수_ARS_B0M','당사멤버쉽_방문횟수_R6M'\n",
    "]"
   ]
  },
  {
   "cell_type": "code",
   "execution_count": 7,
   "metadata": {
    "executionInfo": {
     "elapsed": 127,
     "status": "ok",
     "timestamp": 1751949839830,
     "user": {
      "displayName": "7 TEAM",
      "userId": "08970391605587455613"
     },
     "user_tz": -540
    },
    "id": "gYIEf1RAHX-3"
   },
   "outputs": [],
   "source": [
    "# 7. 마케팅정보\n",
    "features_marketing = [\n",
    "'컨택건수_이용유도_EM_B0M', '컨택건수_이용유도_EM_R6M','컨택건수_이용유도_청구서_B0M','컨택건수_이용유도_TM_R6M','컨택건수_신용발급_TM_R6M',\n",
    "    '컨택건수_이용유도_LMS_R6M','컨택건수_이용유도_인터넷_R6M', '컨택건수_이용유도_청구서_R6M'\n",
    "]"
   ]
  },
  {
   "cell_type": "code",
   "execution_count": 8,
   "metadata": {
    "executionInfo": {
     "elapsed": 2,
     "status": "ok",
     "timestamp": 1751949839843,
     "user": {
      "displayName": "7 TEAM",
      "userId": "08970391605587455613"
     },
     "user_tz": -540
    },
    "id": "5iYsGQ1SHbnm"
   },
   "outputs": [],
   "source": [
    "# 8. 성과정보\n",
    "features_perf = [\n",
    "    '증감율_이용건수_할부_전월', '증감율_이용건수_CA_전월', '증감율_이용건수_체크_전월',\n",
    "    '증감율_이용금액_신용_전월', '증감율_이용금액_할부_전월',\n",
    "    '증감율_이용금액_신판_전월', '증감율_이용금액_일시불_전월',\n",
    "    '증감율_이용건수_신판_분기', '증감율_이용건수_일시불_분기',\n",
    "    '증감율_이용금액_신용_분기', '증감율_이용금액_체크_분기',\n",
    "    '잔액_신판평균한도소진율_r6m','잔액_신판최대한도소진율_r6m', '잔액_신판ca평균한도소진율_r6m', '잔액_신판ca최대한도소진율_r6m',\n",
    "    '변동률_RV일시불평잔', '변동률_할부평잔', '변동률_RVCA평잔', '변동률_카드론평잔'\n",
    "]"
   ]
  },
  {
   "cell_type": "code",
   "execution_count": 9,
   "metadata": {
    "executionInfo": {
     "elapsed": 1,
     "status": "ok",
     "timestamp": 1751949839845,
     "user": {
      "displayName": "7 TEAM",
      "userId": "08970391605587455613"
     },
     "user_tz": -540
    },
    "id": "Pg1IG7lZHh2V"
   },
   "outputs": [],
   "source": [
    "selected_feature=(\n",
    "    features_member +\n",
    "    features_credit +\n",
    "    features_tx +\n",
    "    features_bill +\n",
    "    features_balance +\n",
    "    features_channel +\n",
    "    features_marketing +\n",
    "    features_perf\n",
    "    )"
   ]
  },
  {
   "cell_type": "code",
   "execution_count": 10,
   "metadata": {
    "executionInfo": {
     "elapsed": 215,
     "status": "ok",
     "timestamp": 1751949840061,
     "user": {
      "displayName": "7 TEAM",
      "userId": "08970391605587455613"
     },
     "user_tz": -540
    },
    "id": "N1xW6XV1FXk_"
   },
   "outputs": [],
   "source": [
    "# A,B 상관계수 높은 변수 & C, D, E 상관계수 높은 변수 기반 컬럼 선정\n",
    "related_cols = ['할부금액_3M_R12M', '이용금액_할부_무이자_R12M', '이용건수_할부_무이자_R12M', '정상입금원금_B0M', '이용금액_오프라인_R6M', '정상청구원금_B0M', '이용금액_오프라인_R3M', '_1순위카드이용금액', '평잔_일시불_해외_6M', '승인거절건수_입력오류_R3M', '청구금액_R3M', '이용금액_일시불_R12M', '이용금액_할부_무이자_R3M', '이용금액_할부_무이자_R6M', '정상입금원금_B5M', '이용금액_할부_R12M', '마일_적립포인트_R3M', '정상청구원금_B2M', '포인트_마일리지_환산_B0M', '청구금액_B0', '정상입금원금_B2M', '할부건수_무이자_3M_R12M', '정상청구원금_B5M', '청구금액_R6M', '여유_숙박이용금액', '최대이용금액_일시불_R12M', '_1순위업종_이용금액', '잔액_할부_B0M', '할부금액_무이자_3M_R12M', '잔액_할부_무이자_B0M', '이용금액_일시불_R3M', '이용금액_R3M_신용체크', '이용건수_신용_R6M', '이용건수_일시불_R12M', '이용금액_오프라인_B0M', '이용금액_R3M_신용', '이용건수_오프라인_B0M', '이용건수_신판_R12M', '이용금액_일시불_B0M', '이용가맹점수', '이용건수_신용_R12M', '이용금액_일시불_R6M']"
   ]
  },
  {
   "cell_type": "code",
   "execution_count": 11,
   "metadata": {
    "executionInfo": {
     "elapsed": 2,
     "status": "ok",
     "timestamp": 1751949840073,
     "user": {
      "displayName": "7 TEAM",
      "userId": "08970391605587455613"
     },
     "user_tz": -540
    },
    "id": "Ijp9qWFrHuj4"
   },
   "outputs": [],
   "source": [
    "all_features = list(set(selected_feature + related_cols))\n",
    "all_features = list(dict.fromkeys(all_features))"
   ]
  },
  {
   "cell_type": "code",
   "execution_count": 13,
   "metadata": {
    "colab": {
     "base_uri": "https://localhost:8080/"
    },
    "executionInfo": {
     "elapsed": 12,
     "status": "ok",
     "timestamp": 1751949840094,
     "user": {
      "displayName": "7 TEAM",
      "userId": "08970391605587455613"
     },
     "user_tz": -540
    },
    "id": "epo9d1vZHzf_",
    "outputId": "61eb929d-cc21-4c2b-b739-e7472b1066ce"
   },
   "outputs": [
    {
     "name": "stdout",
     "output_type": "stream",
     "text": [
      "139\n",
      "170\n",
      "<class 'str'>\n"
     ]
    }
   ],
   "source": [
    "print(len(selected_feature))\n",
    "print(len(all_features))\n",
    "print(type(all_features[0]))"
   ]
  },
  {
   "cell_type": "code",
   "execution_count": 15,
   "metadata": {
    "executionInfo": {
     "elapsed": 12,
     "status": "ok",
     "timestamp": 1751949840107,
     "user": {
      "displayName": "7 TEAM",
      "userId": "08970391605587455613"
     },
     "user_tz": -540
    },
    "id": "gH7jp6PNH5LW"
   },
   "outputs": [
    {
     "name": "stdout",
     "output_type": "stream",
     "text": [
      "172\n"
     ]
    }
   ],
   "source": [
    "# 기본적으로 필요한 컬럼\n",
    "base_cols = ['ID', 'Segment']\n",
    "all_selected_cols = list(set(base_cols + all_features))\n",
    "print(len(all_selected_cols))"
   ]
  },
  {
   "cell_type": "code",
   "execution_count": 16,
   "metadata": {
    "colab": {
     "base_uri": "https://localhost:8080/"
    },
    "executionInfo": {
     "elapsed": 4491,
     "status": "ok",
     "timestamp": 1751949844603,
     "user": {
      "displayName": "7 TEAM",
      "userId": "08970391605587455613"
     },
     "user_tz": -540
    },
    "id": "HSnE34xDNQ-Q",
    "outputId": "5293592b-9e0e-4461-e9fa-24a2829ab99d"
   },
   "outputs": [
    {
     "name": "stdout",
     "output_type": "stream",
     "text": [
      "   이용금액_오프라인_R3M  연체원금_최근  카드론이용건수_누적  이용후경과월_일시불  할부건수_무이자_3M_R12M  \\\n",
      "0           4131        0           0           0                 0   \n",
      "1          14339        0           0           0                 0   \n",
      "2          12250        0           4           0                 0   \n",
      "3          10408        0           0           0                 6   \n",
      "4              0        0           0           6                 0   \n",
      "\n",
      "   이용금액_할부_R12M  마일_잔여포인트_B0M  이용건수_A페이_R6M  이용건수_D페이_R6M  청구금액_R6M  ...  \\\n",
      "0          9431             0             0             0     88693  ...   \n",
      "1          6134             0             0             0     16861  ...   \n",
      "2         10561             0             0             0    165221  ...   \n",
      "3         22129             0             0             0    127371  ...   \n",
      "4             0             0             0             0       155  ...   \n",
      "\n",
      "   월상환론한도금액      이용금액대  카드이용한도금액  입회경과개월수_신용  이용카드수_신용체크  이용금액_할부_무이자_R6M  \\\n",
      "0         0  01.100만원+     19354          67           1            -1654   \n",
      "1     90611   03.30만원+      9996          12           1                0   \n",
      "2         0  01.100만원+     88193         124           1            14871   \n",
      "3         0  01.100만원+     19062          27           1             8538   \n",
      "4    155020     09.미사용    177222           2           1                0   \n",
      "\n",
      "   컨택건수_이용유도_LMS_R6M  방문일수_앱_R6M  증감율_이용건수_일시불_분기  이용금액_할부_무이자_R3M  \n",
      "0                  7           0        -0.476453             1984  \n",
      "1                  5           0         0.226240                0  \n",
      "2                  0          30         0.030082            11308  \n",
      "3                  9           0         0.120484             5643  \n",
      "4                 16           0        -1.999996                0  \n",
      "\n",
      "[5 rows x 172 columns]\n"
     ]
    }
   ],
   "source": [
    "# prompt: drive data 폴더의 통합_train_데이터.parquet 불러오기\n",
    "\n",
    "import pandas as pd\n",
    "\n",
    "# drive data 폴더의 통합_train_데이터.parquet 파일 불러오기\n",
    "file_path = 'data/통합_train_데이터.parquet'\n",
    "train_df = pd.read_parquet(file_path, columns=all_selected_cols)\n",
    "# 불러온 데이터프레임의 첫 5행 출력하여 확인\n",
    "print(train_df.head())"
   ]
  },
  {
   "cell_type": "code",
   "execution_count": 19,
   "metadata": {
    "executionInfo": {
     "elapsed": 23,
     "status": "ok",
     "timestamp": 1751949844625,
     "user": {
      "displayName": "7 TEAM",
      "userId": "08970391605587455613"
     },
     "user_tz": -540
    },
    "id": "XCOZht15G64u"
   },
   "outputs": [],
   "source": [
    "def map_categorical_columns(df, verbose=True):\n",
    "    \"\"\"\n",
    "    미리 정의된 매핑 기준에 따라 범주형 컬럼들을 수치형으로 변환합니다.\n",
    "    처리 컬럼: 거주시도명, 연회비발생카드수_B0M, 한도증액횟수_R12M, 이용금액대,\n",
    "              할인건수_R3M, 할인건수_B0M, 방문횟수_PC_R6M, 방문횟수_앱_R6M, 방문일수_PC_R6M\n",
    "    \"\"\"\n",
    "\n",
    "    # 1. 거주시도명 → 수도권 여부\n",
    "    capital_area = ['서울특별시', '경기도', '인천광역시']\n",
    "    if '거주시도명' in df.columns:\n",
    "        df['거주시도명'] = df['거주시도명'].apply(lambda x: 1 if x in capital_area else 0)\n",
    "        if verbose: print(\"[거주시도명] → 수도권 여부 인코딩 완료\")\n",
    "\n",
    "    # 2. 연회비발생카드수_B0M\n",
    "    mapping = {\"0개\": 0, \"1개이상\": 1}\n",
    "    if '연회비발생카드수_B0M' in df.columns:\n",
    "        df['연회비발생카드수_B0M'] = df['연회비발생카드수_B0M'].map(mapping).astype(int)\n",
    "        if verbose: print(\"[연회비발생카드수_B0M] 인코딩 완료\")\n",
    "\n",
    "    # 3. 한도증액횟수_R12M\n",
    "    mapping = {\"0회\": 0, \"1회이상\": 1}\n",
    "    if '한도증액횟수_R12M' in df.columns:\n",
    "        df['한도증액횟수_R12M'] = df['한도증액횟수_R12M'].map(mapping).astype(int)\n",
    "        if verbose: print(\"[한도증액횟수_R12M] 인코딩 완료\")\n",
    "\n",
    "    # 4. 이용금액대 (중간값 기준: 만원 단위)\n",
    "    mapping = {\n",
    "        \"09.미사용\": 0,\n",
    "        \"05.10만원-\": 5,\n",
    "        \"04.10만원+\": 20,\n",
    "        \"03.30만원+\": 40,\n",
    "        \"02.50만원+\": 75,\n",
    "        \"01.100만원+\": 150\n",
    "    }\n",
    "    if '이용금액대' in df.columns:\n",
    "        df['이용금액대'] = df['이용금액대'].map(mapping)\n",
    "        if verbose: print(\"[이용금액대] 중간값 인코딩 완료\")\n",
    "\n",
    "    # 5. 할인건수 인코딩\n",
    "    discount_map = {\n",
    "        \"1회 이상\": 1,\n",
    "        \"10회 이상\": 10,\n",
    "        \"20회 이상\": 20,\n",
    "        \"30회 이상\": 30,\n",
    "        \"40회 이상\": 40\n",
    "    }\n",
    "    for col in ['할인건수_R3M', '할인건수_B0M']:\n",
    "        if col in df.columns:\n",
    "            df[col] = df[col].map(discount_map).astype(int)\n",
    "            if verbose: print(f\"[{col}] 인코딩 완료\")\n",
    "\n",
    "    # 6. 방문횟수 및 방문일수 인코딩\n",
    "    visit_map = {\n",
    "        \"1회 이상\": 1,\n",
    "        \"10회 이상\": 10,\n",
    "        \"20회 이상\": 20,\n",
    "        \"30회 이상\": 30,\n",
    "        \"40회 이상\": 40,\n",
    "        \"50회 이상\": 50,\n",
    "        \"60회 이상\": 60,\n",
    "        \"70회 이상\": 70,\n",
    "        \"80회 이상\": 80\n",
    "    }\n",
    "\n",
    "    visit_cols = ['방문횟수_PC_R6M', '방문횟수_앱_R6M', '방문일수_PC_R6M']\n",
    "    for col in visit_cols:\n",
    "        if col in df.columns:\n",
    "            df[col] = df[col].map(visit_map).astype(int)\n",
    "            if verbose: print(f\"[{col}] 인코딩 완료\")\n",
    "\n",
    "    return df"
   ]
  },
  {
   "cell_type": "code",
   "execution_count": 20,
   "metadata": {
    "colab": {
     "base_uri": "https://localhost:8080/"
    },
    "executionInfo": {
     "elapsed": 1537,
     "status": "ok",
     "timestamp": 1751949846163,
     "user": {
      "displayName": "7 TEAM",
      "userId": "08970391605587455613"
     },
     "user_tz": -540
    },
    "id": "PM-q9Y_MIAmv",
    "outputId": "c83f960c-434f-4088-ee34-a32d61771b62"
   },
   "outputs": [
    {
     "name": "stdout",
     "output_type": "stream",
     "text": [
      "[거주시도명] → 수도권 여부 인코딩 완료\n",
      "[연회비발생카드수_B0M] 인코딩 완료\n",
      "[한도증액횟수_R12M] 인코딩 완료\n",
      "[이용금액대] 중간값 인코딩 완료\n",
      "[할인건수_R3M] 인코딩 완료\n",
      "[할인건수_B0M] 인코딩 완료\n"
     ]
    }
   ],
   "source": [
    "train_df = map_categorical_columns(train_df)"
   ]
  },
  {
   "cell_type": "code",
   "execution_count": 21,
   "metadata": {
    "colab": {
     "base_uri": "https://localhost:8080/"
    },
    "executionInfo": {
     "elapsed": 188,
     "status": "ok",
     "timestamp": 1751949846359,
     "user": {
      "displayName": "7 TEAM",
      "userId": "08970391605587455613"
     },
     "user_tz": -540
    },
    "id": "7AzEyVFyJLMn",
    "outputId": "9e0e7928-9674-4625-bd06-184be0fad446"
   },
   "outputs": [
    {
     "name": "stdout",
     "output_type": "stream",
     "text": [
      "['Segment', 'ID']\n"
     ]
    }
   ],
   "source": [
    "categorical_cols = train_df.select_dtypes(include=['object', 'category']).columns.tolist()\n",
    "print(categorical_cols)"
   ]
  },
  {
   "cell_type": "code",
   "execution_count": 22,
   "metadata": {
    "colab": {
     "base_uri": "https://localhost:8080/"
    },
    "executionInfo": {
     "elapsed": 15,
     "status": "ok",
     "timestamp": 1751949846387,
     "user": {
      "displayName": "7 TEAM",
      "userId": "08970391605587455613"
     },
     "user_tz": -540
    },
    "id": "EXQDQOLeP89H",
    "outputId": "2fb50730-1ec0-4edd-d628-1c0f0c66d3d3",
    "scrolled": true
   },
   "outputs": [
    {
     "data": {
      "text/plain": [
       "['이용금액_오프라인_R3M',\n",
       " '연체원금_최근',\n",
       " '카드론이용건수_누적',\n",
       " '이용후경과월_일시불',\n",
       " '할부건수_무이자_3M_R12M',\n",
       " '이용금액_할부_R12M',\n",
       " '마일_잔여포인트_B0M',\n",
       " '이용건수_A페이_R6M',\n",
       " '이용건수_D페이_R6M',\n",
       " '청구금액_R6M',\n",
       " '인입월수_IB_R6M',\n",
       " '정상청구원금_B0M',\n",
       " '증감율_이용건수_체크_전월',\n",
       " '최종카드론_대출금액',\n",
       " 'RP후경과월',\n",
       " '쇼핑_도소매_이용금액',\n",
       " '혜택수혜금액_R3M',\n",
       " '연속유실적개월수_기본_24M_카드',\n",
       " 'RP건수_교통_B0M',\n",
       " '평잔_CA_3M',\n",
       " '선입금원금_B2M',\n",
       " '정상청구원금_B5M',\n",
       " '컨택건수_이용유도_EM_B0M',\n",
       " '당사멤버쉽_방문횟수_R6M',\n",
       " '홈페이지_금융건수_R6M',\n",
       " '기본연회비_B0M',\n",
       " '청구서발송여부_B0',\n",
       " '연체감액여부_R3M',\n",
       " 'RV약정청구율',\n",
       " '증감율_이용금액_신용_분기',\n",
       " '일시상환론한도금액',\n",
       " 'RP건수_보험_B0M',\n",
       " '컨택건수_신용발급_TM_R6M',\n",
       " '이용금액_R3M_신용체크',\n",
       " '동의여부_한도증액안내',\n",
       " '홈페이지_선결제건수_R6M',\n",
       " '이용금액_오프라인_B0M',\n",
       " '이용금액_일시불_R6M',\n",
       " '컨택건수_이용유도_청구서_B0M',\n",
       " '승인거절건수_R3M',\n",
       " '이용건수_신용_B0M',\n",
       " '정상입금원금_B5M',\n",
       " '포인트_마일리지_건별_B0M',\n",
       " 'RP건수_통신_B0M',\n",
       " '증감율_이용건수_CA_전월',\n",
       " '탈회횟수_누적',\n",
       " '잔액_신판평균한도소진율_r6m',\n",
       " '평잔_카드론_3M',\n",
       " '최종카드론_대출이율',\n",
       " '증감율_이용금액_신용_전월',\n",
       " '증감율_이용금액_할부_전월',\n",
       " 'RP건수_B0M',\n",
       " '증감율_이용건수_신판_분기',\n",
       " 'CA한도금액',\n",
       " '증감율_이용금액_신판_전월',\n",
       " '잔액_신판ca최대한도소진율_r6m',\n",
       " '변동률_RVCA평잔',\n",
       " '정상입금원금_B2M',\n",
       " '이용금액_오프라인_R6M',\n",
       " '이용금액_R3M_신용',\n",
       " '매각잔액_B1M',\n",
       " '변동률_할부평잔',\n",
       " '평잔_6M',\n",
       " 'RV현금서비스이자율_할인전',\n",
       " '정상청구원금_B2M',\n",
       " '연체잔액_B0M',\n",
       " '이용건수_페이_온라인_R6M',\n",
       " '마일_적립포인트_R3M',\n",
       " '할인금액_R3M',\n",
       " '할인건수_B0M',\n",
       " '컨택건수_이용유도_청구서_R6M',\n",
       " '포인트_포인트_건별_B0M',\n",
       " '평잔_일시불_해외_6M',\n",
       " 'CA이자율_할인전',\n",
       " '이용금액_할부_무이자_R12M',\n",
       " '방문월수_PC_R6M',\n",
       " '쇼핑_마트_이용금액',\n",
       " '이용건수_오프라인_B0M',\n",
       " 'RV일시불이자율_할인전',\n",
       " '남녀구분코드',\n",
       " '회원여부_이용가능_카드론',\n",
       " '할인건수_R3M',\n",
       " '상향가능CA한도금액',\n",
       " '탈회횟수_발급1년이내',\n",
       " '이용건수_신판_R12M',\n",
       " '증감율_이용금액_체크_분기',\n",
       " '일시불ONLY전환가능여부',\n",
       " '이용건수_선결제_R6M',\n",
       " '회원여부_연체',\n",
       " '이용금액_선결제_R6M',\n",
       " '인입일수_ARS_B0M',\n",
       " '이용금액_일시불_R3M',\n",
       " '한도증액금액_R12M',\n",
       " '연체잔액_CA_B0M',\n",
       " '할부건수_3M_R12M',\n",
       " '이용후경과월_신용',\n",
       " '포인트_마일리지_환산_B0M',\n",
       " '변동률_카드론평잔',\n",
       " '_1순위업종_이용금액',\n",
       " '연체입금원금_B0M',\n",
       " '카드론이용금액_누적',\n",
       " '청구서발송여부_R3M',\n",
       " '평잔_일시불_3M',\n",
       " '증감율_이용금액_일시불_전월',\n",
       " '교통_정비이용금액',\n",
       " '이용건수_C페이_R6M',\n",
       " '청구금액_B0',\n",
       " '이용여부_3M_해외겸용_본인',\n",
       " '증감율_이용건수_할부_전월',\n",
       " '할부금액_3M_R12M',\n",
       " '승인거절건수_입력오류_R3M',\n",
       " '컨택건수_이용유도_인터넷_R6M',\n",
       " '잔액_할부_B0M',\n",
       " '불만제기후경과월_R12M',\n",
       " '방문일수_앱_B0M',\n",
       " '교통_주유이용금액',\n",
       " '이용건수_신용_R6M',\n",
       " '할부금액_무이자_3M_R12M',\n",
       " '쇼핑_온라인_이용금액',\n",
       " '이용금액_해외',\n",
       " '이용금액_일시불_R12M',\n",
       " '이용금액_일시불_B0M',\n",
       " '최초한도금액',\n",
       " '이용가맹점수',\n",
       " '잔액_신판ca평균한도소진율_r6m',\n",
       " '인입횟수_IB_R6M',\n",
       " '제휴연회비_B0M',\n",
       " '잔액_신판최대한도소진율_r6m',\n",
       " '승인거절건수_한도초과_R3M',\n",
       " '정상입금원금_B0M',\n",
       " '특별한도보유여부_R3M',\n",
       " '이용건수_신용_R12M',\n",
       " '상담건수_R6M',\n",
       " '포인트_이용포인트_R12M',\n",
       " '_1순위카드이용금액',\n",
       " '월상환론상향가능한도금액',\n",
       " '보유여부_해외겸용_본인',\n",
       " '방문횟수_앱_B0M',\n",
       " '한도증액횟수_R12M',\n",
       " '변동률_RV일시불평잔',\n",
       " '청구금액_R3M',\n",
       " '잔액_일시불_B0M',\n",
       " '여유_숙박이용금액',\n",
       " '유효카드수_신용체크',\n",
       " '최대이용금액_일시불_R12M',\n",
       " 'Segment',\n",
       " '연회비발생카드수_B0M',\n",
       " '연체잔액_RV일시불_B0M',\n",
       " '이용건수_할부_무이자_R12M',\n",
       " 'ID',\n",
       " '이용건수_온라인_R6M',\n",
       " '이용후경과월_체크',\n",
       " '포인트_마일리지_월적립_B0M',\n",
       " '청구서발송여부_R6M',\n",
       " '컨택건수_이용유도_EM_R6M',\n",
       " '거주시도명',\n",
       " '잔액_할부_무이자_B0M',\n",
       " '이용건수_일시불_R12M',\n",
       " 'RV최소결제비율',\n",
       " 'RV_평균잔액_R3M',\n",
       " '컨택건수_이용유도_TM_R6M',\n",
       " '포인트_포인트_월적립_B0M',\n",
       " '월상환론한도금액',\n",
       " '이용금액대',\n",
       " '카드이용한도금액',\n",
       " '입회경과개월수_신용',\n",
       " '이용카드수_신용체크',\n",
       " '이용금액_할부_무이자_R6M',\n",
       " '컨택건수_이용유도_LMS_R6M',\n",
       " '방문일수_앱_R6M',\n",
       " '증감율_이용건수_일시불_분기',\n",
       " '이용금액_할부_무이자_R3M']"
      ]
     },
     "execution_count": 22,
     "metadata": {},
     "output_type": "execute_result"
    }
   ],
   "source": [
    "all_selected_cols"
   ]
  },
  {
   "cell_type": "code",
   "execution_count": 23,
   "metadata": {
    "colab": {
     "base_uri": "https://localhost:8080/"
    },
    "executionInfo": {
     "elapsed": 126486,
     "status": "ok",
     "timestamp": 1751949972885,
     "user": {
      "displayName": "7 TEAM",
      "userId": "08970391605587455613"
     },
     "user_tz": -540
    },
    "id": "COYh-iinJRPQ",
    "outputId": "296b18dd-8a2f-4244-fe12-06eacf3ab44d"
   },
   "outputs": [
    {
     "name": "stderr",
     "output_type": "stream",
     "text": [
      "C:\\Users\\KING\\anaconda3\\envs\\tensorflow_env\\lib\\site-packages\\xgboost\\training.py:183: UserWarning: [21:50:29] WARNING: D:\\bld\\xgboost-split_1748292846627\\work\\src\\common\\error_msg.cc:27: The tree method `gpu_hist` is deprecated since 2.0.0. To use GPU training, set the `device` parameter to CUDA instead.\n",
      "\n",
      "    E.g. tree_method = \"hist\", device = \"cuda\"\n",
      "\n",
      "  bst.update(dtrain, iteration=i, fobj=obj)\n",
      "C:\\Users\\KING\\anaconda3\\envs\\tensorflow_env\\lib\\site-packages\\xgboost\\training.py:183: UserWarning: [21:50:29] WARNING: D:\\bld\\xgboost-split_1748292846627\\work\\src\\learner.cc:738: \n",
      "Parameters: { \"predictor\", \"use_label_encoder\" } are not used.\n",
      "\n",
      "  bst.update(dtrain, iteration=i, fobj=obj)\n",
      "C:\\Users\\KING\\anaconda3\\envs\\tensorflow_env\\lib\\site-packages\\xgboost\\core.py:2652: UserWarning: [21:52:42] WARNING: D:\\bld\\xgboost-split_1748292846627\\work\\src\\common\\error_msg.cc:27: The tree method `gpu_hist` is deprecated since 2.0.0. To use GPU training, set the `device` parameter to CUDA instead.\n",
      "\n",
      "    E.g. tree_method = \"hist\", device = \"cuda\"\n",
      "\n",
      "  if len(data.shape) != 1 and self.num_features() != data.shape[1]:\n",
      "C:\\Users\\KING\\anaconda3\\envs\\tensorflow_env\\lib\\site-packages\\xgboost\\core.py:705: UserWarning: [21:52:42] WARNING: D:\\bld\\xgboost-split_1748292846627\\work\\src\\common\\error_msg.cc:58: Falling back to prediction using DMatrix due to mismatched devices. This might lead to higher memory usage and slower performance. XGBoost is running on: cuda:0, while the input data is on: cpu.\n",
      "Potential solutions:\n",
      "- Use a data structure that matches the device ordinal in the booster.\n",
      "- Set the device for booster before call to inplace_predict.\n",
      "\n",
      "This warning will only be shown once.\n",
      "\n",
      "  return func(**kwargs)\n"
     ]
    },
    {
     "name": "stdout",
     "output_type": "stream",
     "text": [
      "              precision    recall  f1-score   support\n",
      "\n",
      "           0       0.92      0.43      0.58       194\n",
      "           1       1.00      0.38      0.55        29\n",
      "           2       0.75      0.61      0.67     25518\n",
      "           3       0.72      0.66      0.69     69848\n",
      "           4       0.94      0.97      0.96    384411\n",
      "\n",
      "    accuracy                           0.91    480000\n",
      "   macro avg       0.87      0.61      0.69    480000\n",
      "weighted avg       0.90      0.91      0.90    480000\n",
      "\n"
     ]
    }
   ],
   "source": [
    "import pandas as pd\n",
    "from sklearn.model_selection import train_test_split\n",
    "from sklearn.preprocessing import LabelEncoder, StandardScaler\n",
    "from sklearn.impute import SimpleImputer\n",
    "from sklearn.metrics import classification_report\n",
    "from xgboost import XGBClassifier\n",
    "\n",
    "# 2. 피처 및 타겟 분리\n",
    "X = train_df[all_features].copy()\n",
    "y = train_df[\"Segment\"]\n",
    "\n",
    "# 3. 범주형 인코딩\n",
    "\n",
    "cat_cols = X.select_dtypes(include='object').columns.tolist()\n",
    "for col in cat_cols:\n",
    "    le = LabelEncoder()\n",
    "    X[col] = le.fit_transform(X[col].astype(str))\n",
    "\n",
    "# 4. 결측치 처리\n",
    "X = pd.DataFrame(SimpleImputer(strategy='mean').fit_transform(X), columns=X.columns)\n",
    "\n",
    "# 스케일링 (DataFrame 형태 유지)\n",
    "scaler = StandardScaler()\n",
    "X_scaled = pd.DataFrame(scaler.fit_transform(X), columns=X.columns)\n",
    "\n",
    "# 라벨인코딩\n",
    "le_y = LabelEncoder()\n",
    "y_encoded = le_y.fit_transform(y)\n",
    "\n",
    "# 6. train-validation 분할\n",
    "X_train, X_val, y_train, y_val = train_test_split(X_scaled, y_encoded, test_size=0.2, stratify=y_encoded, random_state=42)\n",
    "\n",
    "# 7. XGBoost 모델 선언 (GPU 가속)\n",
    "xgb_model = XGBClassifier(\n",
    "    tree_method='gpu_hist',\n",
    "    predictor='gpu_predictor',\n",
    "    n_estimators=300,\n",
    "    learning_rate=0.05,\n",
    "    max_depth=6,\n",
    "    subsample=0.8,\n",
    "    colsample_bytree=0.8,\n",
    "    use_label_encoder=False,\n",
    "    eval_metric='mlogloss',\n",
    "    random_state=42\n",
    ")\n",
    "\n",
    "# 8. 학습\n",
    "xgb_model.fit(X_train, y_train)\n",
    "\n",
    "# 9. 예측 및 평가\n",
    "y_pred = xgb_model.predict(X_val)\n",
    "print(classification_report(y_val, y_pred))\n"
   ]
  },
  {
   "cell_type": "code",
   "execution_count": 24,
   "metadata": {},
   "outputs": [
    {
     "name": "stdout",
     "output_type": "stream",
     "text": [
      "📊 Classification Report\n",
      "              precision    recall  f1-score   support\n",
      "\n",
      "           A       0.92      0.43      0.58       194\n",
      "           B       1.00      0.38      0.55        29\n",
      "           C       0.75      0.61      0.67     25518\n",
      "           D       0.72      0.66      0.69     69848\n",
      "           E       0.94      0.97      0.96    384411\n",
      "\n",
      "    accuracy                           0.91    480000\n",
      "   macro avg       0.87      0.61      0.69    480000\n",
      "weighted avg       0.90      0.91      0.90    480000\n",
      "\n"
     ]
    }
   ],
   "source": [
    "# ✅ classification report 출력\n",
    "print(\"📊 Classification Report\")\n",
    "print(classification_report(y_val, y_pred, target_names=le_y.classes_))"
   ]
  },
  {
   "cell_type": "code",
   "execution_count": 26,
   "metadata": {},
   "outputs": [
    {
     "data": {
      "image/png": "[encoded data removed]",
      "text/plain": [
       "<Figure size 600x500 with 2 Axes>"
      ]
     },
     "metadata": {},
     "output_type": "display_data"
    }
   ],
   "source": [
    "from sklearn.metrics import confusion_matrix\n",
    "import seaborn as sns\n",
    "import matplotlib.pyplot as plt\n",
    "\n",
    "# ✅ 예측/실제 값 문자열 라벨로 복원\n",
    "y_val_str = le_y.inverse_transform(y_val)\n",
    "y_pred_str = le_y.inverse_transform(y_pred)\n",
    "\n",
    "# ✅ 혼동 행렬 생성\n",
    "cm = confusion_matrix(y_val_str, y_pred_str, labels=le_y.classes_)\n",
    "\n",
    "# 시각화\n",
    "plt.figure(figsize=(6, 5))\n",
    "sns.set(style=\"white\")\n",
    "\n",
    "ax = sns.heatmap(\n",
    "    cm,\n",
    "    annot=True,\n",
    "    fmt='d',\n",
    "    cmap='Blues',\n",
    "    xticklabels=le_y.classes_,\n",
    "    yticklabels=le_y.classes_,\n",
    "    cbar=True,\n",
    "    linewidths=0,\n",
    "    linecolor='white'\n",
    ")\n",
    "\n",
    "# ✅ 바깥 테두리 추가\n",
    "ax.add_patch(plt.Rectangle(\n",
    "    (0, 0),\n",
    "    cm.shape[1],\n",
    "    cm.shape[0],\n",
    "    fill=False,\n",
    "    edgecolor='black',\n",
    "    lw=1.5\n",
    "))\n",
    "\n",
    "plt.xlabel(\"Predicted label\")\n",
    "plt.ylabel(\"True label\")\n",
    "plt.title(\"Confusion Matrix\", pad=12)\n",
    "plt.tight_layout()\n",
    "plt.show()"
   ]
  },
  {
   "cell_type": "code",
   "execution_count": 27,
   "metadata": {
    "executionInfo": {
     "elapsed": 10477,
     "status": "ok",
     "timestamp": 1751949983363,
     "user": {
      "displayName": "7 TEAM",
      "userId": "08970391605587455613"
     },
     "user_tz": -540
    },
    "id": "la9I2QZLRe1R"
   },
   "outputs": [],
   "source": [
    "from sklearn.impute import SimpleImputer\n",
    "from sklearn.preprocessing import StandardScaler\n",
    "\n",
    "# 결측치 처리기\n",
    "imputer = SimpleImputer(strategy='mean')\n",
    "X_imputed = imputer.fit_transform(X)  # 학습 데이터로 fit 해야 함\n",
    "\n",
    "# 스케일러\n",
    "scaler = StandardScaler()\n",
    "X_scaled = scaler.fit_transform(X_imputed)"
   ]
  },
  {
   "cell_type": "code",
   "execution_count": 28,
   "metadata": {
    "colab": {
     "base_uri": "https://localhost:8080/"
    },
    "executionInfo": {
     "elapsed": 11819,
     "status": "ok",
     "timestamp": 1751950022807,
     "user": {
      "displayName": "7 TEAM",
      "userId": "08970391605587455613"
     },
     "user_tz": -540
    },
    "id": "yJgC4tuwRsX_",
    "outputId": "5b295701-5e92-4189-c4b6-79c757ed9277"
   },
   "outputs": [
    {
     "name": "stderr",
     "output_type": "stream",
     "text": [
      "C:\\Users\\KING\\anaconda3\\envs\\tensorflow_env\\lib\\site-packages\\sklearn\\utils\\validation.py:2732: UserWarning: X has feature names, but StandardScaler was fitted without feature names\n",
      "  warnings.warn(\n"
     ]
    },
    {
     "name": "stdout",
     "output_type": "stream",
     "text": [
      "✅ 최적 threshold 반영하여 저장 완료: submission_threshold_tuned.csv\n"
     ]
    }
   ],
   "source": [
    "import pandas as pd\n",
    "import numpy as np\n",
    "from sklearn.impute import SimpleImputer\n",
    "from sklearn.preprocessing import StandardScaler\n",
    "\n",
    "# 1. 데이터 불러오기\n",
    "file_path = 'data/통합_test_데이터.parquet'\n",
    "test_df = pd.read_parquet(file_path)\n",
    "\n",
    "# 2. 피처 선택 (학습 데이터와 동일한 컬럼 사용)\n",
    "X_test = test_df[all_features].copy()\n",
    "\n",
    "# 3. 범주형 인코딩 (학습 때와 동일하게)\n",
    "# map_categorical_columns 함수가 정의되어 있다면 사용\n",
    "# map_categorical_columns 함수가 정의되어 있지 않다면 수동 인코딩 코드를 사용\n",
    "# 현재 노트북 상태에 map_categorical_columns 함수가 정의되어 있으므로 함수 사용\n",
    "X_test = map_categorical_columns(X_test, verbose=False) # 상세 출력 비활성화\n",
    "\n",
    "# 4. 결측치 처리 (학습 데이터로 fit된 imputer 사용)\n",
    "X_test = pd.DataFrame(imputer.transform(X_test), columns=X_test.columns)\n",
    "\n",
    "# 5. 스케일링 (학습 데이터로 fit된 scaler 사용)\n",
    "X_test_scaled = scaler.transform(X_test)\n",
    "\n",
    "# 6. 확률 예측\n",
    "y_test_proba = xgb_model.predict_proba(X_test_scaled)\n",
    "\n",
    "# 7. threshold 기반 예측 함수 정의\n",
    "def predict_with_thresholds(y_proba, thresholds):\n",
    "    preds = []\n",
    "    for row in y_proba:\n",
    "        candidates = [i for i, p in enumerate(row) if p >= thresholds[i]]\n",
    "        if candidates:\n",
    "            preds.append(candidates[np.argmax([row[i] for i in candidates])])\n",
    "        else:\n",
    "            preds.append(np.argmax(row))  # fallback\n",
    "    return np.array(preds)\n",
    "\n",
    "# 8. 이미 찾은 best_thresholds 적용 (이 값은 앞에서 구해둔 것!)\n",
    "best_thresholds = [0.22, 0.27, 0.50, 0.50, 0.55]\n",
    "y_test_pred_encoded = predict_with_thresholds(y_test_proba, best_thresholds)\n",
    "\n",
    "# 9. 숫자 라벨 → 문자 라벨로 복원\n",
    "y_test_pred = le_y.inverse_transform(y_test_pred_encoded)\n",
    "\n",
    "# 10. 제출 파일 구성\n",
    "submission = pd.DataFrame({\n",
    "    'ID': test_df['ID'],\n",
    "    'Segment': y_test_pred\n",
    "})\n",
    "\n",
    "# 11. 중복 ID 제거 (가장 먼저 예측된 값 유지)\n",
    "submission = submission.drop_duplicates(subset='ID', keep='first')\n",
    "\n",
    "# 12. 제출 파일 저장\n",
    "submission.to_csv(\"submission_threshold_tuned.csv\", index=False)\n",
    "print(\"✅ 최적 threshold 반영하여 저장 완료: submission_threshold_tuned.csv\")\n"
   ]
  },
  {
   "cell_type": "code",
   "execution_count": 29,
   "metadata": {
    "colab": {
     "base_uri": "https://localhost:8080/"
    },
    "executionInfo": {
     "elapsed": 71,
     "status": "ok",
     "timestamp": 1751950029159,
     "user": {
      "displayName": "7 TEAM",
      "userId": "08970391605587455613"
     },
     "user_tz": -540
    },
    "id": "1roZms8ASB_l",
    "outputId": "f3b9263f-1320-4f55-856c-6543b0a01d65"
   },
   "outputs": [
    {
     "name": "stdout",
     "output_type": "stream",
     "text": [
      "📊 예측된 Segment 분포:\n",
      "Segment\n",
      "A        81\n",
      "B         1\n",
      "C     25755\n",
      "D     79251\n",
      "E    494912\n",
      "Name: count, dtype: int64\n",
      "\n",
      "📈 비율 (%):\n",
      "Segment\n",
      "A     0.01\n",
      "B     0.00\n",
      "C     4.29\n",
      "D    13.21\n",
      "E    82.49\n",
      "Name: proportion, dtype: float64\n"
     ]
    }
   ],
   "source": [
    "import pandas as pd\n",
    "\n",
    "# 예측 결과를 Series로 변환\n",
    "y_series = pd.Series(y_test_pred, name=\"Segment\")\n",
    "\n",
    "# 분포 확인 (클래스별 건수 + 비율)\n",
    "print(\"📊 예측된 Segment 분포:\")\n",
    "print(y_series.value_counts().sort_index())      # 클래스별 개수\n",
    "print(\"\\n📈 비율 (%):\")\n",
    "print((y_series.value_counts(normalize=True).sort_index() * 100).round(2))"
   ]
  },
  {
   "cell_type": "code",
   "execution_count": 54,
   "metadata": {},
   "outputs": [
    {
     "data": {
      "image/png": "[encoded data removed]",
      "text/plain": [
       "<Figure size 1000x600 with 1 Axes>"
      ]
     },
     "metadata": {},
     "output_type": "display_data"
    }
   ],
   "source": [
    "import matplotlib.pyplot as plt\n",
    "import pandas as pd\n",
    "# 그래프 기본 설정\n",
    "plt.rcParams['font.family'] = 'Malgun Gothic'\n",
    "# plt.rcParams['font.family'] = 'AppleGothic'\n",
    "plt.rcParams['figure.figsize'] = 12, 6\n",
    "plt.rcParams['font.size'] = 14\n",
    "plt.rcParams['axes.unicode_minus'] = False\n",
    "\n",
    "# Feature 이름 가져오기\n",
    "feature_names = all_features  # 또는 X_train.columns.tolist() 등\n",
    "\n",
    "# Feature importance 값 얻기\n",
    "importances = xgb_model.feature_importances_\n",
    "importance_df = pd.DataFrame({\n",
    "    \"Feature\": feature_names,\n",
    "    \"Importance\": importances\n",
    "}).sort_values(by=\"Importance\", ascending=False)\n",
    "\n",
    "# 시각화\n",
    "plt.figure(figsize=(10, 6))\n",
    "sns.barplot(data=importance_df.head(15), x=\"Importance\", y=\"Feature\", palette=\"viridis\")\n",
    "plt.title(\"Top 15 Feature Importances\")\n",
    "plt.tight_layout()\n",
    "plt.show()"
   ]
  },
  {
   "cell_type": "code",
   "execution_count": null,
   "metadata": {},
   "outputs": [],
   "source": []
  }
 ],
 "metadata": {
  "accelerator": "GPU",
  "colab": {
   "authorship_tag": "ABX9TyOpe7m8g7BHsFHylRla9YtE",
   "gpuType": "T4",
   "machine_shape": "hm",
   "provenance": []
  },
  "kernelspec": {
   "display_name": "Python 3 (ipykernel)",
   "language": "python",
   "name": "python3"
  },
  "language_info": {
   "codemirror_mode": {
    "name": "ipython",
    "version": 3
   },
   "file_extension": ".py",
   "mimetype": "text/x-python",
   "name": "python",
   "nbconvert_exporter": "python",
   "pygments_lexer": "ipython3",
   "version": "3.10.16"
  }
 },
 "nbformat": 4,
 "nbformat_minor": 4
}
