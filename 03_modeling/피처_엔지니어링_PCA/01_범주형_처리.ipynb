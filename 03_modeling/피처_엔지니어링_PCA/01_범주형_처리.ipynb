{
 "cells": [
  {
   "cell_type": "code",
   "execution_count": 1,
   "id": "3aae45d7",
   "metadata": {},
   "outputs": [],
   "source": [
    "import matplotlib.pyplot as plt\n",
    "import matplotlib.font_manager as fm\n",
    "import platform\n",
    "\n",
    "# 시스템이 Windows일 경우\n",
    "if platform.system() == 'Windows':\n",
    "    plt.rc('font', family='Pretendard')\n",
    "# macOS일 경우 예시:\n",
    "elif platform.system() == 'Darwin':\n",
    "    plt.rc('font', family='AppleGothic')\n",
    "\n",
    "# 마이너스 부호 깨짐 방지\n",
    "plt.rcParams['axes.unicode_minus'] = False"
   ]
  },
  {
   "cell_type": "markdown",
   "id": "aea1e79d",
   "metadata": {},
   "source": [
    "### 피처 재선정 (2차 분석 반영 VFN, 상관계수 등)"
   ]
  },
  {
   "cell_type": "code",
   "execution_count": 2,
   "id": "3f8cdd3b",
   "metadata": {},
   "outputs": [],
   "source": [
    "# 1. 회원정보\n",
    "features_member = [\n",
    "    '남녀구분코드',\n",
    "    '회원여부_이용가능_카드론', '입회경과개월수_신용', '회원여부_연체', '동의여부_한도증액안내',\n",
    "    '탈회횟수_누적', '탈회횟수_발급1년이내',\n",
    "    '거주시도명',\n",
    "    '유효카드수_신용체크', \n",
    "    '이용카드수_신용체크', \n",
    "    '이용금액_R3M_신용체크', \n",
    "    '보유여부_해외겸용_본인', '이용여부_3M_해외겸용_본인',\n",
    "    '연회비발생카드수_B0M', '기본연회비_B0M', '제휴연회비_B0M'\n",
    "]"
   ]
  },
  {
   "cell_type": "code",
   "execution_count": 3,
   "id": "ac6ec7df",
   "metadata": {},
   "outputs": [],
   "source": [
    "# 2. 신용정보\n",
    "features_credit = [\n",
    "    '최초한도금액',\n",
    "    '카드이용한도금액', 'CA한도금액',\n",
    "    '일시상환론한도금액', '월상환론한도금액',\n",
    "    'CA이자율_할인전',\n",
    "    'RV일시불이자율_할인전', 'RV현금서비스이자율_할인전',\n",
    "    'RV약정청구율', 'RV최소결제비율',\n",
    "    '한도증액횟수_R12M',\n",
    "    '한도증액금액_R12M', '상향가능CA한도금액', '월상환론상향가능한도금액',\n",
    "    '일시불ONLY전환가능여부', '특별한도보유여부_R3M', '연체감액여부_R3M'\n",
    "]"
   ]
  },
  {
   "cell_type": "code",
   "execution_count": 4,
   "id": "e0511344",
   "metadata": {},
   "outputs": [],
   "source": [
    "# 3. 승인매출정보\n",
    "features_tx = [\n",
    "    '이용건수_신용_B0M',\n",
    "    '이용금액_일시불_B0M', '이용후경과월_신용', '이용후경과월_일시불', '이용후경과월_체크',\n",
    "    '이용금액_해외', '쇼핑_도소매_이용금액', '쇼핑_마트_이용금액', '쇼핑_온라인_이용금액',\n",
    "    '교통_주유이용금액', '교통_정비이용금액', '여유_숙박이용금액',\n",
    "    '할부건수_3M_R12M', '할부금액_3M_R12M',\n",
    "    'RP건수_B0M', 'RP건수_통신_B0M', 'RP건수_보험_B0M', 'RP건수_교통_B0M', 'RP후경과월',\n",
    "    '카드론이용건수_누적', '카드론이용금액_누적', '최종카드론_대출이율', '최종카드론_대출금액',\n",
    "    '이용건수_온라인_R6M', '이용건수_페이_온라인_R6M',\n",
    "    '이용건수_A페이_R6M', '이용건수_C페이_R6M', '이용건수_D페이_R6M',\n",
    "    '이용금액_선결제_R6M', '이용건수_선결제_R6M',\n",
    "    '연체입금원금_B0M', '정상청구원금_B5M', '선입금원금_B2M',\n",
    "    '연속유실적개월수_기본_24M_카드',\n",
    "    '승인거절건수_R3M', '승인거절건수_한도초과_R3M',\n",
    "    '이용금액대'  # 범주형\n",
    "]"
   ]
  },
  {
   "cell_type": "code",
   "execution_count": 5,
   "id": "dca7f8e7",
   "metadata": {},
   "outputs": [],
   "source": [
    "# 4. 청구입금정보\n",
    "features_bill = [\n",
    "    '청구서발송여부_B0', '청구서발송여부_R3M', '청구서발송여부_R6M',\n",
    "    '청구금액_B0', '청구금액_R3M', '청구금액_R6M',\n",
    "    '포인트_마일리지_건별_B0M', '포인트_포인트_건별_B0M', '포인트_마일리지_월적립_B0M', '포인트_포인트_월적립_B0M',\n",
    "    '마일_적립포인트_R3M', '마일_잔여포인트_B0M', '포인트_이용포인트_R12M',\n",
    "    '할인건수_R3M', '할인금액_R3M', '할인건수_B0M',\n",
    "    '혜택수혜금액_R3M', '포인트_마일리지_환산_B0M'\n",
    "]"
   ]
  },
  {
   "cell_type": "code",
   "execution_count": 6,
   "id": "4dce8685",
   "metadata": {},
   "outputs": [],
   "source": [
    "# 5. 잔액정보\n",
    "features_balance = [\n",
    "    '잔액_일시불_B0M', '잔액_할부_B0M',\n",
    "    '연체잔액_B0M',\n",
    "    '연체원금_최근', '매각잔액_B1M',\n",
    "    'RV_평균잔액_R3M',\n",
    "    '연체잔액_RV일시불_B0M', '연체잔액_CA_B0M',\n",
    "    '평잔_일시불_3M',\n",
    "    '평잔_6M', '평잔_카드론_3M', '평잔_CA_3M'\n",
    "]"
   ]
  },
  {
   "cell_type": "code",
   "execution_count": 7,
   "id": "6371eac4",
   "metadata": {},
   "outputs": [],
   "source": [
    "#6. 채널정보\n",
    "features_channel = [\n",
    "    'IB문의건수_사용승인내역_R6M', 'IB문의건수_선결제_R6M',\n",
    "    '당사멤버쉽_방문월수_R6M', '당사멤버쉽_방문횟수_B0M', '당사멤버쉽_방문횟수_R6M',\n",
    "    '방문월수_PC_R6M', '방문월수_앱_R6M',\n",
    "    '방문일수_PC_B0M', '방문일수_PC_R6M', '방문일수_앱_B0M', '방문일수_앱_R6M',\n",
    "    '방문횟수_PC_B0M', '방문횟수_PC_R6M', '방문횟수_앱_B0M', '방문횟수_앱_R6M',\n",
    "    '방문후경과월_PC_R6M', '방문후경과월_앱_R6M',\n",
    "    '불만제기후경과월_R12M',\n",
    "    '상담건수_B0M', '상담건수_R6M',\n",
    "    '이용메뉴건수_ARS_B0M', '이용메뉴건수_IB_R6M',\n",
    "    '인입일수_ARS_B0M', '인입월수_ARS_R6M',\n",
    "    '인입일수_IB_B0M', '인입월수_IB_R6M', '인입횟수_IB_R6M',\n",
    "    '인입후경과월_ARS', '인입후경과월_IB_R6M',\n",
    "    '홈페이지_금융건수_R3M', '홈페이지_금융건수_R6M',\n",
    "    '홈페이지_선결제건수_R3M', '홈페이지_선결제건수_R6M'\n",
    "]"
   ]
  },
  {
   "cell_type": "code",
   "execution_count": 8,
   "id": "066f8db2",
   "metadata": {},
   "outputs": [],
   "source": [
    "# 7. 마케팅정보\n",
    "features_marketing = [\n",
    "    '캠페인접촉건수_R12M', '캠페인접촉일수_R12M',\n",
    "    '컨택건수_보험_TM_R6M', '컨택건수_부대서비스_TM_R6M', '컨택건수_신용발급_TM_R6M',\n",
    "    '컨택건수_이용유도_EM_B0M', '컨택건수_이용유도_EM_R6M', '컨택건수_이용유도_LMS_R6M',\n",
    "    '컨택건수_이용유도_TM_B0M', '컨택건수_이용유도_TM_R6M',\n",
    "    '컨택건수_이용유도_인터넷_B0M', '컨택건수_이용유도_인터넷_R6M',\n",
    "    '컨택건수_이용유도_청구서_B0M', '컨택건수_이용유도_청구서_R6M'\n",
    "]"
   ]
  },
  {
   "cell_type": "code",
   "execution_count": 9,
   "id": "4d85b3fd",
   "metadata": {},
   "outputs": [],
   "source": [
    "# 8. 성과정보\n",
    "features_perf = [\n",
    "    '증감율_이용건수_할부_전월', '증감율_이용건수_CA_전월', '증감율_이용건수_체크_전월',\n",
    "    '증감율_이용금액_신용_전월', '증감율_이용금액_할부_전월',\n",
    "    '증감율_이용금액_신판_전월', '증감율_이용금액_일시불_전월',\n",
    "    '증감율_이용건수_신판_분기', '증감율_이용건수_일시불_분기',\n",
    "    '증감율_이용금액_신용_분기', '증감율_이용금액_체크_분기',\n",
    "    '잔액_신판평균한도소진율_r6m','잔액_신판최대한도소진율_r6m', '잔액_신판ca평균한도소진율_r6m', '잔액_신판ca최대한도소진율_r6m',\n",
    "    '변동률_RV일시불평잔', '변동률_할부평잔', '변동률_RVCA평잔', '변동률_카드론평잔'\n",
    "]"
   ]
  },
  {
   "cell_type": "code",
   "execution_count": 10,
   "id": "0ffb1368",
   "metadata": {},
   "outputs": [],
   "source": [
    "member_add = ['입회경과개월수_신용', '이용카드수_신용체크', '이용카드수_신용', '이용카드수_신용_가족', '이용카드수_체크', '이용카드수_체크_가족', \n",
    "              '이용금액_R3M_신용체크', '이용금액_R3M_신용', '이용금액_R3M_신용_가족', '이용금액_R3M_체크', '이용금액_R3M_체크_가족']\n",
    "\n",
    "credit_add = ['최초한도금액', '카드이용한도금액', 'CA한도금액', '일시상환론한도금액', '월상환론한도금액', 'CA이자율_할인전', 'CL이자율_할인전', 'RV일시불이자율_할인전', 'RV현금서비스이자율_할인전', \n",
    "              '상향가능한도금액', '상향가능CA한도금액', '월상환론상향가능한도금액', '카드이용한도금액_B1M', '카드이용한도금액_B2M', '연체감액여부_R3M']\n",
    "\n",
    "tx_add = ['이용후경과월_신용', '이용후경과월_신판', '이용후경과월_일시불', '이용후경과월_할부', '이용후경과월_할부_유이자', '이용후경과월_할부_무이자', '이용후경과월_부분무이자', '이용후경과월_CA', '이용후경과월_체크', '이용후경과월_카드론', \n",
    "          '정상청구원금_B0M', '정상청구원금_B2M', '정상청구원금_B5M', '연속유실적개월수_기본_24M_카드']\n",
    "\n",
    "bill_add = ['청구서발송여부_B0', '청구서발송여부_R3M', '청구서발송여부_R6M', \n",
    "            '청구금액_B0', '청구금액_R3M', '청구금액_R6M', \n",
    "            '포인트_마일리지_건별_B0M', '포인트_마일리지_건별_R3M', '포인트_포인트_건별_B0M', '포인트_포인트_건별_R3M', '포인트_마일리지_월적립_B0M', '포인트_마일리지_월적립_R3M', '포인트_포인트_월적립_B0M', '포인트_포인트_월적립_R3M', '포인트_적립포인트_R12M', '포인트_적립포인트_R3M', '포인트_이용포인트_R12M', '포인트_이용포인트_R3M', '포인트_잔여포인트_B0M', \n",
    "            '할인건수_R3M', '할인건수_B0M', '포인트_마일리지_환산_B0M']\n",
    "\n",
    "bal_add = ['잔액_일시불_B0M', '잔액_할부_B0M', '잔액_현금서비스_B0M', '잔액_리볼빙일시불이월_B0M', '잔액_리볼빙CA이월_B0M', '잔액_카드론_B0M', '잔액_현금서비스_B1M', '잔액_현금서비스_B2M', '잔액_카드론_B1M', '잔액_카드론_B2M', '잔액_카드론_B3M', '잔액_카드론_B4M', '잔액_카드론_B5M', '잔액_할부_B1M', '잔액_할부_B2M', '잔액_일시불_B1M', '잔액_일시불_B2M', '잔액_할부_유이자_B0M', '잔액_할부_무이자_B0M', '잔액_할부_해외_B0M', \n",
    "           '평잔_3M', '평잔_일시불_3M', '평잔_일시불_해외_3M', '평잔_RV일시불_3M', '평잔_RV일시불_해외_3M', '평잔_할부_3M', '평잔_할부_해외_3M', '평잔_CA_3M', '평잔_CA_해외_3M', '평잔_카드론_3M', '평잔_6M', '평잔_일시불_6M', '평잔_일시불_해외_6M', '평잔_RV일시불_6M', '평잔_RV일시불_해외_6M', '평잔_할부_6M', '평잔_할부_해외_6M', '평잔_CA_6M', '평잔_CA_해외_6M', '평잔_카드론_6M']\n",
    "\n",
    "perf_add = ['잔액_신판평균한도소진율_r6m', '잔액_신판최대한도소진율_r6m', '잔액_신판평균한도소진율_r3m', '잔액_신판최대한도소진율_r3m', '잔액_신판ca평균한도소진율_r6m', '잔액_신판ca최대한도소진율_r6m', '잔액_신판ca평균한도소진율_r3m', '잔액_신판ca최대한도소진율_r3m']"
   ]
  },
  {
   "cell_type": "code",
   "execution_count": 11,
   "id": "b6baac5c",
   "metadata": {},
   "outputs": [],
   "source": [
    "# 범주형컬럼리스트\n",
    "categorical_candidates = [\n",
    "    'ID', '연령', 'Segment', '가입통신회사코드', '거주시도명', '직장시도명', '_1순위신용체크구분', '_2순위신용체크구분',\n",
    "    '연회비발생카드수_B0M', '상품관련면제카드수_B0M', '임직원면제카드수_B0M', '우수회원면제카드수_B0M', '기타면제카드수_B0M',\n",
    "    'Life_Stage', '자발한도감액횟수_R12M', '한도증액횟수_R12M', '카드론동의여부', 'RV전환가능여부', '한도심사요청건수',\n",
    "    '_1순위업종', '_2순위업종', '_3순위업종', '_1순위쇼핑업종', '_2순위쇼핑업종', '_3순위쇼핑업종',\n",
    "    '_1순위교통업종', '_2순위교통업종', '_3순위교통업종', '_1순위여유업종', '_2순위여유업종', '_3순위여유업종',\n",
    "    '_1순위납부업종', '_2순위납부업종', '_3순위납부업종', '최종카드론_신청경로코드', '이용금액대', '대표결제방법코드',\n",
    "    '대표청구지고객주소구분코드', '대표청구서수령지구분코드', '청구서수령방법', '할인건수_R3M', '할인건수_B0M',\n",
    "    '인입횟수_ARS_R6M', '이용메뉴건수_ARS_R6M', '방문횟수_PC_R6M', '방문일수_PC_R6M', '방문횟수_앱_R6M',\n",
    "    'OS구분코드', '캠페인접촉건수_R12M', '캠페인접촉일수_R12M'\n",
    "]"
   ]
  },
  {
   "cell_type": "code",
   "execution_count": 12,
   "id": "81816c37",
   "metadata": {},
   "outputs": [],
   "source": [
    "selected_feature=(\n",
    "    features_member + \n",
    "    features_credit + \n",
    "    features_tx + \n",
    "    features_bill + \n",
    "    features_balance + \n",
    "    features_channel +\n",
    "    features_perf\n",
    "    )\n",
    "# 6, 7번 시트 제거"
   ]
  },
  {
   "cell_type": "code",
   "execution_count": 13,
   "id": "6cb11417",
   "metadata": {},
   "outputs": [],
   "source": [
    "all_features = list(set(selected_feature + member_add + credit_add + tx_add + bill_add + bal_add + perf_add))"
   ]
  },
  {
   "cell_type": "code",
   "execution_count": 14,
   "id": "4197540b",
   "metadata": {},
   "outputs": [],
   "source": [
    "all_features = list(dict.fromkeys(all_features))"
   ]
  },
  {
   "cell_type": "code",
   "execution_count": 15,
   "id": "29eff38d",
   "metadata": {},
   "outputs": [
    {
     "name": "stdout",
     "output_type": "stream",
     "text": [
      "152\n",
      "<class 'str'>\n"
     ]
    }
   ],
   "source": [
    "print(len(selected_feature))         \n",
    "print(type(all_features[0]))     \n",
    "# 171 --> 119"
   ]
  },
  {
   "cell_type": "markdown",
   "id": "0f44b6a5",
   "metadata": {},
   "source": [
    "## 범주형 컬럼 처리"
   ]
  },
  {
   "cell_type": "code",
   "execution_count": 16,
   "id": "418e8f92",
   "metadata": {},
   "outputs": [
    {
     "ename": "ArrowMemoryError",
     "evalue": "malloc of size 14342400000 failed",
     "output_type": "error",
     "traceback": [
      "\u001b[1;31m---------------------------------------------------------------------------\u001b[0m",
      "\u001b[1;31mArrowMemoryError\u001b[0m                          Traceback (most recent call last)",
      "Cell \u001b[1;32mIn[16], line 9\u001b[0m\n\u001b[0;32m      6\u001b[0m \u001b[38;5;28;01mfrom\u001b[39;00m \u001b[38;5;21;01mxgboost\u001b[39;00m \u001b[38;5;28;01mimport\u001b[39;00m XGBClassifier\n\u001b[0;32m      8\u001b[0m \u001b[38;5;66;03m# 1. 데이터 불러오기\u001b[39;00m\n\u001b[1;32m----> 9\u001b[0m df \u001b[38;5;241m=\u001b[39m pd\u001b[38;5;241m.\u001b[39mread_parquet(\u001b[38;5;124m\"\u001b[39m\u001b[38;5;124m../../data/통합_train_데이터.parquet\u001b[39m\u001b[38;5;124m\"\u001b[39m)\n",
      "File \u001b[1;32mc:\\Users\\somee\\anaconda3\\Lib\\site-packages\\pandas\\io\\parquet.py:667\u001b[0m, in \u001b[0;36mread_parquet\u001b[1;34m(path, engine, columns, storage_options, use_nullable_dtypes, dtype_backend, filesystem, filters, **kwargs)\u001b[0m\n\u001b[0;32m    664\u001b[0m     use_nullable_dtypes \u001b[38;5;241m=\u001b[39m \u001b[38;5;28;01mFalse\u001b[39;00m\n\u001b[0;32m    665\u001b[0m check_dtype_backend(dtype_backend)\n\u001b[1;32m--> 667\u001b[0m \u001b[38;5;28;01mreturn\u001b[39;00m impl\u001b[38;5;241m.\u001b[39mread(\n\u001b[0;32m    668\u001b[0m     path,\n\u001b[0;32m    669\u001b[0m     columns\u001b[38;5;241m=\u001b[39mcolumns,\n\u001b[0;32m    670\u001b[0m     filters\u001b[38;5;241m=\u001b[39mfilters,\n\u001b[0;32m    671\u001b[0m     storage_options\u001b[38;5;241m=\u001b[39mstorage_options,\n\u001b[0;32m    672\u001b[0m     use_nullable_dtypes\u001b[38;5;241m=\u001b[39muse_nullable_dtypes,\n\u001b[0;32m    673\u001b[0m     dtype_backend\u001b[38;5;241m=\u001b[39mdtype_backend,\n\u001b[0;32m    674\u001b[0m     filesystem\u001b[38;5;241m=\u001b[39mfilesystem,\n\u001b[0;32m    675\u001b[0m     \u001b[38;5;241m*\u001b[39m\u001b[38;5;241m*\u001b[39mkwargs,\n\u001b[0;32m    676\u001b[0m )\n",
      "File \u001b[1;32mc:\\Users\\somee\\anaconda3\\Lib\\site-packages\\pandas\\io\\parquet.py:281\u001b[0m, in \u001b[0;36mPyArrowImpl.read\u001b[1;34m(self, path, columns, filters, use_nullable_dtypes, dtype_backend, storage_options, filesystem, **kwargs)\u001b[0m\n\u001b[0;32m    273\u001b[0m \u001b[38;5;28;01mtry\u001b[39;00m:\n\u001b[0;32m    274\u001b[0m     pa_table \u001b[38;5;241m=\u001b[39m \u001b[38;5;28mself\u001b[39m\u001b[38;5;241m.\u001b[39mapi\u001b[38;5;241m.\u001b[39mparquet\u001b[38;5;241m.\u001b[39mread_table(\n\u001b[0;32m    275\u001b[0m         path_or_handle,\n\u001b[0;32m    276\u001b[0m         columns\u001b[38;5;241m=\u001b[39mcolumns,\n\u001b[1;32m   (...)\u001b[0m\n\u001b[0;32m    279\u001b[0m         \u001b[38;5;241m*\u001b[39m\u001b[38;5;241m*\u001b[39mkwargs,\n\u001b[0;32m    280\u001b[0m     )\n\u001b[1;32m--> 281\u001b[0m     result \u001b[38;5;241m=\u001b[39m pa_table\u001b[38;5;241m.\u001b[39mto_pandas(\u001b[38;5;241m*\u001b[39m\u001b[38;5;241m*\u001b[39mto_pandas_kwargs)\n\u001b[0;32m    283\u001b[0m     \u001b[38;5;28;01mif\u001b[39;00m manager \u001b[38;5;241m==\u001b[39m \u001b[38;5;124m\"\u001b[39m\u001b[38;5;124marray\u001b[39m\u001b[38;5;124m\"\u001b[39m:\n\u001b[0;32m    284\u001b[0m         result \u001b[38;5;241m=\u001b[39m result\u001b[38;5;241m.\u001b[39m_as_manager(\u001b[38;5;124m\"\u001b[39m\u001b[38;5;124marray\u001b[39m\u001b[38;5;124m\"\u001b[39m, copy\u001b[38;5;241m=\u001b[39m\u001b[38;5;28;01mFalse\u001b[39;00m)\n",
      "File \u001b[1;32mc:\\Users\\somee\\anaconda3\\Lib\\site-packages\\pyarrow\\array.pxi:872\u001b[0m, in \u001b[0;36mpyarrow.lib._PandasConvertible.to_pandas\u001b[1;34m()\u001b[0m\n",
      "File \u001b[1;32mc:\\Users\\somee\\anaconda3\\Lib\\site-packages\\pyarrow\\table.pxi:4904\u001b[0m, in \u001b[0;36mpyarrow.lib.Table._to_pandas\u001b[1;34m()\u001b[0m\n",
      "File \u001b[1;32mc:\\Users\\somee\\anaconda3\\Lib\\site-packages\\pyarrow\\pandas_compat.py:779\u001b[0m, in \u001b[0;36mtable_to_dataframe\u001b[1;34m(options, table, categories, ignore_metadata, types_mapper)\u001b[0m\n\u001b[0;32m    776\u001b[0m columns \u001b[38;5;241m=\u001b[39m _deserialize_column_index(table, all_columns, column_indexes)\n\u001b[0;32m    778\u001b[0m column_names \u001b[38;5;241m=\u001b[39m table\u001b[38;5;241m.\u001b[39mcolumn_names\n\u001b[1;32m--> 779\u001b[0m result \u001b[38;5;241m=\u001b[39m pa\u001b[38;5;241m.\u001b[39mlib\u001b[38;5;241m.\u001b[39mtable_to_blocks(options, table, categories,\n\u001b[0;32m    780\u001b[0m                                 \u001b[38;5;28mlist\u001b[39m(ext_columns_dtypes\u001b[38;5;241m.\u001b[39mkeys()))\n\u001b[0;32m    781\u001b[0m \u001b[38;5;28;01mif\u001b[39;00m _pandas_api\u001b[38;5;241m.\u001b[39mis_ge_v3():\n\u001b[0;32m    782\u001b[0m     \u001b[38;5;28;01mfrom\u001b[39;00m \u001b[38;5;21;01mpandas\u001b[39;00m\u001b[38;5;21;01m.\u001b[39;00m\u001b[38;5;21;01mapi\u001b[39;00m\u001b[38;5;21;01m.\u001b[39;00m\u001b[38;5;21;01minternals\u001b[39;00m \u001b[38;5;28;01mimport\u001b[39;00m create_dataframe_from_blocks\n",
      "File \u001b[1;32mc:\\Users\\somee\\anaconda3\\Lib\\site-packages\\pyarrow\\table.pxi:3771\u001b[0m, in \u001b[0;36mpyarrow.lib.table_to_blocks\u001b[1;34m()\u001b[0m\n",
      "File \u001b[1;32mc:\\Users\\somee\\anaconda3\\Lib\\site-packages\\pyarrow\\error.pxi:91\u001b[0m, in \u001b[0;36mpyarrow.lib.check_status\u001b[1;34m()\u001b[0m\n",
      "\u001b[1;31mArrowMemoryError\u001b[0m: malloc of size 14342400000 failed"
     ]
    }
   ],
   "source": [
    "import pandas as pd\n",
    "from sklearn.model_selection import train_test_split\n",
    "from sklearn.preprocessing import LabelEncoder, StandardScaler\n",
    "from sklearn.impute import SimpleImputer\n",
    "from sklearn.metrics import classification_report\n",
    "from xgboost import XGBClassifier\n",
    "\n",
    "# 1. 데이터 불러오기\n",
    "df = pd.read_parquet(\"../../data/통합_train_데이터.parquet\")"
   ]
  },
  {
   "cell_type": "code",
   "execution_count": null,
   "id": "412776c8",
   "metadata": {},
   "outputs": [],
   "source": [
    "df_feat = df.copy()"
   ]
  },
  {
   "cell_type": "code",
   "execution_count": null,
   "id": "5c69f4b1",
   "metadata": {},
   "outputs": [
    {
     "name": "stdout",
     "output_type": "stream",
     "text": [
      "범주형 추정 컬럼: ['ID', '연령', 'Segment', '가입통신회사코드', '거주시도명', '직장시도명', '_1순위신용체크구분', '_2순위신용체크구분', '연회비발생카드수_B0M', '상품관련면제카드수_B0M', '임직원면제카드수_B0M', '우수회원면제카드수_B0M', '기타면제카드수_B0M', 'Life_Stage', '자발한도감액횟수_R12M', '한도증액횟수_R12M', '카드론동의여부', 'RV전환가능여부', '한도심사요청건수', '_1순위업종', '_2순위업종', '_3순위업종', '_1순위쇼핑업종', '_2순위쇼핑업종', '_3순위쇼핑업종', '_1순위교통업종', '_2순위교통업종', '_3순위교통업종', '_1순위여유업종', '_2순위여유업종', '_3순위여유업종', '_1순위납부업종', '_2순위납부업종', '_3순위납부업종', '최종카드론_신청경로코드', '이용금액대', '대표결제방법코드', '대표청구지고객주소구분코드', '대표청구서수령지구분코드', '청구서수령방법', '할인건수_R3M', '할인건수_B0M', '인입횟수_ARS_R6M', '이용메뉴건수_ARS_R6M', '방문횟수_PC_R6M', '방문일수_PC_R6M', '방문횟수_앱_R6M', 'OS구분코드', '캠페인접촉건수_R12M', '캠페인접촉일수_R12M']\n"
     ]
    }
   ],
   "source": [
    "# object 혹은 category 타입인 컬럼 확인\n",
    "categorical_cols = df.select_dtypes(include=['object', 'category']).columns.tolist()\n",
    "print(\"범주형 추정 컬럼:\", categorical_cols)"
   ]
  },
  {
   "cell_type": "code",
   "execution_count": null,
   "id": "12ae07b3",
   "metadata": {},
   "outputs": [
    {
     "name": "stdout",
     "output_type": "stream",
     "text": [
      "all_features에 포함된 범주형 변수:\n",
      "['거주시도명', '연회비발생카드수_B0M', '한도증액횟수_R12M', '이용금액대', '할인건수_R3M', '할인건수_B0M', '방문횟수_PC_R6M', '방문일수_PC_R6M', '방문횟수_앱_R6M']\n"
     ]
    }
   ],
   "source": [
    "categorical_cols_in_all_features = [col for col in categorical_candidates if col in all_features]\n",
    "\n",
    "print(\"all_features에 포함된 범주형 변수:\")\n",
    "print(categorical_cols_in_all_features)"
   ]
  },
  {
   "cell_type": "code",
   "execution_count": null,
   "id": "33f4f2b2",
   "metadata": {},
   "outputs": [
    {
     "name": "stdout",
     "output_type": "stream",
     "text": [
      "\n",
      "📌 [거주시도명] 고윳값 분포:\n",
      "거주시도명\n",
      "서울    692656\n",
      "경기    652987\n",
      "인천    162815\n",
      "부산    149007\n",
      "대전    142800\n",
      "충북    110601\n",
      "경남     96244\n",
      "경북     91237\n",
      "대구     80687\n",
      "울산     70491\n",
      "전남     55304\n",
      "광주     36659\n",
      "충남     30091\n",
      "전북     13572\n",
      "강원     12156\n",
      "제주      2544\n",
      "세종       149\n",
      "Name: count, dtype: int64\n",
      "\n",
      "📌 [연회비발생카드수_B0M] 고윳값 분포:\n",
      "연회비발생카드수_B0M\n",
      "0개      2394826\n",
      "1개이상       5174\n",
      "Name: count, dtype: int64\n",
      "\n",
      "📌 [한도증액횟수_R12M] 고윳값 분포:\n",
      "한도증액횟수_R12M\n",
      "0회      2116131\n",
      "1회이상     283869\n",
      "Name: count, dtype: int64\n",
      "\n",
      "📌 [이용금액대] 고윳값 분포:\n",
      "이용금액대\n",
      "09.미사용       487519\n",
      "05.10만원-     462993\n",
      "02.50만원+     460551\n",
      "01.100만원+    354144\n",
      "04.10만원+     333687\n",
      "03.30만원+     301106\n",
      "Name: count, dtype: int64\n",
      "\n",
      "📌 [할인건수_R3M] 고윳값 분포:\n",
      "할인건수_R3M\n",
      "1회 이상     2142271\n",
      "10회 이상     196651\n",
      "20회 이상      53009\n",
      "30회 이상       8065\n",
      "40회 이상          4\n",
      "Name: count, dtype: int64\n",
      "\n",
      "📌 [할인건수_B0M] 고윳값 분포:\n",
      "할인건수_B0M\n",
      "1회 이상     2388828\n",
      "10회 이상      11172\n",
      "Name: count, dtype: int64\n",
      "\n",
      "📌 [방문횟수_PC_R6M] 고윳값 분포:\n",
      "방문횟수_PC_R6M\n",
      "1회 이상     2221841\n",
      "20회 이상      77377\n",
      "10회 이상      67199\n",
      "30회 이상      32730\n",
      "40회 이상        853\n",
      "Name: count, dtype: int64\n",
      "\n",
      "📌 [방문일수_PC_R6M] 고윳값 분포:\n",
      "방문일수_PC_R6M\n",
      "1회 이상     2236992\n",
      "10회 이상     102991\n",
      "20회 이상      57986\n",
      "30회 이상       2031\n",
      "Name: count, dtype: int64\n",
      "\n",
      "📌 [방문횟수_앱_R6M] 고윳값 분포:\n",
      "방문횟수_앱_R6M\n",
      "1회 이상     2082674\n",
      "10회 이상      93648\n",
      "20회 이상      63543\n",
      "30회 이상      53407\n",
      "40회 이상      44356\n",
      "50회 이상      31544\n",
      "60회 이상      22343\n",
      "70회 이상       8170\n",
      "80회 이상        315\n",
      "Name: count, dtype: int64\n"
     ]
    }
   ],
   "source": [
    "# all_features에 포함된 범주형 컬럼\n",
    "categorical_cols_in_all_features = [\n",
    "    '거주시도명',\n",
    "    '연회비발생카드수_B0M',\n",
    "    '한도증액횟수_R12M',\n",
    "    '이용금액대',\n",
    "    '할인건수_R3M',\n",
    "    '할인건수_B0M',\n",
    "    '방문횟수_PC_R6M',\n",
    "    '방문일수_PC_R6M',\n",
    "    '방문횟수_앱_R6M'\n",
    "]\n",
    "\n",
    "# 각 컬럼별 고윳값 분포 출력\n",
    "for col in categorical_cols_in_all_features:\n",
    "    print(f\"\\n📌 [{col}] 고윳값 분포:\")\n",
    "    print(df[col].value_counts(dropna=False))"
   ]
  },
  {
   "cell_type": "markdown",
   "id": "a34928e7",
   "metadata": {},
   "source": [
    "### 범주형 데이터 매핑"
   ]
  },
  {
   "cell_type": "code",
   "execution_count": null,
   "id": "ac0f5c24",
   "metadata": {},
   "outputs": [],
   "source": [
    "# 수도권 기준 리스트\n",
    "capital_area = ['서울', '경기', '인천']\n",
    "\n",
    "# 수도권이면 1, 비수도권이면 0\n",
    "df_feat['거주시도_수도권여부'] = df_feat['거주시도명'].apply(lambda x: 1 if x in capital_area else 0)\n",
    "\n",
    "# 기존 컬럼 제거 (선택 사항)\n",
    "df_feat.drop(columns=['거주시도명'], inplace=True)"
   ]
  },
  {
   "cell_type": "code",
   "execution_count": null,
   "id": "185a6379",
   "metadata": {},
   "outputs": [
    {
     "name": "stdout",
     "output_type": "stream",
     "text": [
      "거주시도_수도권여부\n",
      "1    1508458\n",
      "0     891542\n",
      "Name: count, dtype: int64\n"
     ]
    }
   ],
   "source": [
    "print(df_feat['거주시도_수도권여부'].value_counts())"
   ]
  },
  {
   "cell_type": "code",
   "execution_count": 17,
   "id": "0844c665",
   "metadata": {},
   "outputs": [
    {
     "ename": "NameError",
     "evalue": "name 'df_feat' is not defined",
     "output_type": "error",
     "traceback": [
      "\u001b[1;31m---------------------------------------------------------------------------\u001b[0m",
      "\u001b[1;31mNameError\u001b[0m                                 Traceback (most recent call last)",
      "Cell \u001b[1;32mIn[17], line 8\u001b[0m\n\u001b[0;32m      2\u001b[0m annual_fee_mapping \u001b[38;5;241m=\u001b[39m {\n\u001b[0;32m      3\u001b[0m     \u001b[38;5;124m\"\u001b[39m\u001b[38;5;124m0개\u001b[39m\u001b[38;5;124m\"\u001b[39m: \u001b[38;5;241m0\u001b[39m,\n\u001b[0;32m      4\u001b[0m     \u001b[38;5;124m\"\u001b[39m\u001b[38;5;124m1개이상\u001b[39m\u001b[38;5;124m\"\u001b[39m: \u001b[38;5;241m1\u001b[39m\n\u001b[0;32m      5\u001b[0m }\n\u001b[0;32m      7\u001b[0m \u001b[38;5;66;03m# 매핑 적용\u001b[39;00m\n\u001b[1;32m----> 8\u001b[0m df_feat[\u001b[38;5;124m'\u001b[39m\u001b[38;5;124m연회비발생카드수_B0M\u001b[39m\u001b[38;5;124m'\u001b[39m] \u001b[38;5;241m=\u001b[39m df_feat[\u001b[38;5;124m'\u001b[39m\u001b[38;5;124m연회비발생카드수_B0M\u001b[39m\u001b[38;5;124m'\u001b[39m]\u001b[38;5;241m.\u001b[39mmap(annual_fee_mapping)\u001b[38;5;241m.\u001b[39mastype(\u001b[38;5;28mint\u001b[39m)\n\u001b[0;32m     10\u001b[0m \u001b[38;5;66;03m# 결과 확인\u001b[39;00m\n\u001b[0;32m     11\u001b[0m \u001b[38;5;28mprint\u001b[39m(df_feat[\u001b[38;5;124m'\u001b[39m\u001b[38;5;124m연회비발생카드수_B0M\u001b[39m\u001b[38;5;124m'\u001b[39m]\u001b[38;5;241m.\u001b[39mvalue_counts())\n",
      "\u001b[1;31mNameError\u001b[0m: name 'df_feat' is not defined"
     ]
    }
   ],
   "source": [
    "# 매핑 기준 정의\n",
    "annual_fee_mapping = {\n",
    "    \"0개\": 0,\n",
    "    \"1개이상\": 1\n",
    "}\n",
    "\n",
    "# 매핑 적용\n",
    "df_feat['연회비발생카드수_B0M'] = df_feat['연회비발생카드수_B0M'].map(annual_fee_mapping).astype(int)\n",
    "\n",
    "# 결과 확인\n",
    "print(df_feat['연회비발생카드수_B0M'].value_counts())"
   ]
  },
  {
   "cell_type": "code",
   "execution_count": 27,
   "id": "a191c8ca",
   "metadata": {},
   "outputs": [
    {
     "data": {
      "text/plain": [
       "방문일수_PC_R6M\n",
       "1회 이상     2236992\n",
       "10회 이상     102991\n",
       "20회 이상      57986\n",
       "30회 이상       2031\n",
       "Name: count, dtype: int64"
      ]
     },
     "metadata": {},
     "output_type": "display_data"
    },
    {
     "name": "stdout",
     "output_type": "stream",
     "text": [
      "   방문일수_PC_R6M\n",
      "0            1\n",
      "1            1\n",
      "2           10\n",
      "3            1\n",
      "4            1\n"
     ]
    }
   ],
   "source": [
    "# 방문일수 범주형 처리\n",
    "display(df['방문일수_PC_R6M'].value_counts())\n",
    "\n",
    "# 매핑 딕셔너리 정의\n",
    "visitday_mapping = {\n",
    "    \"1회 이상\": 1,\n",
    "    \"10회 이상\": 10,\n",
    "    \"20회 이상\": 20,\n",
    "    \"30회 이상\": 30,\n",
    "}\n",
    "\n",
    "# 매핑 적용\n",
    "df[\"방문일수_PC_R6M\"] = df[\"방문일수_PC_R6M\"].map(visitday_mapping)\n",
    "\n",
    "# 결과 확인\n",
    "print(df[[\"방문일수_PC_R6M\"]].head())"
   ]
  },
  {
   "cell_type": "code",
   "execution_count": 29,
   "id": "d8b3dc10",
   "metadata": {},
   "outputs": [
    {
     "data": {
      "text/plain": [
       "방문횟수_PC_R6M\n",
       "1     2221841\n",
       "20      77377\n",
       "10      67199\n",
       "30      32730\n",
       "40        853\n",
       "Name: count, dtype: int64"
      ]
     },
     "metadata": {},
     "output_type": "display_data"
    },
    {
     "name": "stdout",
     "output_type": "stream",
     "text": [
      "   방문횟수_PC_R6M\n",
      "0          NaN\n",
      "1          NaN\n",
      "2          NaN\n",
      "3          NaN\n",
      "4          NaN\n"
     ]
    }
   ],
   "source": [
    "display(df['방문횟수_PC_R6M'].value_counts())\n",
    "\n",
    "# 매핑 딕셔너리 정의\n",
    "visitday_mapping = {\n",
    "    \"1회 이상\": 1,\n",
    "    \"10회 이상\": 10,\n",
    "    \"20회 이상\": 20,\n",
    "    \"30회 이상\": 30,\n",
    "    \"40회 이상\": 40\n",
    "}\n",
    "\n",
    "# 매핑 적용\n",
    "df[\"방문횟수_PC_R6M\"] = df[\"방문횟수_PC_R6M\"].map(visitday_mapping)\n",
    "\n",
    "# 결과 확인\n",
    "print(df[[\"방문횟수_PC_R6M\"]].head())"
   ]
  },
  {
   "cell_type": "code",
   "execution_count": 30,
   "id": "b1705fbb",
   "metadata": {},
   "outputs": [
    {
     "data": {
      "text/plain": [
       "방문횟수_앱_R6M\n",
       "1회 이상     2082674\n",
       "10회 이상      93648\n",
       "20회 이상      63543\n",
       "30회 이상      53407\n",
       "40회 이상      44356\n",
       "50회 이상      31544\n",
       "60회 이상      22343\n",
       "70회 이상       8170\n",
       "80회 이상        315\n",
       "Name: count, dtype: int64"
      ]
     },
     "metadata": {},
     "output_type": "display_data"
    },
    {
     "name": "stdout",
     "output_type": "stream",
     "text": [
      "   방문횟수_앱_R6M\n",
      "0           1\n",
      "1           1\n",
      "2          30\n",
      "3           1\n",
      "4           1\n"
     ]
    }
   ],
   "source": [
    "display(df['방문횟수_앱_R6M'].value_counts())\n",
    "\n",
    "# 매핑 딕셔너리 정의\n",
    "visitday_mapping = {\n",
    "    \"1회 이상\": 1,\n",
    "    \"10회 이상\": 10,\n",
    "    \"20회 이상\": 20,\n",
    "    \"30회 이상\": 30,\n",
    "    \"40회 이상\": 40,\n",
    "    \"50회 이상\": 50,\n",
    "    \"60회 이상\": 60,\n",
    "    \"70회 이상\": 70,\n",
    "    \"80회 이상\": 80,\n",
    "}\n",
    "\n",
    "# 매핑 적용\n",
    "df[\"방문횟수_앱_R6M\"] = df[\"방문횟수_앱_R6M\"].map(visitday_mapping)\n",
    "\n",
    "# 결과 확인\n",
    "print(df[[\"방문횟수_앱_R6M\"]].head())"
   ]
  },
  {
   "cell_type": "code",
   "execution_count": 18,
   "id": "b6e9a41c",
   "metadata": {},
   "outputs": [
    {
     "name": "stdout",
     "output_type": "stream",
     "text": [
      "거주시도명 (2400000,)\n",
      "연회비발생카드수_B0M (2400000,)\n",
      "한도증액횟수_R12M (2400000,)\n",
      "이용금액대 (2400000,)\n",
      "할인건수_R3M (2400000, 2)\n",
      "할인건수_B0M (2400000, 2)\n",
      "방문일수_PC_R6M (2400000,)\n",
      "방문횟수_PC_R6M (2400000,)\n",
      "방문횟수_앱_R6M (2400000,)\n",
      "할인건수_R3M (2400000, 2)\n",
      "할인건수_B0M (2400000, 2)\n"
     ]
    }
   ],
   "source": [
    "# cat_cols에 들어있는 컬럼명이 실제로 유효한지 확인\n",
    "for col in cat_cols:\n",
    "    print(col, X[col].shape)"
   ]
  },
  {
   "cell_type": "code",
   "execution_count": 19,
   "id": "29f6872e",
   "metadata": {},
   "outputs": [
    {
     "name": "stdout",
     "output_type": "stream",
     "text": [
      "중복 열 발견: 할인건수_R3M, shape = (2400000, 2)\n",
      "중복 열 발견: 할인건수_B0M, shape = (2400000, 2)\n"
     ]
    }
   ],
   "source": [
    "for col in ['할인건수_R3M', '할인건수_B0M']:\n",
    "    if col in X.columns and isinstance(X[col], pd.DataFrame):\n",
    "        print(f\"중복 열 발견: {col}, shape = {X[col].shape}\")\n",
    "        X[col] = X[col].iloc[:, 0]"
   ]
  },
  {
   "cell_type": "code",
   "execution_count": null,
   "id": "c1717ffa",
   "metadata": {},
   "outputs": [
    {
     "name": "stdout",
     "output_type": "stream",
     "text": [
      "중복된 컬럼 수: 43\n",
      "예시: ['입회경과개월수_신용', '이용카드수_신용체크', '이용금액_R3M_신용체크', '최초한도금액', '카드이용한도금액', 'CA한도금액', '일시상환론한도금액', '월상환론한도금액', 'CA이자율_할인전', 'RV일시불이자율_할인전']\n"
     ]
    }
   ],
   "source": [
    "# 1. 중복 컬럼명 확인\n",
    "duplicated_cols = X.columns[X.columns.duplicated()].tolist()\n",
    "print(\"중복된 컬럼 수:\", len(duplicated_cols))\n",
    "print(\"예시:\", duplicated_cols[:10])"
   ]
  },
  {
   "cell_type": "code",
   "execution_count": 27,
   "id": "75a3cbf5",
   "metadata": {},
   "outputs": [],
   "source": [
    "def get_clean_numeric_columns(df, columns):\n",
    "    \"\"\"\n",
    "    숫자형이고 1차원인 컬럼만 필터링\n",
    "    \"\"\"\n",
    "    clean_cols = []\n",
    "    for col in columns:\n",
    "        try:\n",
    "            if pd.api.types.is_numeric_dtype(df[col]) and df[col].ndim == 1:\n",
    "                clean_cols.append(col)\n",
    "            else:\n",
    "                print(f\"❌ 제외됨: '{col}' (ndim={df[col].ndim}, dtype={df[col].dtypes})\")\n",
    "        except Exception as e:\n",
    "            print(f\"⚠️ 오류 발생: {col}, error = {e}\")\n",
    "    return clean_cols\n"
   ]
  },
  {
   "cell_type": "code",
   "execution_count": 33,
   "id": "b339725a",
   "metadata": {},
   "outputs": [
    {
     "name": "stderr",
     "output_type": "stream",
     "text": [
      "c:\\Users\\somee\\anaconda3\\Lib\\site-packages\\xgboost\\training.py:183: UserWarning: [07:40:31] WARNING: C:\\actions-runner\\_work\\xgboost\\xgboost\\src\\common\\error_msg.cc:27: The tree method `gpu_hist` is deprecated since 2.0.0. To use GPU training, set the `device` parameter to CUDA instead.\n",
      "\n",
      "    E.g. tree_method = \"hist\", device = \"cuda\"\n",
      "\n",
      "  bst.update(dtrain, iteration=i, fobj=obj)\n",
      "c:\\Users\\somee\\anaconda3\\Lib\\site-packages\\xgboost\\training.py:183: UserWarning: [07:40:31] WARNING: C:\\actions-runner\\_work\\xgboost\\xgboost\\src\\learner.cc:738: \n",
      "Parameters: { \"predictor\", \"use_label_encoder\" } are not used.\n",
      "\n",
      "  bst.update(dtrain, iteration=i, fobj=obj)\n",
      "c:\\Users\\somee\\anaconda3\\Lib\\site-packages\\xgboost\\core.py:2676: UserWarning: [07:42:57] WARNING: C:\\actions-runner\\_work\\xgboost\\xgboost\\src\\common\\error_msg.cc:27: The tree method `gpu_hist` is deprecated since 2.0.0. To use GPU training, set the `device` parameter to CUDA instead.\n",
      "\n",
      "    E.g. tree_method = \"hist\", device = \"cuda\"\n",
      "\n",
      "  if len(data.shape) != 1 and self.num_features() != data.shape[1]:\n",
      "c:\\Users\\somee\\anaconda3\\Lib\\site-packages\\xgboost\\core.py:729: UserWarning: [07:42:57] WARNING: C:\\actions-runner\\_work\\xgboost\\xgboost\\src\\common\\error_msg.cc:58: Falling back to prediction using DMatrix due to mismatched devices. This might lead to higher memory usage and slower performance. XGBoost is running on: cuda:0, while the input data is on: cpu.\n",
      "Potential solutions:\n",
      "- Use a data structure that matches the device ordinal in the booster.\n",
      "- Set the device for booster before call to inplace_predict.\n",
      "\n",
      "This warning will only be shown once.\n",
      "\n",
      "  return func(**kwargs)\n"
     ]
    },
    {
     "name": "stdout",
     "output_type": "stream",
     "text": [
      "              precision    recall  f1-score   support\n",
      "\n",
      "           0       0.95      0.45      0.61       194\n",
      "           1       1.00      0.31      0.47        29\n",
      "           2       0.75      0.61      0.67     25518\n",
      "           3       0.70      0.61      0.65     69848\n",
      "           4       0.93      0.97      0.95    384411\n",
      "\n",
      "    accuracy                           0.90    480000\n",
      "   macro avg       0.87      0.59      0.67    480000\n",
      "weighted avg       0.89      0.90      0.89    480000\n",
      "\n"
     ]
    }
   ],
   "source": [
    "import pandas as pd\n",
    "from sklearn.model_selection import train_test_split\n",
    "from sklearn.preprocessing import LabelEncoder, StandardScaler\n",
    "from sklearn.impute import SimpleImputer\n",
    "from sklearn.metrics import classification_report\n",
    "from xgboost import XGBClassifier\n",
    "\n",
    "# 1. 데이터 불러오기\n",
    "df = pd.read_parquet(\"../../data/통합_train_데이터.parquet\")\n",
    "\n",
    "# 2. 피처 및 타겟 분리\n",
    "X = df[selected_feature].copy()\n",
    "y = df[\"Segment\"]\n",
    "\n",
    "X = X.loc[:, ~X.columns.duplicated()] #중복제거\n",
    "\n",
    "# 3. 범주형 인코딩\n",
    "cat_cols = X.select_dtypes(include='object').columns.tolist()\n",
    "le = LabelEncoder()\n",
    "for col in cat_cols:\n",
    "    if X[col].ndim == 1:\n",
    "        X[col] = le.fit_transform(X[col].astype(str))\n",
    "\n",
    "# 4. 숫자형 컬럼만 안전하게 필터링 후 결측치 처리\n",
    "raw_num_cols = X.columns.tolist()  # 전체 대상 중에서 검사\n",
    "num_cols = get_clean_numeric_columns(X, raw_num_cols)\n",
    "\n",
    "# 숫자형은 평균으로 결측치 대체\n",
    "X[num_cols] = pd.DataFrame(\n",
    "    SimpleImputer(strategy='mean').fit_transform(X[num_cols]),\n",
    "    columns=num_cols\n",
    ")\n",
    "\n",
    "# 5. 스케일링 (숫자형 컬럼만!)\n",
    "scaler = StandardScaler()\n",
    "X_scaled_num = pd.DataFrame(\n",
    "    scaler.fit_transform(X[num_cols]),\n",
    "    columns=num_cols,\n",
    "    index=X.index  # 인덱스 유지\n",
    ")\n",
    "\n",
    "# 스케일링 안 한 범주형/문자형 컬럼은 그대로 유지\n",
    "other_cols = [col for col in X.columns if col not in num_cols]\n",
    "X_scaled = pd.concat([X_scaled_num, X[other_cols]], axis=1)\n",
    "\n",
    "\n",
    "# 6. 타겟 라벨 인코딩\n",
    "le_y = LabelEncoder()\n",
    "y_encoded = le_y.fit_transform(y)\n",
    "\n",
    "# 7. train-validation 분할\n",
    "X_train, X_val, y_train, y_val = train_test_split(\n",
    "    X_scaled, y_encoded, test_size=0.2, stratify=y_encoded, random_state=42\n",
    ")\n",
    "\n",
    "# 8. XGBoost 모델 선언 (GPU 가속)\n",
    "xgb_model = XGBClassifier(\n",
    "    tree_method='gpu_hist',\n",
    "    predictor='gpu_predictor',\n",
    "    n_estimators=300,\n",
    "    learning_rate=0.05,\n",
    "    max_depth=6,\n",
    "    subsample=0.8,\n",
    "    colsample_bytree=0.8,\n",
    "    use_label_encoder=False,\n",
    "    eval_metric='mlogloss',\n",
    "    random_state=42\n",
    ")\n",
    "\n",
    "# 9. 학습\n",
    "xgb_model.fit(X_train, y_train)\n",
    "\n",
    "# 10. 예측 및 평가\n",
    "y_pred = xgb_model.predict(X_val)\n",
    "print(classification_report(y_val, y_pred))\n",
    "\n"
   ]
  },
  {
   "cell_type": "markdown",
   "id": "7f8aa2cf",
   "metadata": {},
   "source": [
    "## 📊 확장 피처 적용 전후 성능 비교 (Validation 기준)\n",
    "\n",
    "### ✅ 클래스별 성능 (Precision / Recall / F1-score)\n",
    "\n",
    "| Segment | F1-score (적용 전) | F1-score (적용 후) | 변화 |\n",
    "|---------|--------------------|--------------------|------|\n",
    "| A (0)   | 0.59               | 0.73               | ▲ +0.14 |\n",
    "| B (1)   | 0.47               | 0.64               | ▲ +0.17 |\n",
    "| C (2)   | 0.66               | 0.67               | ▲ +0.01 |\n",
    "| D (3)   | 0.64               | 0.65               | ▲ +0.01 |\n",
    "| E (4)   | 0.95               | 0.95               | -      |\n",
    "\n",
    "---\n",
    "\n",
    "### ✅ 전체 지표 변화\n",
    "\n",
    "| 지표               | 적용 전 | 적용 후 | 변화 |\n",
    "|--------------------|---------|---------|------|\n",
    "| Accuracy           | 0.89    | 0.90    | ▲ +0.01 |\n",
    "| Macro F1-score     | 0.66    | 0.73    | ▲ +0.07 |\n",
    "| Weighted F1-score  | 0.89    | 0.89    | -      |\n",
    "\n",
    "---\n",
    "\n",
    "### 🔍 인사이트 요약\n",
    "\n",
    "- 소수 클래스인 **Segment A, B의 F1-score가 크게 향상됨**\n",
    "- **Segment C, D, E는 성능 유지** 또는 소폭 향상\n",
    "- 전체 Macro F1-score는 **0.66 → 0.73**으로 의미 있게 상승\n",
    "- **동일 범주 기반 피처 확장이 모델 균형성과 성능 개선에 크게 기여**"
   ]
  },
  {
   "cell_type": "code",
   "execution_count": 57,
   "id": "2bc4f142",
   "metadata": {},
   "outputs": [
    {
     "name": "stdout",
     "output_type": "stream",
     "text": [
      "                Feature  Importance\n",
      "69                이용금액대    0.149376\n",
      "64           정상청구원금_B5M    0.142397\n",
      "10        이용금액_R3M_신용체크    0.078886\n",
      "66   연속유실적개월수_기본_24M_카드    0.048598\n",
      "158         이용금액_R3M_체크    0.026548\n",
      "169           이용후경과월_CA    0.022692\n",
      "154            이용카드수_체크    0.022108\n",
      "37            이용후경과월_체크    0.018695\n",
      "171          정상청구원금_B0M    0.015652\n",
      "2            입회경과개월수_신용    0.015201\n"
     ]
    }
   ],
   "source": [
    "importance_df = pd.DataFrame({\n",
    "    'Feature': X.columns,\n",
    "    'Importance': xgb_model.feature_importances_\n",
    "}).sort_values(by='Importance', ascending=False)\n",
    "\n",
    "print(importance_df.head(10))"
   ]
  },
  {
   "cell_type": "code",
   "execution_count": 58,
   "id": "45e04286",
   "metadata": {},
   "outputs": [
    {
     "data": {
      "text/plain": [
       "['models/labelEncoder.pkl']"
      ]
     },
     "execution_count": 58,
     "metadata": {},
     "output_type": "execute_result"
    }
   ],
   "source": [
    "import joblib\n",
    "\n",
    "# 모델 저장\n",
    "joblib.dump(xgb_model, 'models/model.pkl')\n",
    "\n",
    "# LabelEncoder도 함께 저장 (Segment 변환용)\n",
    "joblib.dump(le, 'models/labelEncoder.pkl')"
   ]
  },
  {
   "cell_type": "code",
   "execution_count": null,
   "id": "9daf2c67",
   "metadata": {},
   "outputs": [],
   "source": [
    "from sklearn.impute import SimpleImputer\n",
    "from sklearn.preprocessing import StandardScaler\n",
    "\n",
    "# 결측치 처리기\n",
    "imputer = SimpleImputer(strategy='mean')\n",
    "X_imputed = imputer.fit_transform(X)  # 학습 데이터로 fit 해야 함\n",
    "\n",
    "# 스케일러\n",
    "scaler = StandardScaler()\n",
    "X_scaled = scaler.fit_transform(X_imputed)"
   ]
  },
  {
   "cell_type": "code",
   "execution_count": null,
   "id": "89ade03e",
   "metadata": {},
   "outputs": [
    {
     "name": "stderr",
     "output_type": "stream",
     "text": [
      "c:\\Users\\somee\\anaconda3\\Lib\\site-packages\\sklearn\\base.py:486: UserWarning: X has feature names, but StandardScaler was fitted without feature names\n",
      "  warnings.warn(\n"
     ]
    },
    {
     "name": "stdout",
     "output_type": "stream",
     "text": [
      "✅ 중복 제거 후 저장 완료: submission_xgboost3.csv\n"
     ]
    }
   ],
   "source": [
    "# 1. 데이터 불러오기\n",
    "test_df = pd.read_parquet(\"../../data/통합_test_데이터.parquet\")\n",
    "\n",
    "# 2. 피처 선택\n",
    "X_test = test_df[selected_feature].copy()\n",
    "\n",
    "# 3. 범주형 인코딩 (학습 때와 동일하게)\n",
    "for col in X_test.select_dtypes(include='object').columns:\n",
    "    X_test[col] = le.fit_transform(X_test[col].astype(str)) \n",
    "\n",
    "# 4. 결측치 처리\n",
    "X_test = pd.DataFrame(imputer.transform(X_test), columns=X_test.columns)\n",
    "\n",
    "# 5. 스케일링\n",
    "X_test_scaled = scaler.transform(X_test)\n",
    "\n",
    "# 6. 예측\n",
    "y_test_pred_encoded = xgb_model.predict(X_test_scaled)\n",
    "\n",
    "# 7. 예측 라벨 복원\n",
    "y_test_pred = le_y.inverse_transform(y_test_pred_encoded)\n",
    "\n",
    "submission = pd.DataFrame({\n",
    "    'ID': test_df['ID'],\n",
    "    'Segment': y_test_pred\n",
    "})\n",
    "\n",
    "# ID 기준으로 중복 제거 (가장 먼저 등장하는 예측값 유지)\n",
    "submission = submission.drop_duplicates(subset='ID', keep='first')\n",
    "\n",
    "# 저장\n",
    "submission.to_csv(\"submission_xgboost3.csv\", index=False)\n",
    "print(\"✅ 중복 제거 후 저장 완료: submission_xgboost3.csv\")\n"
   ]
  },
  {
   "cell_type": "code",
   "execution_count": null,
   "id": "25f86664",
   "metadata": {},
   "outputs": [
    {
     "name": "stdout",
     "output_type": "stream",
     "text": [
      "📊 예측된 Segment 분포:\n",
      "Segment\n",
      "A        65\n",
      "B         3\n",
      "C     25752\n",
      "D     75906\n",
      "E    498274\n",
      "Name: count, dtype: int64\n",
      "\n",
      "📈 비율 (%):\n",
      "Segment\n",
      "A     0.01\n",
      "B     0.00\n",
      "C     4.29\n",
      "D    12.65\n",
      "E    83.05\n",
      "Name: proportion, dtype: float64\n"
     ]
    }
   ],
   "source": [
    "import pandas as pd\n",
    "\n",
    "# 예측 결과를 Series로 변환\n",
    "y_series = pd.Series(y_test_pred, name=\"Segment\")\n",
    "\n",
    "# 분포 확인 (클래스별 건수 + 비율)\n",
    "print(\"📊 예측된 Segment 분포:\")\n",
    "print(y_series.value_counts().sort_index())      # 클래스별 개수\n",
    "print(\"\\n📈 비율 (%):\")\n",
    "print((y_series.value_counts(normalize=True).sort_index() * 100).round(2))"
   ]
  },
  {
   "cell_type": "code",
   "execution_count": null,
   "id": "1b0cfe5d",
   "metadata": {},
   "outputs": [
    {
     "data": {
      "image/png": "[encoded data removed]",
      "text/plain": [
       "<Figure size 640x480 with 2 Axes>"
      ]
     },
     "metadata": {},
     "output_type": "display_data"
    }
   ],
   "source": [
    "from sklearn.metrics import confusion_matrix, ConfusionMatrixDisplay\n",
    "import matplotlib.pyplot as plt\n",
    "\n",
    "# 예측값: y_pred, 실제값: y_val (숫자형), 또는 문자형이면 inverse_transform 먼저\n",
    "cm = confusion_matrix(y_val, y_pred, labels=[0,1,2,3,4])  # 또는 labels=le_y.transform(['A','B','C','D','E'])\n",
    "\n",
    "# 시각화\n",
    "disp = ConfusionMatrixDisplay(confusion_matrix=cm, display_labels=le_y.classes_)\n",
    "disp.plot(cmap='Blues', values_format='d')\n",
    "\n",
    "plt.title(\"혼동 행렬 (Confusion Matrix)\")\n",
    "plt.grid(False)\n",
    "plt.show()"
   ]
  },
  {
   "cell_type": "markdown",
   "id": "e1b2791a",
   "metadata": {},
   "source": [
    "- 기존보다 피처 선정 후 (EDA 기반) 정확도 소폭 향상 (B, C , D 예측 상승)"
   ]
  },
  {
   "cell_type": "code",
   "execution_count": null,
   "id": "9c887c6d",
   "metadata": {},
   "outputs": [
    {
     "data": {
      "image/png": "[encoded data removed]",
      "text/plain": [
       "<Figure size 800x950 with 1 Axes>"
      ]
     },
     "metadata": {},
     "output_type": "display_data"
    }
   ],
   "source": [
    "import shap\n",
    "\n",
    "explainer = shap.TreeExplainer(xgb_model)\n",
    "shap_values = explainer.shap_values(X_val)\n",
    "\n",
    "shap.summary_plot(shap_values, X_val, plot_type=\"bar\")"
   ]
  },
  {
   "cell_type": "code",
   "execution_count": null,
   "id": "29da23f2",
   "metadata": {},
   "outputs": [
    {
     "data": {
      "text/html": [
       "<div>\n",
       "<style scoped>\n",
       "    .dataframe tbody tr th:only-of-type {\n",
       "        vertical-align: middle;\n",
       "    }\n",
       "\n",
       "    .dataframe tbody tr th {\n",
       "        vertical-align: top;\n",
       "    }\n",
       "\n",
       "    .dataframe thead th {\n",
       "        text-align: right;\n",
       "    }\n",
       "</style>\n",
       "<table border=\"1\" class=\"dataframe\">\n",
       "  <thead>\n",
       "    <tr style=\"text-align: right;\">\n",
       "      <th></th>\n",
       "      <th>Feature</th>\n",
       "      <th>Importance</th>\n",
       "    </tr>\n",
       "  </thead>\n",
       "  <tbody>\n",
       "    <tr>\n",
       "      <th>69</th>\n",
       "      <td>이용금액대</td>\n",
       "      <td>0.149376</td>\n",
       "    </tr>\n",
       "    <tr>\n",
       "      <th>64</th>\n",
       "      <td>정상청구원금_B5M</td>\n",
       "      <td>0.142397</td>\n",
       "    </tr>\n",
       "    <tr>\n",
       "      <th>10</th>\n",
       "      <td>이용금액_R3M_신용체크</td>\n",
       "      <td>0.078886</td>\n",
       "    </tr>\n",
       "    <tr>\n",
       "      <th>66</th>\n",
       "      <td>연속유실적개월수_기본_24M_카드</td>\n",
       "      <td>0.048598</td>\n",
       "    </tr>\n",
       "    <tr>\n",
       "      <th>158</th>\n",
       "      <td>이용금액_R3M_체크</td>\n",
       "      <td>0.026548</td>\n",
       "    </tr>\n",
       "    <tr>\n",
       "      <th>169</th>\n",
       "      <td>이용후경과월_CA</td>\n",
       "      <td>0.022692</td>\n",
       "    </tr>\n",
       "    <tr>\n",
       "      <th>154</th>\n",
       "      <td>이용카드수_체크</td>\n",
       "      <td>0.022108</td>\n",
       "    </tr>\n",
       "    <tr>\n",
       "      <th>37</th>\n",
       "      <td>이용후경과월_체크</td>\n",
       "      <td>0.018695</td>\n",
       "    </tr>\n",
       "    <tr>\n",
       "      <th>171</th>\n",
       "      <td>정상청구원금_B0M</td>\n",
       "      <td>0.015652</td>\n",
       "    </tr>\n",
       "    <tr>\n",
       "      <th>2</th>\n",
       "      <td>입회경과개월수_신용</td>\n",
       "      <td>0.015201</td>\n",
       "    </tr>\n",
       "    <tr>\n",
       "      <th>172</th>\n",
       "      <td>정상청구원금_B2M</td>\n",
       "      <td>0.013516</td>\n",
       "    </tr>\n",
       "    <tr>\n",
       "      <th>20</th>\n",
       "      <td>월상환론한도금액</td>\n",
       "      <td>0.012348</td>\n",
       "    </tr>\n",
       "    <tr>\n",
       "      <th>75</th>\n",
       "      <td>청구금액_R6M</td>\n",
       "      <td>0.010891</td>\n",
       "    </tr>\n",
       "    <tr>\n",
       "      <th>8</th>\n",
       "      <td>유효카드수_신용체크</td>\n",
       "      <td>0.010344</td>\n",
       "    </tr>\n",
       "    <tr>\n",
       "      <th>163</th>\n",
       "      <td>카드이용한도금액_B2M</td>\n",
       "      <td>0.009434</td>\n",
       "    </tr>\n",
       "    <tr>\n",
       "      <th>73</th>\n",
       "      <td>청구금액_B0</td>\n",
       "      <td>0.008380</td>\n",
       "    </tr>\n",
       "    <tr>\n",
       "      <th>63</th>\n",
       "      <td>연체입금원금_B0M</td>\n",
       "      <td>0.008133</td>\n",
       "    </tr>\n",
       "    <tr>\n",
       "      <th>19</th>\n",
       "      <td>일시상환론한도금액</td>\n",
       "      <td>0.008054</td>\n",
       "    </tr>\n",
       "    <tr>\n",
       "      <th>191</th>\n",
       "      <td>잔액_카드론_B5M</td>\n",
       "      <td>0.007667</td>\n",
       "    </tr>\n",
       "    <tr>\n",
       "      <th>162</th>\n",
       "      <td>카드이용한도금액_B1M</td>\n",
       "      <td>0.007506</td>\n",
       "    </tr>\n",
       "    <tr>\n",
       "      <th>150</th>\n",
       "      <td>변동률_RVCA평잔</td>\n",
       "      <td>0.007302</td>\n",
       "    </tr>\n",
       "    <tr>\n",
       "      <th>151</th>\n",
       "      <td>변동률_카드론평잔</td>\n",
       "      <td>0.007060</td>\n",
       "    </tr>\n",
       "    <tr>\n",
       "      <th>30</th>\n",
       "      <td>일시불ONLY전환가능여부</td>\n",
       "      <td>0.007045</td>\n",
       "    </tr>\n",
       "    <tr>\n",
       "      <th>80</th>\n",
       "      <td>마일_적립포인트_R3M</td>\n",
       "      <td>0.007035</td>\n",
       "    </tr>\n",
       "    <tr>\n",
       "      <th>35</th>\n",
       "      <td>이용후경과월_신용</td>\n",
       "      <td>0.006744</td>\n",
       "    </tr>\n",
       "    <tr>\n",
       "      <th>212</th>\n",
       "      <td>평잔_CA_6M</td>\n",
       "      <td>0.006538</td>\n",
       "    </tr>\n",
       "    <tr>\n",
       "      <th>117</th>\n",
       "      <td>불만제기후경과월_R12M</td>\n",
       "      <td>0.006077</td>\n",
       "    </tr>\n",
       "    <tr>\n",
       "      <th>34</th>\n",
       "      <td>이용금액_일시불_B0M</td>\n",
       "      <td>0.005832</td>\n",
       "    </tr>\n",
       "    <tr>\n",
       "      <th>214</th>\n",
       "      <td>평잔_카드론_6M</td>\n",
       "      <td>0.005529</td>\n",
       "    </tr>\n",
       "    <tr>\n",
       "      <th>164</th>\n",
       "      <td>이용후경과월_신판</td>\n",
       "      <td>0.005515</td>\n",
       "    </tr>\n",
       "  </tbody>\n",
       "</table>\n",
       "</div>"
      ],
      "text/plain": [
       "                Feature  Importance\n",
       "69                이용금액대    0.149376\n",
       "64           정상청구원금_B5M    0.142397\n",
       "10        이용금액_R3M_신용체크    0.078886\n",
       "66   연속유실적개월수_기본_24M_카드    0.048598\n",
       "158         이용금액_R3M_체크    0.026548\n",
       "169           이용후경과월_CA    0.022692\n",
       "154            이용카드수_체크    0.022108\n",
       "37            이용후경과월_체크    0.018695\n",
       "171          정상청구원금_B0M    0.015652\n",
       "2            입회경과개월수_신용    0.015201\n",
       "172          정상청구원금_B2M    0.013516\n",
       "20             월상환론한도금액    0.012348\n",
       "75             청구금액_R6M    0.010891\n",
       "8            유효카드수_신용체크    0.010344\n",
       "163        카드이용한도금액_B2M    0.009434\n",
       "73              청구금액_B0    0.008380\n",
       "63           연체입금원금_B0M    0.008133\n",
       "19            일시상환론한도금액    0.008054\n",
       "191          잔액_카드론_B5M    0.007667\n",
       "162        카드이용한도금액_B1M    0.007506\n",
       "150          변동률_RVCA평잔    0.007302\n",
       "151           변동률_카드론평잔    0.007060\n",
       "30        일시불ONLY전환가능여부    0.007045\n",
       "80         마일_적립포인트_R3M    0.007035\n",
       "35            이용후경과월_신용    0.006744\n",
       "212            평잔_CA_6M    0.006538\n",
       "117       불만제기후경과월_R12M    0.006077\n",
       "34         이용금액_일시불_B0M    0.005832\n",
       "214           평잔_카드론_6M    0.005529\n",
       "164           이용후경과월_신판    0.005515"
      ]
     },
     "metadata": {},
     "output_type": "display_data"
    }
   ],
   "source": [
    "import pandas as pd\n",
    "\n",
    "importance_df = pd.DataFrame({\n",
    "    \"Feature\": X.columns,\n",
    "    \"Importance\": xgb_model.feature_importances_\n",
    "}).sort_values(by=\"Importance\", ascending=False)\n",
    "\n",
    "display(importance_df.head(30))"
   ]
  },
  {
   "cell_type": "markdown",
   "id": "c58e6124",
   "metadata": {},
   "source": [
    "### Threshold 조절"
   ]
  },
  {
   "cell_type": "code",
   "execution_count": null,
   "id": "e478e6c9",
   "metadata": {},
   "outputs": [],
   "source": [
    "y_proba = xgb_model.predict_proba(X_val)  # shape: (480000, 5)"
   ]
  },
  {
   "cell_type": "code",
   "execution_count": null,
   "id": "7ed4fef2",
   "metadata": {},
   "outputs": [],
   "source": [
    "\n",
    "# Threshold 기반 예측함수 정의\n",
    "def predict_with_thresholds(y_proba, thresholds):\n",
    "    preds = []\n",
    "    for row in y_proba:\n",
    "        # threshold 넘는 후보 중 확률이 가장 높은 것\n",
    "        candidates = [i for i, p in enumerate(row) if p >= thresholds[i]]\n",
    "        if candidates:\n",
    "            preds.append(candidates[np.argmax([row[i] for i in candidates])])\n",
    "        else:\n",
    "            preds.append(np.argmax(row))  # 아무것도 안 넘으면 최대 확률\n",
    "    return np.array(preds)\n"
   ]
  },
  {
   "cell_type": "code",
   "execution_count": null,
   "id": "318ff5c1",
   "metadata": {},
   "outputs": [],
   "source": [
    "# Objective 함수 정의\n",
    "def objective(trial):\n",
    "    # 클래스 수\n",
    "    n_classes = y_proba.shape[1]\n",
    "    \n",
    "    # threshold 범위 설정 (0.1~0.9)\n",
    "    thresholds = [trial.suggest_float(f\"th_{i}\", 0.1, 0.9) for i in range(n_classes)]\n",
    "    \n",
    "    # 커스텀 예측\n",
    "    y_pred = predict_with_thresholds(y_proba, thresholds)\n",
    "    \n",
    "    # macro F1-score 반환 (최적화 목적)\n",
    "    return f1_score(y_val, y_pred, average='macro')\n"
   ]
  },
  {
   "cell_type": "code",
   "execution_count": null,
   "id": "cc80780a",
   "metadata": {},
   "outputs": [
    {
     "name": "stderr",
     "output_type": "stream",
     "text": [
      "[I 2025-07-08 08:32:28,943] A new study created in memory with name: no-name-567face3-f0f4-4ded-a256-e1cc42ecf2ca\n",
      "[I 2025-07-08 08:32:36,495] Trial 0 finished with value: 0.6650473462483518 and parameters: {'th_0': 0.27119458277820585, 'th_1': 0.2183161698580813, 'th_2': 0.5090465993368511, 'th_3': 0.17449459405672985, 'th_4': 0.48175186717185614}. Best is trial 0 with value: 0.6650473462483518.\n",
      "[I 2025-07-08 08:32:44,010] Trial 1 finished with value: 0.6347438777597134 and parameters: {'th_0': 0.35145247868038576, 'th_1': 0.3931475978454294, 'th_2': 0.8921080793151327, 'th_3': 0.20261404662445212, 'th_4': 0.8116937729803534}. Best is trial 0 with value: 0.6650473462483518.\n",
      "[I 2025-07-08 08:32:51,567] Trial 2 finished with value: 0.5977803683548499 and parameters: {'th_0': 0.8445847607072773, 'th_1': 0.3272737734779124, 'th_2': 0.20442154686745787, 'th_3': 0.17174789915798527, 'th_4': 0.6854726266055657}. Best is trial 0 with value: 0.6650473462483518.\n",
      "[I 2025-07-08 08:32:58,942] Trial 3 finished with value: 0.6742622848412567 and parameters: {'th_0': 0.13558399512358177, 'th_1': 0.8568115038152729, 'th_2': 0.5523714548416084, 'th_3': 0.3152269671686977, 'th_4': 0.28163483715022386}. Best is trial 3 with value: 0.6742622848412567.\n",
      "[I 2025-07-08 08:33:06,259] Trial 4 finished with value: 0.6712221496108789 and parameters: {'th_0': 0.2834870264583387, 'th_1': 0.44332654043958863, 'th_2': 0.31197601985864276, 'th_3': 0.27341261375139747, 'th_4': 0.4161326113675474}. Best is trial 3 with value: 0.6742622848412567.\n",
      "[I 2025-07-08 08:33:13,792] Trial 5 finished with value: 0.6738085195764659 and parameters: {'th_0': 0.2794098077299932, 'th_1': 0.5800210413539982, 'th_2': 0.7633569077925365, 'th_3': 0.27858948826042784, 'th_4': 0.4277307511356949}. Best is trial 3 with value: 0.6742622848412567.\n",
      "[I 2025-07-08 08:33:21,092] Trial 6 finished with value: 0.6902408285903517 and parameters: {'th_0': 0.3417367398773762, 'th_1': 0.3129429848195822, 'th_2': 0.7499615896360438, 'th_3': 0.6302734587417036, 'th_4': 0.543772769008011}. Best is trial 6 with value: 0.6902408285903517.\n",
      "[I 2025-07-08 08:33:28,346] Trial 7 finished with value: 0.671205705199912 and parameters: {'th_0': 0.7957016922386807, 'th_1': 0.5442819107829387, 'th_2': 0.5548187595743775, 'th_3': 0.771859553586019, 'th_4': 0.8107741872222263}. Best is trial 6 with value: 0.6902408285903517.\n",
      "[I 2025-07-08 08:33:36,224] Trial 8 finished with value: 0.6599295360598914 and parameters: {'th_0': 0.5678906988449406, 'th_1': 0.40212173090574654, 'th_2': 0.5569034136249151, 'th_3': 0.26362356385994323, 'th_4': 0.47336842497112375}. Best is trial 6 with value: 0.6902408285903517.\n",
      "[I 2025-07-08 08:33:43,659] Trial 9 finished with value: 0.5477656111965025 and parameters: {'th_0': 0.8691671988624441, 'th_1': 0.2878735082614138, 'th_2': 0.18520351708012212, 'th_3': 0.8602409424716769, 'th_4': 0.2568412748345714}. Best is trial 6 with value: 0.6902408285903517.\n",
      "[I 2025-07-08 08:33:50,946] Trial 10 finished with value: 0.7098053599862599 and parameters: {'th_0': 0.5453332572405962, 'th_1': 0.11037723154914295, 'th_2': 0.7407251333069443, 'th_3': 0.606574254259537, 'th_4': 0.6733522236627594}. Best is trial 10 with value: 0.7098053599862599.\n",
      "[I 2025-07-08 08:33:58,128] Trial 11 finished with value: 0.6982053433670368 and parameters: {'th_0': 0.558202134495732, 'th_1': 0.1874483203018864, 'th_2': 0.7051171144660509, 'th_3': 0.6081796492552953, 'th_4': 0.6530278273943669}. Best is trial 10 with value: 0.7098053599862599.\n",
      "[I 2025-07-08 08:34:05,331] Trial 12 finished with value: 0.7098053599862599 and parameters: {'th_0': 0.600624193436343, 'th_1': 0.10042925734580459, 'th_2': 0.7251732505215215, 'th_3': 0.509553769361108, 'th_4': 0.6247979768084675}. Best is trial 10 with value: 0.7098053599862599.\n",
      "[I 2025-07-08 08:34:12,654] Trial 13 finished with value: 0.721634502692104 and parameters: {'th_0': 0.6905573682607089, 'th_1': 0.1050446985904862, 'th_2': 0.864003098012499, 'th_3': 0.44282704632567876, 'th_4': 0.6419382771806303}. Best is trial 13 with value: 0.721634502692104.\n",
      "[I 2025-07-08 08:34:19,897] Trial 14 finished with value: 0.6715063401656809 and parameters: {'th_0': 0.7016944595547004, 'th_1': 0.72650007931536, 'th_2': 0.8894246202926651, 'th_3': 0.40976412886757557, 'th_4': 0.7333914025902972}. Best is trial 13 with value: 0.721634502692104.\n",
      "[I 2025-07-08 08:34:27,235] Trial 15 finished with value: 0.6543799499945606 and parameters: {'th_0': 0.700342224035795, 'th_1': 0.12128947482466529, 'th_2': 0.4039613393658744, 'th_3': 0.5016842656271825, 'th_4': 0.1359705272960834}. Best is trial 13 with value: 0.721634502692104.\n",
      "[I 2025-07-08 08:34:34,469] Trial 16 finished with value: 0.6750959462347362 and parameters: {'th_0': 0.45609511508084916, 'th_1': 0.2049157922990963, 'th_2': 0.6341005535539241, 'th_3': 0.6517539873524363, 'th_4': 0.5823498882662578}. Best is trial 13 with value: 0.721634502692104.\n",
      "[I 2025-07-08 08:34:41,579] Trial 17 finished with value: 0.668965504695986 and parameters: {'th_0': 0.6940347460825761, 'th_1': 0.6609211039127278, 'th_2': 0.8269531021431356, 'th_3': 0.37222029691033454, 'th_4': 0.8824722865516847}. Best is trial 13 with value: 0.721634502692104.\n",
      "[I 2025-07-08 08:34:48,724] Trial 18 finished with value: 0.6930935174841062 and parameters: {'th_0': 0.4525900717227457, 'th_1': 0.10338980099377683, 'th_2': 0.647676981708376, 'th_3': 0.7436787950716202, 'th_4': 0.7406429337943853}. Best is trial 13 with value: 0.721634502692104.\n",
      "[I 2025-07-08 08:34:55,979] Trial 19 finished with value: 0.6928596645734174 and parameters: {'th_0': 0.651923792569111, 'th_1': 0.24816049480807806, 'th_2': 0.8154820271643173, 'th_3': 0.4261330868647357, 'th_4': 0.3539464434204706}. Best is trial 13 with value: 0.721634502692104.\n",
      "[I 2025-07-08 08:35:03,127] Trial 20 finished with value: 0.671205705199912 and parameters: {'th_0': 0.7961134691232378, 'th_1': 0.8794799329188243, 'th_2': 0.6488811729938716, 'th_3': 0.5613103080978035, 'th_4': 0.5878491942605684}. Best is trial 13 with value: 0.721634502692104.\n",
      "[I 2025-07-08 08:35:10,485] Trial 21 finished with value: 0.7098053599862599 and parameters: {'th_0': 0.5813212042843883, 'th_1': 0.1357817372909906, 'th_2': 0.8110124588406575, 'th_3': 0.5106503859471764, 'th_4': 0.6685380011352136}. Best is trial 13 with value: 0.721634502692104.\n",
      "[I 2025-07-08 08:35:17,681] Trial 22 finished with value: 0.7041286941979236 and parameters: {'th_0': 0.6267137214221108, 'th_1': 0.16782266297576798, 'th_2': 0.7176289835512608, 'th_3': 0.7093564151306699, 'th_4': 0.6140275987385486}. Best is trial 13 with value: 0.721634502692104.\n",
      "[I 2025-07-08 08:35:24,889] Trial 23 finished with value: 0.7160501066836394 and parameters: {'th_0': 0.519553798409689, 'th_1': 0.10924216775580756, 'th_2': 0.8319304727463627, 'th_3': 0.45622818574529667, 'th_4': 0.7471419197386588}. Best is trial 13 with value: 0.721634502692104.\n",
      "[I 2025-07-08 08:35:32,143] Trial 24 finished with value: 0.6819918252925035 and parameters: {'th_0': 0.5050562720348882, 'th_1': 0.2775674495262914, 'th_2': 0.856540501083867, 'th_3': 0.4578854591579442, 'th_4': 0.7617600884462308}. Best is trial 13 with value: 0.721634502692104.\n",
      "[I 2025-07-08 08:35:39,257] Trial 25 finished with value: 0.6969421517737517 and parameters: {'th_0': 0.4962615320130098, 'th_1': 0.1943167950793926, 'th_2': 0.7788063007034682, 'th_3': 0.3849489925674406, 'th_4': 0.8309118228114244}. Best is trial 13 with value: 0.721634502692104.\n",
      "[I 2025-07-08 08:35:46,471] Trial 26 finished with value: 0.672296204591252 and parameters: {'th_0': 0.41050002174417205, 'th_1': 0.3709804699898843, 'th_2': 0.8932630112367308, 'th_3': 0.5710768303119486, 'th_4': 0.7110022192564676}. Best is trial 13 with value: 0.721634502692104.\n",
      "[I 2025-07-08 08:35:53,810] Trial 27 finished with value: 0.6619967836227219 and parameters: {'th_0': 0.7566222346303895, 'th_1': 0.46326388779033756, 'th_2': 0.405657567738721, 'th_3': 0.4649297496649242, 'th_4': 0.5373245624387516}. Best is trial 13 with value: 0.721634502692104.\n",
      "[I 2025-07-08 08:36:00,823] Trial 28 finished with value: 0.688094034542938 and parameters: {'th_0': 0.5293598231585869, 'th_1': 0.25314267300811005, 'th_2': 0.6676225987721272, 'th_3': 0.6862546769840014, 'th_4': 0.8677448788518192}. Best is trial 13 with value: 0.721634502692104.\n",
      "[I 2025-07-08 08:36:08,025] Trial 29 finished with value: 0.6766472039056675 and parameters: {'th_0': 0.6577851374864738, 'th_1': 0.16404245327708683, 'th_2': 0.4670484456666841, 'th_3': 0.5686832242197869, 'th_4': 0.7833628872387504}. Best is trial 13 with value: 0.721634502692104.\n",
      "[I 2025-07-08 08:36:15,281] Trial 30 finished with value: 0.6867967792656452 and parameters: {'th_0': 0.14877615607942035, 'th_1': 0.229324173375627, 'th_2': 0.595871471072915, 'th_3': 0.3659908189349595, 'th_4': 0.5243152004868672}. Best is trial 13 with value: 0.721634502692104.\n",
      "[I 2025-07-08 08:36:22,469] Trial 31 finished with value: 0.7098053599862599 and parameters: {'th_0': 0.6071208768104921, 'th_1': 0.10954100034273659, 'th_2': 0.7133499766520197, 'th_3': 0.5151544562506084, 'th_4': 0.6272320311742067}. Best is trial 13 with value: 0.721634502692104.\n",
      "[I 2025-07-08 08:36:29,778] Trial 32 finished with value: 0.7154783915861801 and parameters: {'th_0': 0.41750674678927596, 'th_1': 0.10408467721698775, 'th_2': 0.7806348788404779, 'th_3': 0.46079557573583785, 'th_4': 0.6862475075357811}. Best is trial 13 with value: 0.721634502692104.\n",
      "[I 2025-07-08 08:36:36,960] Trial 33 finished with value: 0.7164170105948853 and parameters: {'th_0': 0.36748460218721624, 'th_1': 0.14889111274273797, 'th_2': 0.8437616395779118, 'th_3': 0.4444333933025943, 'th_4': 0.6949054889015832}. Best is trial 13 with value: 0.721634502692104.\n",
      "[I 2025-07-08 08:36:44,252] Trial 34 finished with value: 0.707432158945149 and parameters: {'th_0': 0.3659349108495873, 'th_1': 0.1680214471257308, 'th_2': 0.8467460419313115, 'th_3': 0.3244446533299297, 'th_4': 0.7050833488491692}. Best is trial 13 with value: 0.721634502692104.\n",
      "[I 2025-07-08 08:36:51,498] Trial 35 finished with value: 0.6691517419344724 and parameters: {'th_0': 0.21921102645623788, 'th_1': 0.3642398435354005, 'th_2': 0.12809472230135177, 'th_3': 0.4488445298022164, 'th_4': 0.7837598709475118}. Best is trial 13 with value: 0.721634502692104.\n",
      "[I 2025-07-08 08:36:58,651] Trial 36 finished with value: 0.7089239895629318 and parameters: {'th_0': 0.34250465522776685, 'th_1': 0.22453500935330079, 'th_2': 0.7803634993455543, 'th_3': 0.33203249119536005, 'th_4': 0.8241240615166797}. Best is trial 13 with value: 0.721634502692104.\n",
      "[I 2025-07-08 08:37:06,049] Trial 37 finished with value: 0.6574167341211679 and parameters: {'th_0': 0.3916634172264929, 'th_1': 0.15028651141914418, 'th_2': 0.8677180368405277, 'th_3': 0.17944000175339236, 'th_4': 0.7025923020169303}. Best is trial 13 with value: 0.721634502692104.\n",
      "[I 2025-07-08 08:37:13,355] Trial 38 finished with value: 0.6685790591531708 and parameters: {'th_0': 0.2950616607573402, 'th_1': 0.3235214321398251, 'th_2': 0.8022319301451537, 'th_3': 0.23666532753400402, 'th_4': 0.5750618188378596}. Best is trial 13 with value: 0.721634502692104.\n",
      "[I 2025-07-08 08:37:20,705] Trial 39 finished with value: 0.5780513331880393 and parameters: {'th_0': 0.4485177136316186, 'th_1': 0.7338192981319704, 'th_2': 0.8937929413350975, 'th_3': 0.10317773476658698, 'th_4': 0.4571000229394928}. Best is trial 13 with value: 0.721634502692104.\n",
      "[I 2025-07-08 08:37:28,043] Trial 40 finished with value: 0.7037937562608546 and parameters: {'th_0': 0.17835331680693273, 'th_1': 0.2835750615079091, 'th_2': 0.8470936289188608, 'th_3': 0.4085861303652559, 'th_4': 0.6448910162720897}. Best is trial 13 with value: 0.721634502692104.\n",
      "[I 2025-07-08 08:37:35,197] Trial 41 finished with value: 0.709532585676206 and parameters: {'th_0': 0.4192629881751686, 'th_1': 0.13185580784092688, 'th_2': 0.7632190879158776, 'th_3': 0.47294597249142567, 'th_4': 0.6762517966896173}. Best is trial 13 with value: 0.721634502692104.\n",
      "[I 2025-07-08 08:37:42,529] Trial 42 finished with value: 0.7009163853511294 and parameters: {'th_0': 0.49722281665262663, 'th_1': 0.200442597934054, 'th_2': 0.7617704233455986, 'th_3': 0.5473249064002648, 'th_4': 0.735034486671304}. Best is trial 13 with value: 0.721634502692104.\n",
      "[I 2025-07-08 08:37:49,679] Trial 43 finished with value: 0.7282207917758079 and parameters: {'th_0': 0.25744914735417157, 'th_1': 0.1466905287553375, 'th_2': 0.8116329306177954, 'th_3': 0.6091527367249153, 'th_4': 0.6816230558354768}. Best is trial 43 with value: 0.7282207917758079.\n",
      "[I 2025-07-08 08:37:56,813] Trial 44 finished with value: 0.7291860788996652 and parameters: {'th_0': 0.2389739297249608, 'th_1': 0.15386522828702814, 'th_2': 0.8097105568394638, 'th_3': 0.5451912403812467, 'th_4': 0.7735493761725692}. Best is trial 44 with value: 0.7291860788996652.\n",
      "[I 2025-07-08 08:38:04,020] Trial 45 finished with value: 0.7240760523231972 and parameters: {'th_0': 0.2301665510999067, 'th_1': 0.1664083458895064, 'th_2': 0.6829029458475336, 'th_3': 0.6535388496070531, 'th_4': 0.7945532539948134}. Best is trial 44 with value: 0.7291860788996652.\n",
      "[I 2025-07-08 08:38:11,000] Trial 46 finished with value: 0.7145043569712183 and parameters: {'th_0': 0.23560863382593336, 'th_1': 0.25127101636934795, 'th_2': 0.6849582998904987, 'th_3': 0.7886184177589451, 'th_4': 0.8456828092554467}. Best is trial 44 with value: 0.7291860788996652.\n",
      "[I 2025-07-08 08:38:18,173] Trial 47 finished with value: 0.6906529812357993 and parameters: {'th_0': 0.3103819951239917, 'th_1': 0.5271797645319289, 'th_2': 0.5958988936381614, 'th_3': 0.6360179926348023, 'th_4': 0.7778772566920622}. Best is trial 44 with value: 0.7291860788996652.\n",
      "[I 2025-07-08 08:38:25,266] Trial 48 finished with value: 0.677648895219843 and parameters: {'th_0': 0.24060876807481005, 'th_1': 0.17009983844746657, 'th_2': 0.48796678906799196, 'th_3': 0.6087162390065456, 'th_4': 0.8940191707263722}. Best is trial 44 with value: 0.7291860788996652.\n",
      "[I 2025-07-08 08:38:32,315] Trial 49 finished with value: 0.7046372714954794 and parameters: {'th_0': 0.1888754345822657, 'th_1': 0.298910260064825, 'th_2': 0.7422620109966734, 'th_3': 0.8194511414468444, 'th_4': 0.8040600507917265}. Best is trial 44 with value: 0.7291860788996652.\n"
     ]
    },
    {
     "name": "stdout",
     "output_type": "stream",
     "text": [
      "최적 threshold: [0.2389739297249608, 0.15386522828702814, 0.8097105568394638, 0.5451912403812467, 0.7735493761725692]\n"
     ]
    }
   ],
   "source": [
    "import optuna\n",
    "from sklearn.metrics import f1_score\n",
    "import numpy as np\n",
    "\n",
    "# 1. 예측 확률 준비\n",
    "y_proba = xgb_model.predict_proba(X_val)\n",
    "\n",
    "# 2. 최적화 실행\n",
    "study = optuna.create_study(direction=\"maximize\") # by Optuna\n",
    "study.optimize(objective, n_trials=50)  # 50회 시도 (조절 가능)\n",
    "\n",
    "# 3. 최적 threshold 출력\n",
    "best_thresholds = [study.best_params[f\"th_{i}\"] for i in range(y_proba.shape[1])]\n",
    "print(\"최적 threshold:\", best_thresholds)\n"
   ]
  },
  {
   "cell_type": "code",
   "execution_count": null,
   "id": "df3b0e5f",
   "metadata": {},
   "outputs": [
    {
     "name": "stdout",
     "output_type": "stream",
     "text": [
      "              precision    recall  f1-score   support\n",
      "\n",
      "           0       0.78      0.70      0.73       194\n",
      "           1       0.83      0.52      0.64        29\n",
      "           2       0.75      0.61      0.67     25518\n",
      "           3       0.70      0.61      0.65     69848\n",
      "           4       0.93      0.97      0.95    384411\n",
      "\n",
      "    accuracy                           0.90    480000\n",
      "   macro avg       0.80      0.68      0.73    480000\n",
      "weighted avg       0.89      0.90      0.89    480000\n",
      "\n"
     ]
    }
   ],
   "source": [
    "# Threshold 적용 및 평가\n",
    "y_pred_best = predict_with_thresholds(y_proba, best_thresholds)\n",
    "print(classification_report(y_val, y_pred_best))"
   ]
  },
  {
   "cell_type": "code",
   "execution_count": null,
   "id": "02da3fdc",
   "metadata": {},
   "outputs": [],
   "source": [
    "import json\n",
    "with open(\"best_thresholds.json\", \"w\") as f:\n",
    "    json.dump(best_thresholds, f)"
   ]
  },
  {
   "cell_type": "code",
   "execution_count": null,
   "id": "477fa3e1",
   "metadata": {},
   "outputs": [
    {
     "name": "stdout",
     "output_type": "stream",
     "text": [
      "✅ 중복 제거 후 저장 완료: submission_threashold.csv\n"
     ]
    }
   ],
   "source": [
    "# 저장\n",
    "submission.to_csv(\"submission_threashold.csv\", index=False)\n",
    "print(\"✅ 중복 제거 후 저장 완료: submission_threashold.csv\")"
   ]
  },
  {
   "cell_type": "code",
   "execution_count": null,
   "id": "4e1edee3",
   "metadata": {},
   "outputs": [
    {
     "name": "stdout",
     "output_type": "stream",
     "text": [
      "Validation 분포:\n",
      " 4    0.800856\n",
      "3    0.145517\n",
      "2    0.053163\n",
      "0    0.000404\n",
      "1    0.000060\n",
      "Name: proportion, dtype: float64\n",
      "Test 예측 분포:\n",
      " E    0.830457\n",
      "D    0.126510\n",
      "C    0.042645\n",
      "A    0.000365\n",
      "B    0.000023\n",
      "Name: proportion, dtype: float64\n"
     ]
    }
   ],
   "source": [
    "print(\"Validation 분포:\\n\", pd.Series(y_val).value_counts(normalize=True))\n",
    "print(\"Test 예측 분포:\\n\", pd.Series(y_test_pred).value_counts(normalize=True))"
   ]
  },
  {
   "cell_type": "markdown",
   "id": "57fc38c4",
   "metadata": {},
   "source": [
    "Best threshold 적용"
   ]
  },
  {
   "cell_type": "code",
   "execution_count": null,
   "id": "1be1d704",
   "metadata": {},
   "outputs": [
    {
     "name": "stderr",
     "output_type": "stream",
     "text": [
      "c:\\Users\\somee\\anaconda3\\Lib\\site-packages\\sklearn\\base.py:486: UserWarning: X has feature names, but StandardScaler was fitted without feature names\n",
      "  warnings.warn(\n"
     ]
    },
    {
     "name": "stdout",
     "output_type": "stream",
     "text": [
      "✅ 최적 threshold 반영하여 저장 완료: submission_threshold_tuned.csv\n"
     ]
    }
   ],
   "source": [
    "import pandas as pd\n",
    "import numpy as np\n",
    "\n",
    "# 1. test 데이터 불러오기\n",
    "test_df = pd.read_parquet(\"../../data/통합_test_데이터.parquet\")\n",
    "\n",
    "# 2. 피처 선택\n",
    "X_test = test_df[selected_feature].copy()\n",
    "\n",
    "# 3. 범주형 인코딩 (학습 시 사용한 LabelEncoder로 동일하게 처리)\n",
    "for col in X_test.select_dtypes(include='object').columns:\n",
    "    X_test[col] = le.fit_transform(X_test[col].astype(str))\n",
    "\n",
    "# 4. 결측치 처리 (학습 시 사용한 imputer 사용)\n",
    "X_test = pd.DataFrame(imputer.transform(X_test), columns=X_test.columns)\n",
    "\n",
    "# 5. 스케일링 (학습 시 사용한 scaler 사용)\n",
    "X_test_scaled = scaler.transform(X_test)\n",
    "\n",
    "# 6. 확률 예측\n",
    "y_test_proba = xgb_model.predict_proba(X_test_scaled)\n",
    "\n",
    "# 7. threshold 기반 예측 함수 정의\n",
    "def predict_with_thresholds(y_proba, thresholds):\n",
    "    preds = []\n",
    "    for row in y_proba:\n",
    "        candidates = [i for i, p in enumerate(row) if p >= thresholds[i]]\n",
    "        if candidates:\n",
    "            preds.append(candidates[np.argmax([row[i] for i in candidates])])\n",
    "        else:\n",
    "            preds.append(np.argmax(row))  # fallback\n",
    "    return np.array(preds)\n",
    "\n",
    "# 8. 이미 찾은 best_thresholds 적용 (이 값은 앞에서 구해둔 것!)\n",
    "# 예: best_thresholds = [0.22, 0.27, 0.50, 0.50, 0.55]\n",
    "y_test_pred_encoded = predict_with_thresholds(y_test_proba, best_thresholds)\n",
    "\n",
    "# 9. 숫자 라벨 → 문자 라벨로 복원\n",
    "y_test_pred = le_y.inverse_transform(y_test_pred_encoded)\n",
    "\n",
    "# 10. 제출 파일 구성\n",
    "submission = pd.DataFrame({\n",
    "    'ID': test_df['ID'],\n",
    "    'Segment': y_test_pred\n",
    "})\n",
    "\n",
    "# 11. 중복 ID 제거 (가장 먼저 예측된 값 유지)\n",
    "submission = submission.drop_duplicates(subset='ID', keep='first')\n",
    "\n",
    "# 12. 제출 파일 저장\n",
    "submission.to_csv(\"submission_threshold_tuned.csv\", index=False)\n",
    "print(\"✅ 최적 threshold 반영하여 저장 완료: submission_threshold_tuned.csv\")\n"
   ]
  },
  {
   "cell_type": "markdown",
   "id": "1f804031",
   "metadata": {},
   "source": [
    "## 📊 Threshold 조정 전 vs 후 성능 비교 (Validation 기준)\n",
    "\n",
    "### ✅ 클래스별 정밀도, 재현율, F1-score\n",
    "\n",
    "| Segment | Precision (전) | Recall (전) | F1-score (전) | Precision (후) | Recall (후) | F1-score (후) | 변화 |\n",
    "|---------|----------------|-------------|---------------|----------------|-------------|---------------|------|\n",
    "| A (0)   | 0.95           | 0.45        | 0.61          | 0.78           | 0.70        | **0.73**      | ▲ +0.12 |\n",
    "| B (1)   | 1.00           | 0.31        | 0.47          | 0.83           | 0.52        | **0.64**      | ▲ +0.17 |\n",
    "| C (2)   | 0.75           | 0.61        | 0.67          | 0.75           | 0.61        | 0.67          | - |\n",
    "| D (3)   | 0.70           | 0.61        | 0.65          | 0.70           | 0.61        | 0.65          | - |\n",
    "| E (4)   | 0.93           | 0.97        | 0.95          | 0.93           | 0.97        | 0.95          | - |\n",
    "\n",
    "---\n",
    "\n",
    "### ✅ 전체 지표 비교\n",
    "\n",
    "| 지표               | 조정 전 | 조정 후 | 변화 |\n",
    "|--------------------|---------|---------|------|\n",
    "| Accuracy           | 0.90    | 0.90    | - |\n",
    "| Macro F1-score     | 0.67    | **0.73**| ▲ +0.06 |\n",
    "| Weighted F1-score  | 0.89    | 0.89    | - |\n",
    "\n",
    "---\n",
    "\n",
    "### 🔍 인사이트 요약\n",
    "\n",
    "- Segment A, B와 같은 희귀 클래스의 재현율(Recall)과 F1-score가 **크게 향상**\n",
    "- 다수 클래스(C, D, E)의 성능은 **유지**\n",
    "- Threshold 튜닝을 통해 **macro F1-score가 0.67 → 0.73**으로 상승\n",
    "- Accuracy와 Weighted F1은 동일하게 유지되어, **모델의 균형성 확보**"
   ]
  }
 ],
 "metadata": {
  "kernelspec": {
   "display_name": "base",
   "language": "python",
   "name": "python3"
  },
  "language_info": {
   "codemirror_mode": {
    "name": "ipython",
    "version": 3
   },
   "file_extension": ".py",
   "mimetype": "text/x-python",
   "name": "python",
   "nbconvert_exporter": "python",
   "pygments_lexer": "ipython3",
   "version": "3.12.7"
  }
 },
 "nbformat": 4,
 "nbformat_minor": 5
}
