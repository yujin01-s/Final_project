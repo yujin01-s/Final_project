{
  "nbformat": 4,
  "nbformat_minor": 0,
  "metadata": {
    "colab": {
      "provenance": []
    },
    "kernelspec": {
      "name": "python3",
      "display_name": "Python 3"
    },
    "language_info": {
      "name": "python"
    }
  },
  "cells": [
    {
      "cell_type": "code",
      "execution_count": null,
      "metadata": {
        "id": "OAjCbKl2uD01"
      },
      "outputs": [],
      "source": [
        "# 기본\n",
        "import pandas as pd\n",
        "import numpy as np\n",
        "import matplotlib.pyplot as plt\n",
        "import seaborn as sns\n",
        "\n",
        "# 경고 뜨지 않게 설정\n",
        "import warnings\n",
        "warnings.filterwarnings('ignore')\n",
        "\n",
        "# 그래프 설정\n",
        "sns.set()\n",
        "\n",
        "# 그래프 기본 설정\n",
        "# plt.rcParams['font.family'] = 'Malgun Gothic'\n",
        "# plt.rcParams['font.family'] = 'AppleGothic'\n",
        "plt.rcParams['figure.figsize'] = 12, 6\n",
        "plt.rcParams['font.size'] = 14\n",
        "plt.rcParams['axes.unicode_minus'] = False\n",
        "\n",
        "# 데이터 전처리 알고리즘\n",
        "from sklearn.preprocessing import LabelEncoder\n",
        "from sklearn.preprocessing import StandardScaler\n",
        "\n",
        "# 학습용과 검증용으로 나누는 함수\n",
        "from sklearn.model_selection import train_test_split\n",
        "\n",
        "# 교차 검증\n",
        "from sklearn.model_selection import cross_val_score\n",
        "from sklearn.model_selection import cross_validate\n",
        "from sklearn.model_selection import KFold\n",
        "from sklearn.model_selection import StratifiedKFold\n",
        "\n",
        "# 평가함수\n",
        "# 분류용\n",
        "from sklearn.metrics import accuracy_score\n",
        "from sklearn.metrics import precision_score\n",
        "from sklearn.metrics import recall_score\n",
        "from sklearn.metrics import f1_score\n",
        "from sklearn.metrics import roc_auc_score\n",
        "\n",
        "# 회귀용\n",
        "from sklearn.metrics import r2_score\n",
        "from sklearn.metrics import mean_squared_error\n",
        "\n",
        "# 모델의 최적의 하이퍼 파라미터를 찾기 위한 도구\n",
        "from sklearn.model_selection import GridSearchCV\n",
        "\n",
        "# 머신러닝 알고리즘 - 분류\n",
        "from sklearn.neighbors import KNeighborsClassifier\n",
        "from sklearn.linear_model import LogisticRegression\n",
        "from sklearn.svm import SVC\n",
        "from sklearn.tree import DecisionTreeClassifier\n",
        "from sklearn.ensemble import RandomForestClassifier\n",
        "from sklearn.ensemble import AdaBoostClassifier\n",
        "from sklearn.ensemble import GradientBoostingClassifier\n",
        "from lightgbm import LGBMClassifier\n",
        "from xgboost import XGBClassifier\n",
        "from sklearn.ensemble import VotingClassifier\n",
        "\n",
        "# 머신러닝 알고리즘 - 회귀\n",
        "from sklearn.neighbors import KNeighborsRegressor\n",
        "from sklearn.linear_model import LinearRegression\n",
        "from sklearn.linear_model import Ridge\n",
        "from sklearn.linear_model import Lasso\n",
        "from sklearn.linear_model import ElasticNet\n",
        "from sklearn.svm import SVR\n",
        "from sklearn.tree import DecisionTreeRegressor\n",
        "from sklearn.ensemble import RandomForestRegressor\n",
        "from sklearn.ensemble import AdaBoostRegressor\n",
        "from sklearn.ensemble import GradientBoostingRegressor\n",
        "from lightgbm import LGBMRegressor\n",
        "from xgboost import XGBRegressor\n",
        "from sklearn.ensemble import VotingRegressor\n",
        "\n",
        "# 학습 모델 저장을 위한 라이브러리\n",
        "import pickle\n",
        "\n",
        "# 시간 관련\n",
        "import time\n",
        "import joblib  # 모델, 스케일러, 인코더 불러오기"
      ]
    },
    {
      "cell_type": "code",
      "source": [
        "import pandas as pd\n",
        "import pickle\n",
        "\n",
        "# 저장된 모델 파일 경로\n",
        "best_model_path = '/content/drive/MyDrive/models/best_model_classification_5.dat'\n",
        "\n",
        "# 순서대로 로드\n",
        "with open(best_model_path, 'rb') as fp:\n",
        "    model = pickle.load(fp)       # 첫 번째: 학습된 모델\n",
        "    encoder1 = pickle.load(fp)    # 두 번째: LabelEncoder\n",
        "    scaler1 = pickle.load(fp)     # 세 번째: StandardScaler\n"
      ],
      "metadata": {
        "id": "asAygp6VuVMs"
      },
      "execution_count": null,
      "outputs": []
    },
    {
      "cell_type": "code",
      "source": [
        "# 확장자 .csv 기준 (확장자 다르면 알려줘)\n",
        "test_df = pd.read_csv('/content/drive/MyDrive/잔액정보 병합_encoded_test.csv')\n",
        "\n",
        "# train과 동일하게 불필요한 컬럼 제거\n",
        "test_X = test_df.drop(['ID', '기준년월'], axis=1)\n",
        "\n",
        "# 동일한 스케일러로 변환\n",
        "test_X_scaled = scaler1.transform(test_X)"
      ],
      "metadata": {
        "id": "cs6QYUnTuZSP"
      },
      "execution_count": null,
      "outputs": []
    },
    {
      "cell_type": "code",
      "source": [
        "# 예측 (클래스 번호로 나옴)\n",
        "test_pred = model.predict(test_X_scaled)\n",
        "\n",
        "# 라벨 복원 (Segment 이름으로)\n",
        "test_pred_labels = encoder1.inverse_transform(test_pred)\n",
        "\n",
        "submission = pd.DataFrame({\n",
        "    'ID': test_df['ID'],\n",
        "    'Segment': test_pred_labels\n",
        "})\n",
        "\n",
        "# 중복 제거\n",
        "submission = submission.drop_duplicates(subset='ID', keep='first')\n",
        "\n",
        "# 저장\n",
        "submission.to_csv(\"5_test_prediction.csv\", index=False)\n",
        "\n",
        "print(\"예측 완료! 5_test_prediction.csv 로 저장됨\")"
      ],
      "metadata": {
        "colab": {
          "base_uri": "https://localhost:8080/"
        },
        "id": "wi88ygH0ucS1",
        "outputId": "d00b8d43-76c8-4db5-f356-df00fd5e992a"
      },
      "execution_count": null,
      "outputs": [
        {
          "output_type": "stream",
          "name": "stdout",
          "text": [
            "예측 완료! 5_test_prediction.csv 로 저장됨\n"
          ]
        }
      ]
    },
    {
      "cell_type": "code",
      "source": [],
      "metadata": {
        "id": "tTpCfT-dutPV"
      },
      "execution_count": null,
      "outputs": []
    }
  ]
}