{
 "cells": [
  {
   "cell_type": "markdown",
   "id": "62885743",
   "metadata": {},
   "source": [
    "기존 모델에서 이진분류방식을 적용해서 분할\n",
    "-> 데이터 불균형 해소방안"
   ]
  },
  {
   "cell_type": "markdown",
   "id": "87f66f17",
   "metadata": {},
   "source": [
    "# 데이터 가공"
   ]
  },
  {
   "cell_type": "markdown",
   "id": "e3569af1",
   "metadata": {},
   "source": [
    "- 범주형 데이터 스코어링 후 수치화 / 나머지 비중요 범주형 데이터는 라벨인코딩\n",
    "- 데이터특성, 도메인 지식 (EDA, RFM 분석 결과 바탕) 파생변수 생성\n",
    "- 전체 상관계수 & VIF 확인 후 나머지 데이터 가공 (가공방법 : 상관계수 기반 파생변수 생성 - 변수 특성 (B : 해당월, R : 해당기간까지의 누적) 반영)\n",
    "- 전체 VIF 확인후 수치 너무 높은 컬럼은 제거 (대표값 하나씩만 남김)"
   ]
  },
  {
   "cell_type": "code",
   "execution_count": 5,
   "id": "7a42b188",
   "metadata": {},
   "outputs": [],
   "source": [
    "import matplotlib.pyplot as plt\n",
    "import matplotlib.font_manager as fm\n",
    "import platform\n",
    "\n",
    "# 시스템이 Windows일 경우\n",
    "if platform.system() == 'Windows':\n",
    "    plt.rc('font', family='Pretendard')\n",
    "# macOS일 경우 예시:\n",
    "elif platform.system() == 'Darwin':\n",
    "    plt.rc('font', family='AppleGothic')\n",
    "\n",
    "# 마이너스 부호 깨짐 방지\n",
    "plt.rcParams['axes.unicode_minus'] = False"
   ]
  },
  {
   "cell_type": "code",
   "execution_count": 6,
   "id": "a9482396",
   "metadata": {},
   "outputs": [],
   "source": [
    "from modules.data_loader import load_and_process\n",
    "from modules.feature_selector import stage_feature_map\n",
    "\n",
    "file_path = \"../../data/통합_train_데이터.parquet\"\n",
    "test_path = \"../../data/통합_test_데이터.parquet\"\n",
    "\n",
    "stage_name = \"e\" # <- 변경해서 사용\n",
    "save_path = \"./models\""
   ]
  },
  {
   "cell_type": "markdown",
   "id": "ef801563",
   "metadata": {},
   "source": [
    "### 데이터 로드"
   ]
  },
  {
   "cell_type": "code",
   "execution_count": 8,
   "id": "54551ba4",
   "metadata": {},
   "outputs": [
    {
     "name": "stdout",
     "output_type": "stream",
     "text": [
      "데이터 불러오기 완료.\n",
      "[연회비발생카드수_B0M] 인코딩 완료\n",
      "[한도증액횟수_R12M] 인코딩 완료\n",
      "[이용금액대] 중간값 인코딩 완료\n",
      "[할인건수_R3M] 인코딩 완료\n",
      "[할인건수_B0M] 인코딩 완료\n",
      "[방문횟수_PC_R6M] 인코딩 완료\n",
      "[방문횟수_앱_R6M] 인코딩 완료\n",
      "[방문일수_PC_R6M] 인코딩 완료\n",
      "✅ 범주형 인코딩 완료\n"
     ]
    }
   ],
   "source": [
    "from modules.feature_selector import pca_cols, ab_feat, cd_baseline, selected_cols\n",
    "from modules.feature_selector import stage_feature_map\n",
    "\n",
    "e_cols = selected_cols\n",
    "train_e, e_cols = load_and_process(file_path, stage_name)"
   ]
  },
  {
   "cell_type": "markdown",
   "id": "baba21ba",
   "metadata": {},
   "source": [
    "### 상관계수, VIF 점검\n",
    "| score를 높이기위해 상관계수 기반 , 인사이트 기반으로 추가 파생변수 생성\n",
    "| VIF 기준 너무 높은 변수만 제거 (but 중요도 높은 일부 컬럼 제거대상 제외)"
   ]
  },
  {
   "cell_type": "code",
   "execution_count": 10,
   "id": "5da9a489",
   "metadata": {},
   "outputs": [],
   "source": [
    "from modules.preprocess_utils import get_high_correlation_pairs\n",
    "# 인코딩 및 수치형 컬럼만 포함된 DataFrame\n",
    "df_numeric = train_e.copy()\n",
    "\n",
    "# 상관계수 0.8 이상 쌍만 표로 추출\n",
    "high_corr_table = get_high_correlation_pairs(df_numeric, threshold=0.96)\n",
    "\n",
    "# 결과 출력\n",
    "import pandas as pd\n",
    "# pd.set_option('display.max_rows', 100)\n",
    "# display(high_corr_table)"
   ]
  },
  {
   "cell_type": "code",
   "execution_count": 9,
   "id": "3a97d56e",
   "metadata": {},
   "outputs": [],
   "source": [
    "from modules.feature_selector import generate_e_features\n",
    "train_e = generate_e_features(train_e)"
   ]
  },
  {
   "cell_type": "code",
   "execution_count": null,
   "id": "2e6ea2db",
   "metadata": {},
   "outputs": [],
   "source": [
    "# from modules.preprocess_utils import fast_vif\n",
    "\n",
    "# # 수치형 변수만\n",
    "# X = train_e.select_dtypes(include=['int64', 'float64']).drop(columns=['ID', 'Segment'], errors='ignore')\n",
    "\n",
    "# vif_df = fast_vif(X, verbose=False)  # 로그 출력 끄고 실행\n",
    "# top_vif_20 = vif_df.sort_values(by='VIF', ascending=False).head(20)\n",
    "# print(top_vif_20)"
   ]
  },
  {
   "cell_type": "markdown",
   "id": "3e945134",
   "metadata": {},
   "source": [
    "### VIF & 상관계수 기준으로 파생변수 생성"
   ]
  },
  {
   "cell_type": "code",
   "execution_count": 11,
   "id": "2848441f",
   "metadata": {},
   "outputs": [
    {
     "name": "stdout",
     "output_type": "stream",
     "text": [
      "\n",
      "📊 [VIF 상위 30개]\n",
      "           feature          VIF\n",
      "        신용이용건수_증가량          inf\n",
      "       이용건수_신용_R6M          inf\n",
      "      이용건수_신용_R12M          inf\n",
      "      이용건수_신판_R12M 67306.333520\n",
      "     이용건수_일시불_R12M 18097.676276\n",
      "  잔액_신판최대한도소진율_r3m   319.745854\n",
      "잔액_신판ca최대한도소진율_r3m   254.675915\n",
      "  잔액_신판평균한도소진율_r3m   238.253804\n",
      "  잔액_신판평균한도소진율_r6m   230.703912\n",
      "잔액_신판ca최대한도소진율_r6m   207.702156\n",
      "잔액_신판ca평균한도소진율_r6m   206.793101\n",
      "  잔액_신판최대한도소진율_r6m   195.494910\n",
      "잔액_신판ca평균한도소진율_r3m   160.740325\n",
      "        잔액_카드론_B1M   122.795660\n",
      "   포인트_마일리지_건별_R3M   104.356991\n",
      "        잔액_카드론_B0M    99.664666\n",
      "      이용금액_일시불_R3M    83.094039\n",
      "   포인트_마일리지_건별_B0M    79.105772\n",
      "        방문횟수_앱_B0M    70.278901\n",
      "       이용건수_신용_B0M    64.620425\n",
      "        방문일수_앱_B0M    63.405761\n",
      "      잔액_현금서비스_B1M    61.343282\n",
      "      이용금액_일시불_R6M    59.233115\n",
      "      이용금액_일시불_B0M    57.230557\n",
      "      마일_적립포인트_R3M    49.099322\n",
      "      카드이용한도금액_B1M    48.391739\n",
      "      잔액_현금서비스_B0M    44.092891\n",
      "       방문횟수_PC_B0M    41.756527\n",
      "       방문일수_PC_B0M    41.755432\n",
      "          평잔_할부_3M    41.742893\n",
      "✅ Created: 이용건수_신판_R12M_minus_이용건수_신용_R12M, 이용건수_신판_R12M_div_이용건수_신용_R12M\n",
      "✅ Created: 이용건수_일시불_R12M_minus_이용건수_신판_R12M, 이용건수_일시불_R12M_div_이용건수_신판_R12M\n",
      "✅ Created: 이용건수_일시불_R12M_minus_이용건수_신용_R12M, 이용건수_일시불_R12M_div_이용건수_신용_R12M\n",
      "✅ Created: 잔액_신판평균한도소진율_r3m_minus_잔액_신판최대한도소진율_r3m, 잔액_신판평균한도소진율_r3m_div_잔액_신판최대한도소진율_r3m\n",
      "✅ Created: 잔액_카드론_B1M_minus_잔액_카드론_B0M, 잔액_카드론_B1M_div_잔액_카드론_B0M\n",
      "✅ Created: 잔액_신판ca최대한도소진율_r3m_minus_잔액_신판ca평균한도소진율_r3m, 잔액_신판ca최대한도소진율_r3m_div_잔액_신판ca평균한도소진율_r3m\n",
      "✅ Created: 포인트_마일리지_건별_R3M_minus_포인트_마일리지_건별_B0M, 포인트_마일리지_건별_R3M_div_포인트_마일리지_건별_B0M\n",
      "✅ Created: 방문횟수_앱_B0M_minus_방문일수_앱_B0M, 방문횟수_앱_B0M_div_방문일수_앱_B0M\n",
      "✅ Created: 방문횟수_PC_B0M_minus_방문일수_PC_B0M, 방문횟수_PC_B0M_div_방문일수_PC_B0M\n",
      "✅ Created: 이용금액_일시불_R3M_minus_이용금액_일시불_B0M, 이용금액_일시불_R3M_div_이용금액_일시불_B0M\n",
      "✅ Created: 이용금액_일시불_R3M_minus_이용금액_일시불_R6M, 이용금액_일시불_R3M_div_이용금액_일시불_R6M\n",
      "✅ Created: 이용건수_신용_R6M_minus_이용건수_신용_B0M, 이용건수_신용_R6M_div_이용건수_신용_B0M\n",
      "✅ Created: 잔액_신판ca최대한도소진율_r6m_minus_잔액_신판ca평균한도소진율_r6m, 잔액_신판ca최대한도소진율_r6m_div_잔액_신판ca평균한도소진율_r6m\n",
      "✅ Created: 잔액_신판평균한도소진율_r6m_minus_잔액_신판최대한도소진율_r6m, 잔액_신판평균한도소진율_r6m_div_잔액_신판최대한도소진율_r6m\n",
      "✅ Created: 카드이용한도금액_B2M_minus_카드이용한도금액_B1M, 카드이용한도금액_B2M_div_카드이용한도금액_B1M\n",
      "✅ Created: 이용후경과월_신판_minus_이용후경과월_신용, 이용후경과월_신판_div_이용후경과월_신용\n",
      "✅ Created: 평잔_RV일시불_3M_minus_평잔_RV일시불_6M, 평잔_RV일시불_3M_div_평잔_RV일시불_6M\n",
      "✅ Created: 잔액_현금서비스_B1M_minus_잔액_현금서비스_B0M, 잔액_현금서비스_B1M_div_잔액_현금서비스_B0M\n",
      "✅ Created: 잔액_신판평균한도소진율_r3m_minus_잔액_신판평균한도소진율_r6m, 잔액_신판평균한도소진율_r3m_div_잔액_신판평균한도소진율_r6m\n",
      "✅ Created: 포인트_포인트_건별_B0M_minus_포인트_포인트_건별_R3M, 포인트_포인트_건별_B0M_div_포인트_포인트_건별_R3M\n",
      "✅ Created: 잔액_신판최대한도소진율_r3m_minus_잔액_신판최대한도소진율_r6m, 잔액_신판최대한도소진율_r3m_div_잔액_신판최대한도소진율_r6m\n",
      "✅ Created: 포인트_마일리지_월적립_R3M_minus_포인트_마일리지_월적립_B0M, 포인트_마일리지_월적립_R3M_div_포인트_마일리지_월적립_B0M\n",
      "✅ Created: 잔액_신판ca최대한도소진율_r3m_minus_잔액_신판ca최대한도소진율_r6m, 잔액_신판ca최대한도소진율_r3m_div_잔액_신판ca최대한도소진율_r6m\n",
      "✅ Created: 평잔_CA_6M_minus_평잔_CA_3M, 평잔_CA_6M_div_평잔_CA_3M\n",
      "✅ Created: 잔액_신판ca평균한도소진율_r6m_minus_잔액_신판ca평균한도소진율_r3m, 잔액_신판ca평균한도소진율_r6m_div_잔액_신판ca평균한도소진율_r3m\n",
      "✅ Created: 이용건수_신용_R6M_minus_이용건수_신판_R12M, 이용건수_신용_R6M_div_이용건수_신판_R12M\n",
      "✅ Created: 이용건수_신용_R6M_minus_이용건수_신용_R12M, 이용건수_신용_R6M_div_이용건수_신용_R12M\n",
      "✅ Created: 잔액_신판최대한도소진율_r3m_minus_잔액_신판평균한도소진율_r6m, 잔액_신판최대한도소진율_r3m_div_잔액_신판평균한도소진율_r6m\n",
      "✅ Created: 이용건수_신용_R6M_minus_이용건수_일시불_R12M, 이용건수_신용_R6M_div_이용건수_일시불_R12M\n",
      "✅ Created: 잔액_카드론_B1M_minus_잔액_카드론_B2M, 잔액_카드론_B1M_div_잔액_카드론_B2M\n",
      "🚫 제거: 이용건수_신판_R12M\n",
      "🚫 제거: 이용건수_일시불_R12M\n",
      "🚫 제거 + 파생 생성: 잔액_신판ca최대한도소진율_r3m\n",
      "🚫 제거 + 파생 생성: 잔액_신판평균한도소진율_r3m\n",
      "🚫 제거 + 파생 생성: 잔액_신판ca최대한도소진율_r6m\n",
      "🚫 제거 + 파생 생성: 잔액_신판최대한도소진율_r3m\n",
      "🚫 제거 + 파생 생성: 잔액_신판평균한도소진율_r6m\n",
      "🚫 제거 + 파생 생성: 잔액_신판ca평균한도소진율_r6m\n",
      "🚫 제거 + 파생 생성: 잔액_신판ca평균한도소진율_r3m\n",
      "🚫 제거 + 파생 생성: 잔액_신판최대한도소진율_r6m\n",
      "🚫 제거 + 파생 생성: 잔액_신판평균한도소진율_r3m_minus_잔액_신판최대한도소진율_r3m\n",
      "🚫 제거 + 파생 생성: 잔액_신판평균한도소진율_r3m_div_잔액_신판최대한도소진율_r3m\n",
      "🚫 제거 + 파생 생성: 잔액_신판ca최대한도소진율_r3m_minus_잔액_신판ca평균한도소진율_r3m\n",
      "🚫 제거 + 파생 생성: 잔액_신판ca최대한도소진율_r3m_div_잔액_신판ca평균한도소진율_r3m\n",
      "🚫 제거 + 파생 생성: 잔액_신판ca최대한도소진율_r6m_minus_잔액_신판ca평균한도소진율_r6m\n",
      "🚫 제거 + 파생 생성: 잔액_신판평균한도소진율_r6m_minus_잔액_신판최대한도소진율_r6m\n",
      "🚫 제거 + 파생 생성: 잔액_신판평균한도소진율_r6m_div_잔액_신판최대한도소진율_r6m\n",
      "🚫 제거 + 파생 생성: 잔액_신판평균한도소진율_r3m_minus_잔액_신판평균한도소진율_r6m\n",
      "🚫 제거 + 파생 생성: 잔액_신판평균한도소진율_r3m_div_잔액_신판평균한도소진율_r6m\n",
      "🚫 제거 + 파생 생성: 잔액_신판최대한도소진율_r3m_minus_잔액_신판최대한도소진율_r6m\n",
      "🚫 제거 + 파생 생성: 잔액_신판최대한도소진율_r3m_div_잔액_신판최대한도소진율_r6m\n",
      "🚫 제거 + 파생 생성: 잔액_신판ca최대한도소진율_r3m_minus_잔액_신판ca최대한도소진율_r6m\n",
      "🚫 제거 + 파생 생성: 잔액_신판ca최대한도소진율_r3m_div_잔액_신판ca최대한도소진율_r6m\n",
      "🚫 제거 + 파생 생성: 잔액_신판ca평균한도소진율_r6m_minus_잔액_신판ca평균한도소진율_r3m\n",
      "🚫 제거 + 파생 생성: 잔액_신판최대한도소진율_r3m_minus_잔액_신판평균한도소진율_r6m\n",
      "🚫 제거 + 파생 생성: 잔액_신판최대한도소진율_r3m_div_잔액_신판평균한도소진율_r6m\n",
      "🚫 제거: 잔액_카드론_B1M (카드론 시계열)\n",
      "🚫 제거: 잔액_카드론_B2M (카드론 시계열)\n",
      "✅ 생성: 방문빈도_앱, 제거: 방문일수_앱_B0M\n",
      "✅ 생성: 포인트건별_변화량, 제거: 포인트_마일리지_건별_B0M\n",
      "\n",
      "🎯 최종 사용 가능한 파생변수 수: 112\n"
     ]
    }
   ],
   "source": [
    "from modules.preprocess_utils import auto_reduce_vif_features_fast\n",
    "from modules.preprocess_utils import remove_inf_div_features_fast\n",
    "from modules.preprocess_utils import auto_clean_high_vif_features\n",
    "\n",
    "# 1. 상관계수 기반 VIF 파생 생성\n",
    "df_vif, derived_cols, top_vif = auto_reduce_vif_features_fast(train_e, high_corr_table, top_k=30)\n",
    "\n",
    "# 2. 생성된 _div_ 파생변수 중 inf/NaN 제거\n",
    "df_vif_clean, removed_div_cols = remove_inf_div_features_fast(df_vif)\n",
    "\n",
    "# 3. 주요 VIF 유발 변수 정제 + 파생 변수로 요약\n",
    "df_final, removed_highvif_cols, created_highvif_cols = auto_clean_high_vif_features(df_vif_clean)\n",
    "\n",
    "# ✅ 최종 feature 후보군\n",
    "all_derived = derived_cols + created_highvif_cols\n",
    "print(f\"\\n🎯 최종 사용 가능한 파생변수 수: {len(all_derived)}\")"
   ]
  },
  {
   "cell_type": "code",
   "execution_count": null,
   "id": "4720c558",
   "metadata": {},
   "outputs": [],
   "source": [
    "from modules.preprocess_utils import fast_vif_cleaner\n",
    "\n",
    "# 2. 전체 컬럼 중 ID, Segment 제외한 파생변수만 추출\n",
    "all_derived_features = [col for col in derive_train.columns if col not in [\"ID\", \"Segment\"]]\n",
    "\n",
    "# 3. 컬럼 수 제한 (RAM 보호용) → 상위 50개만 사용\n",
    "important_cols = all_derived_features[:50]\n",
    "\n",
    "# 4. 선택한 변수만 추출\n",
    "X = derive_train[important_cols].copy()\n",
    "\n",
    "# 5. fast VIF 계산 및 변수 제거\n",
    "X_cleaned, removed_cols, final_vif = fast_vif_cleaner(X, vif_threshold=100)\n",
    "\n",
    "# 6. 결과 확인\n",
    "print(\"✅ 제거된 VIF 변수 수:\", len(removed_cols))\n",
    "print(\"📊 최종 VIF 상위 5개:\")\n",
    "print(final_vif.head())"
   ]
  },
  {
   "cell_type": "code",
   "execution_count": null,
   "id": "59589d9e",
   "metadata": {},
   "outputs": [],
   "source": [
    "import pandas as pd\n",
    "# 1. 제거할 컬럼 리스트\n",
    "remove_cols = [\"방문횟수_PC_B0M\", \"카드이용한도금액_B1M\", \"이용카드수_체크_가족\"]\n",
    "\n",
    "# 2. 최종 컬럼 구성 (ID, Segment 포함)\n",
    "selected_features = [\"ID\", \"Segment\"] + [\n",
    "    col for col in derive_train.columns\n",
    "    if col not in remove_cols + [\"ID\", \"Segment\"]\n",
    "]\n",
    "# 리스트를 DataFrame으로 변환\n",
    "feature_df = pd.DataFrame({\"selected_features\": selected_features})\n",
    "\n",
    "# CSV로 저장\n",
    "feature_df.to_csv(\"최종_사용_피처목록.csv\", index=False, encoding=\"utf-8-sig\")\n",
    "\n",
    "# 3. 최종 데이터프레임 생성\n",
    "final_df = derive_train[selected_features].copy()\n",
    "\n",
    "# 4. Parquet 파일로 저장\n",
    "final_df.to_parquet(\"최종_사용_데이터프레임.parquet\", index=False)"
   ]
  }
 ],
 "metadata": {
  "kernelspec": {
   "display_name": "base",
   "language": "python",
   "name": "python3"
  },
  "language_info": {
   "codemirror_mode": {
    "name": "ipython",
    "version": 3
   },
   "file_extension": ".py",
   "mimetype": "text/x-python",
   "name": "python",
   "nbconvert_exporter": "python",
   "pygments_lexer": "ipython3",
   "version": "3.12.3"
  }
 },
 "nbformat": 4,
 "nbformat_minor": 5
}
