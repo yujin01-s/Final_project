{
 "cells": [
  {
   "cell_type": "code",
   "execution_count": 2,
   "id": "6843906f",
   "metadata": {},
   "outputs": [],
   "source": [
    "file_path = \"../../data/통합_test_데이터.parquet\""
   ]
  },
  {
   "cell_type": "code",
   "execution_count": 3,
   "id": "2abef8dc",
   "metadata": {},
   "outputs": [],
   "source": [
    "import pandas as pd\n",
    "from modules.feature_selector import selected_all\n",
    "\n",
    "# ✅ ID, Segment 포함 컬럼 리스트 구성\n",
    "final_cols = selected_all + [\"ID\"]\n",
    "\n",
    "# ✅ 필요한 컬럼만 로드\n",
    "train_df = pd.read_parquet(file_path, columns=final_cols)"
   ]
  },
  {
   "cell_type": "code",
   "execution_count": 4,
   "id": "e6d75536",
   "metadata": {},
   "outputs": [
    {
     "name": "stdout",
     "output_type": "stream",
     "text": [
      "[연회비발생카드수_B0M] 인코딩 완료\n",
      "[한도증액횟수_R12M] 인코딩 완료\n",
      "[이용금액대] 중간값 인코딩 완료\n",
      "[할인건수_R3M] 인코딩 완료\n",
      "[할인건수_B0M] 인코딩 완료\n",
      "[방문횟수_PC_R6M] 인코딩 완료\n",
      "[방문횟수_앱_R6M] 인코딩 완료\n",
      "[방문일수_PC_R6M] 인코딩 완료\n"
     ]
    }
   ],
   "source": [
    "from modules.data_loader import map_categorical_columns\n",
    "from sklearn.preprocessing import LabelEncoder\n",
    "from modules.feature_selector import selected_all, generate_vif_derived_features, generate_e_features\n",
    "\n",
    "# Step 1. ID, Segment 제외한 가공 대상 컬럼만 분리\n",
    "exclude_cols = [\"ID\"]\n",
    "target_col = \"Segment\"\n",
    "categorical_cols = [col for col in train_df.columns if train_df[col].dtype == \"object\" and col not in exclude_cols]\n",
    "\n",
    "# Step 2. 복사본 생성\n",
    "df_processed = train_df.copy()\n",
    "\n",
    "# Step 3. 이상값 처리 + 범주형 인코딩\n",
    "df_processe = map_categorical_columns(df_processed)\n",
    "for col in categorical_cols:\n",
    "    df_processed[col] = df_processed[col].replace(['?', '알파벳', '기타'], pd.NA)\n",
    "    le = LabelEncoder()\n",
    "    df_processed[col] = le.fit_transform(df_processed[col].astype(str))\n",
    "\n",
    "# ✅ Step 4. 이 시점에서 파생변수 생성 함수 호출\n",
    "# 예시) df_processed → generate_derived_features(df_processed)\n",
    "df_processed = generate_e_features(df_processed) \n",
    "df_processed = generate_vif_derived_features(df_processed)\n"
   ]
  },
  {
   "cell_type": "code",
   "execution_count": 5,
   "id": "c8e7eca2",
   "metadata": {},
   "outputs": [],
   "source": [
    "import pandas as pd\n",
    "\n",
    "# 피처 목록 CSV 로드\n",
    "feature_list_df = pd.read_csv(\"../../data/최종_사용_피처목록.csv\")\n",
    "\n",
    "# 피처 이름 리스트 추출\n",
    "selected_features = feature_list_df[\"selected_features\"].tolist()"
   ]
  },
  {
   "cell_type": "code",
   "execution_count": null,
   "id": "f185c0ca",
   "metadata": {},
   "outputs": [],
   "source": []
  }
 ],
 "metadata": {
  "kernelspec": {
   "display_name": "base",
   "language": "python",
   "name": "python3"
  },
  "language_info": {
   "codemirror_mode": {
    "name": "ipython",
    "version": 3
   },
   "file_extension": ".py",
   "mimetype": "text/x-python",
   "name": "python",
   "nbconvert_exporter": "python",
   "pygments_lexer": "ipython3",
   "version": "3.12.3"
  }
 },
 "nbformat": 4,
 "nbformat_minor": 5
}
