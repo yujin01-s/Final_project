{
 "cells": [
  {
   "cell_type": "code",
   "execution_count": 1,
   "id": "9caef6a2-be78-43d6-8c50-91a78ba77d48",
   "metadata": {},
   "outputs": [
    {
     "name": "stdout",
     "output_type": "stream",
     "text": [
      "1.회원정보 ✅ 불러오기 완료: (600000, 77)\n",
      "2.신용정보 ✅ 불러오기 완료: (600000, 42)\n",
      "3.승인매출정보 ✅ 불러오기 완료: (600000, 406)\n",
      "4.청구입금정보 ✅ 불러오기 완료: (600000, 46)\n",
      "5.잔액정보 ✅ 불러오기 완료: (600000, 82)\n",
      "6.채널정보 ✅ 불러오기 완료: (600000, 105)\n",
      "7.마케팅정보 ✅ 불러오기 완료: (600000, 64)\n",
      "8.성과정보 ✅ 불러오기 완료: (600000, 49)\n"
     ]
    }
   ],
   "source": [
    "import pandas as pd\n",
    "import glob\n",
    "import os\n",
    "\n",
    "# 시트 번호 및 정확한 폴더명 매핑 (띄어쓰기 제거 + 경로 반영)\n",
    "table_paths = {\n",
    "    \"1.회원정보\": \"data/test/1.회원정보\",\n",
    "    \"2.신용정보\": \"data/test/2.신용정보\",\n",
    "    \"3.승인매출정보\": \"data/test/3.승인매출정보\",\n",
    "    \"4.청구입금정보\": \"data/test/4.청구입금정보\",\n",
    "    \"5.잔액정보\": \"data/test/5.잔액정보\",\n",
    "    \"6.채널정보\": \"data/test/6.채널정보\",\n",
    "    \"7.마케팅정보\": \"data/test/7.마케팅정보\",\n",
    "    \"8.성과정보\": \"data/test/8.성과정보\"\n",
    "}\n",
    "\n",
    "# 결과 저장용 딕셔너리\n",
    "merged_data = {}\n",
    "\n",
    "# 각 테이블 통합\n",
    "for name, path in table_paths.items():\n",
    "    files = glob.glob(os.path.join(path, \"*.parquet\"))\n",
    "    if len(files) > 0:\n",
    "        df = pd.concat([pd.read_parquet(f) for f in sorted(files)], ignore_index=True)\n",
    "        merged_data[name] = df\n",
    "        print(f\"{name} ✅ 불러오기 완료: {df.shape}\")\n",
    "    else:\n",
    "        print(f\"{name} ⚠️ 파일 없음\")"
   ]
  },
  {
   "cell_type": "code",
   "execution_count": 3,
   "id": "f46b055f-51c6-40c8-be11-692fb6722d40",
   "metadata": {},
   "outputs": [
    {
     "name": "stdout",
     "output_type": "stream",
     "text": [
      "📁 저장 완료: 신용정보_test.csv (600000 rows)\n",
      "📁 저장 완료: 청구입금정보_test.csv (600000 rows)\n",
      "📁 저장 완료: 성과정보_test.csv (600000 rows)\n"
     ]
    }
   ],
   "source": [
    "# 저장할 테이블 키 목록\n",
    "target_tables = {\n",
    "    \"2.신용정보\": \"신용정보_test.csv\",\n",
    "    \"4.청구입금정보\": \"청구입금정보_test.csv\",\n",
    "    \"8.성과정보\": \"성과정보_test.csv\"\n",
    "}\n",
    "\n",
    "# 저장 실행\n",
    "for table_key, file_name in target_tables.items():\n",
    "    if table_key in merged_data:\n",
    "        merged_data[table_key].to_csv(f\"data/{file_name}\", index=False)\n",
    "        print(f\"📁 저장 완료: {file_name} ({merged_data[table_key].shape[0]} rows)\")\n",
    "    else:\n",
    "        print(f\"❗ 저장 실패: {table_key} 없음\")"
   ]
  },
  {
   "cell_type": "code",
   "execution_count": null,
   "id": "34351f7a-a543-41bf-b569-4710bbc7f913",
   "metadata": {},
   "outputs": [],
   "source": []
  }
 ],
 "metadata": {
  "kernelspec": {
   "display_name": "Python [conda env:base] *",
   "language": "python",
   "name": "conda-base-py"
  },
  "language_info": {
   "codemirror_mode": {
    "name": "ipython",
    "version": 3
   },
   "file_extension": ".py",
   "mimetype": "text/x-python",
   "name": "python",
   "nbconvert_exporter": "python",
   "pygments_lexer": "ipython3",
   "version": "3.12.7"
  }
 },
 "nbformat": 4,
 "nbformat_minor": 5
}
