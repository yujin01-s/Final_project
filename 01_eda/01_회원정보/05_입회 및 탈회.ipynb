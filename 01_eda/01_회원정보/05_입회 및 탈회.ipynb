{
 "cells": [
  {
   "cell_type": "markdown",
   "id": "c4536bd0-8371-44f6-acf7-973dc9e1679e",
   "metadata": {},
   "source": [
    "## 05. 입회 및 탈회\n",
    "- 입회일자_신용 / 입회경과개월수_신용 / 탈회횟수_누적 / 최종탈회후경과월 / 탈회횟수_발급6개월이내 / 탈회횟수_발급1년이내"
   ]
  },
  {
   "cell_type": "code",
   "execution_count": 2,
   "id": "4256d341-3f0f-499f-8646-4d262cbb537f",
   "metadata": {},
   "outputs": [],
   "source": [
    "import matplotlib.pyplot as plt\n",
    "import matplotlib.font_manager as fm\n",
    "import seaborn as sns\n",
    "\n",
    "# Mac에서는 \"AppleGothic\" 사용\n",
    "plt.rcParams['font.family'] = 'AppleGothic'\n",
    "plt.rcParams['axes.unicode_minus'] = False  # 마이너스 깨짐 방지"
   ]
  },
  {
   "cell_type": "code",
   "execution_count": 4,
   "id": "347cc098-56a2-4215-a7d3-65f2b5963a70",
   "metadata": {},
   "outputs": [
    {
     "data": {
      "text/html": [
       "<div>\n",
       "<style scoped>\n",
       "    .dataframe tbody tr th:only-of-type {\n",
       "        vertical-align: middle;\n",
       "    }\n",
       "\n",
       "    .dataframe tbody tr th {\n",
       "        vertical-align: top;\n",
       "    }\n",
       "\n",
       "    .dataframe thead th {\n",
       "        text-align: right;\n",
       "    }\n",
       "</style>\n",
       "<table border=\"1\" class=\"dataframe\">\n",
       "  <thead>\n",
       "    <tr style=\"text-align: right;\">\n",
       "      <th></th>\n",
       "      <th>ID</th>\n",
       "      <th>Segment</th>\n",
       "      <th>입회일자_신용</th>\n",
       "      <th>입회경과개월수_신용</th>\n",
       "      <th>탈회횟수_누적</th>\n",
       "      <th>최종탈회후경과월</th>\n",
       "      <th>탈회횟수_발급6개월이내</th>\n",
       "      <th>탈회횟수_발급1년이내</th>\n",
       "    </tr>\n",
       "  </thead>\n",
       "  <tbody>\n",
       "    <tr>\n",
       "      <th>0</th>\n",
       "      <td>TRAIN_000000</td>\n",
       "      <td>D</td>\n",
       "      <td>20130101</td>\n",
       "      <td>67</td>\n",
       "      <td>1</td>\n",
       "      <td>61</td>\n",
       "      <td>0</td>\n",
       "      <td>0</td>\n",
       "    </tr>\n",
       "    <tr>\n",
       "      <th>1</th>\n",
       "      <td>TRAIN_000001</td>\n",
       "      <td>E</td>\n",
       "      <td>20170801</td>\n",
       "      <td>12</td>\n",
       "      <td>1</td>\n",
       "      <td>98</td>\n",
       "      <td>0</td>\n",
       "      <td>0</td>\n",
       "    </tr>\n",
       "    <tr>\n",
       "      <th>2</th>\n",
       "      <td>TRAIN_000002</td>\n",
       "      <td>C</td>\n",
       "      <td>20080401</td>\n",
       "      <td>124</td>\n",
       "      <td>1</td>\n",
       "      <td>60</td>\n",
       "      <td>0</td>\n",
       "      <td>0</td>\n",
       "    </tr>\n",
       "    <tr>\n",
       "      <th>3</th>\n",
       "      <td>TRAIN_000003</td>\n",
       "      <td>D</td>\n",
       "      <td>20160501</td>\n",
       "      <td>27</td>\n",
       "      <td>1</td>\n",
       "      <td>100</td>\n",
       "      <td>0</td>\n",
       "      <td>0</td>\n",
       "    </tr>\n",
       "    <tr>\n",
       "      <th>4</th>\n",
       "      <td>TRAIN_000004</td>\n",
       "      <td>E</td>\n",
       "      <td>20180601</td>\n",
       "      <td>2</td>\n",
       "      <td>1</td>\n",
       "      <td>101</td>\n",
       "      <td>0</td>\n",
       "      <td>0</td>\n",
       "    </tr>\n",
       "    <tr>\n",
       "      <th>...</th>\n",
       "      <td>...</td>\n",
       "      <td>...</td>\n",
       "      <td>...</td>\n",
       "      <td>...</td>\n",
       "      <td>...</td>\n",
       "      <td>...</td>\n",
       "      <td>...</td>\n",
       "      <td>...</td>\n",
       "    </tr>\n",
       "    <tr>\n",
       "      <th>2399995</th>\n",
       "      <td>TRAIN_399995</td>\n",
       "      <td>E</td>\n",
       "      <td>20010701</td>\n",
       "      <td>209</td>\n",
       "      <td>0</td>\n",
       "      <td>0</td>\n",
       "      <td>0</td>\n",
       "      <td>0</td>\n",
       "    </tr>\n",
       "    <tr>\n",
       "      <th>2399996</th>\n",
       "      <td>TRAIN_399996</td>\n",
       "      <td>D</td>\n",
       "      <td>20170701</td>\n",
       "      <td>17</td>\n",
       "      <td>1</td>\n",
       "      <td>50</td>\n",
       "      <td>0</td>\n",
       "      <td>0</td>\n",
       "    </tr>\n",
       "    <tr>\n",
       "      <th>2399997</th>\n",
       "      <td>TRAIN_399997</td>\n",
       "      <td>C</td>\n",
       "      <td>20090501</td>\n",
       "      <td>115</td>\n",
       "      <td>0</td>\n",
       "      <td>0</td>\n",
       "      <td>0</td>\n",
       "      <td>0</td>\n",
       "    </tr>\n",
       "    <tr>\n",
       "      <th>2399998</th>\n",
       "      <td>TRAIN_399998</td>\n",
       "      <td>E</td>\n",
       "      <td>20130101</td>\n",
       "      <td>71</td>\n",
       "      <td>0</td>\n",
       "      <td>0</td>\n",
       "      <td>0</td>\n",
       "      <td>0</td>\n",
       "    </tr>\n",
       "    <tr>\n",
       "      <th>2399999</th>\n",
       "      <td>TRAIN_399999</td>\n",
       "      <td>E</td>\n",
       "      <td>20180501</td>\n",
       "      <td>7</td>\n",
       "      <td>0</td>\n",
       "      <td>0</td>\n",
       "      <td>0</td>\n",
       "      <td>0</td>\n",
       "    </tr>\n",
       "  </tbody>\n",
       "</table>\n",
       "<p>2400000 rows × 8 columns</p>\n",
       "</div>"
      ],
      "text/plain": [
       "                   ID Segment   입회일자_신용  입회경과개월수_신용  탈회횟수_누적  최종탈회후경과월  \\\n",
       "0        TRAIN_000000       D  20130101          67        1        61   \n",
       "1        TRAIN_000001       E  20170801          12        1        98   \n",
       "2        TRAIN_000002       C  20080401         124        1        60   \n",
       "3        TRAIN_000003       D  20160501          27        1       100   \n",
       "4        TRAIN_000004       E  20180601           2        1       101   \n",
       "...               ...     ...       ...         ...      ...       ...   \n",
       "2399995  TRAIN_399995       E  20010701         209        0         0   \n",
       "2399996  TRAIN_399996       D  20170701          17        1        50   \n",
       "2399997  TRAIN_399997       C  20090501         115        0         0   \n",
       "2399998  TRAIN_399998       E  20130101          71        0         0   \n",
       "2399999  TRAIN_399999       E  20180501           7        0         0   \n",
       "\n",
       "         탈회횟수_발급6개월이내  탈회횟수_발급1년이내  \n",
       "0                   0            0  \n",
       "1                   0            0  \n",
       "2                   0            0  \n",
       "3                   0            0  \n",
       "4                   0            0  \n",
       "...               ...          ...  \n",
       "2399995             0            0  \n",
       "2399996             0            0  \n",
       "2399997             0            0  \n",
       "2399998             0            0  \n",
       "2399999             0            0  \n",
       "\n",
       "[2400000 rows x 8 columns]"
      ]
     },
     "execution_count": 4,
     "metadata": {},
     "output_type": "execute_result"
    }
   ],
   "source": [
    "import pandas as pd\n",
    "\n",
    "# 분석에 필요한 컬럼만 지정\n",
    "usecols = ['입회일자_신용',\n",
    "       '입회경과개월수_신용','탈회횟수_누적',\n",
    "       '최종탈회후경과월', '탈회횟수_발급6개월이내', '탈회횟수_발급1년이내', 'Segment', 'ID']\n",
    "\n",
    "# 필요한 컬럼만 불러오기\n",
    "df = pd.read_csv(\"../data/train/1.회원정보/train_회원정보.csv\", usecols=usecols)\n",
    "df"
   ]
  },
  {
   "cell_type": "code",
   "execution_count": 10,
   "id": "987a3e73-df99-4cb9-8adb-08e8fd3acff3",
   "metadata": {},
   "outputs": [
    {
     "data": {
      "image/png": "[encoded data removed]",
      "text/plain": [
       "<Figure size 1200x800 with 4 Axes>"
      ]
     },
     "metadata": {},
     "output_type": "display_data"
    }
   ],
   "source": [
    "# 1. 세그먼트별 가입 지속 개월 평균\n",
    "mean_duration = df.groupby(\"Segment\")[\"입회경과개월수_신용\"].mean()\n",
    "\n",
    "# 2. 세그먼트별 탈퇴 관련 평균\n",
    "mean_withdraw_total = df.groupby(\"Segment\")[\"탈회횟수_누적\"].mean()\n",
    "mean_within_6m = df.groupby(\"Segment\")[\"탈회횟수_발급6개월이내\"].mean()\n",
    "mean_within_1y = df.groupby(\"Segment\")[\"탈회횟수_발급1년이내\"].mean()\n",
    "\n",
    "# 3. 시각화\n",
    "fig, axes = plt.subplots(2, 2, figsize=(12, 8))\n",
    "\n",
    "mean_duration.plot(kind=\"bar\", ax=axes[0, 0], title=\"세그먼트별 가입 유지 기간(개월)\", ylabel=\"개월\")\n",
    "mean_withdraw_total.plot(kind=\"bar\", ax=axes[0, 1], title=\"세그먼트별 누적 탈퇴 횟수\", ylabel=\"횟수\")\n",
    "mean_within_6m.plot(kind=\"bar\", ax=axes[1, 0], title=\"세그먼트별 6개월 내 탈퇴 횟수\", ylabel=\"횟수\")\n",
    "mean_within_1y.plot(kind=\"bar\", ax=axes[1, 1], title=\"세그먼트별 1년 내 탈퇴 횟수\", ylabel=\"횟수\")\n",
    "\n",
    "plt.tight_layout()\n",
    "plt.show()"
   ]
  },
  {
   "cell_type": "code",
   "execution_count": 15,
   "id": "37fb714e-7591-4cbd-8fa5-2045d0996111",
   "metadata": {},
   "outputs": [
    {
     "name": "stdout",
     "output_type": "stream",
     "text": [
      "Segment\n",
      "A    30.56\n",
      "B    41.67\n",
      "C    35.39\n",
      "D    36.41\n",
      "E    42.85\n",
      "Name: count, dtype: float64\n"
     ]
    }
   ],
   "source": [
    "# 예시 코드\n",
    "total_per_segment = df[\"Segment\"].value_counts().sort_index()  # 각 세그먼트별 총 인원수\n",
    "churn_per_segment = df[df[\"탈회횟수_누적\"] > 0][\"Segment\"].value_counts().sort_index()  # 탈퇴 경험 있는 인원수\n",
    "\n",
    "# 탈퇴율 계산\n",
    "churn_rate = (churn_per_segment / total_per_segment * 100).fillna(0).round(2)\n",
    "print(churn_rate)"
   ]
  },
  {
   "cell_type": "code",
   "execution_count": 17,
   "id": "3cd62eba-9adb-4d63-aca4-dbc336793f77",
   "metadata": {},
   "outputs": [
    {
     "name": "stdout",
     "output_type": "stream",
     "text": [
      "Segment\n",
      "A    0.00\n",
      "B    1.39\n",
      "C    3.44\n",
      "D    3.43\n",
      "E    4.24\n",
      "Name: count, dtype: float64\n"
     ]
    }
   ],
   "source": [
    "# 예시 코드\n",
    "total_per_segment = df[\"Segment\"].value_counts().sort_index()  # 각 세그먼트별 총 인원수\n",
    "churn_per_segment = df[df[\"탈회횟수_발급6개월이내\"] > 0][\"Segment\"].value_counts().sort_index()  # 탈퇴 경험 있는 인원수\n",
    "\n",
    "# 탈퇴율 계산\n",
    "churn_rate = (churn_per_segment / total_per_segment * 100).fillna(0).round(2)\n",
    "print(churn_rate)"
   ]
  },
  {
   "cell_type": "code",
   "execution_count": 19,
   "id": "e170beb8-b4da-4fe3-8c10-a474c52a48e5",
   "metadata": {},
   "outputs": [
    {
     "name": "stdout",
     "output_type": "stream",
     "text": [
      "Segment\n",
      "A    0.62\n",
      "B    4.17\n",
      "C    4.28\n",
      "D    5.07\n",
      "E    6.82\n",
      "Name: count, dtype: float64\n"
     ]
    }
   ],
   "source": [
    "# 예시 코드\n",
    "total_per_segment = df[\"Segment\"].value_counts().sort_index()  # 각 세그먼트별 총 인원수\n",
    "churn_per_segment = df[df[\"탈회횟수_발급1년이내\"] > 0][\"Segment\"].value_counts().sort_index()  # 탈퇴 경험 있는 인원수\n",
    "\n",
    "# 탈퇴율 계산\n",
    "churn_rate = (churn_per_segment / total_per_segment * 100).fillna(0).round(2)\n",
    "print(churn_rate)"
   ]
  },
  {
   "cell_type": "markdown",
   "id": "7837ecd2-1770-4248-bd6b-6a18c979a184",
   "metadata": {},
   "source": [
    "- A: 가입 유지도 오래하고, 탈퇴도 적은 장기보유 충성고객"
   ]
  },
  {
   "cell_type": "code",
   "execution_count": null,
   "id": "89f7da8d-26b5-4b52-b7c6-f34e1b4a9f72",
   "metadata": {},
   "outputs": [],
   "source": []
  }
 ],
 "metadata": {
  "kernelspec": {
   "display_name": "Python [conda env:base] *",
   "language": "python",
   "name": "conda-base-py"
  },
  "language_info": {
   "codemirror_mode": {
    "name": "ipython",
    "version": 3
   },
   "file_extension": ".py",
   "mimetype": "text/x-python",
   "name": "python",
   "nbconvert_exporter": "python",
   "pygments_lexer": "ipython3",
   "version": "3.12.7"
  }
 },
 "nbformat": 4,
 "nbformat_minor": 5
}
