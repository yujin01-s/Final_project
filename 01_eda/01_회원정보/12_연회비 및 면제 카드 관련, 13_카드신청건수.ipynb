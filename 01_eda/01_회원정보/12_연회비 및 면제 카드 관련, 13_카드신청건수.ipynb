{
 "cells": [
  {
   "cell_type": "markdown",
   "id": "a30ffdc8-ca9c-4e9a-b8e2-80c4692fa674",
   "metadata": {},
   "source": [
    "## 12. 연회비 및 면제 카드 관련\n",
    "\n",
    "- '연회비발생카드수_B0M', '연회비할인카드수_B0M', '기본연회비_B0M', '제휴연회비_B0M',\n",
    "- '할인금액_기본연회비_B0M', '할인금액_제휴연회비_B0M', '청구금액_기본연회비_B0M', '청구금액_제휴연회비_B0M',\n",
    "- '상품관련면제카드수_B0M', '임직원면제카드수_B0M', '우수회원면제카드수_B0M', '기타면제카드수_B0M' "
   ]
  },
  {
   "cell_type": "code",
   "execution_count": 2,
   "id": "27b6e8ae-2121-4335-8cb0-e3e5f4baa7ae",
   "metadata": {},
   "outputs": [],
   "source": [
    "import matplotlib.pyplot as plt\n",
    "import matplotlib.font_manager as fm\n",
    "import seaborn as sns\n",
    "\n",
    "# Mac에서는 \"AppleGothic\" 사용\n",
    "plt.rcParams['font.family'] = 'AppleGothic'\n",
    "plt.rcParams['axes.unicode_minus'] = False  # 마이너스 깨짐 방지"
   ]
  },
  {
   "cell_type": "code",
   "execution_count": 3,
   "id": "654f3876-fd15-4131-a837-486d1e96dfed",
   "metadata": {},
   "outputs": [
    {
     "data": {
      "text/html": [
       "<div>\n",
       "<style scoped>\n",
       "    .dataframe tbody tr th:only-of-type {\n",
       "        vertical-align: middle;\n",
       "    }\n",
       "\n",
       "    .dataframe tbody tr th {\n",
       "        vertical-align: top;\n",
       "    }\n",
       "\n",
       "    .dataframe thead th {\n",
       "        text-align: right;\n",
       "    }\n",
       "</style>\n",
       "<table border=\"1\" class=\"dataframe\">\n",
       "  <thead>\n",
       "    <tr style=\"text-align: right;\">\n",
       "      <th></th>\n",
       "      <th>ID</th>\n",
       "      <th>Segment</th>\n",
       "      <th>연회비발생카드수_B0M</th>\n",
       "      <th>연회비할인카드수_B0M</th>\n",
       "      <th>기본연회비_B0M</th>\n",
       "      <th>제휴연회비_B0M</th>\n",
       "      <th>할인금액_기본연회비_B0M</th>\n",
       "      <th>할인금액_제휴연회비_B0M</th>\n",
       "      <th>청구금액_기본연회비_B0M</th>\n",
       "      <th>청구금액_제휴연회비_B0M</th>\n",
       "      <th>상품관련면제카드수_B0M</th>\n",
       "      <th>임직원면제카드수_B0M</th>\n",
       "      <th>우수회원면제카드수_B0M</th>\n",
       "      <th>기타면제카드수_B0M</th>\n",
       "    </tr>\n",
       "  </thead>\n",
       "  <tbody>\n",
       "    <tr>\n",
       "      <th>0</th>\n",
       "      <td>TRAIN_000000</td>\n",
       "      <td>D</td>\n",
       "      <td>0개</td>\n",
       "      <td>0</td>\n",
       "      <td>0</td>\n",
       "      <td>0</td>\n",
       "      <td>0</td>\n",
       "      <td>0</td>\n",
       "      <td>0</td>\n",
       "      <td>0</td>\n",
       "      <td>0개</td>\n",
       "      <td>0개</td>\n",
       "      <td>0개</td>\n",
       "      <td>0개</td>\n",
       "    </tr>\n",
       "    <tr>\n",
       "      <th>1</th>\n",
       "      <td>TRAIN_000001</td>\n",
       "      <td>E</td>\n",
       "      <td>0개</td>\n",
       "      <td>0</td>\n",
       "      <td>0</td>\n",
       "      <td>0</td>\n",
       "      <td>0</td>\n",
       "      <td>0</td>\n",
       "      <td>0</td>\n",
       "      <td>0</td>\n",
       "      <td>0개</td>\n",
       "      <td>0개</td>\n",
       "      <td>0개</td>\n",
       "      <td>0개</td>\n",
       "    </tr>\n",
       "    <tr>\n",
       "      <th>2</th>\n",
       "      <td>TRAIN_000002</td>\n",
       "      <td>C</td>\n",
       "      <td>0개</td>\n",
       "      <td>0</td>\n",
       "      <td>0</td>\n",
       "      <td>0</td>\n",
       "      <td>0</td>\n",
       "      <td>0</td>\n",
       "      <td>0</td>\n",
       "      <td>0</td>\n",
       "      <td>0개</td>\n",
       "      <td>0개</td>\n",
       "      <td>0개</td>\n",
       "      <td>0개</td>\n",
       "    </tr>\n",
       "    <tr>\n",
       "      <th>3</th>\n",
       "      <td>TRAIN_000003</td>\n",
       "      <td>D</td>\n",
       "      <td>0개</td>\n",
       "      <td>0</td>\n",
       "      <td>0</td>\n",
       "      <td>0</td>\n",
       "      <td>0</td>\n",
       "      <td>0</td>\n",
       "      <td>0</td>\n",
       "      <td>0</td>\n",
       "      <td>0개</td>\n",
       "      <td>0개</td>\n",
       "      <td>0개</td>\n",
       "      <td>0개</td>\n",
       "    </tr>\n",
       "    <tr>\n",
       "      <th>4</th>\n",
       "      <td>TRAIN_000004</td>\n",
       "      <td>E</td>\n",
       "      <td>0개</td>\n",
       "      <td>0</td>\n",
       "      <td>0</td>\n",
       "      <td>0</td>\n",
       "      <td>0</td>\n",
       "      <td>0</td>\n",
       "      <td>0</td>\n",
       "      <td>0</td>\n",
       "      <td>0개</td>\n",
       "      <td>0개</td>\n",
       "      <td>0개</td>\n",
       "      <td>0개</td>\n",
       "    </tr>\n",
       "    <tr>\n",
       "      <th>...</th>\n",
       "      <td>...</td>\n",
       "      <td>...</td>\n",
       "      <td>...</td>\n",
       "      <td>...</td>\n",
       "      <td>...</td>\n",
       "      <td>...</td>\n",
       "      <td>...</td>\n",
       "      <td>...</td>\n",
       "      <td>...</td>\n",
       "      <td>...</td>\n",
       "      <td>...</td>\n",
       "      <td>...</td>\n",
       "      <td>...</td>\n",
       "      <td>...</td>\n",
       "    </tr>\n",
       "    <tr>\n",
       "      <th>2399995</th>\n",
       "      <td>TRAIN_399995</td>\n",
       "      <td>E</td>\n",
       "      <td>0개</td>\n",
       "      <td>0</td>\n",
       "      <td>0</td>\n",
       "      <td>0</td>\n",
       "      <td>0</td>\n",
       "      <td>0</td>\n",
       "      <td>0</td>\n",
       "      <td>0</td>\n",
       "      <td>0개</td>\n",
       "      <td>0개</td>\n",
       "      <td>0개</td>\n",
       "      <td>0개</td>\n",
       "    </tr>\n",
       "    <tr>\n",
       "      <th>2399996</th>\n",
       "      <td>TRAIN_399996</td>\n",
       "      <td>D</td>\n",
       "      <td>0개</td>\n",
       "      <td>0</td>\n",
       "      <td>0</td>\n",
       "      <td>0</td>\n",
       "      <td>0</td>\n",
       "      <td>0</td>\n",
       "      <td>0</td>\n",
       "      <td>0</td>\n",
       "      <td>0개</td>\n",
       "      <td>0개</td>\n",
       "      <td>0개</td>\n",
       "      <td>0개</td>\n",
       "    </tr>\n",
       "    <tr>\n",
       "      <th>2399997</th>\n",
       "      <td>TRAIN_399997</td>\n",
       "      <td>C</td>\n",
       "      <td>0개</td>\n",
       "      <td>0</td>\n",
       "      <td>0</td>\n",
       "      <td>0</td>\n",
       "      <td>0</td>\n",
       "      <td>0</td>\n",
       "      <td>0</td>\n",
       "      <td>0</td>\n",
       "      <td>0개</td>\n",
       "      <td>0개</td>\n",
       "      <td>0개</td>\n",
       "      <td>0개</td>\n",
       "    </tr>\n",
       "    <tr>\n",
       "      <th>2399998</th>\n",
       "      <td>TRAIN_399998</td>\n",
       "      <td>E</td>\n",
       "      <td>0개</td>\n",
       "      <td>0</td>\n",
       "      <td>0</td>\n",
       "      <td>0</td>\n",
       "      <td>0</td>\n",
       "      <td>0</td>\n",
       "      <td>0</td>\n",
       "      <td>0</td>\n",
       "      <td>0개</td>\n",
       "      <td>0개</td>\n",
       "      <td>0개</td>\n",
       "      <td>0개</td>\n",
       "    </tr>\n",
       "    <tr>\n",
       "      <th>2399999</th>\n",
       "      <td>TRAIN_399999</td>\n",
       "      <td>E</td>\n",
       "      <td>0개</td>\n",
       "      <td>0</td>\n",
       "      <td>0</td>\n",
       "      <td>0</td>\n",
       "      <td>0</td>\n",
       "      <td>0</td>\n",
       "      <td>0</td>\n",
       "      <td>0</td>\n",
       "      <td>0개</td>\n",
       "      <td>0개</td>\n",
       "      <td>0개</td>\n",
       "      <td>0개</td>\n",
       "    </tr>\n",
       "  </tbody>\n",
       "</table>\n",
       "<p>2400000 rows × 14 columns</p>\n",
       "</div>"
      ],
      "text/plain": [
       "                   ID Segment 연회비발생카드수_B0M  연회비할인카드수_B0M  기본연회비_B0M  \\\n",
       "0        TRAIN_000000       D           0개             0          0   \n",
       "1        TRAIN_000001       E           0개             0          0   \n",
       "2        TRAIN_000002       C           0개             0          0   \n",
       "3        TRAIN_000003       D           0개             0          0   \n",
       "4        TRAIN_000004       E           0개             0          0   \n",
       "...               ...     ...          ...           ...        ...   \n",
       "2399995  TRAIN_399995       E           0개             0          0   \n",
       "2399996  TRAIN_399996       D           0개             0          0   \n",
       "2399997  TRAIN_399997       C           0개             0          0   \n",
       "2399998  TRAIN_399998       E           0개             0          0   \n",
       "2399999  TRAIN_399999       E           0개             0          0   \n",
       "\n",
       "         제휴연회비_B0M  할인금액_기본연회비_B0M  할인금액_제휴연회비_B0M  청구금액_기본연회비_B0M  \\\n",
       "0                0               0               0               0   \n",
       "1                0               0               0               0   \n",
       "2                0               0               0               0   \n",
       "3                0               0               0               0   \n",
       "4                0               0               0               0   \n",
       "...            ...             ...             ...             ...   \n",
       "2399995          0               0               0               0   \n",
       "2399996          0               0               0               0   \n",
       "2399997          0               0               0               0   \n",
       "2399998          0               0               0               0   \n",
       "2399999          0               0               0               0   \n",
       "\n",
       "         청구금액_제휴연회비_B0M 상품관련면제카드수_B0M 임직원면제카드수_B0M 우수회원면제카드수_B0M 기타면제카드수_B0M  \n",
       "0                     0            0개           0개            0개          0개  \n",
       "1                     0            0개           0개            0개          0개  \n",
       "2                     0            0개           0개            0개          0개  \n",
       "3                     0            0개           0개            0개          0개  \n",
       "4                     0            0개           0개            0개          0개  \n",
       "...                 ...           ...          ...           ...         ...  \n",
       "2399995               0            0개           0개            0개          0개  \n",
       "2399996               0            0개           0개            0개          0개  \n",
       "2399997               0            0개           0개            0개          0개  \n",
       "2399998               0            0개           0개            0개          0개  \n",
       "2399999               0            0개           0개            0개          0개  \n",
       "\n",
       "[2400000 rows x 14 columns]"
      ]
     },
     "execution_count": 3,
     "metadata": {},
     "output_type": "execute_result"
    }
   ],
   "source": [
    "import pandas as pd\n",
    "\n",
    "# 분석에 필요한 컬럼만 지정\n",
    "usecols = ['연회비발생카드수_B0M', '연회비할인카드수_B0M', '기본연회비_B0M', '제휴연회비_B0M',\n",
    "'할인금액_기본연회비_B0M', '할인금액_제휴연회비_B0M', '청구금액_기본연회비_B0M', '청구금액_제휴연회비_B0M',\n",
    "'상품관련면제카드수_B0M', '임직원면제카드수_B0M', '우수회원면제카드수_B0M', '기타면제카드수_B0M', 'Segment', 'ID']\n",
    "\n",
    "# 필요한 컬럼만 불러오기\n",
    "df = pd.read_csv(\"../data/train/1.회원정보/train_회원정보.csv\", usecols=usecols)\n",
    "df"
   ]
  },
  {
   "cell_type": "code",
   "execution_count": 4,
   "id": "c16dd3b5-7147-43f7-bf84-3873ad353c48",
   "metadata": {},
   "outputs": [
    {
     "data": {
      "text/plain": [
       "ID                0\n",
       "Segment           0\n",
       "연회비발생카드수_B0M      0\n",
       "연회비할인카드수_B0M      0\n",
       "기본연회비_B0M         0\n",
       "제휴연회비_B0M         0\n",
       "할인금액_기본연회비_B0M    0\n",
       "할인금액_제휴연회비_B0M    0\n",
       "청구금액_기본연회비_B0M    0\n",
       "청구금액_제휴연회비_B0M    0\n",
       "상품관련면제카드수_B0M     0\n",
       "임직원면제카드수_B0M      0\n",
       "우수회원면제카드수_B0M     0\n",
       "기타면제카드수_B0M       0\n",
       "dtype: int64"
      ]
     },
     "execution_count": 4,
     "metadata": {},
     "output_type": "execute_result"
    }
   ],
   "source": [
    "df.isnull().sum()"
   ]
  },
  {
   "cell_type": "code",
   "execution_count": 5,
   "id": "f8eed8d6-5c0c-41a6-aa62-b92dac106e3a",
   "metadata": {},
   "outputs": [
    {
     "name": "stdout",
     "output_type": "stream",
     "text": [
      "<class 'pandas.core.frame.DataFrame'>\n",
      "RangeIndex: 2400000 entries, 0 to 2399999\n",
      "Data columns (total 14 columns):\n",
      " #   Column          Dtype \n",
      "---  ------          ----- \n",
      " 0   ID              object\n",
      " 1   Segment         object\n",
      " 2   연회비발생카드수_B0M    object\n",
      " 3   연회비할인카드수_B0M    int64 \n",
      " 4   기본연회비_B0M       int64 \n",
      " 5   제휴연회비_B0M       int64 \n",
      " 6   할인금액_기본연회비_B0M  int64 \n",
      " 7   할인금액_제휴연회비_B0M  int64 \n",
      " 8   청구금액_기본연회비_B0M  int64 \n",
      " 9   청구금액_제휴연회비_B0M  int64 \n",
      " 10  상품관련면제카드수_B0M   object\n",
      " 11  임직원면제카드수_B0M    object\n",
      " 12  우수회원면제카드수_B0M   object\n",
      " 13  기타면제카드수_B0M     object\n",
      "dtypes: int64(7), object(7)\n",
      "memory usage: 256.3+ MB\n"
     ]
    }
   ],
   "source": [
    "df.info()"
   ]
  },
  {
   "cell_type": "code",
   "execution_count": 6,
   "id": "0e039999-9add-4a6e-b99f-bae593ded2b4",
   "metadata": {},
   "outputs": [
    {
     "data": {
      "text/plain": [
       "array(['0개', '1개이상'], dtype=object)"
      ]
     },
     "execution_count": 6,
     "metadata": {},
     "output_type": "execute_result"
    }
   ],
   "source": [
    "df['연회비발생카드수_B0M'].unique()"
   ]
  },
  {
   "cell_type": "code",
   "execution_count": 7,
   "id": "1c70c17f-b06e-4c26-a07a-4ab07d0cb9df",
   "metadata": {},
   "outputs": [
    {
     "data": {
      "text/plain": [
       "연회비발생카드수_B0M\n",
       "0개      2394826\n",
       "1개이상       5174\n",
       "Name: count, dtype: int64"
      ]
     },
     "execution_count": 7,
     "metadata": {},
     "output_type": "execute_result"
    }
   ],
   "source": [
    "df['연회비발생카드수_B0M'].value_counts()"
   ]
  },
  {
   "cell_type": "code",
   "execution_count": 8,
   "id": "50f65a29-659b-420d-b648-4a7b99f0ab89",
   "metadata": {},
   "outputs": [
    {
     "data": {
      "text/plain": [
       "상품관련면제카드수_B0M\n",
       "0개    2400000\n",
       "Name: count, dtype: int64"
      ]
     },
     "execution_count": 8,
     "metadata": {},
     "output_type": "execute_result"
    }
   ],
   "source": [
    "df['상품관련면제카드수_B0M'].value_counts()"
   ]
  },
  {
   "cell_type": "code",
   "execution_count": 9,
   "id": "109dea1a-e490-4264-9b67-bf1681356aa3",
   "metadata": {},
   "outputs": [
    {
     "data": {
      "text/plain": [
       "임직원면제카드수_B0M\n",
       "0개    2400000\n",
       "Name: count, dtype: int64"
      ]
     },
     "execution_count": 9,
     "metadata": {},
     "output_type": "execute_result"
    }
   ],
   "source": [
    "df['임직원면제카드수_B0M'].value_counts() "
   ]
  },
  {
   "cell_type": "code",
   "execution_count": 10,
   "id": "af708b5c-de50-49f4-a167-a4446b7b6e28",
   "metadata": {},
   "outputs": [
    {
     "data": {
      "text/plain": [
       "우수회원면제카드수_B0M\n",
       "0개    2400000\n",
       "Name: count, dtype: int64"
      ]
     },
     "execution_count": 10,
     "metadata": {},
     "output_type": "execute_result"
    }
   ],
   "source": [
    "df['우수회원면제카드수_B0M'].value_counts() "
   ]
  },
  {
   "cell_type": "code",
   "execution_count": 11,
   "id": "f05ee65b-8312-4702-b6e1-6bb01ebee805",
   "metadata": {},
   "outputs": [
    {
     "data": {
      "text/plain": [
       "기타면제카드수_B0M\n",
       "0개    2400000\n",
       "Name: count, dtype: int64"
      ]
     },
     "execution_count": 11,
     "metadata": {},
     "output_type": "execute_result"
    }
   ],
   "source": [
    "df['기타면제카드수_B0M'].value_counts()"
   ]
  },
  {
   "cell_type": "code",
   "execution_count": 12,
   "id": "94a9ab84-59e5-4a4a-9195-0ff4afbd822e",
   "metadata": {},
   "outputs": [
    {
     "data": {
      "text/plain": [
       "연회비할인카드수_B0M\n",
       "0    2400000\n",
       "Name: count, dtype: int64"
      ]
     },
     "execution_count": 12,
     "metadata": {},
     "output_type": "execute_result"
    }
   ],
   "source": [
    "df['연회비할인카드수_B0M'].value_counts() "
   ]
  },
  {
   "cell_type": "code",
   "execution_count": 13,
   "id": "156ae809-ca01-4b29-9e74-70cb74350a81",
   "metadata": {},
   "outputs": [
    {
     "data": {
      "text/plain": [
       "제휴연회비_B0M\n",
       "0      2399128\n",
       "950        446\n",
       "949        418\n",
       "30           3\n",
       "29           2\n",
       "149          1\n",
       "951          1\n",
       "150          1\n",
       "Name: count, dtype: int64"
      ]
     },
     "execution_count": 13,
     "metadata": {},
     "output_type": "execute_result"
    }
   ],
   "source": [
    "df['제휴연회비_B0M'].value_counts()"
   ]
  },
  {
   "cell_type": "code",
   "execution_count": 14,
   "id": "cd80612d-9c2d-4666-8d92-804270040146",
   "metadata": {},
   "outputs": [
    {
     "data": {
      "text/html": [
       "<div>\n",
       "<style scoped>\n",
       "    .dataframe tbody tr th:only-of-type {\n",
       "        vertical-align: middle;\n",
       "    }\n",
       "\n",
       "    .dataframe tbody tr th {\n",
       "        vertical-align: top;\n",
       "    }\n",
       "\n",
       "    .dataframe thead th {\n",
       "        text-align: right;\n",
       "    }\n",
       "</style>\n",
       "<table border=\"1\" class=\"dataframe\">\n",
       "  <thead>\n",
       "    <tr style=\"text-align: right;\">\n",
       "      <th>Segment</th>\n",
       "      <th>A</th>\n",
       "      <th>B</th>\n",
       "      <th>C</th>\n",
       "      <th>D</th>\n",
       "      <th>E</th>\n",
       "    </tr>\n",
       "  </thead>\n",
       "  <tbody>\n",
       "    <tr>\n",
       "      <th>기본연회비_B0M</th>\n",
       "      <td>0.0</td>\n",
       "      <td>0.0</td>\n",
       "      <td>0.030104</td>\n",
       "      <td>0.060414</td>\n",
       "      <td>0.144968</td>\n",
       "    </tr>\n",
       "    <tr>\n",
       "      <th>제휴연회비_B0M</th>\n",
       "      <td>0.0</td>\n",
       "      <td>0.0</td>\n",
       "      <td>1.466839</td>\n",
       "      <td>0.876043</td>\n",
       "      <td>0.171002</td>\n",
       "    </tr>\n",
       "    <tr>\n",
       "      <th>청구금액_기본연회비_B0M</th>\n",
       "      <td>0.0</td>\n",
       "      <td>0.0</td>\n",
       "      <td>0.030104</td>\n",
       "      <td>0.060414</td>\n",
       "      <td>0.144968</td>\n",
       "    </tr>\n",
       "    <tr>\n",
       "      <th>청구금액_제휴연회비_B0M</th>\n",
       "      <td>0.0</td>\n",
       "      <td>0.0</td>\n",
       "      <td>1.466839</td>\n",
       "      <td>0.876043</td>\n",
       "      <td>0.171002</td>\n",
       "    </tr>\n",
       "  </tbody>\n",
       "</table>\n",
       "</div>"
      ],
      "text/plain": [
       "Segment           A    B         C         D         E\n",
       "기본연회비_B0M       0.0  0.0  0.030104  0.060414  0.144968\n",
       "제휴연회비_B0M       0.0  0.0  1.466839  0.876043  0.171002\n",
       "청구금액_기본연회비_B0M  0.0  0.0  0.030104  0.060414  0.144968\n",
       "청구금액_제휴연회비_B0M  0.0  0.0  1.466839  0.876043  0.171002"
      ]
     },
     "execution_count": 14,
     "metadata": {},
     "output_type": "execute_result"
    }
   ],
   "source": [
    "df.groupby('Segment')[\n",
    "    ['기본연회비_B0M', '제휴연회비_B0M', '청구금액_기본연회비_B0M', '청구금액_제휴연회비_B0M']\n",
    "].mean().T"
   ]
  },
  {
   "cell_type": "code",
   "execution_count": 15,
   "id": "64c392ac-b281-41c0-9de6-db3e80ed451a",
   "metadata": {},
   "outputs": [
    {
     "name": "stdout",
     "output_type": "stream",
     "text": [
      "Segment\n",
      "E    77.599536\n",
      "D    12.794743\n",
      "C     9.586394\n",
      "A     0.019327\n",
      "Name: proportion, dtype: float64\n"
     ]
    }
   ],
   "source": [
    "# 1. '1개이상'인 행만 필터링\n",
    "fee_df = df[df['연회비발생카드수_B0M'] == '1개이상']\n",
    "\n",
    "# 2. Segment별 분포 확인\n",
    "segment_counts = fee_df['Segment'].value_counts(normalize=True) * 100  # 비율(%)로 보기\n",
    "print(segment_counts)"
   ]
  },
  {
   "cell_type": "code",
   "execution_count": 16,
   "id": "f83eebb9-4102-421a-ba1f-96a0b98ce867",
   "metadata": {},
   "outputs": [
    {
     "data": {
      "image/png": "[encoded data removed]",
      "text/plain": [
       "<Figure size 640x480 with 1 Axes>"
      ]
     },
     "metadata": {},
     "output_type": "display_data"
    }
   ],
   "source": [
    "import matplotlib.pyplot as plt\n",
    "\n",
    "segment_counts.plot(kind='bar')\n",
    "plt.title(\"연회비 1개 이상 보유자의 Segment 분포\")\n",
    "plt.xlabel(\"Segment\")\n",
    "plt.ylabel(\"비율 (%)\")\n",
    "plt.ylim(0, 100)\n",
    "plt.show()\n"
   ]
  },
  {
   "cell_type": "markdown",
   "id": "7391af6a-2856-402f-af6c-cafb5c440a09",
   "metadata": {},
   "source": [
    "- C, D: 기본 연회비보다 제휴 연회비 평균 높음 -> 제휴카드 중심 소비"
   ]
  },
  {
   "cell_type": "markdown",
   "id": "49b09d3f-a2a2-4e3e-a6cf-3fc9146fefdd",
   "metadata": {},
   "source": [
    "## 13. 카드신청건수\n",
    "- '카드신청건수'"
   ]
  },
  {
   "cell_type": "code",
   "execution_count": 19,
   "id": "5b8ab713-3cf9-491f-88f4-8c2eda6f9c44",
   "metadata": {},
   "outputs": [
    {
     "data": {
      "text/html": [
       "<div>\n",
       "<style scoped>\n",
       "    .dataframe tbody tr th:only-of-type {\n",
       "        vertical-align: middle;\n",
       "    }\n",
       "\n",
       "    .dataframe tbody tr th {\n",
       "        vertical-align: top;\n",
       "    }\n",
       "\n",
       "    .dataframe thead th {\n",
       "        text-align: right;\n",
       "    }\n",
       "</style>\n",
       "<table border=\"1\" class=\"dataframe\">\n",
       "  <thead>\n",
       "    <tr style=\"text-align: right;\">\n",
       "      <th></th>\n",
       "      <th>ID</th>\n",
       "      <th>Segment</th>\n",
       "      <th>카드신청건수</th>\n",
       "    </tr>\n",
       "  </thead>\n",
       "  <tbody>\n",
       "    <tr>\n",
       "      <th>0</th>\n",
       "      <td>TRAIN_000000</td>\n",
       "      <td>D</td>\n",
       "      <td>0</td>\n",
       "    </tr>\n",
       "    <tr>\n",
       "      <th>1</th>\n",
       "      <td>TRAIN_000001</td>\n",
       "      <td>E</td>\n",
       "      <td>0</td>\n",
       "    </tr>\n",
       "    <tr>\n",
       "      <th>2</th>\n",
       "      <td>TRAIN_000002</td>\n",
       "      <td>C</td>\n",
       "      <td>0</td>\n",
       "    </tr>\n",
       "    <tr>\n",
       "      <th>3</th>\n",
       "      <td>TRAIN_000003</td>\n",
       "      <td>D</td>\n",
       "      <td>1</td>\n",
       "    </tr>\n",
       "    <tr>\n",
       "      <th>4</th>\n",
       "      <td>TRAIN_000004</td>\n",
       "      <td>E</td>\n",
       "      <td>1</td>\n",
       "    </tr>\n",
       "    <tr>\n",
       "      <th>...</th>\n",
       "      <td>...</td>\n",
       "      <td>...</td>\n",
       "      <td>...</td>\n",
       "    </tr>\n",
       "    <tr>\n",
       "      <th>2399995</th>\n",
       "      <td>TRAIN_399995</td>\n",
       "      <td>E</td>\n",
       "      <td>0</td>\n",
       "    </tr>\n",
       "    <tr>\n",
       "      <th>2399996</th>\n",
       "      <td>TRAIN_399996</td>\n",
       "      <td>D</td>\n",
       "      <td>0</td>\n",
       "    </tr>\n",
       "    <tr>\n",
       "      <th>2399997</th>\n",
       "      <td>TRAIN_399997</td>\n",
       "      <td>C</td>\n",
       "      <td>0</td>\n",
       "    </tr>\n",
       "    <tr>\n",
       "      <th>2399998</th>\n",
       "      <td>TRAIN_399998</td>\n",
       "      <td>E</td>\n",
       "      <td>0</td>\n",
       "    </tr>\n",
       "    <tr>\n",
       "      <th>2399999</th>\n",
       "      <td>TRAIN_399999</td>\n",
       "      <td>E</td>\n",
       "      <td>0</td>\n",
       "    </tr>\n",
       "  </tbody>\n",
       "</table>\n",
       "<p>2400000 rows × 3 columns</p>\n",
       "</div>"
      ],
      "text/plain": [
       "                   ID Segment  카드신청건수\n",
       "0        TRAIN_000000       D       0\n",
       "1        TRAIN_000001       E       0\n",
       "2        TRAIN_000002       C       0\n",
       "3        TRAIN_000003       D       1\n",
       "4        TRAIN_000004       E       1\n",
       "...               ...     ...     ...\n",
       "2399995  TRAIN_399995       E       0\n",
       "2399996  TRAIN_399996       D       0\n",
       "2399997  TRAIN_399997       C       0\n",
       "2399998  TRAIN_399998       E       0\n",
       "2399999  TRAIN_399999       E       0\n",
       "\n",
       "[2400000 rows x 3 columns]"
      ]
     },
     "execution_count": 19,
     "metadata": {},
     "output_type": "execute_result"
    }
   ],
   "source": [
    "import pandas as pd\n",
    "\n",
    "# 분석에 필요한 컬럼만 \n",
    "usecols = ['카드신청건수', 'Segment', 'ID']\n",
    "\n",
    "# 필요한 컬럼만 불러오기\n",
    "df = pd.read_csv(\"../data/train/1.회원정보/train_회원정보.csv\", usecols=usecols)\n",
    "df"
   ]
  },
  {
   "cell_type": "code",
   "execution_count": 20,
   "id": "d6c048cf-ac37-4f29-afd0-802680e3343f",
   "metadata": {},
   "outputs": [
    {
     "data": {
      "text/plain": [
       "ID         0\n",
       "Segment    0\n",
       "카드신청건수     0\n",
       "dtype: int64"
      ]
     },
     "execution_count": 20,
     "metadata": {},
     "output_type": "execute_result"
    }
   ],
   "source": [
    "df.isnull().sum()"
   ]
  },
  {
   "cell_type": "code",
   "execution_count": 21,
   "id": "f9295714-cb7e-4a85-8a65-d70b13a38698",
   "metadata": {},
   "outputs": [
    {
     "data": {
      "text/plain": [
       "카드신청건수\n",
       "0    2189218\n",
       "1     210782\n",
       "Name: count, dtype: int64"
      ]
     },
     "execution_count": 21,
     "metadata": {},
     "output_type": "execute_result"
    }
   ],
   "source": [
    "df['카드신청건수'].value_counts()"
   ]
  },
  {
   "cell_type": "code",
   "execution_count": 22,
   "id": "1cf9277a-e98d-404c-81d3-6efa412991ec",
   "metadata": {},
   "outputs": [
    {
     "data": {
      "text/html": [
       "<div>\n",
       "<style scoped>\n",
       "    .dataframe tbody tr th:only-of-type {\n",
       "        vertical-align: middle;\n",
       "    }\n",
       "\n",
       "    .dataframe tbody tr th {\n",
       "        vertical-align: top;\n",
       "    }\n",
       "\n",
       "    .dataframe thead th {\n",
       "        text-align: right;\n",
       "    }\n",
       "</style>\n",
       "<table border=\"1\" class=\"dataframe\">\n",
       "  <thead>\n",
       "    <tr style=\"text-align: right;\">\n",
       "      <th>Segment</th>\n",
       "      <th>A</th>\n",
       "      <th>B</th>\n",
       "      <th>C</th>\n",
       "      <th>D</th>\n",
       "      <th>E</th>\n",
       "    </tr>\n",
       "  </thead>\n",
       "  <tbody>\n",
       "    <tr>\n",
       "      <th>카드신청건수</th>\n",
       "      <td>0.053498</td>\n",
       "      <td>0.048611</td>\n",
       "      <td>0.064966</td>\n",
       "      <td>0.063435</td>\n",
       "      <td>0.093796</td>\n",
       "    </tr>\n",
       "  </tbody>\n",
       "</table>\n",
       "</div>"
      ],
      "text/plain": [
       "Segment         A         B         C         D         E\n",
       "카드신청건수   0.053498  0.048611  0.064966  0.063435  0.093796"
      ]
     },
     "execution_count": 22,
     "metadata": {},
     "output_type": "execute_result"
    }
   ],
   "source": [
    "df.groupby('Segment')[['카드신청건수']].mean().T"
   ]
  },
  {
   "cell_type": "code",
   "execution_count": 23,
   "id": "e1b65f79-2512-4f55-a78b-ce506fc822c0",
   "metadata": {},
   "outputs": [
    {
     "data": {
      "image/png": "[encoded data removed]",
      "text/plain": [
       "<Figure size 1000x600 with 1 Axes>"
      ]
     },
     "metadata": {},
     "output_type": "display_data"
    }
   ],
   "source": [
    "import seaborn as sns\n",
    "import matplotlib.pyplot as plt\n",
    "\n",
    "plt.figure(figsize=(10,6))\n",
    "sns.boxplot(x='Segment', y='카드신청건수', data=df)\n",
    "plt.title('세그먼트별 카드신청건수 분포')\n",
    "plt.ylabel('카드신청건수')\n",
    "plt.show()\n"
   ]
  },
  {
   "cell_type": "code",
   "execution_count": 24,
   "id": "b15561b6-b14d-492e-97e4-820241ae3341",
   "metadata": {},
   "outputs": [
    {
     "data": {
      "image/png": "[encoded data removed]",
      "text/plain": [
       "<Figure size 1200x800 with 5 Axes>"
      ]
     },
     "metadata": {},
     "output_type": "display_data"
    }
   ],
   "source": [
    "g = sns.FacetGrid(df, col=\"Segment\", col_wrap=3, height=4)\n",
    "g.map(sns.histplot, \"카드신청건수\", bins=30, kde=True)\n",
    "g.fig.suptitle(\"세그먼트별 카드신청건수 히스토그램\", y=1.05)\n",
    "plt.show()\n"
   ]
  },
  {
   "cell_type": "code",
   "execution_count": 25,
   "id": "5235ca8e-319f-4534-b08c-5835ec8bcb7e",
   "metadata": {},
   "outputs": [
    {
     "data": {
      "image/png": "[encoded data removed]",
      "text/plain": [
       "<Figure size 640x480 with 1 Axes>"
      ]
     },
     "metadata": {},
     "output_type": "display_data"
    }
   ],
   "source": [
    "# 카드신청건수 상위 5%만 필터링\n",
    "threshold = df['카드신청건수'].quantile(0.95)\n",
    "top_applicants = df[df['카드신청건수'] >= threshold]\n",
    "\n",
    "# 세그먼트 비율 보기\n",
    "segment_ratio = top_applicants['Segment'].value_counts(normalize=True) * 100\n",
    "segment_ratio.plot(kind='bar')\n",
    "plt.title('카드신청건수 상위 5%의 Segment 비율')\n",
    "plt.ylabel('비율 (%)')\n",
    "plt.ylim(0, 100)\n",
    "plt.show()\n"
   ]
  },
  {
   "cell_type": "code",
   "execution_count": 26,
   "id": "832f96ce-7700-46ff-ae2d-f515e475a237",
   "metadata": {},
   "outputs": [
    {
     "data": {
      "text/plain": [
       "Segment\n",
       "E    85.529125\n",
       "D    10.510385\n",
       "C     3.932499\n",
       "A     0.024670\n",
       "B     0.003321\n",
       "Name: proportion, dtype: float64"
      ]
     },
     "execution_count": 26,
     "metadata": {},
     "output_type": "execute_result"
    }
   ],
   "source": [
    "segment_ratio"
   ]
  },
  {
   "cell_type": "code",
   "execution_count": null,
   "id": "ff0cf56d-dd4c-4616-90d3-d9ca686d394d",
   "metadata": {},
   "outputs": [],
   "source": []
  }
 ],
 "metadata": {
  "kernelspec": {
   "display_name": "Python [conda env:base] *",
   "language": "python",
   "name": "conda-base-py"
  },
  "language_info": {
   "codemirror_mode": {
    "name": "ipython",
    "version": 3
   },
   "file_extension": ".py",
   "mimetype": "text/x-python",
   "name": "python",
   "nbconvert_exporter": "python",
   "pygments_lexer": "ipython3",
   "version": "3.12.7"
  }
 },
 "nbformat": 4,
 "nbformat_minor": 5
}
