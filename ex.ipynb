{
 "cells": [
  {
   "cell_type": "code",
   "execution_count": null,
   "id": "3d8b68a1",
   "metadata": {},
   "outputs": [],
   "source": [
    "## 예시"
   ]
  }
 ],
 "metadata": {
  "kernelspec": {
   "display_name": "condatest",
   "language": "python",
   "name": "condatest"
  },
  "language_info": {
   "name": "python",
   "version": "3.13.2"
  }
 },
 "nbformat": 4,
 "nbformat_minor": 5
}
