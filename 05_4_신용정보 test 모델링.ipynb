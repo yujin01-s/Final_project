{
 "cells": [
  {
   "cell_type": "code",
   "execution_count": 1,
   "id": "8c7ddeb9-ae9a-4ba2-b105-0304bc2bb717",
   "metadata": {},
   "outputs": [],
   "source": [
    "# 기본\n",
    "import pandas as pd\n",
    "import numpy as np\n",
    "import matplotlib.pyplot as plt\n",
    "import seaborn as sns\n",
    "\n",
    "# 경고 뜨지 않게 설정\n",
    "import warnings\n",
    "warnings.filterwarnings('ignore')\n",
    "\n",
    "# 그래프 설정\n",
    "sns.set()\n",
    "\n",
    "# 그래프 기본 설정\n",
    "plt.rcParams['font.family'] = 'Malgun Gothic'\n",
    "# plt.rcParams['font.family'] = 'AppleGothic'\n",
    "plt.rcParams['figure.figsize'] = 12, 6\n",
    "plt.rcParams['font.size'] = 14\n",
    "plt.rcParams['axes.unicode_minus'] = False\n",
    "\n",
    "# 데이터 전처리 알고리즘\n",
    "from sklearn.preprocessing import LabelEncoder\n",
    "from sklearn.preprocessing import StandardScaler\n",
    "\n",
    "# 학습용과 검증용으로 나누는 함수\n",
    "from sklearn.model_selection import train_test_split\n",
    "\n",
    "# 교차 검증\n",
    "from sklearn.model_selection import cross_val_score\n",
    "from sklearn.model_selection import cross_validate\n",
    "from sklearn.model_selection import KFold\n",
    "from sklearn.model_selection import StratifiedKFold\n",
    "\n",
    "# 평가함수\n",
    "# 분류용\n",
    "from sklearn.metrics import accuracy_score\n",
    "from sklearn.metrics import precision_score\n",
    "from sklearn.metrics import recall_score\n",
    "from sklearn.metrics import f1_score\n",
    "from sklearn.metrics import roc_auc_score\n",
    "\n",
    "# 회귀용\n",
    "from sklearn.metrics import r2_score\n",
    "from sklearn.metrics import mean_squared_error\n",
    "\n",
    "# 모델의 최적의 하이퍼 파라미터를 찾기 위한 도구\n",
    "from sklearn.model_selection import GridSearchCV\n",
    "\n",
    "# 머신러닝 알고리즘 - 분류\n",
    "from sklearn.neighbors import KNeighborsClassifier\n",
    "from sklearn.linear_model import LogisticRegression\n",
    "from sklearn.svm import SVC\n",
    "from sklearn.tree import DecisionTreeClassifier\n",
    "from sklearn.ensemble import RandomForestClassifier\n",
    "from sklearn.ensemble import AdaBoostClassifier\n",
    "from sklearn.ensemble import GradientBoostingClassifier\n",
    "from lightgbm import LGBMClassifier\n",
    "from xgboost import XGBClassifier\n",
    "from sklearn.ensemble import VotingClassifier\n",
    "\n",
    "# 머신러닝 알고리즘 - 회귀\n",
    "from sklearn.neighbors import KNeighborsRegressor\n",
    "from sklearn.linear_model import LinearRegression\n",
    "from sklearn.linear_model import Ridge\n",
    "from sklearn.linear_model import Lasso\n",
    "from sklearn.linear_model import ElasticNet\n",
    "from sklearn.svm import SVR\n",
    "from sklearn.tree import DecisionTreeRegressor\n",
    "from sklearn.ensemble import RandomForestRegressor\n",
    "from sklearn.ensemble import AdaBoostRegressor\n",
    "from sklearn.ensemble import GradientBoostingRegressor\n",
    "from lightgbm import LGBMRegressor\n",
    "from xgboost import XGBRegressor\n",
    "from sklearn.ensemble import VotingRegressor\n",
    "\n",
    "# 학습 모델 저장을 위한 라이브러리\n",
    "import pickle\n",
    "\n",
    "# 시간 관련\n",
    "import time"
   ]
  },
  {
   "cell_type": "code",
   "execution_count": 2,
   "id": "df62a561-9b37-4b9d-bdb9-7d74159884e3",
   "metadata": {},
   "outputs": [],
   "source": [
    "import pandas as pd\n",
    "import pickle\n",
    "\n",
    "# 저장된 모델 파일 경로\n",
    "best_model_path = 'model/best_model_classification_2.dat'\n",
    "\n",
    "# 순서대로 로드\n",
    "with open(best_model_path, 'rb') as fp:\n",
    "    model = pickle.load(fp)       # 첫 번째: 학습된 모델\n",
    "    encoder1 = pickle.load(fp)    # 두 번째: LabelEncoder\n",
    "    scaler1 = pickle.load(fp)     # 세 번째: StandardScaler\n"
   ]
  },
  {
   "cell_type": "code",
   "execution_count": 3,
   "id": "00678a1b-84c2-4e63-b4fb-0f38bb737eec",
   "metadata": {},
   "outputs": [],
   "source": [
    "# 1단계: 데이터 불러오기 및 ID 정리\n",
    "import pandas as pd\n",
    "\n",
    "# test 데이터 불러오기\n",
    "test_df = pd.read_csv(\"data/신용정보_cleaned_test.csv\")\n",
    "\n",
    "# ID 포맷 정리 (필요 시)\n",
    "test_df['ID'] = test_df['ID'].astype(str).str.zfill(8)"
   ]
  },
  {
   "cell_type": "code",
   "execution_count": 4,
   "id": "4aab4590-ad35-4d2f-a9f1-439a9d8bee27",
   "metadata": {},
   "outputs": [],
   "source": [
    "# 2단계: ID 기준 중복 제거\n",
    "# 예측 전에 ID 중복 제거!\n",
    "test_df = test_df.drop_duplicates(subset='ID').reset_index(drop=True)"
   ]
  },
  {
   "cell_type": "code",
   "execution_count": 5,
   "id": "891d6037-e004-47ea-b2a5-11b9c548629e",
   "metadata": {},
   "outputs": [],
   "source": [
    "# 3단계: 예측에 사용할 데이터 준비 및 스케일링\n",
    "# 'ID', '기준년월' 제거하고 X 추출\n",
    "test_X_all = test_df.drop(['ID', '기준년월'], axis=1)\n",
    "\n",
    "# 동일한 스케일러로 변환\n",
    "test_X_scaled_all = scaler1.transform(test_X_all)"
   ]
  },
  {
   "cell_type": "code",
   "execution_count": 6,
   "id": "79ab8d61-0aed-496a-b959-a3a2e335a1b9",
   "metadata": {},
   "outputs": [],
   "source": [
    "# 4단계: 모델 예측 및 라벨 복원\n",
    "# 모델 예측\n",
    "test_pred_all = model.predict(test_X_scaled_all)\n",
    "\n",
    "# 숫자 → 라벨로 복원\n",
    "test_pred_labels_all = encoder1.inverse_transform(test_pred_all)"
   ]
  },
  {
   "cell_type": "code",
   "execution_count": 7,
   "id": "53d5d138-9255-4ad3-8e4b-70640e26ad33",
   "metadata": {},
   "outputs": [
    {
     "name": "stdout",
     "output_type": "stream",
     "text": [
      "Segment\n",
      "E    0.89830\n",
      "D    0.07856\n",
      "C    0.02303\n",
      "A    0.00010\n",
      "B    0.00001\n",
      "Name: proportion, dtype: float64\n"
     ]
    }
   ],
   "source": [
    "# 5단계: 예측 결과 추가 및 비율 확인 (선택)\n",
    "# 예측 결과를 원본 test에 추가\n",
    "test_df['Segment'] = test_pred_labels_all\n",
    "\n",
    "# 비율 확인 (선택)\n",
    "print(test_df['Segment'].value_counts(normalize=True))"
   ]
  },
  {
   "cell_type": "code",
   "execution_count": 8,
   "id": "e434e2a5-0d53-4abc-8a15-7d6755aed057",
   "metadata": {},
   "outputs": [
    {
     "name": "stdout",
     "output_type": "stream",
     "text": [
      "✅ 비율 맞춰서 제출 완료! 행 수: 100000\n"
     ]
    }
   ],
   "source": [
    "# 7단계: 제출 파일 생성\n",
    "# 최종 제출 파일\n",
    "submission = test_df[['ID', 'Segment']]\n",
    "submission.to_csv(\"submission.csv\", index=False)\n",
    "\n",
    "print(\"✅ 비율 맞춰서 제출 완료! 행 수:\", submission.shape[0])"
   ]
  },
  {
   "cell_type": "code",
   "execution_count": 9,
   "id": "406a9b7a-f7ef-4304-b09d-168f4db7337b",
   "metadata": {},
   "outputs": [],
   "source": [
    "# 6단계: 비율 유지하며 10만개 샘플링\n",
    "# Stratified 샘플링\n",
    "# sampled_df = (\n",
    "#     test_df\n",
    "#     .groupby('Segment', group_keys=False)\n",
    "#     .apply(lambda x: x.sample(frac=100000/len(test_df), random_state=42))\n",
    "#     .reset_index(drop=True)\n",
    "# )\n"
   ]
  },
  {
   "cell_type": "code",
   "execution_count": 10,
   "id": "ec272545-8fff-4331-95da-049ddb936e13",
   "metadata": {},
   "outputs": [],
   "source": [
    "# 데이터 준비\n",
    "df1 = pd.read_csv('data/신용정보_cleaned_test.csv')"
   ]
  },
  {
   "cell_type": "code",
   "execution_count": null,
   "id": "57132386-099c-4902-a5ab-ea6c324953ef",
   "metadata": {},
   "outputs": [],
   "source": []
  }
 ],
 "metadata": {
  "kernelspec": {
   "display_name": "Python [conda env:base] *",
   "language": "python",
   "name": "conda-base-py"
  },
  "language_info": {
   "codemirror_mode": {
    "name": "ipython",
    "version": 3
   },
   "file_extension": ".py",
   "mimetype": "text/x-python",
   "name": "python",
   "nbconvert_exporter": "python",
   "pygments_lexer": "ipython3",
   "version": "3.12.7"
  }
 },
 "nbformat": 4,
 "nbformat_minor": 5
}
